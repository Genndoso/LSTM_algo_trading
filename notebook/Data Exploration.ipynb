{
 "cells": [
  {
   "cell_type": "code",
   "execution_count": 2,
   "metadata": {},
   "outputs": [],
   "source": [
    "import pandas as pd"
   ]
  },
  {
   "cell_type": "code",
   "execution_count": 40,
   "metadata": {},
   "outputs": [],
   "source": [
    "# TODO: Create a dataframe that includes all tickers with Date as index"
   ]
  },
  {
   "cell_type": "code",
   "execution_count": 7,
   "metadata": {
    "scrolled": true
   },
   "outputs": [
    {
     "data": {
      "text/html": [
       "<div>\n",
       "<style scoped>\n",
       "    .dataframe tbody tr th:only-of-type {\n",
       "        vertical-align: middle;\n",
       "    }\n",
       "\n",
       "    .dataframe tbody tr th {\n",
       "        vertical-align: top;\n",
       "    }\n",
       "\n",
       "    .dataframe thead th {\n",
       "        text-align: right;\n",
       "    }\n",
       "</style>\n",
       "<table border=\"1\" class=\"dataframe\">\n",
       "  <thead>\n",
       "    <tr style=\"text-align: right;\">\n",
       "      <th></th>\n",
       "      <th>code</th>\n",
       "      <th>name</th>\n",
       "      <th>description</th>\n",
       "      <th>refreshed_at</th>\n",
       "      <th>from_date</th>\n",
       "      <th>to_date</th>\n",
       "    </tr>\n",
       "  </thead>\n",
       "  <tbody>\n",
       "    <tr>\n",
       "      <th>0</th>\n",
       "      <td>1COV_X</td>\n",
       "      <td>Covestro AG (1COV_X)</td>\n",
       "      <td>Stock Prices for Covestro AG (1COV) from the F...</td>\n",
       "      <td>2019-02-15 22:30:19</td>\n",
       "      <td>2015-10-06</td>\n",
       "      <td>2019-02-15</td>\n",
       "    </tr>\n",
       "    <tr>\n",
       "      <th>1</th>\n",
       "      <td>2HR_X</td>\n",
       "      <td>H&amp;R (2HR_X)</td>\n",
       "      <td>Stock Prices for H&amp;r Ag from the Frankfurt Sto...</td>\n",
       "      <td>2017-02-28 22:30:42</td>\n",
       "      <td>2000-01-03</td>\n",
       "      <td>2017-02-28</td>\n",
       "    </tr>\n",
       "    <tr>\n",
       "      <th>2</th>\n",
       "      <td>AAD_X</td>\n",
       "      <td>Amadeus FiRe AG (AAD_X)</td>\n",
       "      <td>Stock Prices for Amadeus FiRe AG (AAD) from th...</td>\n",
       "      <td>2019-02-15 22:30:19</td>\n",
       "      <td>2000-02-01</td>\n",
       "      <td>2019-02-15</td>\n",
       "    </tr>\n",
       "    <tr>\n",
       "      <th>3</th>\n",
       "      <td>AB1_X</td>\n",
       "      <td>Air Berlin Plc (AB1_X)</td>\n",
       "      <td>Stock Prices for Air Berlin Plc (AB1) from the...</td>\n",
       "      <td>2019-02-08 22:30:20</td>\n",
       "      <td>2006-05-11</td>\n",
       "      <td>2018-08-20</td>\n",
       "    </tr>\n",
       "    <tr>\n",
       "      <th>4</th>\n",
       "      <td>ADS_X</td>\n",
       "      <td>Adidas (ADS_X)</td>\n",
       "      <td>Stock Prices for Adidas (ADS) from the Frankfu...</td>\n",
       "      <td>2019-02-15 22:30:19</td>\n",
       "      <td>2000-01-03</td>\n",
       "      <td>2019-02-15</td>\n",
       "    </tr>\n",
       "  </tbody>\n",
       "</table>\n",
       "</div>"
      ],
      "text/plain": [
       "     code                     name  \\\n",
       "0  1COV_X     Covestro AG (1COV_X)   \n",
       "1   2HR_X              H&R (2HR_X)   \n",
       "2   AAD_X  Amadeus FiRe AG (AAD_X)   \n",
       "3   AB1_X   Air Berlin Plc (AB1_X)   \n",
       "4   ADS_X           Adidas (ADS_X)   \n",
       "\n",
       "                                         description         refreshed_at  \\\n",
       "0  Stock Prices for Covestro AG (1COV) from the F...  2019-02-15 22:30:19   \n",
       "1  Stock Prices for H&r Ag from the Frankfurt Sto...  2017-02-28 22:30:42   \n",
       "2  Stock Prices for Amadeus FiRe AG (AAD) from th...  2019-02-15 22:30:19   \n",
       "3  Stock Prices for Air Berlin Plc (AB1) from the...  2019-02-08 22:30:20   \n",
       "4  Stock Prices for Adidas (ADS) from the Frankfu...  2019-02-15 22:30:19   \n",
       "\n",
       "    from_date     to_date  \n",
       "0  2015-10-06  2019-02-15  \n",
       "1  2000-01-03  2017-02-28  \n",
       "2  2000-02-01  2019-02-15  \n",
       "3  2006-05-11  2018-08-20  \n",
       "4  2000-01-03  2019-02-15  "
      ]
     },
     "execution_count": 7,
     "metadata": {},
     "output_type": "execute_result"
    }
   ],
   "source": [
    "metadata_df = pd.read_csv(\"../data/frankfurt/FSE_metadata.csv\")\n",
    "metadata_df.head()"
   ]
  },
  {
   "cell_type": "code",
   "execution_count": 16,
   "metadata": {},
   "outputs": [
    {
     "data": {
      "text/plain": [
       "109"
      ]
     },
     "execution_count": 16,
     "metadata": {},
     "output_type": "execute_result"
    }
   ],
   "source": [
    "metadata_df[\"from_date\"] < \"2001-01-01\"\n",
    "sum(metadata_df[\"from_date\"] < \"2001-01-01\")"
   ]
  },
  {
   "cell_type": "code",
   "execution_count": 23,
   "metadata": {
    "scrolled": true
   },
   "outputs": [
    {
     "data": {
      "text/plain": [
       "code                                                       1COV_X\n",
       "name                                         Covestro AG (1COV_X)\n",
       "description     Stock Prices for Covestro AG (1COV) from the F...\n",
       "refreshed_at                                  2019-02-15 22:30:19\n",
       "from_date                                              2015-10-06\n",
       "to_date                                                2019-02-15\n",
       "Name: 0, dtype: object"
      ]
     },
     "execution_count": 23,
     "metadata": {},
     "output_type": "execute_result"
    }
   ],
   "source": [
    "metadata_df.iloc[0]"
   ]
  },
  {
   "cell_type": "code",
   "execution_count": 39,
   "metadata": {},
   "outputs": [
    {
     "name": "stdout",
     "output_type": "stream",
     "text": [
      "code                                                        2HR_X\n",
      "name                                                  H&R (2HR_X)\n",
      "description     Stock Prices for H&r Ag from the Frankfurt Sto...\n",
      "refreshed_at                                  2017-02-28 22:30:42\n",
      "from_date                                              2000-01-03\n",
      "to_date                                                2017-02-28\n",
      "Name: 1, dtype: object\n",
      "2HR_X 4080\n"
     ]
    },
    {
     "ename": "AssertionError",
     "evalue": "",
     "output_type": "error",
     "traceback": [
      "\u001b[0;31m---------------------------------------------------------------------------\u001b[0m",
      "\u001b[0;31mAssertionError\u001b[0m                            Traceback (most recent call last)",
      "\u001b[0;32m<ipython-input-39-dfe7e886ab0f>\u001b[0m in \u001b[0;36m<module>\u001b[0;34m\u001b[0m\n\u001b[1;32m     10\u001b[0m         \u001b[0mprint\u001b[0m\u001b[0;34m(\u001b[0m\u001b[0mmetadata_df\u001b[0m\u001b[0;34m.\u001b[0m\u001b[0miloc\u001b[0m\u001b[0;34m[\u001b[0m\u001b[0mi\u001b[0m\u001b[0;34m]\u001b[0m\u001b[0;34m)\u001b[0m\u001b[0;34m\u001b[0m\u001b[0;34m\u001b[0m\u001b[0m\n\u001b[1;32m     11\u001b[0m         \u001b[0mprint\u001b[0m\u001b[0;34m(\u001b[0m\u001b[0mticker\u001b[0m\u001b[0;34m,\u001b[0m \u001b[0mlen\u001b[0m\u001b[0;34m(\u001b[0m\u001b[0mdf\u001b[0m\u001b[0;34m)\u001b[0m\u001b[0;34m)\u001b[0m\u001b[0;34m\u001b[0m\u001b[0;34m\u001b[0m\u001b[0m\n\u001b[0;32m---> 12\u001b[0;31m         \u001b[0;32massert\u001b[0m \u001b[0mlen\u001b[0m\u001b[0;34m(\u001b[0m\u001b[0mdf\u001b[0m\u001b[0;34m)\u001b[0m \u001b[0;34m==\u001b[0m \u001b[0;36m4670\u001b[0m \u001b[0;31m# The number of days from 2001-0-01\u001b[0m\u001b[0;34m\u001b[0m\u001b[0;34m\u001b[0m\u001b[0m\n\u001b[0m\u001b[1;32m     13\u001b[0m \u001b[0;34m\u001b[0m\u001b[0m\n\u001b[1;32m     14\u001b[0m \u001b[0;34m\u001b[0m\u001b[0m\n",
      "\u001b[0;31mAssertionError\u001b[0m: "
     ]
    }
   ],
   "source": [
    "all_df = pd.DataFrame()\n",
    "for i in range(len(metadata_df)):\n",
    "    if metadata_df.iloc[i][\"from_date\"] < \"2001-01-01\":\n",
    "#         print(metadata_df.iloc[i][\"code\"])\n",
    "        ticker = metadata_df.iloc[i][\"code\"]\n",
    "        data_link = f\"../data/frankfurt/stocks/{ticker}.csv\"\n",
    "#         print(data_link)\n",
    "        df = pd.read_csv(data_link)\n",
    "        df = df[df[\"Date\"] >= \"2001-01-01\"][[\"Date\", \"Close\"]]\n",
    "        print(metadata_df.iloc[i])\n",
    "        print(ticker, len(df))\n",
    "        \n",
    "        "
   ]
  },
  {
   "cell_type": "code",
   "execution_count": 28,
   "metadata": {},
   "outputs": [
    {
     "data": {
      "text/html": [
       "<div>\n",
       "<style scoped>\n",
       "    .dataframe tbody tr th:only-of-type {\n",
       "        vertical-align: middle;\n",
       "    }\n",
       "\n",
       "    .dataframe tbody tr th {\n",
       "        vertical-align: top;\n",
       "    }\n",
       "\n",
       "    .dataframe thead th {\n",
       "        text-align: right;\n",
       "    }\n",
       "</style>\n",
       "<table border=\"1\" class=\"dataframe\">\n",
       "  <thead>\n",
       "    <tr style=\"text-align: right;\">\n",
       "      <th></th>\n",
       "      <th>Date</th>\n",
       "      <th>Open</th>\n",
       "      <th>High</th>\n",
       "      <th>Low</th>\n",
       "      <th>Close</th>\n",
       "      <th>Change</th>\n",
       "      <th>Traded Volume</th>\n",
       "      <th>Turnover</th>\n",
       "      <th>Last Price of the Day</th>\n",
       "      <th>Daily Traded Units</th>\n",
       "      <th>Daily Turnover</th>\n",
       "    </tr>\n",
       "  </thead>\n",
       "  <tbody>\n",
       "    <tr>\n",
       "      <th>0</th>\n",
       "      <td>2000-01-18</td>\n",
       "      <td>NaN</td>\n",
       "      <td>NaN</td>\n",
       "      <td>NaN</td>\n",
       "      <td>30.57</td>\n",
       "      <td>NaN</td>\n",
       "      <td>0.0</td>\n",
       "      <td>NaN</td>\n",
       "      <td>NaN</td>\n",
       "      <td>NaN</td>\n",
       "      <td>0.0</td>\n",
       "    </tr>\n",
       "    <tr>\n",
       "      <th>1</th>\n",
       "      <td>2000-01-19</td>\n",
       "      <td>NaN</td>\n",
       "      <td>NaN</td>\n",
       "      <td>NaN</td>\n",
       "      <td>30.00</td>\n",
       "      <td>NaN</td>\n",
       "      <td>0.0</td>\n",
       "      <td>NaN</td>\n",
       "      <td>NaN</td>\n",
       "      <td>NaN</td>\n",
       "      <td>0.0</td>\n",
       "    </tr>\n",
       "    <tr>\n",
       "      <th>2</th>\n",
       "      <td>2000-01-20</td>\n",
       "      <td>NaN</td>\n",
       "      <td>NaN</td>\n",
       "      <td>NaN</td>\n",
       "      <td>28.49</td>\n",
       "      <td>NaN</td>\n",
       "      <td>0.0</td>\n",
       "      <td>NaN</td>\n",
       "      <td>NaN</td>\n",
       "      <td>NaN</td>\n",
       "      <td>0.0</td>\n",
       "    </tr>\n",
       "    <tr>\n",
       "      <th>3</th>\n",
       "      <td>2000-01-21</td>\n",
       "      <td>NaN</td>\n",
       "      <td>NaN</td>\n",
       "      <td>NaN</td>\n",
       "      <td>29.00</td>\n",
       "      <td>NaN</td>\n",
       "      <td>0.0</td>\n",
       "      <td>NaN</td>\n",
       "      <td>NaN</td>\n",
       "      <td>NaN</td>\n",
       "      <td>0.0</td>\n",
       "    </tr>\n",
       "    <tr>\n",
       "      <th>4</th>\n",
       "      <td>2000-01-24</td>\n",
       "      <td>NaN</td>\n",
       "      <td>NaN</td>\n",
       "      <td>NaN</td>\n",
       "      <td>29.16</td>\n",
       "      <td>NaN</td>\n",
       "      <td>0.0</td>\n",
       "      <td>NaN</td>\n",
       "      <td>NaN</td>\n",
       "      <td>NaN</td>\n",
       "      <td>0.0</td>\n",
       "    </tr>\n",
       "  </tbody>\n",
       "</table>\n",
       "</div>"
      ],
      "text/plain": [
       "         Date  Open  High  Low  Close  Change  Traded Volume  Turnover  \\\n",
       "0  2000-01-18   NaN   NaN  NaN  30.57     NaN            0.0       NaN   \n",
       "1  2000-01-19   NaN   NaN  NaN  30.00     NaN            0.0       NaN   \n",
       "2  2000-01-20   NaN   NaN  NaN  28.49     NaN            0.0       NaN   \n",
       "3  2000-01-21   NaN   NaN  NaN  29.00     NaN            0.0       NaN   \n",
       "4  2000-01-24   NaN   NaN  NaN  29.16     NaN            0.0       NaN   \n",
       "\n",
       "   Last Price of the Day  Daily Traded Units  Daily Turnover  \n",
       "0                    NaN                 NaN             0.0  \n",
       "1                    NaN                 NaN             0.0  \n",
       "2                    NaN                 NaN             0.0  \n",
       "3                    NaN                 NaN             0.0  \n",
       "4                    NaN                 NaN             0.0  "
      ]
     },
     "execution_count": 28,
     "metadata": {},
     "output_type": "execute_result"
    }
   ],
   "source": [
    "df = pd.read_csv(\"../data/frankfurt/stocks/TKA_X.csv\")\n",
    "df.head()"
   ]
  },
  {
   "cell_type": "code",
   "execution_count": 29,
   "metadata": {
    "scrolled": true
   },
   "outputs": [
    {
     "data": {
      "text/html": [
       "<div>\n",
       "<style scoped>\n",
       "    .dataframe tbody tr th:only-of-type {\n",
       "        vertical-align: middle;\n",
       "    }\n",
       "\n",
       "    .dataframe tbody tr th {\n",
       "        vertical-align: top;\n",
       "    }\n",
       "\n",
       "    .dataframe thead th {\n",
       "        text-align: right;\n",
       "    }\n",
       "</style>\n",
       "<table border=\"1\" class=\"dataframe\">\n",
       "  <thead>\n",
       "    <tr style=\"text-align: right;\">\n",
       "      <th></th>\n",
       "      <th>Date</th>\n",
       "      <th>Open</th>\n",
       "      <th>High</th>\n",
       "      <th>Low</th>\n",
       "      <th>Close</th>\n",
       "      <th>Change</th>\n",
       "      <th>Traded Volume</th>\n",
       "      <th>Turnover</th>\n",
       "      <th>Last Price of the Day</th>\n",
       "      <th>Daily Traded Units</th>\n",
       "      <th>Daily Turnover</th>\n",
       "    </tr>\n",
       "  </thead>\n",
       "  <tbody>\n",
       "    <tr>\n",
       "      <th>4913</th>\n",
       "      <td>2019-02-11</td>\n",
       "      <td>NaN</td>\n",
       "      <td>14.680</td>\n",
       "      <td>14.150</td>\n",
       "      <td>14.625</td>\n",
       "      <td>NaN</td>\n",
       "      <td>NaN</td>\n",
       "      <td>NaN</td>\n",
       "      <td>NaN</td>\n",
       "      <td>NaN</td>\n",
       "      <td>NaN</td>\n",
       "    </tr>\n",
       "    <tr>\n",
       "      <th>4914</th>\n",
       "      <td>2019-02-12</td>\n",
       "      <td>NaN</td>\n",
       "      <td>14.720</td>\n",
       "      <td>13.935</td>\n",
       "      <td>14.340</td>\n",
       "      <td>NaN</td>\n",
       "      <td>NaN</td>\n",
       "      <td>NaN</td>\n",
       "      <td>NaN</td>\n",
       "      <td>NaN</td>\n",
       "      <td>NaN</td>\n",
       "    </tr>\n",
       "    <tr>\n",
       "      <th>4915</th>\n",
       "      <td>2019-02-13</td>\n",
       "      <td>NaN</td>\n",
       "      <td>14.265</td>\n",
       "      <td>13.620</td>\n",
       "      <td>13.690</td>\n",
       "      <td>NaN</td>\n",
       "      <td>NaN</td>\n",
       "      <td>NaN</td>\n",
       "      <td>NaN</td>\n",
       "      <td>NaN</td>\n",
       "      <td>NaN</td>\n",
       "    </tr>\n",
       "    <tr>\n",
       "      <th>4916</th>\n",
       "      <td>2019-02-14</td>\n",
       "      <td>NaN</td>\n",
       "      <td>13.750</td>\n",
       "      <td>12.950</td>\n",
       "      <td>13.300</td>\n",
       "      <td>NaN</td>\n",
       "      <td>11080616.0</td>\n",
       "      <td>146949416.0</td>\n",
       "      <td>NaN</td>\n",
       "      <td>NaN</td>\n",
       "      <td>NaN</td>\n",
       "    </tr>\n",
       "    <tr>\n",
       "      <th>4917</th>\n",
       "      <td>2019-02-15</td>\n",
       "      <td>NaN</td>\n",
       "      <td>13.530</td>\n",
       "      <td>12.910</td>\n",
       "      <td>13.260</td>\n",
       "      <td>NaN</td>\n",
       "      <td>5991934.0</td>\n",
       "      <td>79244891.0</td>\n",
       "      <td>NaN</td>\n",
       "      <td>NaN</td>\n",
       "      <td>NaN</td>\n",
       "    </tr>\n",
       "  </tbody>\n",
       "</table>\n",
       "</div>"
      ],
      "text/plain": [
       "            Date  Open    High     Low   Close  Change  Traded Volume  \\\n",
       "4913  2019-02-11   NaN  14.680  14.150  14.625     NaN            NaN   \n",
       "4914  2019-02-12   NaN  14.720  13.935  14.340     NaN            NaN   \n",
       "4915  2019-02-13   NaN  14.265  13.620  13.690     NaN            NaN   \n",
       "4916  2019-02-14   NaN  13.750  12.950  13.300     NaN     11080616.0   \n",
       "4917  2019-02-15   NaN  13.530  12.910  13.260     NaN      5991934.0   \n",
       "\n",
       "         Turnover  Last Price of the Day  Daily Traded Units  Daily Turnover  \n",
       "4913          NaN                    NaN                 NaN             NaN  \n",
       "4914          NaN                    NaN                 NaN             NaN  \n",
       "4915          NaN                    NaN                 NaN             NaN  \n",
       "4916  146949416.0                    NaN                 NaN             NaN  \n",
       "4917   79244891.0                    NaN                 NaN             NaN  "
      ]
     },
     "execution_count": 29,
     "metadata": {},
     "output_type": "execute_result"
    }
   ],
   "source": [
    "df.tail()"
   ]
  },
  {
   "cell_type": "code",
   "execution_count": 33,
   "metadata": {},
   "outputs": [],
   "source": [
    "df = df[df[\"Date\"] >= \"2001-01-01\"][[\"Date\", \"Close\"]]"
   ]
  },
  {
   "cell_type": "code",
   "execution_count": 34,
   "metadata": {},
   "outputs": [
    {
     "data": {
      "text/plain": [
       "4670"
      ]
     },
     "execution_count": 34,
     "metadata": {},
     "output_type": "execute_result"
    }
   ],
   "source": [
    "len(df)"
   ]
  }
 ],
 "metadata": {
  "kernelspec": {
   "display_name": "projet_S5",
   "language": "python",
   "name": "projet_s5"
  },
  "language_info": {
   "codemirror_mode": {
    "name": "ipython",
    "version": 3
   },
   "file_extension": ".py",
   "mimetype": "text/x-python",
   "name": "python",
   "nbconvert_exporter": "python",
   "pygments_lexer": "ipython3",
   "version": "3.6.8"
  }
 },
 "nbformat": 4,
 "nbformat_minor": 2
}
