{
 "cells": [
  {
   "cell_type": "code",
   "execution_count": 3,
   "metadata": {},
   "outputs": [
    {
     "data": {
      "text/plain": [
       "[['19840103', '997.5'],\n",
       " ['19840104', '998.6'],\n",
       " ['19840105', '1015.8'],\n",
       " ['19840106', '1029'],\n",
       " ['19840109', '1034.6'],\n",
       " ['19840110', '1034.3'],\n",
       " ['19840111', '1023.4'],\n",
       " ['19840112', '1031.3'],\n",
       " ['19840113', '1042.7'],\n",
       " ['19840116', '1046']]"
      ]
     },
     "execution_count": 3,
     "metadata": {},
     "output_type": "execute_result"
    }
   ],
   "source": [
    "ftse = [i.strip().split() for i in open(\"/home/tqa/HQ/02IMTA/01projetS5/ftse/FTSE100_index_1984_2010.dat\").readlines()]\n",
    "ftse[:10]"
   ]
  }
 ],
 "metadata": {
  "kernelspec": {
   "display_name": "Python 3",
   "language": "python",
   "name": "python3"
  },
  "language_info": {
   "codemirror_mode": {
    "name": "ipython",
    "version": 3
   },
   "file_extension": ".py",
   "mimetype": "text/x-python",
   "name": "python",
   "nbconvert_exporter": "python",
   "pygments_lexer": "ipython3",
   "version": "3.6.5"
  }
 },
 "nbformat": 4,
 "nbformat_minor": 2
}
