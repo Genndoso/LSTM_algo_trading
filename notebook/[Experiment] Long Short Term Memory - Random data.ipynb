{
 "cells": [
  {
   "cell_type": "code",
   "execution_count": 1,
   "metadata": {
    "ExecuteTime": {
     "end_time": "2019-03-03T18:04:01.465688Z",
     "start_time": "2019-03-03T18:04:00.668260Z"
    },
    "scrolled": true
   },
   "outputs": [],
   "source": [
    "# List all device\n",
    "from tensorflow.python.client import device_lib\n",
    "# print(device_lib.list_local_devices())"
   ]
  },
  {
   "cell_type": "code",
   "execution_count": 2,
   "metadata": {
    "ExecuteTime": {
     "end_time": "2019-03-03T18:04:01.775268Z",
     "start_time": "2019-03-03T18:04:01.467231Z"
    },
    "scrolled": true
   },
   "outputs": [
    {
     "name": "stderr",
     "output_type": "stream",
     "text": [
      "Using TensorFlow backend.\n"
     ]
    },
    {
     "data": {
      "text/plain": [
       "['/job:localhost/replica:0/task:0/device:GPU:0']"
      ]
     },
     "execution_count": 2,
     "metadata": {},
     "output_type": "execute_result"
    }
   ],
   "source": [
    "# Check available GPU\n",
    "from keras import backend as K\n",
    "K.tensorflow_backend._get_available_gpus()"
   ]
  },
  {
   "cell_type": "code",
   "execution_count": 3,
   "metadata": {
    "ExecuteTime": {
     "end_time": "2019-03-03T18:04:01.778520Z",
     "start_time": "2019-03-03T18:04:01.776543Z"
    }
   },
   "outputs": [],
   "source": [
    "import os\n",
    "os.environ[\"CUDA_DEVICE_ORDER\"]=\"PCI_BUS_ID\";\n",
    "# The GPU id to use, usually either \"0\" or \"1\";\n",
    "os.environ[\"CUDA_VISIBLE_DEVICES\"]=\"0\";  "
   ]
  },
  {
   "cell_type": "code",
   "execution_count": 4,
   "metadata": {
    "ExecuteTime": {
     "end_time": "2019-03-03T18:04:01.898823Z",
     "start_time": "2019-03-03T18:04:01.780332Z"
    }
   },
   "outputs": [],
   "source": [
    "from keras.models import Sequential\n",
    "from keras.layers import LSTM, Dense\n",
    "import numpy as np"
   ]
  },
  {
   "cell_type": "code",
   "execution_count": 5,
   "metadata": {
    "ExecuteTime": {
     "end_time": "2019-03-03T18:04:01.969544Z",
     "start_time": "2019-03-03T18:04:01.901732Z"
    }
   },
   "outputs": [],
   "source": [
    "data_dim = 16\n",
    "timesteps = 8\n",
    "num_classes = 10\n",
    "\n",
    "# Generate dummy training data\n",
    "X_train = np.random.random((1000, timesteps, data_dim))\n",
    "y_train = np.random.random((1000, num_classes))\n",
    "\n",
    "# Generate dummy validation data\n",
    "X_val = np.random.random((100, timesteps, data_dim))\n",
    "y_val = np.random.random((100, num_classes))\n",
    "\n",
    "# Generate dummy test data\n",
    "X_test = np.random.random((100, timesteps, data_dim))\n",
    "y_test = np.random.random((100, num_classes))"
   ]
  },
  {
   "cell_type": "code",
   "execution_count": 6,
   "metadata": {
    "ExecuteTime": {
     "end_time": "2019-03-03T18:04:07.100540Z",
     "start_time": "2019-03-03T18:04:01.972395Z"
    }
   },
   "outputs": [
    {
     "name": "stdout",
     "output_type": "stream",
     "text": [
      "Train on 1000 samples, validate on 100 samples\n",
      "Epoch 1/5\n",
      "1000/1000 [==============================] - 2s 2ms/step - loss: 11.4910 - acc: 0.0920 - val_loss: 11.3004 - val_acc: 0.1000\n",
      "Epoch 2/5\n",
      "1000/1000 [==============================] - 0s 375us/step - loss: 11.4887 - acc: 0.0920 - val_loss: 11.2999 - val_acc: 0.0700\n",
      "Epoch 3/5\n",
      "1000/1000 [==============================] - 0s 375us/step - loss: 11.4883 - acc: 0.1050 - val_loss: 11.2983 - val_acc: 0.0700\n",
      "Epoch 4/5\n",
      "1000/1000 [==============================] - 0s 371us/step - loss: 11.4879 - acc: 0.1110 - val_loss: 11.2992 - val_acc: 0.0700\n",
      "Epoch 5/5\n",
      "1000/1000 [==============================] - 0s 382us/step - loss: 11.4877 - acc: 0.1020 - val_loss: 11.2989 - val_acc: 0.0800\n"
     ]
    },
    {
     "data": {
      "text/plain": [
       "<keras.callbacks.History at 0x7faaf03424e0>"
      ]
     },
     "execution_count": 6,
     "metadata": {},
     "output_type": "execute_result"
    }
   ],
   "source": [
    "# expected input data shape: (batch_size, timesteps, data_dim)\n",
    "model = Sequential()\n",
    "model.add(LSTM(32, return_sequences=True,\n",
    "               input_shape=(timesteps, data_dim)))  # returns a sequence of vectors of dimension 32\n",
    "model.add(LSTM(32, return_sequences=True))  # returns a sequence of vectors of dimension 32\n",
    "model.add(LSTM(32))  # return a single vector of dimension 32\n",
    "model.add(Dense(10, activation='softmax'))\n",
    "\n",
    "model.compile(loss='categorical_crossentropy',\n",
    "              optimizer='rmsprop',\n",
    "              metrics=['accuracy'])\n",
    "\n",
    "\n",
    "\n",
    "model.fit(X_train, y_train,\n",
    "          batch_size=64, epochs=5,\n",
    "          validation_data=(X_val, y_val))"
   ]
  },
  {
   "cell_type": "code",
   "execution_count": 8,
   "metadata": {
    "ExecuteTime": {
     "end_time": "2019-03-03T18:04:13.783608Z",
     "start_time": "2019-03-03T18:04:13.581756Z"
    }
   },
   "outputs": [],
   "source": [
    "predicted = model.predict(X_test)"
   ]
  },
  {
   "cell_type": "code",
   "execution_count": 9,
   "metadata": {
    "ExecuteTime": {
     "end_time": "2019-03-03T18:04:14.744034Z",
     "start_time": "2019-03-03T18:04:14.728116Z"
    }
   },
   "outputs": [
    {
     "name": "stdout",
     "output_type": "stream",
     "text": [
      "x train shape: (1000, 8, 16)\n",
      "y train shape: (1000, 10)\n",
      "x val shape: (100, 8, 16)\n",
      "y val shape: (100, 10)\n",
      "x test shape: (100, 8, 16)\n",
      "y test shape: (100, 10)\n",
      "predicted shape: (100, 10)\n"
     ]
    }
   ],
   "source": [
    "print(f\"x train shape: {X_train.shape}\")\n",
    "print(f\"y train shape: {y_train.shape}\")\n",
    "print(f\"x val shape: {X_val.shape}\")\n",
    "print(f\"y val shape: {y_val.shape}\")\n",
    "print(f\"x test shape: {X_test.shape}\")\n",
    "print(f\"y test shape: {y_test.shape}\")\n",
    "print(f\"predicted shape: {predicted.shape}\")"
   ]
  },
  {
   "cell_type": "code",
   "execution_count": 10,
   "metadata": {
    "ExecuteTime": {
     "end_time": "2019-03-03T18:10:40.306842Z",
     "start_time": "2019-03-03T18:10:40.303103Z"
    }
   },
   "outputs": [
    {
     "data": {
      "text/plain": [
       "array([[7.16581038e-01, 6.03527626e-01, 7.52070619e-01, ...,\n",
       "        7.79879291e-01, 7.59000012e-01, 9.90717163e-01],\n",
       "       [2.63767440e-01, 7.80003426e-02, 7.72427315e-01, ...,\n",
       "        3.15620235e-04, 7.42327006e-01, 5.00847091e-01],\n",
       "       [7.51187061e-01, 5.98960642e-02, 7.23321230e-01, ...,\n",
       "        3.49968752e-01, 7.95478302e-01, 1.61330460e-01],\n",
       "       ...,\n",
       "       [5.06653686e-01, 3.22893536e-01, 9.06028266e-01, ...,\n",
       "        4.04044726e-01, 9.50072991e-02, 2.27986185e-01],\n",
       "       [6.62278133e-01, 1.41203304e-01, 9.20609218e-01, ...,\n",
       "        7.68662334e-01, 4.69095141e-01, 8.71913920e-01],\n",
       "       [6.54283779e-01, 8.37104800e-01, 8.94736807e-01, ...,\n",
       "        7.04069835e-01, 2.07643130e-01, 9.13439444e-01]])"
      ]
     },
     "execution_count": 10,
     "metadata": {},
     "output_type": "execute_result"
    }
   ],
   "source": [
    "y_train"
   ]
  }
 ],
 "metadata": {
  "kernelspec": {
   "display_name": "projet_S5",
   "language": "python",
   "name": "projet_s5"
  },
  "language_info": {
   "codemirror_mode": {
    "name": "ipython",
    "version": 3
   },
   "file_extension": ".py",
   "mimetype": "text/x-python",
   "name": "python",
   "nbconvert_exporter": "python",
   "pygments_lexer": "ipython3",
   "version": "3.6.8"
  },
  "toc": {
   "base_numbering": 1,
   "nav_menu": {},
   "number_sections": true,
   "sideBar": true,
   "skip_h1_title": false,
   "title_cell": "Table of Contents",
   "title_sidebar": "Contents",
   "toc_cell": false,
   "toc_position": {},
   "toc_section_display": true,
   "toc_window_display": false
  }
 },
 "nbformat": 4,
 "nbformat_minor": 2
}
