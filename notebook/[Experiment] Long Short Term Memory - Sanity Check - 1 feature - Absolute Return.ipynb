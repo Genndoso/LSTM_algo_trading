{
 "cells": [
  {
   "cell_type": "code",
   "execution_count": 1,
   "metadata": {
    "ExecuteTime": {
     "end_time": "2019-03-10T17:29:19.492323Z",
     "start_time": "2019-03-10T17:29:18.156301Z"
    },
    "scrolled": true
   },
   "outputs": [],
   "source": [
    "# List all device\n",
    "from tensorflow.python.client import device_lib\n",
    "# print(device_lib.list_local_devices())"
   ]
  },
  {
   "cell_type": "code",
   "execution_count": 2,
   "metadata": {
    "ExecuteTime": {
     "end_time": "2019-03-10T17:29:19.546813Z",
     "start_time": "2019-03-10T17:29:19.495163Z"
    },
    "scrolled": true
   },
   "outputs": [
    {
     "name": "stderr",
     "output_type": "stream",
     "text": [
      "Using TensorFlow backend.\n"
     ]
    },
    {
     "data": {
      "text/plain": [
       "[]"
      ]
     },
     "execution_count": 2,
     "metadata": {},
     "output_type": "execute_result"
    }
   ],
   "source": [
    "# Check available GPU\n",
    "from keras import backend as K\n",
    "K.tensorflow_backend._get_available_gpus()"
   ]
  },
  {
   "cell_type": "code",
   "execution_count": 3,
   "metadata": {
    "ExecuteTime": {
     "end_time": "2019-03-10T17:29:19.565655Z",
     "start_time": "2019-03-10T17:29:19.549511Z"
    }
   },
   "outputs": [],
   "source": [
    "import os\n",
    "os.environ[\"CUDA_DEVICE_ORDER\"]=\"PCI_BUS_ID\";\n",
    "# The GPU id to use, usually either \"0\" or \"1\";\n",
    "os.environ[\"CUDA_VISIBLE_DEVICES\"]=\"0\";  "
   ]
  },
  {
   "cell_type": "code",
   "execution_count": 4,
   "metadata": {
    "ExecuteTime": {
     "end_time": "2019-03-10T17:29:20.119911Z",
     "start_time": "2019-03-10T17:29:19.568116Z"
    }
   },
   "outputs": [],
   "source": [
    "# Importing the libraries\n",
    "import numpy as np\n",
    "import pandas as pd\n",
    "from keras.models import Sequential\n",
    "from keras.layers import Dense, LSTM, Dropout, Reshape, Lambda, GRU, BatchNormalization, Bidirectional\n",
    "from keras.preprocessing.sequence import TimeseriesGenerator\n",
    "from keras.callbacks import EarlyStopping, ModelCheckpoint\n",
    "from keras.activations import softmax\n",
    "from keras.optimizers import SGD, RMSprop\n",
    "import math\n",
    "import pickle\n",
    "import matplotlib.pyplot as plt\n",
    "from keras.utils import to_categorical\n",
    "from sklearn.preprocessing import StandardScaler"
   ]
  },
  {
   "cell_type": "code",
   "execution_count": 5,
   "metadata": {
    "ExecuteTime": {
     "end_time": "2019-03-10T17:29:20.139003Z",
     "start_time": "2019-03-10T17:29:20.122148Z"
    }
   },
   "outputs": [],
   "source": [
    "index = \"dowjones\"\n",
    "# index = \"frankfurt\"\n",
    "with open(f\"../data/{index}_calculated/absolute_periods750_250_240.txt\", \"rb\") as fp:   # Unpickling\n",
    "    dataset = pickle.load(fp)"
   ]
  },
  {
   "cell_type": "code",
   "execution_count": 6,
   "metadata": {
    "ExecuteTime": {
     "end_time": "2019-03-10T17:29:20.192697Z",
     "start_time": "2019-03-10T17:29:20.141138Z"
    }
   },
   "outputs": [],
   "source": [
    "i = 7\n",
    "timestep = 240\n",
    "feature = 31"
   ]
  },
  {
   "cell_type": "code",
   "execution_count": 7,
   "metadata": {
    "ExecuteTime": {
     "end_time": "2019-03-10T17:29:20.262706Z",
     "start_time": "2019-03-10T17:29:20.195651Z"
    }
   },
   "outputs": [],
   "source": [
    "x_train = dataset[0][i][0].values\n",
    "x_test = dataset[1][i][0].values\n",
    "\n",
    "scaler = StandardScaler().fit(x_train)\n",
    "\n",
    "x_train = scaler.transform(x_train)\n",
    "x_test = scaler.transform(x_test)\n",
    "\n",
    "y_train = to_categorical(dataset[0][i][1].values, 2)\n",
    "y_test = to_categorical(dataset[1][i][1].values, 2)"
   ]
  },
  {
   "cell_type": "code",
   "execution_count": 8,
   "metadata": {
    "ExecuteTime": {
     "end_time": "2019-03-10T17:29:20.328997Z",
     "start_time": "2019-03-10T17:29:20.265682Z"
    }
   },
   "outputs": [
    {
     "name": "stdout",
     "output_type": "stream",
     "text": [
      "x train shape: (750, 31)\n",
      "y train shape: (750, 31, 2)\n",
      "x test shape: (490, 31)\n",
      "y test shape: (490, 31, 2)\n"
     ]
    }
   ],
   "source": [
    "print(f\"x train shape: {x_train.shape}\")\n",
    "print(f\"y train shape: {y_train.shape}\")\n",
    "print(f\"x test shape: {x_test.shape}\")\n",
    "print(f\"y test shape: {y_test.shape}\")"
   ]
  },
  {
   "cell_type": "code",
   "execution_count": 9,
   "metadata": {
    "ExecuteTime": {
     "end_time": "2019-03-10T17:29:20.441271Z",
     "start_time": "2019-03-10T17:29:20.331148Z"
    }
   },
   "outputs": [
    {
     "name": "stdout",
     "output_type": "stream",
     "text": [
      "x shape: (15779, 240)\n",
      "y shape: (15779, 2)\n"
     ]
    }
   ],
   "source": [
    "x_series = [x_train[i:i+timestep, j] for i in range(1, x_train.shape[0] - timestep) for j in range(feature)]\n",
    "y_series = [y_train[i+timestep, j] for i in range(y_train.shape[0] - timestep - 1) for j in range(feature)]\n",
    "x = np.array(x_series)\n",
    "y = np.array(y_series)\n",
    "print(f\"x shape: {x.shape}\")\n",
    "print(f\"y shape: {y.shape}\")"
   ]
  },
  {
   "cell_type": "code",
   "execution_count": 10,
   "metadata": {
    "ExecuteTime": {
     "end_time": "2019-03-10T17:29:20.507598Z",
     "start_time": "2019-03-10T17:29:20.443870Z"
    }
   },
   "outputs": [
    {
     "name": "stdout",
     "output_type": "stream",
     "text": [
      "x1 shape: (7719, 240)\n",
      "y1 shape: (7719, 2)\n"
     ]
    }
   ],
   "source": [
    "x_series1 = [x_test[i:i+timestep, j] for i in range(1, x_test.shape[0] - timestep) for j in range(feature)]\n",
    "y_series1 = [y_test[i+timestep, j] for i in range(y_test.shape[0] - timestep - 1) for j in range(feature)]\n",
    "x1 = np.array(x_series1)\n",
    "y1 = np.array(y_series1)\n",
    "print(f\"x1 shape: {x1.shape}\")\n",
    "print(f\"y1 shape: {y1.shape}\")"
   ]
  },
  {
   "cell_type": "code",
   "execution_count": 11,
   "metadata": {
    "ExecuteTime": {
     "end_time": "2019-03-10T17:29:21.071105Z",
     "start_time": "2019-03-10T17:29:20.509941Z"
    }
   },
   "outputs": [],
   "source": [
    "x = np.reshape(x, (x.shape[0], x.shape[1], 1))\n",
    "x1 = np.reshape(x1, (x1.shape[0], x1.shape[1], 1))"
   ]
  },
  {
   "cell_type": "code",
   "execution_count": 12,
   "metadata": {
    "ExecuteTime": {
     "end_time": "2019-03-10T17:29:21.969979Z",
     "start_time": "2019-03-10T17:29:21.072954Z"
    }
   },
   "outputs": [
    {
     "name": "stdout",
     "output_type": "stream",
     "text": [
      "_________________________________________________________________\n",
      "Layer (type)                 Output Shape              Param #   \n",
      "=================================================================\n",
      "lstm_1 (LSTM)                (None, 25)                2700      \n",
      "_________________________________________________________________\n",
      "dense_1 (Dense)              (None, 2)                 52        \n",
      "=================================================================\n",
      "Total params: 2,752\n",
      "Trainable params: 2,752\n",
      "Non-trainable params: 0\n",
      "_________________________________________________________________\n"
     ]
    }
   ],
   "source": [
    "regressor = Sequential()\n",
    "regressor.add(LSTM(units=25, input_shape=(timestep, 1)))\n",
    "# regressor.add(Dense(feature * 2, activation='relu'))\n",
    "# regressor.add(Reshape((feature, 2)))\n",
    "# regressor.add(Lambda(lambda x: softmax(x, axis=-1)))\n",
    "regressor.add(Dense(2, activation='softmax'))\n",
    "regressor.compile(loss='binary_crossentropy',\n",
    "                  optimizer='rmsprop',\n",
    "                  metrics=['accuracy'])\n",
    "regressor.summary()"
   ]
  },
  {
   "cell_type": "code",
   "execution_count": 13,
   "metadata": {
    "ExecuteTime": {
     "end_time": "2019-03-10T17:39:01.186302Z",
     "start_time": "2019-03-10T17:29:21.974102Z"
    }
   },
   "outputs": [
    {
     "name": "stdout",
     "output_type": "stream",
     "text": [
      "Train on 15779 samples, validate on 7719 samples\n",
      "Epoch 1/1000\n",
      "15779/15779 [==============================] - 6s 392us/step - loss: 0.6677 - acc: 0.7432 - val_loss: 0.6466 - val_acc: 0.8208\n",
      "Epoch 2/1000\n",
      "15779/15779 [==============================] - 5s 338us/step - loss: 0.6158 - acc: 0.8320 - val_loss: 0.5783 - val_acc: 0.8469\n",
      "Epoch 3/1000\n",
      "15779/15779 [==============================] - 5s 325us/step - loss: 0.5569 - acc: 0.8542 - val_loss: 0.5332 - val_acc: 0.8115\n",
      "Epoch 4/1000\n",
      "15779/15779 [==============================] - 5s 335us/step - loss: 0.5140 - acc: 0.8749 - val_loss: 0.4924 - val_acc: 0.8816\n",
      "Epoch 5/1000\n",
      "15779/15779 [==============================] - 5s 326us/step - loss: 0.4750 - acc: 0.8991 - val_loss: 0.4545 - val_acc: 0.9233\n",
      "Epoch 6/1000\n",
      "15779/15779 [==============================] - 5s 347us/step - loss: 0.4352 - acc: 0.9266 - val_loss: 0.4139 - val_acc: 0.9246\n",
      "Epoch 7/1000\n",
      "15779/15779 [==============================] - 6s 356us/step - loss: 0.3940 - acc: 0.9477 - val_loss: 0.3719 - val_acc: 0.9617\n",
      "Epoch 8/1000\n",
      "15779/15779 [==============================] - 6s 360us/step - loss: 0.3526 - acc: 0.9633 - val_loss: 0.3326 - val_acc: 0.9775\n",
      "Epoch 9/1000\n",
      "15779/15779 [==============================] - 5s 338us/step - loss: 0.3154 - acc: 0.9701 - val_loss: 0.2989 - val_acc: 0.9697\n",
      "Epoch 10/1000\n",
      "15779/15779 [==============================] - 5s 348us/step - loss: 0.2849 - acc: 0.9704 - val_loss: 0.2737 - val_acc: 0.9685\n",
      "Epoch 11/1000\n",
      "15779/15779 [==============================] - 5s 329us/step - loss: 0.2587 - acc: 0.9729 - val_loss: 0.2488 - val_acc: 0.9742\n",
      "Epoch 12/1000\n",
      "15779/15779 [==============================] - 5s 324us/step - loss: 0.2375 - acc: 0.9721 - val_loss: 0.2293 - val_acc: 0.9743\n",
      "Epoch 13/1000\n",
      "15779/15779 [==============================] - 5s 339us/step - loss: 0.2178 - acc: 0.9745 - val_loss: 0.2120 - val_acc: 0.9749\n",
      "Epoch 14/1000\n",
      "15779/15779 [==============================] - 5s 348us/step - loss: 0.2012 - acc: 0.9739 - val_loss: 0.1969 - val_acc: 0.9763\n",
      "Epoch 15/1000\n",
      "15779/15779 [==============================] - 5s 348us/step - loss: 0.1870 - acc: 0.9755 - val_loss: 0.1847 - val_acc: 0.9715\n",
      "Epoch 16/1000\n",
      "15779/15779 [==============================] - 6s 350us/step - loss: 0.1740 - acc: 0.9748 - val_loss: 0.1722 - val_acc: 0.9777\n",
      "Epoch 17/1000\n",
      "15779/15779 [==============================] - 5s 348us/step - loss: 0.1630 - acc: 0.9753 - val_loss: 0.1630 - val_acc: 0.9743\n",
      "Epoch 18/1000\n",
      "15779/15779 [==============================] - 5s 348us/step - loss: 0.1529 - acc: 0.9770 - val_loss: 0.1529 - val_acc: 0.9738\n",
      "Epoch 19/1000\n",
      "15779/15779 [==============================] - 5s 348us/step - loss: 0.1440 - acc: 0.9779 - val_loss: 0.1441 - val_acc: 0.9778\n",
      "Epoch 20/1000\n",
      "15779/15779 [==============================] - 5s 347us/step - loss: 0.1357 - acc: 0.9774 - val_loss: 0.1365 - val_acc: 0.9773\n",
      "Epoch 21/1000\n",
      "15779/15779 [==============================] - 5s 346us/step - loss: 0.1283 - acc: 0.9779 - val_loss: 0.1288 - val_acc: 0.9782\n",
      "Epoch 22/1000\n",
      "15779/15779 [==============================] - 5s 348us/step - loss: 0.1216 - acc: 0.9779 - val_loss: 0.1226 - val_acc: 0.9788\n",
      "Epoch 23/1000\n",
      "15779/15779 [==============================] - 5s 348us/step - loss: 0.1151 - acc: 0.9795 - val_loss: 0.1164 - val_acc: 0.9791\n",
      "Epoch 24/1000\n",
      "15779/15779 [==============================] - 5s 348us/step - loss: 0.1095 - acc: 0.9800 - val_loss: 0.1108 - val_acc: 0.9798\n",
      "Epoch 25/1000\n",
      "15779/15779 [==============================] - 5s 347us/step - loss: 0.1039 - acc: 0.9802 - val_loss: 0.1054 - val_acc: 0.9802\n",
      "Epoch 26/1000\n",
      "15779/15779 [==============================] - 5s 347us/step - loss: 0.0987 - acc: 0.9811 - val_loss: 0.1005 - val_acc: 0.9799\n",
      "Epoch 27/1000\n",
      "15779/15779 [==============================] - 5s 346us/step - loss: 0.0942 - acc: 0.9814 - val_loss: 0.0972 - val_acc: 0.9810\n",
      "Epoch 28/1000\n",
      "15779/15779 [==============================] - 6s 350us/step - loss: 0.0899 - acc: 0.9817 - val_loss: 0.0915 - val_acc: 0.9808\n",
      "Epoch 29/1000\n",
      "15779/15779 [==============================] - 5s 295us/step - loss: 0.0861 - acc: 0.9814 - val_loss: 0.0885 - val_acc: 0.9806\n",
      "Epoch 30/1000\n",
      "15779/15779 [==============================] - 5s 285us/step - loss: 0.0823 - acc: 0.9817 - val_loss: 0.0842 - val_acc: 0.9813\n",
      "Epoch 31/1000\n",
      "15779/15779 [==============================] - 4s 285us/step - loss: 0.0787 - acc: 0.9829 - val_loss: 0.0819 - val_acc: 0.9813\n",
      "Epoch 32/1000\n",
      "15779/15779 [==============================] - 4s 283us/step - loss: 0.0759 - acc: 0.9823 - val_loss: 0.0774 - val_acc: 0.9816\n",
      "Epoch 33/1000\n",
      "15779/15779 [==============================] - 4s 285us/step - loss: 0.0725 - acc: 0.9828 - val_loss: 0.0764 - val_acc: 0.9802\n",
      "Epoch 34/1000\n",
      "15779/15779 [==============================] - 4s 285us/step - loss: 0.0705 - acc: 0.9831 - val_loss: 0.0721 - val_acc: 0.9820\n",
      "Epoch 35/1000\n",
      "15779/15779 [==============================] - 5s 285us/step - loss: 0.0673 - acc: 0.9829 - val_loss: 0.0695 - val_acc: 0.9820\n",
      "Epoch 36/1000\n",
      "15779/15779 [==============================] - 5s 289us/step - loss: 0.0650 - acc: 0.9840 - val_loss: 0.0673 - val_acc: 0.9829\n",
      "Epoch 37/1000\n",
      "15779/15779 [==============================] - 5s 314us/step - loss: 0.0625 - acc: 0.9845 - val_loss: 0.0651 - val_acc: 0.9821\n",
      "Epoch 38/1000\n",
      "15779/15779 [==============================] - 5s 312us/step - loss: 0.0607 - acc: 0.9836 - val_loss: 0.0628 - val_acc: 0.9830\n",
      "Epoch 39/1000\n",
      "15779/15779 [==============================] - 4s 258us/step - loss: 0.0586 - acc: 0.9844 - val_loss: 0.0618 - val_acc: 0.9817\n",
      "Epoch 40/1000\n",
      "15779/15779 [==============================] - 5s 286us/step - loss: 0.0568 - acc: 0.9842 - val_loss: 0.0588 - val_acc: 0.9829\n",
      "Epoch 41/1000\n",
      "15779/15779 [==============================] - 5s 288us/step - loss: 0.0553 - acc: 0.9849 - val_loss: 0.0573 - val_acc: 0.9821\n",
      "Epoch 42/1000\n",
      "15779/15779 [==============================] - 4s 283us/step - loss: 0.0534 - acc: 0.9846 - val_loss: 0.0550 - val_acc: 0.9834\n",
      "Epoch 43/1000\n",
      "15779/15779 [==============================] - 4s 284us/step - loss: 0.0526 - acc: 0.9842 - val_loss: 0.0538 - val_acc: 0.9828\n",
      "Epoch 44/1000\n",
      "15779/15779 [==============================] - 4s 284us/step - loss: 0.0505 - acc: 0.9844 - val_loss: 0.0521 - val_acc: 0.9837\n",
      "Epoch 45/1000\n",
      "15779/15779 [==============================] - 5s 286us/step - loss: 0.0494 - acc: 0.9845 - val_loss: 0.0519 - val_acc: 0.9834\n",
      "Epoch 46/1000\n",
      "15779/15779 [==============================] - 4s 283us/step - loss: 0.0480 - acc: 0.9848 - val_loss: 0.0497 - val_acc: 0.9832\n",
      "Epoch 47/1000\n",
      "15779/15779 [==============================] - 4s 282us/step - loss: 0.0467 - acc: 0.9848 - val_loss: 0.0484 - val_acc: 0.9834\n",
      "Epoch 48/1000\n",
      "15779/15779 [==============================] - 5s 288us/step - loss: 0.0463 - acc: 0.9850 - val_loss: 0.0472 - val_acc: 0.9833\n",
      "Epoch 49/1000\n",
      "15779/15779 [==============================] - 4s 281us/step - loss: 0.0449 - acc: 0.9852 - val_loss: 0.0462 - val_acc: 0.9834\n",
      "Epoch 50/1000\n",
      "15779/15779 [==============================] - 4s 284us/step - loss: 0.0437 - acc: 0.9854 - val_loss: 0.0455 - val_acc: 0.9835\n",
      "Epoch 51/1000\n",
      "15779/15779 [==============================] - 5s 286us/step - loss: 0.0429 - acc: 0.9856 - val_loss: 0.0448 - val_acc: 0.9838\n",
      "Epoch 52/1000\n",
      "15779/15779 [==============================] - 4s 279us/step - loss: 0.0421 - acc: 0.9864 - val_loss: 0.0446 - val_acc: 0.9832\n",
      "Epoch 53/1000\n",
      "15779/15779 [==============================] - 5s 303us/step - loss: 0.0416 - acc: 0.9851 - val_loss: 0.0427 - val_acc: 0.9837\n",
      "Epoch 54/1000\n",
      "15779/15779 [==============================] - 5s 337us/step - loss: 0.0404 - acc: 0.9860 - val_loss: 0.0429 - val_acc: 0.9838\n",
      "Epoch 55/1000\n",
      "15779/15779 [==============================] - 5s 287us/step - loss: 0.0401 - acc: 0.9851 - val_loss: 0.0417 - val_acc: 0.9839\n",
      "Epoch 56/1000\n",
      "15779/15779 [==============================] - 4s 284us/step - loss: 0.0394 - acc: 0.9858 - val_loss: 0.0408 - val_acc: 0.9838\n",
      "Epoch 57/1000\n",
      "15779/15779 [==============================] - 5s 293us/step - loss: 0.0386 - acc: 0.9856 - val_loss: 0.0416 - val_acc: 0.9846\n",
      "Epoch 58/1000\n",
      "15779/15779 [==============================] - 4s 281us/step - loss: 0.0379 - acc: 0.9856 - val_loss: 0.0399 - val_acc: 0.9838\n"
     ]
    },
    {
     "name": "stdout",
     "output_type": "stream",
     "text": [
      "Epoch 59/1000\n",
      "15779/15779 [==============================] - 5s 292us/step - loss: 0.0374 - acc: 0.9858 - val_loss: 0.0390 - val_acc: 0.9837\n",
      "Epoch 60/1000\n",
      "15779/15779 [==============================] - 5s 291us/step - loss: 0.0371 - acc: 0.9862 - val_loss: 0.0385 - val_acc: 0.9834\n",
      "Epoch 61/1000\n",
      "15779/15779 [==============================] - 4s 276us/step - loss: 0.0367 - acc: 0.9856 - val_loss: 0.0421 - val_acc: 0.9812\n",
      "Epoch 62/1000\n",
      "15779/15779 [==============================] - 4s 279us/step - loss: 0.0365 - acc: 0.9856 - val_loss: 0.0381 - val_acc: 0.9837\n",
      "Epoch 63/1000\n",
      "15779/15779 [==============================] - 4s 276us/step - loss: 0.0355 - acc: 0.9866 - val_loss: 0.0371 - val_acc: 0.9839\n",
      "Epoch 64/1000\n",
      "15779/15779 [==============================] - 4s 266us/step - loss: 0.0355 - acc: 0.9867 - val_loss: 0.0405 - val_acc: 0.9817\n",
      "Epoch 65/1000\n",
      "15779/15779 [==============================] - 5s 288us/step - loss: 0.0350 - acc: 0.9861 - val_loss: 0.0373 - val_acc: 0.9834\n",
      "Epoch 66/1000\n",
      "15779/15779 [==============================] - 4s 282us/step - loss: 0.0350 - acc: 0.9857 - val_loss: 0.0361 - val_acc: 0.9845\n",
      "Epoch 67/1000\n",
      "15779/15779 [==============================] - 5s 291us/step - loss: 0.0345 - acc: 0.9856 - val_loss: 0.0360 - val_acc: 0.9845\n",
      "Epoch 68/1000\n",
      "15779/15779 [==============================] - 5s 286us/step - loss: 0.0343 - acc: 0.9863 - val_loss: 0.0357 - val_acc: 0.9838\n",
      "Epoch 69/1000\n",
      "15779/15779 [==============================] - 5s 285us/step - loss: 0.0339 - acc: 0.9862 - val_loss: 0.0355 - val_acc: 0.9846\n",
      "Epoch 70/1000\n",
      "15779/15779 [==============================] - 5s 316us/step - loss: 0.0333 - acc: 0.9864 - val_loss: 0.0355 - val_acc: 0.9847\n",
      "Epoch 71/1000\n",
      "15779/15779 [==============================] - 4s 282us/step - loss: 0.0335 - acc: 0.9860 - val_loss: 0.0353 - val_acc: 0.9838\n",
      "Epoch 72/1000\n",
      "15779/15779 [==============================] - 5s 305us/step - loss: 0.0328 - acc: 0.9861 - val_loss: 0.0358 - val_acc: 0.9837\n",
      "Epoch 73/1000\n",
      "15779/15779 [==============================] - 4s 276us/step - loss: 0.0329 - acc: 0.9864 - val_loss: 0.0354 - val_acc: 0.9842\n",
      "Epoch 74/1000\n",
      "15779/15779 [==============================] - 4s 273us/step - loss: 0.0331 - acc: 0.9859 - val_loss: 0.0343 - val_acc: 0.9841\n",
      "Epoch 75/1000\n",
      "15779/15779 [==============================] - 4s 281us/step - loss: 0.0326 - acc: 0.9859 - val_loss: 0.0350 - val_acc: 0.9845\n",
      "Epoch 76/1000\n",
      "15779/15779 [==============================] - 5s 300us/step - loss: 0.0328 - acc: 0.9868 - val_loss: 0.0339 - val_acc: 0.9843\n",
      "Epoch 77/1000\n",
      "15779/15779 [==============================] - 5s 287us/step - loss: 0.0322 - acc: 0.9861 - val_loss: 0.0350 - val_acc: 0.9845\n",
      "Epoch 78/1000\n",
      "15779/15779 [==============================] - 4s 281us/step - loss: 0.0324 - acc: 0.9863 - val_loss: 0.0340 - val_acc: 0.9842\n",
      "Epoch 79/1000\n",
      "15779/15779 [==============================] - 4s 284us/step - loss: 0.0323 - acc: 0.9864 - val_loss: 0.0344 - val_acc: 0.9846\n",
      "Epoch 80/1000\n",
      "15779/15779 [==============================] - 4s 282us/step - loss: 0.0321 - acc: 0.9868 - val_loss: 0.0347 - val_acc: 0.9843\n",
      "Epoch 81/1000\n",
      "15779/15779 [==============================] - 4s 278us/step - loss: 0.0323 - acc: 0.9863 - val_loss: 0.0352 - val_acc: 0.9833\n",
      "Epoch 82/1000\n",
      "15779/15779 [==============================] - 5s 290us/step - loss: 0.0315 - acc: 0.9864 - val_loss: 0.0336 - val_acc: 0.9843\n",
      "Epoch 83/1000\n",
      "15779/15779 [==============================] - 5s 288us/step - loss: 0.0317 - acc: 0.9856 - val_loss: 0.0353 - val_acc: 0.9846\n",
      "Epoch 84/1000\n",
      "15779/15779 [==============================] - 5s 306us/step - loss: 0.0317 - acc: 0.9862 - val_loss: 0.0338 - val_acc: 0.9841\n",
      "Epoch 85/1000\n",
      "15779/15779 [==============================] - 5s 288us/step - loss: 0.0317 - acc: 0.9866 - val_loss: 0.0360 - val_acc: 0.9843\n",
      "Epoch 86/1000\n",
      "15779/15779 [==============================] - 5s 292us/step - loss: 0.0318 - acc: 0.9863 - val_loss: 0.0339 - val_acc: 0.9842\n",
      "Epoch 87/1000\n",
      "15779/15779 [==============================] - 4s 284us/step - loss: 0.0315 - acc: 0.9861 - val_loss: 0.0334 - val_acc: 0.9845\n",
      "Epoch 88/1000\n",
      "15779/15779 [==============================] - 5s 304us/step - loss: 0.0316 - acc: 0.9865 - val_loss: 0.0332 - val_acc: 0.9847\n",
      "Epoch 89/1000\n",
      "15779/15779 [==============================] - 4s 276us/step - loss: 0.0313 - acc: 0.9862 - val_loss: 0.0330 - val_acc: 0.9846\n",
      "Epoch 90/1000\n",
      "15779/15779 [==============================] - 5s 289us/step - loss: 0.0317 - acc: 0.9862 - val_loss: 0.0330 - val_acc: 0.9846\n",
      "Epoch 91/1000\n",
      "15779/15779 [==============================] - 5s 318us/step - loss: 0.0310 - acc: 0.9863 - val_loss: 0.0331 - val_acc: 0.9845\n",
      "Epoch 92/1000\n",
      "15779/15779 [==============================] - 5s 304us/step - loss: 0.0309 - acc: 0.9868 - val_loss: 0.0331 - val_acc: 0.9843\n",
      "Epoch 93/1000\n",
      "15779/15779 [==============================] - 4s 277us/step - loss: 0.0311 - acc: 0.9866 - val_loss: 0.0332 - val_acc: 0.9845\n",
      "Epoch 94/1000\n",
      "15779/15779 [==============================] - 5s 287us/step - loss: 0.0307 - acc: 0.9868 - val_loss: 0.0354 - val_acc: 0.9843\n",
      "Epoch 95/1000\n",
      "15779/15779 [==============================] - 4s 278us/step - loss: 0.0308 - acc: 0.9868 - val_loss: 0.0372 - val_acc: 0.9823\n",
      "Epoch 96/1000\n",
      "15779/15779 [==============================] - 4s 274us/step - loss: 0.0312 - acc: 0.9869 - val_loss: 0.0331 - val_acc: 0.9845\n",
      "Epoch 97/1000\n",
      "15779/15779 [==============================] - 4s 284us/step - loss: 0.0309 - acc: 0.9861 - val_loss: 0.0329 - val_acc: 0.9846\n",
      "Epoch 98/1000\n",
      "15779/15779 [==============================] - 5s 302us/step - loss: 0.0311 - acc: 0.9866 - val_loss: 0.0331 - val_acc: 0.9842\n",
      "Epoch 99/1000\n",
      "15779/15779 [==============================] - 4s 282us/step - loss: 0.0306 - acc: 0.9867 - val_loss: 0.0331 - val_acc: 0.9848\n",
      "Epoch 100/1000\n",
      "15779/15779 [==============================] - 4s 285us/step - loss: 0.0309 - acc: 0.9866 - val_loss: 0.0341 - val_acc: 0.9846\n",
      "Epoch 101/1000\n",
      "15779/15779 [==============================] - 4s 278us/step - loss: 0.0306 - acc: 0.9866 - val_loss: 0.0336 - val_acc: 0.9843\n",
      "Epoch 102/1000\n",
      "15779/15779 [==============================] - 5s 300us/step - loss: 0.0300 - acc: 0.9880 - val_loss: 0.0360 - val_acc: 0.9834\n",
      "Epoch 103/1000\n",
      "15779/15779 [==============================] - 5s 298us/step - loss: 0.0311 - acc: 0.9868 - val_loss: 0.0330 - val_acc: 0.9846\n",
      "Epoch 104/1000\n",
      "15779/15779 [==============================] - 5s 310us/step - loss: 0.0312 - acc: 0.9864 - val_loss: 0.0328 - val_acc: 0.9847\n",
      "Epoch 105/1000\n",
      "15779/15779 [==============================] - 7s 434us/step - loss: 0.0305 - acc: 0.9869 - val_loss: 0.0364 - val_acc: 0.9834\n",
      "Epoch 106/1000\n",
      "15779/15779 [==============================] - 8s 506us/step - loss: 0.0307 - acc: 0.9866 - val_loss: 0.0336 - val_acc: 0.9842\n",
      "Epoch 107/1000\n",
      "15779/15779 [==============================] - 8s 496us/step - loss: 0.0310 - acc: 0.9870 - val_loss: 0.0338 - val_acc: 0.9842\n",
      "Epoch 108/1000\n",
      "15779/15779 [==============================] - 8s 497us/step - loss: 0.0307 - acc: 0.9871 - val_loss: 0.0329 - val_acc: 0.9848\n",
      "Epoch 109/1000\n",
      "15779/15779 [==============================] - 8s 520us/step - loss: 0.0307 - acc: 0.9872 - val_loss: 0.0342 - val_acc: 0.9842\n",
      "Epoch 110/1000\n",
      "15779/15779 [==============================] - 8s 493us/step - loss: 0.0310 - acc: 0.9861 - val_loss: 0.0330 - val_acc: 0.9850\n",
      "Epoch 111/1000\n",
      "15779/15779 [==============================] - 8s 508us/step - loss: 0.0302 - acc: 0.9869 - val_loss: 0.0338 - val_acc: 0.9841\n",
      "Epoch 112/1000\n",
      "15779/15779 [==============================] - 8s 535us/step - loss: 0.0308 - acc: 0.9871 - val_loss: 0.0332 - val_acc: 0.9847\n",
      "Epoch 113/1000\n",
      "15779/15779 [==============================] - 8s 495us/step - loss: 0.0307 - acc: 0.9869 - val_loss: 0.0338 - val_acc: 0.9842\n",
      "Epoch 114/1000\n",
      "15779/15779 [==============================] - 8s 532us/step - loss: 0.0303 - acc: 0.9868 - val_loss: 0.0336 - val_acc: 0.9845\n"
     ]
    }
   ],
   "source": [
    "# result = regressor.fit_generator(train_gen, steps_per_epoch=len(train_gen), epochs=1000)\n",
    "result = regressor.fit(x, y,batch_size=1000, epochs=1000, validation_data=(x1, y1), callbacks = [EarlyStopping(monitor='val_loss', mode='min', patience=10),\n",
    "             ModelCheckpoint(filepath='best_model.h5', monitor='val_acc', save_best_only=True)])"
   ]
  },
  {
   "cell_type": "code",
   "execution_count": 14,
   "metadata": {
    "ExecuteTime": {
     "end_time": "2019-03-10T17:39:01.492549Z",
     "start_time": "2019-03-10T17:39:01.189581Z"
    }
   },
   "outputs": [
    {
     "data": {
      "text/plain": [
       "[<matplotlib.lines.Line2D at 0x7f565e3d0f98>]"
      ]
     },
     "execution_count": 14,
     "metadata": {},
     "output_type": "execute_result"
    },
    {
     "data": {
      "image/png": "[encoded data removed]",
      "text/plain": [
       "<Figure size 432x288 with 1 Axes>"
      ]
     },
     "metadata": {
      "needs_background": "light"
     },
     "output_type": "display_data"
    }
   ],
   "source": [
    "plt.plot(result.history[\"acc\"])\n",
    "plt.plot(result.history[\"val_acc\"])"
   ]
  },
  {
   "cell_type": "code",
   "execution_count": 15,
   "metadata": {
    "ExecuteTime": {
     "end_time": "2019-03-10T17:39:01.742468Z",
     "start_time": "2019-03-10T17:39:01.496090Z"
    }
   },
   "outputs": [
    {
     "data": {
      "text/plain": [
       "[<matplotlib.lines.Line2D at 0x7f567f4db400>]"
      ]
     },
     "execution_count": 15,
     "metadata": {},
     "output_type": "execute_result"
    },
    {
     "data": {
      "image/png": "[encoded data removed]",
      "text/plain": [
       "<Figure size 432x288 with 1 Axes>"
      ]
     },
     "metadata": {
      "needs_background": "light"
     },
     "output_type": "display_data"
    }
   ],
   "source": [
    "plt.plot(result.history[\"loss\"])\n",
    "plt.plot(result.history[\"val_loss\"])"
   ]
  }
 ],
 "metadata": {
  "kernelspec": {
   "display_name": "projet_S5",
   "language": "python",
   "name": "projet_s5"
  },
  "language_info": {
   "codemirror_mode": {
    "name": "ipython",
    "version": 3
   },
   "file_extension": ".py",
   "mimetype": "text/x-python",
   "name": "python",
   "nbconvert_exporter": "python",
   "pygments_lexer": "ipython3",
   "version": "3.6.7"
  },
  "toc": {
   "base_numbering": 1,
   "nav_menu": {},
   "number_sections": true,
   "sideBar": true,
   "skip_h1_title": false,
   "title_cell": "Table of Contents",
   "title_sidebar": "Contents",
   "toc_cell": false,
   "toc_position": {},
   "toc_section_display": true,
   "toc_window_display": false
  }
 },
 "nbformat": 4,
 "nbformat_minor": 2
}
