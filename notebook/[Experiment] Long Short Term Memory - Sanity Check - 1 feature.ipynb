{
 "cells": [
  {
   "cell_type": "code",
   "execution_count": 1,
   "metadata": {
    "ExecuteTime": {
     "end_time": "2019-03-13T21:05:36.891373Z",
     "start_time": "2019-03-13T21:05:34.608108Z"
    },
    "scrolled": true
   },
   "outputs": [],
   "source": [
    "# List all device\n",
    "from tensorflow.python.client import device_lib\n",
    "# print(device_lib.list_local_devices())"
   ]
  },
  {
   "cell_type": "code",
   "execution_count": 2,
   "metadata": {
    "ExecuteTime": {
     "end_time": "2019-03-13T21:05:36.983993Z",
     "start_time": "2019-03-13T21:05:36.894783Z"
    },
    "scrolled": true
   },
   "outputs": [
    {
     "name": "stderr",
     "output_type": "stream",
     "text": [
      "Using TensorFlow backend.\n"
     ]
    },
    {
     "data": {
      "text/plain": [
       "[]"
      ]
     },
     "execution_count": 2,
     "metadata": {},
     "output_type": "execute_result"
    }
   ],
   "source": [
    "# Check available GPU\n",
    "from keras import backend as K\n",
    "K.tensorflow_backend._get_available_gpus()"
   ]
  },
  {
   "cell_type": "code",
   "execution_count": 3,
   "metadata": {
    "ExecuteTime": {
     "end_time": "2019-03-13T21:05:36.994714Z",
     "start_time": "2019-03-13T21:05:36.989204Z"
    }
   },
   "outputs": [],
   "source": [
    "import os\n",
    "os.environ[\"CUDA_DEVICE_ORDER\"]=\"PCI_BUS_ID\";\n",
    "# The GPU id to use, usually either \"0\" or \"1\";\n",
    "os.environ[\"CUDA_VISIBLE_DEVICES\"]=\"0\";  "
   ]
  },
  {
   "cell_type": "code",
   "execution_count": 4,
   "metadata": {
    "ExecuteTime": {
     "end_time": "2019-03-13T21:05:37.776013Z",
     "start_time": "2019-03-13T21:05:36.998481Z"
    }
   },
   "outputs": [],
   "source": [
    "# Importing the libraries\n",
    "import numpy as np\n",
    "import pandas as pd\n",
    "from keras.models import Sequential\n",
    "from keras.layers import Dense, LSTM, Dropout, Reshape, Lambda, GRU, BatchNormalization, Bidirectional\n",
    "from keras.preprocessing.sequence import TimeseriesGenerator\n",
    "from keras.callbacks import EarlyStopping, ModelCheckpoint\n",
    "from keras.activations import softmax\n",
    "from keras.optimizers import SGD, RMSprop\n",
    "import math\n",
    "import pickle\n",
    "import matplotlib.pyplot as plt\n",
    "from keras.utils import to_categorical\n",
    "from sklearn.preprocessing import StandardScaler"
   ]
  },
  {
   "cell_type": "code",
   "execution_count": 5,
   "metadata": {
    "ExecuteTime": {
     "end_time": "2019-03-13T21:05:37.803727Z",
     "start_time": "2019-03-13T21:05:37.779623Z"
    }
   },
   "outputs": [],
   "source": [
    "index = \"dowjones\"\n",
    "# index = \"frankfurt\"\n",
    "with open(f\"../data/{index}_calculated/periods750_250_240.txt\", \"rb\") as fp:   # Unpickling\n",
    "    dataset = pickle.load(fp)"
   ]
  },
  {
   "cell_type": "code",
   "execution_count": 6,
   "metadata": {
    "ExecuteTime": {
     "end_time": "2019-03-13T21:05:38.338350Z",
     "start_time": "2019-03-13T21:05:37.807559Z"
    }
   },
   "outputs": [],
   "source": [
    "i = 7\n",
    "timestep = 240\n",
    "feature = 31"
   ]
  },
  {
   "cell_type": "code",
   "execution_count": 7,
   "metadata": {
    "ExecuteTime": {
     "end_time": "2019-03-13T21:05:38.738781Z",
     "start_time": "2019-03-13T21:05:38.341677Z"
    }
   },
   "outputs": [],
   "source": [
    "x_train = dataset[0][i][0].values\n",
    "x_test = dataset[1][i][0].values\n",
    "\n",
    "scaler = StandardScaler().fit(x_train)\n",
    "\n",
    "x_train = scaler.transform(x_train)\n",
    "x_test = scaler.transform(x_test)\n",
    "\n",
    "y_train = to_categorical(dataset[0][i][1].values, 2)\n",
    "y_test = to_categorical(dataset[1][i][1].values, 2)"
   ]
  },
  {
   "cell_type": "code",
   "execution_count": 8,
   "metadata": {
    "ExecuteTime": {
     "end_time": "2019-03-13T21:05:38.804962Z",
     "start_time": "2019-03-13T21:05:38.742662Z"
    }
   },
   "outputs": [
    {
     "name": "stdout",
     "output_type": "stream",
     "text": [
      "x train shape: (750, 31)\n",
      "y train shape: (750, 31, 2)\n",
      "x test shape: (490, 31)\n",
      "y test shape: (490, 31, 2)\n"
     ]
    }
   ],
   "source": [
    "print(f\"x train shape: {x_train.shape}\")\n",
    "print(f\"y train shape: {y_train.shape}\")\n",
    "print(f\"x test shape: {x_test.shape}\")\n",
    "print(f\"y test shape: {y_test.shape}\")"
   ]
  },
  {
   "cell_type": "code",
   "execution_count": 9,
   "metadata": {
    "ExecuteTime": {
     "end_time": "2019-03-13T21:05:38.925808Z",
     "start_time": "2019-03-13T21:05:38.808692Z"
    }
   },
   "outputs": [
    {
     "name": "stdout",
     "output_type": "stream",
     "text": [
      "x shape: (15779, 240)\n",
      "y shape: (15779, 2)\n"
     ]
    }
   ],
   "source": [
    "x_series = [x_train[i:i+timestep, j] for i in range(1, x_train.shape[0] - timestep) for j in range(feature)]\n",
    "y_series = [y_train[i+timestep, j] for i in range(y_train.shape[0] - timestep - 1) for j in range(feature)]\n",
    "x = np.array(x_series)\n",
    "y = np.array(y_series)\n",
    "print(f\"x shape: {x.shape}\")\n",
    "print(f\"y shape: {y.shape}\")"
   ]
  },
  {
   "cell_type": "code",
   "execution_count": 10,
   "metadata": {
    "ExecuteTime": {
     "end_time": "2019-03-13T21:05:39.296108Z",
     "start_time": "2019-03-13T21:05:38.929676Z"
    }
   },
   "outputs": [
    {
     "name": "stdout",
     "output_type": "stream",
     "text": [
      "x1 shape: (7719, 240)\n",
      "y1 shape: (7719, 2)\n"
     ]
    }
   ],
   "source": [
    "x_series1 = [x_test[i:i+timestep, j] for i in range(1, x_test.shape[0] - timestep) for j in range(feature)]\n",
    "y_series1 = [y_test[i+timestep, j] for i in range(y_test.shape[0] - timestep - 1) for j in range(feature)]\n",
    "x1 = np.array(x_series1)\n",
    "y1 = np.array(y_series1)\n",
    "print(f\"x1 shape: {x1.shape}\")\n",
    "print(f\"y1 shape: {y1.shape}\")"
   ]
  },
  {
   "cell_type": "code",
   "execution_count": 11,
   "metadata": {
    "ExecuteTime": {
     "end_time": "2019-03-13T21:05:39.968613Z",
     "start_time": "2019-03-13T21:05:39.299798Z"
    }
   },
   "outputs": [],
   "source": [
    "x = np.reshape(x, (x.shape[0], x.shape[1], 1))\n",
    "x1 = np.reshape(x1, (x1.shape[0], x1.shape[1], 1))"
   ]
  },
  {
   "cell_type": "code",
   "execution_count": 12,
   "metadata": {
    "ExecuteTime": {
     "end_time": "2019-03-13T21:05:40.547246Z",
     "start_time": "2019-03-13T21:05:39.971435Z"
    }
   },
   "outputs": [
    {
     "name": "stdout",
     "output_type": "stream",
     "text": [
      "_________________________________________________________________\n",
      "Layer (type)                 Output Shape              Param #   \n",
      "=================================================================\n",
      "lstm_1 (LSTM)                (None, 25)                2700      \n",
      "_________________________________________________________________\n",
      "dense_1 (Dense)              (None, 2)                 52        \n",
      "=================================================================\n",
      "Total params: 2,752\n",
      "Trainable params: 2,752\n",
      "Non-trainable params: 0\n",
      "_________________________________________________________________\n"
     ]
    }
   ],
   "source": [
    "regressor = Sequential()\n",
    "regressor.add(LSTM(units=25, input_shape=(timestep, 1)))\n",
    "# regressor.add(Dense(feature * 2, activation='relu'))\n",
    "# regressor.add(Reshape((feature, 2)))\n",
    "# regressor.add(Lambda(lambda x: softmax(x, axis=-1)))\n",
    "regressor.add(Dense(2, activation='softmax'))\n",
    "regressor.compile(loss='binary_crossentropy',\n",
    "                  optimizer='rmsprop',\n",
    "                  metrics=['accuracy'])\n",
    "regressor.summary()"
   ]
  },
  {
   "cell_type": "code",
   "execution_count": 13,
   "metadata": {
    "ExecuteTime": {
     "end_time": "2019-03-13T21:09:22.356251Z",
     "start_time": "2019-03-13T21:05:40.551020Z"
    }
   },
   "outputs": [
    {
     "name": "stdout",
     "output_type": "stream",
     "text": [
      "Train on 15779 samples, validate on 7719 samples\n",
      "Epoch 1/1000\n",
      "15779/15779 [==============================] - 9s 579us/step - loss: 0.6758 - acc: 0.6544 - val_loss: 0.6641 - val_acc: 0.6533\n",
      "Epoch 2/1000\n",
      "15779/15779 [==============================] - 8s 535us/step - loss: 0.6576 - acc: 0.6581 - val_loss: 0.6396 - val_acc: 0.6746\n",
      "Epoch 3/1000\n",
      "15779/15779 [==============================] - 9s 542us/step - loss: 0.6162 - acc: 0.6938 - val_loss: 0.5934 - val_acc: 0.7264\n",
      "Epoch 4/1000\n",
      "15779/15779 [==============================] - 8s 518us/step - loss: 0.5922 - acc: 0.7165 - val_loss: 0.5735 - val_acc: 0.7365\n",
      "Epoch 5/1000\n",
      "15779/15779 [==============================] - 9s 546us/step - loss: 0.5747 - acc: 0.7232 - val_loss: 0.5551 - val_acc: 0.7513\n",
      "Epoch 6/1000\n",
      "15779/15779 [==============================] - 10s 611us/step - loss: 0.5593 - acc: 0.7324 - val_loss: 0.5391 - val_acc: 0.7603\n",
      "Epoch 7/1000\n",
      "15779/15779 [==============================] - 8s 530us/step - loss: 0.5449 - acc: 0.7459 - val_loss: 0.5266 - val_acc: 0.7628\n",
      "Epoch 8/1000\n",
      "15779/15779 [==============================] - 9s 542us/step - loss: 0.5358 - acc: 0.7502 - val_loss: 0.5183 - val_acc: 0.7662\n",
      "Epoch 9/1000\n",
      "15779/15779 [==============================] - 9s 540us/step - loss: 0.5300 - acc: 0.7484 - val_loss: 0.5140 - val_acc: 0.7663\n",
      "Epoch 10/1000\n",
      "15779/15779 [==============================] - 8s 526us/step - loss: 0.5277 - acc: 0.7492 - val_loss: 0.5139 - val_acc: 0.7637\n",
      "Epoch 11/1000\n",
      "15779/15779 [==============================] - 9s 561us/step - loss: 0.5256 - acc: 0.7491 - val_loss: 0.5116 - val_acc: 0.7669\n",
      "Epoch 12/1000\n",
      "15779/15779 [==============================] - 7s 424us/step - loss: 0.5238 - acc: 0.7506 - val_loss: 0.5121 - val_acc: 0.7662\n",
      "Epoch 13/1000\n",
      "15779/15779 [==============================] - 7s 470us/step - loss: 0.5225 - acc: 0.7494 - val_loss: 0.5117 - val_acc: 0.7660\n",
      "Epoch 14/1000\n",
      "15779/15779 [==============================] - 8s 518us/step - loss: 0.5203 - acc: 0.7500 - val_loss: 0.5144 - val_acc: 0.7650\n",
      "Epoch 15/1000\n",
      "15779/15779 [==============================] - 9s 539us/step - loss: 0.5193 - acc: 0.7502 - val_loss: 0.5099 - val_acc: 0.7660\n",
      "Epoch 16/1000\n",
      "15779/15779 [==============================] - 10s 605us/step - loss: 0.5182 - acc: 0.7513 - val_loss: 0.5105 - val_acc: 0.7651\n",
      "Epoch 17/1000\n",
      "15779/15779 [==============================] - 9s 597us/step - loss: 0.5176 - acc: 0.7497 - val_loss: 0.5107 - val_acc: 0.7659\n",
      "Epoch 18/1000\n",
      "15779/15779 [==============================] - 9s 582us/step - loss: 0.5162 - acc: 0.7491 - val_loss: 0.5152 - val_acc: 0.7619\n",
      "Epoch 19/1000\n",
      "15779/15779 [==============================] - 10s 612us/step - loss: 0.5154 - acc: 0.7501 - val_loss: 0.5103 - val_acc: 0.7660\n",
      "Epoch 20/1000\n",
      "15779/15779 [==============================] - 9s 560us/step - loss: 0.5150 - acc: 0.7526 - val_loss: 0.5104 - val_acc: 0.7659\n",
      "Epoch 21/1000\n",
      "15779/15779 [==============================] - 9s 572us/step - loss: 0.5143 - acc: 0.7514 - val_loss: 0.5110 - val_acc: 0.7647\n",
      "Epoch 22/1000\n",
      "15779/15779 [==============================] - 8s 512us/step - loss: 0.5144 - acc: 0.7494 - val_loss: 0.5101 - val_acc: 0.7656\n",
      "Epoch 23/1000\n",
      "15779/15779 [==============================] - 9s 587us/step - loss: 0.5136 - acc: 0.7507 - val_loss: 0.5172 - val_acc: 0.7634\n",
      "Epoch 24/1000\n",
      "15779/15779 [==============================] - 10s 632us/step - loss: 0.5142 - acc: 0.7511 - val_loss: 0.5113 - val_acc: 0.7645\n",
      "Epoch 25/1000\n",
      "15779/15779 [==============================] - 11s 699us/step - loss: 0.5130 - acc: 0.7499 - val_loss: 0.5116 - val_acc: 0.7624\n"
     ]
    }
   ],
   "source": [
    "# result = regressor.fit_generator(train_gen, steps_per_epoch=len(train_gen), epochs=1000)\n",
    "result = regressor.fit(x, y,batch_size=1000, epochs=1000, validation_data=(x1, y1), callbacks = [EarlyStopping(monitor='val_loss', mode='min', patience=10),\n",
    "             ModelCheckpoint(filepath='best_model.h5', monitor='val_acc', save_best_only=True)])"
   ]
  },
  {
   "cell_type": "code",
   "execution_count": 14,
   "metadata": {
    "ExecuteTime": {
     "end_time": "2019-03-13T21:09:22.650812Z",
     "start_time": "2019-03-13T21:09:22.360259Z"
    }
   },
   "outputs": [
    {
     "data": {
      "text/plain": [
       "[<matplotlib.lines.Line2D at 0x7f4b09130f28>]"
      ]
     },
     "execution_count": 14,
     "metadata": {},
     "output_type": "execute_result"
    },
    {
     "data": {
      "image/png": "[encoded data removed]",
      "text/plain": [
       "<Figure size 432x288 with 1 Axes>"
      ]
     },
     "metadata": {
      "needs_background": "light"
     },
     "output_type": "display_data"
    }
   ],
   "source": [
    "plt.plot(result.history[\"acc\"], label='sine')\n",
    "plt.plot(result.history[\"val_acc\"])"
   ]
  },
  {
   "cell_type": "code",
   "execution_count": 15,
   "metadata": {
    "ExecuteTime": {
     "end_time": "2019-03-13T21:09:22.938049Z",
     "start_time": "2019-03-13T21:09:22.655026Z"
    }
   },
   "outputs": [
    {
     "data": {
      "text/plain": [
       "[<matplotlib.lines.Line2D at 0x7f4b092d8da0>]"
      ]
     },
     "execution_count": 15,
     "metadata": {},
     "output_type": "execute_result"
    },
    {
     "data": {
      "image/png": "[encoded data removed]",
      "text/plain": [
       "<Figure size 432x288 with 1 Axes>"
      ]
     },
     "metadata": {
      "needs_background": "light"
     },
     "output_type": "display_data"
    }
   ],
   "source": [
    "plt.plot(result.history[\"loss\"])\n",
    "plt.plot(result.history[\"val_loss\"])"
   ]
  }
 ],
 "metadata": {
  "kernelspec": {
   "display_name": "projet_S5",
   "language": "python",
   "name": "projet_s5"
  },
  "language_info": {
   "codemirror_mode": {
    "name": "ipython",
    "version": 3
   },
   "file_extension": ".py",
   "mimetype": "text/x-python",
   "name": "python",
   "nbconvert_exporter": "python",
   "pygments_lexer": "ipython3",
   "version": "3.6.7"
  },
  "toc": {
   "base_numbering": 1,
   "nav_menu": {},
   "number_sections": true,
   "sideBar": true,
   "skip_h1_title": false,
   "title_cell": "Table of Contents",
   "title_sidebar": "Contents",
   "toc_cell": false,
   "toc_position": {},
   "toc_section_display": true,
   "toc_window_display": false
  }
 },
 "nbformat": 4,
 "nbformat_minor": 2
}
