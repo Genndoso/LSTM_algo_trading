{
 "cells": [
  {
   "cell_type": "code",
   "execution_count": 1,
   "metadata": {
    "ExecuteTime": {
     "end_time": "2019-03-10T15:56:38.305610Z",
     "start_time": "2019-03-10T15:56:37.327539Z"
    },
    "scrolled": true
   },
   "outputs": [],
   "source": [
    "# List all device\n",
    "from tensorflow.python.client import device_lib\n",
    "# print(device_lib.list_local_devices())"
   ]
  },
  {
   "cell_type": "code",
   "execution_count": 2,
   "metadata": {
    "ExecuteTime": {
     "end_time": "2019-03-10T15:56:38.661090Z",
     "start_time": "2019-03-10T15:56:38.307599Z"
    },
    "scrolled": true
   },
   "outputs": [
    {
     "name": "stderr",
     "output_type": "stream",
     "text": [
      "Using TensorFlow backend.\n"
     ]
    },
    {
     "data": {
      "text/plain": [
       "['/job:localhost/replica:0/task:0/device:GPU:0']"
      ]
     },
     "execution_count": 2,
     "metadata": {},
     "output_type": "execute_result"
    }
   ],
   "source": [
    "# Check available GPU\n",
    "from keras import backend as K\n",
    "K.tensorflow_backend._get_available_gpus()"
   ]
  },
  {
   "cell_type": "code",
   "execution_count": 3,
   "metadata": {
    "ExecuteTime": {
     "end_time": "2019-03-10T15:56:39.406132Z",
     "start_time": "2019-03-10T15:56:38.662308Z"
    }
   },
   "outputs": [],
   "source": [
    "import os\n",
    "os.environ[\"CUDA_DEVICE_ORDER\"]=\"PCI_BUS_ID\";\n",
    "# The GPU id to use, usually either \"0\" or \"1\";\n",
    "os.environ[\"CUDA_VISIBLE_DEVICES\"]=\"0\";  "
   ]
  },
  {
   "cell_type": "code",
   "execution_count": 4,
   "metadata": {
    "ExecuteTime": {
     "end_time": "2019-03-10T15:56:39.797693Z",
     "start_time": "2019-03-10T15:56:39.415483Z"
    }
   },
   "outputs": [],
   "source": [
    "# Importing the libraries\n",
    "import numpy as np\n",
    "import pandas as pd\n",
    "from keras.models import Sequential\n",
    "from keras.layers import Dense, LSTM, Dropout, Reshape, Lambda, GRU, BatchNormalization, Bidirectional\n",
    "from keras.preprocessing.sequence import TimeseriesGenerator\n",
    "from keras.callbacks import EarlyStopping, ModelCheckpoint\n",
    "from keras.activations import softmax\n",
    "from keras.optimizers import SGD, RMSprop\n",
    "import math\n",
    "import pickle\n",
    "import matplotlib.pyplot as plt\n",
    "from keras.utils import to_categorical\n",
    "from sklearn.preprocessing import StandardScaler"
   ]
  },
  {
   "cell_type": "code",
   "execution_count": 5,
   "metadata": {
    "ExecuteTime": {
     "end_time": "2019-03-10T15:56:39.813751Z",
     "start_time": "2019-03-10T15:56:39.799791Z"
    }
   },
   "outputs": [],
   "source": [
    "index = \"dowjones\"\n",
    "# index = \"frankfurt\"\n",
    "with open(f\"../data/{index}_calculated/periods750_250_240.txt\", \"rb\") as fp:   # Unpickling\n",
    "    dataset = pickle.load(fp)"
   ]
  },
  {
   "cell_type": "code",
   "execution_count": 6,
   "metadata": {
    "ExecuteTime": {
     "end_time": "2019-03-10T15:56:39.869629Z",
     "start_time": "2019-03-10T15:56:39.815037Z"
    }
   },
   "outputs": [],
   "source": [
    "i = 7\n",
    "timestep = 240\n",
    "feature = 31"
   ]
  },
  {
   "cell_type": "code",
   "execution_count": 7,
   "metadata": {
    "ExecuteTime": {
     "end_time": "2019-03-10T15:56:39.973596Z",
     "start_time": "2019-03-10T15:56:39.871329Z"
    }
   },
   "outputs": [],
   "source": [
    "x_train = dataset[0][i][0].values\n",
    "x_test = dataset[1][i][0].values\n",
    "\n",
    "scaler = StandardScaler().fit(x_train)\n",
    "\n",
    "x_train = scaler.transform(x_train)\n",
    "x_test = scaler.transform(x_test)\n",
    "\n",
    "y_train = to_categorical(dataset[0][i][1].values, 2)\n",
    "y_test = to_categorical(dataset[1][i][1].values, 2)"
   ]
  },
  {
   "cell_type": "code",
   "execution_count": 8,
   "metadata": {
    "ExecuteTime": {
     "end_time": "2019-03-10T15:56:40.010105Z",
     "start_time": "2019-03-10T15:56:39.977047Z"
    }
   },
   "outputs": [
    {
     "name": "stdout",
     "output_type": "stream",
     "text": [
      "x train shape: (750, 31)\n",
      "y train shape: (750, 31, 2)\n",
      "x test shape: (490, 31)\n",
      "y test shape: (490, 31, 2)\n"
     ]
    }
   ],
   "source": [
    "print(f\"x train shape: {x_train.shape}\")\n",
    "print(f\"y train shape: {y_train.shape}\")\n",
    "print(f\"x test shape: {x_test.shape}\")\n",
    "print(f\"y test shape: {y_test.shape}\")"
   ]
  },
  {
   "cell_type": "code",
   "execution_count": 9,
   "metadata": {
    "ExecuteTime": {
     "end_time": "2019-03-10T15:56:40.109080Z",
     "start_time": "2019-03-10T15:56:40.015693Z"
    }
   },
   "outputs": [
    {
     "name": "stdout",
     "output_type": "stream",
     "text": [
      "x shape: (15779, 240)\n",
      "y shape: (15779, 2)\n"
     ]
    }
   ],
   "source": [
    "x_series = [x_train[i:i+timestep, j] for i in range(1, x_train.shape[0] - timestep) for j in range(feature)]\n",
    "y_series = [y_train[i+timestep, j] for i in range(y_train.shape[0] - timestep - 1) for j in range(feature)]\n",
    "x = np.array(x_series)\n",
    "y = np.array(y_series)\n",
    "print(f\"x shape: {x.shape}\")\n",
    "print(f\"y shape: {y.shape}\")"
   ]
  },
  {
   "cell_type": "code",
   "execution_count": 10,
   "metadata": {
    "ExecuteTime": {
     "end_time": "2019-03-10T15:56:40.193319Z",
     "start_time": "2019-03-10T15:56:40.110408Z"
    }
   },
   "outputs": [
    {
     "name": "stdout",
     "output_type": "stream",
     "text": [
      "x1 shape: (7719, 240)\n",
      "y1 shape: (7719, 2)\n"
     ]
    }
   ],
   "source": [
    "x_series1 = [x_test[i:i+timestep, j] for i in range(1, x_test.shape[0] - timestep) for j in range(feature)]\n",
    "y_series1 = [y_test[i+timestep, j] for i in range(y_test.shape[0] - timestep - 1) for j in range(feature)]\n",
    "x1 = np.array(x_series1)\n",
    "y1 = np.array(y_series1)\n",
    "print(f\"x1 shape: {x1.shape}\")\n",
    "print(f\"y1 shape: {y1.shape}\")"
   ]
  },
  {
   "cell_type": "code",
   "execution_count": 11,
   "metadata": {
    "ExecuteTime": {
     "end_time": "2019-03-10T15:56:40.261230Z",
     "start_time": "2019-03-10T15:56:40.195044Z"
    }
   },
   "outputs": [],
   "source": [
    "x = np.reshape(x, (x.shape[0], x.shape[1], 1))\n",
    "x1 = np.reshape(x1, (x1.shape[0], x1.shape[1], 1))"
   ]
  },
  {
   "cell_type": "code",
   "execution_count": 12,
   "metadata": {
    "ExecuteTime": {
     "end_time": "2019-03-10T15:56:40.524433Z",
     "start_time": "2019-03-10T15:56:40.266537Z"
    }
   },
   "outputs": [
    {
     "name": "stdout",
     "output_type": "stream",
     "text": [
      "_________________________________________________________________\n",
      "Layer (type)                 Output Shape              Param #   \n",
      "=================================================================\n",
      "lstm_1 (LSTM)                (None, 25)                2700      \n",
      "_________________________________________________________________\n",
      "dense_1 (Dense)              (None, 2)                 52        \n",
      "=================================================================\n",
      "Total params: 2,752\n",
      "Trainable params: 2,752\n",
      "Non-trainable params: 0\n",
      "_________________________________________________________________\n"
     ]
    }
   ],
   "source": [
    "regressor = Sequential()\n",
    "regressor.add(LSTM(units=25, input_shape=(timestep, 1)))\n",
    "# regressor.add(Dense(feature * 2, activation='relu'))\n",
    "# regressor.add(Reshape((feature, 2)))\n",
    "# regressor.add(Lambda(lambda x: softmax(x, axis=-1)))\n",
    "regressor.add(Dense(2, activation='softmax'))\n",
    "regressor.compile(loss='binary_crossentropy',\n",
    "                  optimizer='rmsprop',\n",
    "                  metrics=['accuracy'])\n",
    "regressor.summary()"
   ]
  },
  {
   "cell_type": "code",
   "execution_count": 13,
   "metadata": {
    "ExecuteTime": {
     "end_time": "2019-03-10T15:59:25.409681Z",
     "start_time": "2019-03-10T15:56:40.526189Z"
    }
   },
   "outputs": [
    {
     "name": "stdout",
     "output_type": "stream",
     "text": [
      "Train on 15779 samples, validate on 7719 samples\n",
      "Epoch 1/1000\n",
      "15779/15779 [==============================] - 4s 255us/step - loss: 0.6882 - acc: 0.5572 - val_loss: 0.6763 - val_acc: 0.6414\n",
      "Epoch 2/1000\n",
      "15779/15779 [==============================] - 3s 214us/step - loss: 0.6669 - acc: 0.6571 - val_loss: 0.6448 - val_acc: 0.6502\n",
      "Epoch 3/1000\n",
      "15779/15779 [==============================] - 3s 210us/step - loss: 0.6314 - acc: 0.6915 - val_loss: 0.6113 - val_acc: 0.7250\n",
      "Epoch 4/1000\n",
      "15779/15779 [==============================] - 4s 228us/step - loss: 0.6071 - acc: 0.7155 - val_loss: 0.5892 - val_acc: 0.7471\n",
      "Epoch 5/1000\n",
      "15779/15779 [==============================] - 4s 232us/step - loss: 0.5876 - acc: 0.7281 - val_loss: 0.5696 - val_acc: 0.7453\n",
      "Epoch 6/1000\n",
      "15779/15779 [==============================] - 3s 213us/step - loss: 0.5702 - acc: 0.7355 - val_loss: 0.5522 - val_acc: 0.7611\n",
      "Epoch 7/1000\n",
      "15779/15779 [==============================] - 3s 207us/step - loss: 0.5552 - acc: 0.7445 - val_loss: 0.5386 - val_acc: 0.7619\n",
      "Epoch 8/1000\n",
      "15779/15779 [==============================] - 3s 208us/step - loss: 0.5436 - acc: 0.7462 - val_loss: 0.5269 - val_acc: 0.7658\n",
      "Epoch 9/1000\n",
      "15779/15779 [==============================] - 3s 206us/step - loss: 0.5355 - acc: 0.7472 - val_loss: 0.5210 - val_acc: 0.7610\n",
      "Epoch 10/1000\n",
      "15779/15779 [==============================] - 3s 212us/step - loss: 0.5309 - acc: 0.7502 - val_loss: 0.5155 - val_acc: 0.7638\n",
      "Epoch 11/1000\n",
      "15779/15779 [==============================] - 3s 209us/step - loss: 0.5281 - acc: 0.7515 - val_loss: 0.5130 - val_acc: 0.7662\n",
      "Epoch 12/1000\n",
      "15779/15779 [==============================] - 3s 210us/step - loss: 0.5269 - acc: 0.7475 - val_loss: 0.5119 - val_acc: 0.7667\n",
      "Epoch 13/1000\n",
      "15779/15779 [==============================] - 3s 208us/step - loss: 0.5255 - acc: 0.7497 - val_loss: 0.5115 - val_acc: 0.7664\n",
      "Epoch 14/1000\n",
      "15779/15779 [==============================] - 3s 216us/step - loss: 0.5251 - acc: 0.7487 - val_loss: 0.5113 - val_acc: 0.7653\n",
      "Epoch 15/1000\n",
      "15779/15779 [==============================] - 4s 231us/step - loss: 0.5243 - acc: 0.7504 - val_loss: 0.5111 - val_acc: 0.7654\n",
      "Epoch 16/1000\n",
      "15779/15779 [==============================] - 4s 226us/step - loss: 0.5236 - acc: 0.7499 - val_loss: 0.5112 - val_acc: 0.7625\n",
      "Epoch 17/1000\n",
      "15779/15779 [==============================] - 4s 224us/step - loss: 0.5223 - acc: 0.7509 - val_loss: 0.5108 - val_acc: 0.7638\n",
      "Epoch 18/1000\n",
      "15779/15779 [==============================] - 3s 221us/step - loss: 0.5221 - acc: 0.7481 - val_loss: 0.5133 - val_acc: 0.7594\n",
      "Epoch 19/1000\n",
      "15779/15779 [==============================] - 3s 214us/step - loss: 0.5214 - acc: 0.7484 - val_loss: 0.5113 - val_acc: 0.7636\n",
      "Epoch 20/1000\n",
      "15779/15779 [==============================] - 3s 211us/step - loss: 0.5201 - acc: 0.7514 - val_loss: 0.5112 - val_acc: 0.7633\n",
      "Epoch 21/1000\n",
      "15779/15779 [==============================] - 4s 222us/step - loss: 0.5198 - acc: 0.7499 - val_loss: 0.5109 - val_acc: 0.7628\n",
      "Epoch 22/1000\n",
      "15779/15779 [==============================] - 4s 225us/step - loss: 0.5190 - acc: 0.7505 - val_loss: 0.5130 - val_acc: 0.7646\n",
      "Epoch 23/1000\n",
      "15779/15779 [==============================] - 3s 211us/step - loss: 0.5181 - acc: 0.7495 - val_loss: 0.5110 - val_acc: 0.7629\n",
      "Epoch 24/1000\n",
      "15779/15779 [==============================] - 3s 209us/step - loss: 0.5181 - acc: 0.7509 - val_loss: 0.5103 - val_acc: 0.7643\n",
      "Epoch 25/1000\n",
      "15779/15779 [==============================] - 3s 209us/step - loss: 0.5168 - acc: 0.7505 - val_loss: 0.5102 - val_acc: 0.7621\n",
      "Epoch 26/1000\n",
      "15779/15779 [==============================] - 3s 211us/step - loss: 0.5166 - acc: 0.7504 - val_loss: 0.5117 - val_acc: 0.7638\n",
      "Epoch 27/1000\n",
      "15779/15779 [==============================] - 3s 220us/step - loss: 0.5160 - acc: 0.7510 - val_loss: 0.5100 - val_acc: 0.7641\n",
      "Epoch 28/1000\n",
      "15779/15779 [==============================] - 3s 209us/step - loss: 0.5152 - acc: 0.7528 - val_loss: 0.5097 - val_acc: 0.7640\n",
      "Epoch 29/1000\n",
      "15779/15779 [==============================] - 3s 210us/step - loss: 0.5151 - acc: 0.7512 - val_loss: 0.5094 - val_acc: 0.7646\n",
      "Epoch 30/1000\n",
      "15779/15779 [==============================] - 3s 220us/step - loss: 0.5140 - acc: 0.7517 - val_loss: 0.5093 - val_acc: 0.7641\n",
      "Epoch 31/1000\n",
      "15779/15779 [==============================] - 3s 221us/step - loss: 0.5140 - acc: 0.7524 - val_loss: 0.5090 - val_acc: 0.7655\n",
      "Epoch 32/1000\n",
      "15779/15779 [==============================] - 3s 221us/step - loss: 0.5136 - acc: 0.7516 - val_loss: 0.5092 - val_acc: 0.7645\n",
      "Epoch 33/1000\n",
      "15779/15779 [==============================] - 3s 215us/step - loss: 0.5127 - acc: 0.7517 - val_loss: 0.5099 - val_acc: 0.7641\n",
      "Epoch 34/1000\n",
      "15779/15779 [==============================] - 4s 235us/step - loss: 0.5127 - acc: 0.7521 - val_loss: 0.5093 - val_acc: 0.7645\n",
      "Epoch 35/1000\n",
      "15779/15779 [==============================] - 3s 212us/step - loss: 0.5123 - acc: 0.7513 - val_loss: 0.5099 - val_acc: 0.7658\n",
      "Epoch 36/1000\n",
      "15779/15779 [==============================] - 3s 216us/step - loss: 0.5122 - acc: 0.7511 - val_loss: 0.5103 - val_acc: 0.7629\n",
      "Epoch 37/1000\n",
      "15779/15779 [==============================] - 3s 218us/step - loss: 0.5112 - acc: 0.7541 - val_loss: 0.5096 - val_acc: 0.7624\n",
      "Epoch 38/1000\n",
      "15779/15779 [==============================] - 3s 213us/step - loss: 0.5113 - acc: 0.7524 - val_loss: 0.5090 - val_acc: 0.7633\n",
      "Epoch 39/1000\n",
      "15779/15779 [==============================] - 3s 215us/step - loss: 0.5115 - acc: 0.7531 - val_loss: 0.5093 - val_acc: 0.7647\n",
      "Epoch 40/1000\n",
      "15779/15779 [==============================] - 3s 218us/step - loss: 0.5110 - acc: 0.7529 - val_loss: 0.5120 - val_acc: 0.7647\n",
      "Epoch 41/1000\n",
      "15779/15779 [==============================] - 3s 215us/step - loss: 0.5108 - acc: 0.7530 - val_loss: 0.5101 - val_acc: 0.7656\n",
      "Epoch 42/1000\n",
      "15779/15779 [==============================] - 3s 209us/step - loss: 0.5106 - acc: 0.7529 - val_loss: 0.5098 - val_acc: 0.7662\n",
      "Epoch 43/1000\n",
      "15779/15779 [==============================] - 3s 210us/step - loss: 0.5101 - acc: 0.7532 - val_loss: 0.5101 - val_acc: 0.7658\n",
      "Epoch 44/1000\n",
      "15779/15779 [==============================] - 3s 209us/step - loss: 0.5105 - acc: 0.7520 - val_loss: 0.5100 - val_acc: 0.7629\n",
      "Epoch 45/1000\n",
      "15779/15779 [==============================] - 3s 214us/step - loss: 0.5098 - acc: 0.7530 - val_loss: 0.5098 - val_acc: 0.7645\n",
      "Epoch 46/1000\n",
      "15779/15779 [==============================] - 3s 213us/step - loss: 0.5097 - acc: 0.7532 - val_loss: 0.5105 - val_acc: 0.7663\n",
      "Epoch 47/1000\n",
      "15779/15779 [==============================] - 3s 217us/step - loss: 0.5096 - acc: 0.7526 - val_loss: 0.5108 - val_acc: 0.7646\n",
      "Epoch 48/1000\n",
      "15779/15779 [==============================] - 4s 228us/step - loss: 0.5097 - acc: 0.7539 - val_loss: 0.5108 - val_acc: 0.7637\n"
     ]
    }
   ],
   "source": [
    "# result = regressor.fit_generator(train_gen, steps_per_epoch=len(train_gen), epochs=1000)\n",
    "result = regressor.fit(x, y,batch_size=1000, epochs=1000, validation_data=(x1, y1), callbacks = [EarlyStopping(monitor='val_loss', mode='min', patience=10),\n",
    "             ModelCheckpoint(filepath='best_model.h5', monitor='val_acc', save_best_only=True)])"
   ]
  },
  {
   "cell_type": "code",
   "execution_count": 14,
   "metadata": {
    "ExecuteTime": {
     "end_time": "2019-03-10T15:59:25.540283Z",
     "start_time": "2019-03-10T15:59:25.411505Z"
    }
   },
   "outputs": [
    {
     "data": {
      "text/plain": [
       "[<matplotlib.lines.Line2D at 0x7fa7103e7b70>]"
      ]
     },
     "execution_count": 14,
     "metadata": {},
     "output_type": "execute_result"
    },
    {
     "data": {
      "image/png": "[encoded data removed]",
      "text/plain": [
       "<Figure size 432x288 with 1 Axes>"
      ]
     },
     "metadata": {
      "needs_background": "light"
     },
     "output_type": "display_data"
    }
   ],
   "source": [
    "plt.plot(result.history[\"acc\"])\n",
    "plt.plot(result.history[\"val_acc\"])"
   ]
  },
  {
   "cell_type": "code",
   "execution_count": 15,
   "metadata": {
    "ExecuteTime": {
     "end_time": "2019-03-10T15:59:26.777741Z",
     "start_time": "2019-03-10T15:59:25.542185Z"
    }
   },
   "outputs": [
    {
     "data": {
      "text/plain": [
       "[<matplotlib.lines.Line2D at 0x7fa6e0149a90>]"
      ]
     },
     "execution_count": 15,
     "metadata": {},
     "output_type": "execute_result"
    },
    {
     "data": {
      "image/png": "[encoded data removed]",
      "text/plain": [
       "<Figure size 432x288 with 1 Axes>"
      ]
     },
     "metadata": {
      "needs_background": "light"
     },
     "output_type": "display_data"
    }
   ],
   "source": [
    "plt.plot(result.history[\"loss\"])\n",
    "plt.plot(result.history[\"val_loss\"])"
   ]
  }
 ],
 "metadata": {
  "kernelspec": {
   "display_name": "projet_S5",
   "language": "python",
   "name": "projet_s5"
  },
  "language_info": {
   "codemirror_mode": {
    "name": "ipython",
    "version": 3
   },
   "file_extension": ".py",
   "mimetype": "text/x-python",
   "name": "python",
   "nbconvert_exporter": "python",
   "pygments_lexer": "ipython3",
   "version": "3.6.7"
  },
  "toc": {
   "base_numbering": 1,
   "nav_menu": {},
   "number_sections": true,
   "sideBar": true,
   "skip_h1_title": false,
   "title_cell": "Table of Contents",
   "title_sidebar": "Contents",
   "toc_cell": false,
   "toc_position": {},
   "toc_section_display": true,
   "toc_window_display": false
  }
 },
 "nbformat": 4,
 "nbformat_minor": 2
}
