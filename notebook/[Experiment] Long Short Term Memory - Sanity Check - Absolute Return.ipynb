{
 "cells": [
  {
   "cell_type": "code",
   "execution_count": 1,
   "metadata": {
    "ExecuteTime": {
     "end_time": "2019-03-10T17:28:26.711023Z",
     "start_time": "2019-03-10T17:28:25.737336Z"
    },
    "scrolled": true
   },
   "outputs": [],
   "source": [
    "# List all device\n",
    "from tensorflow.python.client import device_lib\n",
    "# print(device_lib.list_local_devices())"
   ]
  },
  {
   "cell_type": "code",
   "execution_count": 2,
   "metadata": {
    "ExecuteTime": {
     "end_time": "2019-03-10T17:28:26.761446Z",
     "start_time": "2019-03-10T17:28:26.712425Z"
    },
    "scrolled": true
   },
   "outputs": [
    {
     "name": "stderr",
     "output_type": "stream",
     "text": [
      "Using TensorFlow backend.\n"
     ]
    },
    {
     "data": {
      "text/plain": [
       "[]"
      ]
     },
     "execution_count": 2,
     "metadata": {},
     "output_type": "execute_result"
    }
   ],
   "source": [
    "# Check available GPU\n",
    "from keras import backend as K\n",
    "K.tensorflow_backend._get_available_gpus()"
   ]
  },
  {
   "cell_type": "code",
   "execution_count": 3,
   "metadata": {
    "ExecuteTime": {
     "end_time": "2019-03-10T17:28:26.791131Z",
     "start_time": "2019-03-10T17:28:26.763138Z"
    }
   },
   "outputs": [],
   "source": [
    "import os\n",
    "os.environ[\"CUDA_DEVICE_ORDER\"]=\"PCI_BUS_ID\";\n",
    "# The GPU id to use, usually either \"0\" or \"1\";\n",
    "os.environ[\"CUDA_VISIBLE_DEVICES\"]=\"0\";  "
   ]
  },
  {
   "cell_type": "code",
   "execution_count": 4,
   "metadata": {
    "ExecuteTime": {
     "end_time": "2019-03-10T17:28:27.171611Z",
     "start_time": "2019-03-10T17:28:26.793161Z"
    }
   },
   "outputs": [],
   "source": [
    "# Importing the libraries\n",
    "import numpy as np\n",
    "import pandas as pd\n",
    "from keras.models import Sequential\n",
    "from keras.layers import Dense, LSTM, Dropout, Reshape, Lambda, GRU, BatchNormalization, Bidirectional\n",
    "from keras.preprocessing.sequence import TimeseriesGenerator\n",
    "from keras.callbacks import EarlyStopping, ModelCheckpoint\n",
    "from keras.activations import softmax\n",
    "from keras.optimizers import SGD, RMSprop\n",
    "import math\n",
    "import pickle\n",
    "import matplotlib.pyplot as plt\n",
    "from keras.utils import to_categorical\n",
    "from sklearn.preprocessing import StandardScaler"
   ]
  },
  {
   "cell_type": "code",
   "execution_count": 5,
   "metadata": {
    "ExecuteTime": {
     "end_time": "2019-03-10T17:28:27.441759Z",
     "start_time": "2019-03-10T17:28:27.173382Z"
    }
   },
   "outputs": [],
   "source": [
    "index = \"dowjones\"\n",
    "# index = \"frankfurt\"\n",
    "with open(f\"../data/{index}_calculated/absolute_periods750_250_240.txt\", \"rb\") as fp:   # Unpickling\n",
    "    dataset = pickle.load(fp)"
   ]
  },
  {
   "cell_type": "code",
   "execution_count": 6,
   "metadata": {
    "ExecuteTime": {
     "end_time": "2019-03-10T17:28:27.500392Z",
     "start_time": "2019-03-10T17:28:27.447577Z"
    }
   },
   "outputs": [],
   "source": [
    "def calculate_class(returns):\n",
    "    \"\"\"Find the class for each LSTM sequence based on the median returns.\"\"\"\n",
    "    median_returns = returns.median(axis=1)\n",
    "    labels = returns.iloc[:, :].apply(lambda x: np.where\n",
    "                                      (x >= median_returns, 1, 0), axis=0)\n",
    "    return labels"
   ]
  },
  {
   "cell_type": "code",
   "execution_count": 7,
   "metadata": {
    "ExecuteTime": {
     "end_time": "2019-03-10T17:28:27.569543Z",
     "start_time": "2019-03-10T17:28:27.502448Z"
    }
   },
   "outputs": [],
   "source": [
    "i = 7\n",
    "timestep = 240\n",
    "feature = 31"
   ]
  },
  {
   "cell_type": "code",
   "execution_count": 8,
   "metadata": {
    "ExecuteTime": {
     "end_time": "2019-03-10T17:28:27.640410Z",
     "start_time": "2019-03-10T17:28:27.577446Z"
    }
   },
   "outputs": [],
   "source": [
    "x_train = dataset[0][i][0].values\n",
    "x_test = dataset[1][i][0].values\n",
    "\n",
    "scaler = StandardScaler().fit(x_train)\n",
    "\n",
    "x_train = scaler.transform(x_train)\n",
    "x_test = scaler.transform(x_test)\n",
    "\n",
    "y_train = to_categorical(dataset[0][i][1].values, 2)\n",
    "y_test = to_categorical(dataset[1][i][1].values, 2)"
   ]
  },
  {
   "cell_type": "code",
   "execution_count": 9,
   "metadata": {
    "ExecuteTime": {
     "end_time": "2019-03-10T17:28:27.720574Z",
     "start_time": "2019-03-10T17:28:27.643507Z"
    }
   },
   "outputs": [
    {
     "name": "stdout",
     "output_type": "stream",
     "text": [
      "x train shape: (750, 31)\n",
      "y train shape: (750, 31, 2)\n",
      "x test shape: (490, 31)\n",
      "y test shape: (490, 31, 2)\n"
     ]
    }
   ],
   "source": [
    "print(f\"x train shape: {x_train.shape}\")\n",
    "print(f\"y train shape: {y_train.shape}\")\n",
    "print(f\"x test shape: {x_test.shape}\")\n",
    "print(f\"y test shape: {y_test.shape}\")"
   ]
  },
  {
   "cell_type": "code",
   "execution_count": 10,
   "metadata": {
    "ExecuteTime": {
     "end_time": "2019-03-10T17:28:27.798449Z",
     "start_time": "2019-03-10T17:28:27.722383Z"
    }
   },
   "outputs": [
    {
     "name": "stdout",
     "output_type": "stream",
     "text": [
      "x shape: (509, 240, 31)\n",
      "y shape: (509, 31, 2)\n"
     ]
    }
   ],
   "source": [
    "x_series = [x_train[i:i+timestep, :] for i in range(1, x_train.shape[0] - timestep)]\n",
    "y_series = [y_train[i+timestep] for i in range(y_train.shape[0] - timestep - 1)]\n",
    "x = np.array(x_series)\n",
    "y = np.array(y_series)\n",
    "print(f\"x shape: {x.shape}\")\n",
    "print(f\"y shape: {y.shape}\")"
   ]
  },
  {
   "cell_type": "code",
   "execution_count": 11,
   "metadata": {
    "ExecuteTime": {
     "end_time": "2019-03-10T17:28:27.864072Z",
     "start_time": "2019-03-10T17:28:27.799931Z"
    }
   },
   "outputs": [
    {
     "name": "stdout",
     "output_type": "stream",
     "text": [
      "x1 shape: (249, 240, 31)\n",
      "y1 shape: (249, 31, 2)\n"
     ]
    }
   ],
   "source": [
    "x_series1 = [x_test[i:i+timestep, :] for i in range(1, x_test.shape[0] - timestep)]\n",
    "y_series1 = [y_test[i+timestep] for i in range(y_test.shape[0] - timestep - 1)]\n",
    "x1 = np.array(x_series1)\n",
    "y1 = np.array(y_series1)\n",
    "print(f\"x1 shape: {x1.shape}\")\n",
    "print(f\"y1 shape: {y1.shape}\")"
   ]
  },
  {
   "cell_type": "code",
   "execution_count": 12,
   "metadata": {
    "ExecuteTime": {
     "end_time": "2019-03-10T17:28:28.128660Z",
     "start_time": "2019-03-10T17:28:27.865551Z"
    }
   },
   "outputs": [
    {
     "name": "stdout",
     "output_type": "stream",
     "text": [
      "_________________________________________________________________\n",
      "Layer (type)                 Output Shape              Param #   \n",
      "=================================================================\n",
      "lstm_1 (LSTM)                (None, 25)                5700      \n",
      "_________________________________________________________________\n",
      "dense_1 (Dense)              (None, 62)                1612      \n",
      "_________________________________________________________________\n",
      "reshape_1 (Reshape)          (None, 31, 2)             0         \n",
      "_________________________________________________________________\n",
      "dense_2 (Dense)              (None, 31, 2)             6         \n",
      "=================================================================\n",
      "Total params: 7,318\n",
      "Trainable params: 7,318\n",
      "Non-trainable params: 0\n",
      "_________________________________________________________________\n"
     ]
    }
   ],
   "source": [
    "regressor = Sequential()\n",
    "regressor.add(LSTM(units=25, input_shape=(timestep, feature)))\n",
    "regressor.add(Dense(feature * 2, activation='relu'))\n",
    "regressor.add(Reshape((feature, 2)))\n",
    "# regressor.add(Lambda(lambda x: softmax(x, axis=-1)))\n",
    "regressor.add(Dense(2, activation='softmax'))\n",
    "regressor.compile(loss='binary_crossentropy',\n",
    "                  optimizer='rmsprop',\n",
    "                  metrics=['accuracy'])\n",
    "regressor.summary()"
   ]
  },
  {
   "cell_type": "code",
   "execution_count": 13,
   "metadata": {
    "ExecuteTime": {
     "end_time": "2019-03-10T17:31:55.781178Z",
     "start_time": "2019-03-10T17:28:28.130461Z"
    }
   },
   "outputs": [
    {
     "name": "stdout",
     "output_type": "stream",
     "text": [
      "Train on 509 samples, validate on 249 samples\n",
      "Epoch 1/1000\n",
      "509/509 [==============================] - 2s 4ms/step - loss: 0.6911 - acc: 0.5222 - val_loss: 0.6892 - val_acc: 0.5599\n",
      "Epoch 2/1000\n",
      "509/509 [==============================] - 1s 3ms/step - loss: 0.6839 - acc: 0.5974 - val_loss: 0.6817 - val_acc: 0.6093\n",
      "Epoch 3/1000\n",
      "509/509 [==============================] - 1s 3ms/step - loss: 0.6724 - acc: 0.6374 - val_loss: 0.6702 - val_acc: 0.6459\n",
      "Epoch 4/1000\n",
      "509/509 [==============================] - 1s 3ms/step - loss: 0.6574 - acc: 0.6703 - val_loss: 0.6572 - val_acc: 0.6720\n",
      "Epoch 5/1000\n",
      "509/509 [==============================] - 1s 3ms/step - loss: 0.6420 - acc: 0.6884 - val_loss: 0.6444 - val_acc: 0.6884\n",
      "Epoch 6/1000\n",
      "509/509 [==============================] - 1s 3ms/step - loss: 0.6267 - acc: 0.7078 - val_loss: 0.6309 - val_acc: 0.7058\n",
      "Epoch 7/1000\n",
      "509/509 [==============================] - 1s 3ms/step - loss: 0.6118 - acc: 0.7218 - val_loss: 0.6181 - val_acc: 0.7190\n",
      "Epoch 8/1000\n",
      "509/509 [==============================] - 1s 3ms/step - loss: 0.5977 - acc: 0.7342 - val_loss: 0.6054 - val_acc: 0.7270\n",
      "Epoch 9/1000\n",
      "509/509 [==============================] - 1s 3ms/step - loss: 0.5844 - acc: 0.7400 - val_loss: 0.5936 - val_acc: 0.7299\n",
      "Epoch 10/1000\n",
      "509/509 [==============================] - 1s 3ms/step - loss: 0.5723 - acc: 0.7428 - val_loss: 0.5830 - val_acc: 0.7296\n",
      "Epoch 11/1000\n",
      "509/509 [==============================] - 1s 3ms/step - loss: 0.5612 - acc: 0.7476 - val_loss: 0.5734 - val_acc: 0.7317\n",
      "Epoch 12/1000\n",
      "509/509 [==============================] - 1s 3ms/step - loss: 0.5510 - acc: 0.7501 - val_loss: 0.5649 - val_acc: 0.7331\n",
      "Epoch 13/1000\n",
      "509/509 [==============================] - 1s 3ms/step - loss: 0.5415 - acc: 0.7515 - val_loss: 0.5568 - val_acc: 0.7373\n",
      "Epoch 14/1000\n",
      "509/509 [==============================] - 1s 3ms/step - loss: 0.5327 - acc: 0.7537 - val_loss: 0.5496 - val_acc: 0.7392\n",
      "Epoch 15/1000\n",
      "509/509 [==============================] - 1s 2ms/step - loss: 0.5246 - acc: 0.7556 - val_loss: 0.5430 - val_acc: 0.7395\n",
      "Epoch 16/1000\n",
      "509/509 [==============================] - 1s 2ms/step - loss: 0.5170 - acc: 0.7552 - val_loss: 0.5370 - val_acc: 0.7410\n",
      "Epoch 17/1000\n",
      "509/509 [==============================] - 1s 2ms/step - loss: 0.5100 - acc: 0.7576 - val_loss: 0.5312 - val_acc: 0.7423\n",
      "Epoch 18/1000\n",
      "509/509 [==============================] - 1s 2ms/step - loss: 0.5033 - acc: 0.7592 - val_loss: 0.5260 - val_acc: 0.7428\n",
      "Epoch 19/1000\n",
      "509/509 [==============================] - 1s 3ms/step - loss: 0.4969 - acc: 0.7620 - val_loss: 0.5208 - val_acc: 0.7439\n",
      "Epoch 20/1000\n",
      "509/509 [==============================] - 1s 3ms/step - loss: 0.4905 - acc: 0.7650 - val_loss: 0.5159 - val_acc: 0.7469\n",
      "Epoch 21/1000\n",
      "509/509 [==============================] - 1s 3ms/step - loss: 0.4844 - acc: 0.7679 - val_loss: 0.5113 - val_acc: 0.7502\n",
      "Epoch 22/1000\n",
      "509/509 [==============================] - 1s 3ms/step - loss: 0.4786 - acc: 0.7697 - val_loss: 0.5064 - val_acc: 0.7527\n",
      "Epoch 23/1000\n",
      "509/509 [==============================] - 1s 3ms/step - loss: 0.4727 - acc: 0.7749 - val_loss: 0.5014 - val_acc: 0.7540\n",
      "Epoch 24/1000\n",
      "509/509 [==============================] - 2s 3ms/step - loss: 0.4670 - acc: 0.7776 - val_loss: 0.4972 - val_acc: 0.7564\n",
      "Epoch 25/1000\n",
      "509/509 [==============================] - 2s 3ms/step - loss: 0.4615 - acc: 0.7827 - val_loss: 0.4928 - val_acc: 0.7586\n",
      "Epoch 26/1000\n",
      "509/509 [==============================] - 2s 3ms/step - loss: 0.4559 - acc: 0.7849 - val_loss: 0.4886 - val_acc: 0.7594\n",
      "Epoch 27/1000\n",
      "509/509 [==============================] - 1s 3ms/step - loss: 0.4505 - acc: 0.7899 - val_loss: 0.4846 - val_acc: 0.7620\n",
      "Epoch 28/1000\n",
      "509/509 [==============================] - 2s 3ms/step - loss: 0.4452 - acc: 0.7925 - val_loss: 0.4806 - val_acc: 0.7641\n",
      "Epoch 29/1000\n",
      "509/509 [==============================] - 2s 3ms/step - loss: 0.4402 - acc: 0.7949 - val_loss: 0.4771 - val_acc: 0.7659\n",
      "Epoch 30/1000\n",
      "509/509 [==============================] - 1s 3ms/step - loss: 0.4351 - acc: 0.7963 - val_loss: 0.4737 - val_acc: 0.7667\n",
      "Epoch 31/1000\n",
      "509/509 [==============================] - 2s 3ms/step - loss: 0.4301 - acc: 0.7988 - val_loss: 0.4704 - val_acc: 0.7700\n",
      "Epoch 32/1000\n",
      "509/509 [==============================] - 2s 3ms/step - loss: 0.4252 - acc: 0.8040 - val_loss: 0.4671 - val_acc: 0.7707\n",
      "Epoch 33/1000\n",
      "509/509 [==============================] - 2s 3ms/step - loss: 0.4203 - acc: 0.8071 - val_loss: 0.4637 - val_acc: 0.7728\n",
      "Epoch 34/1000\n",
      "509/509 [==============================] - 2s 3ms/step - loss: 0.4157 - acc: 0.8083 - val_loss: 0.4605 - val_acc: 0.7751\n",
      "Epoch 35/1000\n",
      "509/509 [==============================] - 1s 3ms/step - loss: 0.4110 - acc: 0.8101 - val_loss: 0.4575 - val_acc: 0.7757\n",
      "Epoch 36/1000\n",
      "509/509 [==============================] - 2s 3ms/step - loss: 0.4063 - acc: 0.8142 - val_loss: 0.4552 - val_acc: 0.7770\n",
      "Epoch 37/1000\n",
      "509/509 [==============================] - 2s 3ms/step - loss: 0.4018 - acc: 0.8166 - val_loss: 0.4519 - val_acc: 0.7792\n",
      "Epoch 38/1000\n",
      "509/509 [==============================] - 2s 4ms/step - loss: 0.3973 - acc: 0.8188 - val_loss: 0.4494 - val_acc: 0.7800\n",
      "Epoch 39/1000\n",
      "509/509 [==============================] - 3s 6ms/step - loss: 0.3930 - acc: 0.8214 - val_loss: 0.4475 - val_acc: 0.7817\n",
      "Epoch 40/1000\n",
      "509/509 [==============================] - 3s 6ms/step - loss: 0.3886 - acc: 0.8241 - val_loss: 0.4449 - val_acc: 0.7821\n",
      "Epoch 41/1000\n",
      "509/509 [==============================] - 3s 6ms/step - loss: 0.3843 - acc: 0.8277 - val_loss: 0.4428 - val_acc: 0.7830\n",
      "Epoch 42/1000\n",
      "509/509 [==============================] - 3s 5ms/step - loss: 0.3801 - acc: 0.8295 - val_loss: 0.4404 - val_acc: 0.7849\n",
      "Epoch 43/1000\n",
      "509/509 [==============================] - 3s 6ms/step - loss: 0.3759 - acc: 0.8315 - val_loss: 0.4383 - val_acc: 0.7874\n",
      "Epoch 44/1000\n",
      "509/509 [==============================] - 3s 6ms/step - loss: 0.3717 - acc: 0.8335 - val_loss: 0.4363 - val_acc: 0.7869\n",
      "Epoch 45/1000\n",
      "509/509 [==============================] - 3s 6ms/step - loss: 0.3676 - acc: 0.8352 - val_loss: 0.4346 - val_acc: 0.7886\n",
      "Epoch 46/1000\n",
      "509/509 [==============================] - 3s 6ms/step - loss: 0.3637 - acc: 0.8380 - val_loss: 0.4327 - val_acc: 0.7894\n",
      "Epoch 47/1000\n",
      "509/509 [==============================] - 3s 5ms/step - loss: 0.3597 - acc: 0.8400 - val_loss: 0.4315 - val_acc: 0.7906\n",
      "Epoch 48/1000\n",
      "509/509 [==============================] - 3s 6ms/step - loss: 0.3558 - acc: 0.8421 - val_loss: 0.4295 - val_acc: 0.7916\n",
      "Epoch 49/1000\n",
      "509/509 [==============================] - 3s 6ms/step - loss: 0.3518 - acc: 0.8427 - val_loss: 0.4279 - val_acc: 0.7921\n",
      "Epoch 50/1000\n",
      "509/509 [==============================] - 3s 6ms/step - loss: 0.3484 - acc: 0.8466 - val_loss: 0.4261 - val_acc: 0.7932\n",
      "Epoch 51/1000\n",
      "509/509 [==============================] - 3s 6ms/step - loss: 0.3444 - acc: 0.8487 - val_loss: 0.4249 - val_acc: 0.7941\n",
      "Epoch 52/1000\n",
      "509/509 [==============================] - 3s 7ms/step - loss: 0.3409 - acc: 0.8492 - val_loss: 0.4240 - val_acc: 0.7938\n",
      "Epoch 53/1000\n",
      "509/509 [==============================] - 3s 6ms/step - loss: 0.3371 - acc: 0.8505 - val_loss: 0.4224 - val_acc: 0.7926\n",
      "Epoch 54/1000\n",
      "509/509 [==============================] - 3s 6ms/step - loss: 0.3335 - acc: 0.8532 - val_loss: 0.4215 - val_acc: 0.7936\n",
      "Epoch 55/1000\n",
      "509/509 [==============================] - 3s 6ms/step - loss: 0.3298 - acc: 0.8562 - val_loss: 0.4200 - val_acc: 0.7949\n",
      "Epoch 56/1000\n",
      "509/509 [==============================] - 3s 6ms/step - loss: 0.3264 - acc: 0.8577 - val_loss: 0.4196 - val_acc: 0.7935\n",
      "Epoch 57/1000\n",
      "509/509 [==============================] - 3s 6ms/step - loss: 0.3229 - acc: 0.8596 - val_loss: 0.4181 - val_acc: 0.7965\n",
      "Epoch 58/1000\n",
      "509/509 [==============================] - 3s 5ms/step - loss: 0.3195 - acc: 0.8615 - val_loss: 0.4175 - val_acc: 0.7969\n",
      "Epoch 59/1000\n",
      "509/509 [==============================] - 3s 6ms/step - loss: 0.3162 - acc: 0.8630 - val_loss: 0.4160 - val_acc: 0.7954\n",
      "Epoch 60/1000\n",
      "509/509 [==============================] - 3s 6ms/step - loss: 0.3129 - acc: 0.8658 - val_loss: 0.4160 - val_acc: 0.7962\n",
      "Epoch 61/1000\n"
     ]
    },
    {
     "name": "stdout",
     "output_type": "stream",
     "text": [
      "509/509 [==============================] - 3s 6ms/step - loss: 0.3095 - acc: 0.8675 - val_loss: 0.4149 - val_acc: 0.7995\n",
      "Epoch 62/1000\n",
      "509/509 [==============================] - 3s 6ms/step - loss: 0.3062 - acc: 0.8688 - val_loss: 0.4140 - val_acc: 0.7989\n",
      "Epoch 63/1000\n",
      "509/509 [==============================] - 3s 6ms/step - loss: 0.3031 - acc: 0.8707 - val_loss: 0.4130 - val_acc: 0.7995\n",
      "Epoch 64/1000\n",
      "509/509 [==============================] - 3s 6ms/step - loss: 0.2999 - acc: 0.8720 - val_loss: 0.4128 - val_acc: 0.7998\n",
      "Epoch 65/1000\n",
      "509/509 [==============================] - 3s 6ms/step - loss: 0.2969 - acc: 0.8737 - val_loss: 0.4123 - val_acc: 0.8010\n",
      "Epoch 66/1000\n",
      "509/509 [==============================] - 3s 6ms/step - loss: 0.2937 - acc: 0.8756 - val_loss: 0.4115 - val_acc: 0.8014\n",
      "Epoch 67/1000\n",
      "509/509 [==============================] - 3s 6ms/step - loss: 0.2909 - acc: 0.8775 - val_loss: 0.4108 - val_acc: 0.8018\n",
      "Epoch 68/1000\n",
      "509/509 [==============================] - 3s 6ms/step - loss: 0.2880 - acc: 0.8788 - val_loss: 0.4104 - val_acc: 0.8024\n",
      "Epoch 69/1000\n",
      "509/509 [==============================] - 3s 6ms/step - loss: 0.2852 - acc: 0.8783 - val_loss: 0.4103 - val_acc: 0.8027\n",
      "Epoch 70/1000\n",
      "509/509 [==============================] - 3s 6ms/step - loss: 0.2822 - acc: 0.8812 - val_loss: 0.4100 - val_acc: 0.8036\n",
      "Epoch 71/1000\n",
      "509/509 [==============================] - 3s 6ms/step - loss: 0.2794 - acc: 0.8820 - val_loss: 0.4097 - val_acc: 0.8049\n",
      "Epoch 72/1000\n",
      "509/509 [==============================] - 3s 6ms/step - loss: 0.2767 - acc: 0.8839 - val_loss: 0.4095 - val_acc: 0.8049\n",
      "Epoch 73/1000\n",
      "509/509 [==============================] - 3s 6ms/step - loss: 0.2740 - acc: 0.8847 - val_loss: 0.4092 - val_acc: 0.8061\n",
      "Epoch 74/1000\n",
      "509/509 [==============================] - 3s 6ms/step - loss: 0.2712 - acc: 0.8851 - val_loss: 0.4088 - val_acc: 0.8067\n",
      "Epoch 75/1000\n",
      "509/509 [==============================] - 3s 6ms/step - loss: 0.2686 - acc: 0.8867 - val_loss: 0.4087 - val_acc: 0.8083\n",
      "Epoch 76/1000\n",
      "509/509 [==============================] - 3s 6ms/step - loss: 0.2660 - acc: 0.8873 - val_loss: 0.4085 - val_acc: 0.8068\n",
      "Epoch 77/1000\n",
      "509/509 [==============================] - 3s 6ms/step - loss: 0.2634 - acc: 0.8883 - val_loss: 0.4084 - val_acc: 0.8096\n",
      "Epoch 78/1000\n",
      "509/509 [==============================] - 3s 6ms/step - loss: 0.2608 - acc: 0.8901 - val_loss: 0.4076 - val_acc: 0.8094\n",
      "Epoch 79/1000\n",
      "509/509 [==============================] - 3s 6ms/step - loss: 0.2582 - acc: 0.8914 - val_loss: 0.4084 - val_acc: 0.8072\n",
      "Epoch 80/1000\n",
      "509/509 [==============================] - 3s 6ms/step - loss: 0.2557 - acc: 0.8939 - val_loss: 0.4081 - val_acc: 0.8084\n",
      "Epoch 81/1000\n",
      "509/509 [==============================] - 3s 6ms/step - loss: 0.2533 - acc: 0.8938 - val_loss: 0.4087 - val_acc: 0.8099\n",
      "Epoch 82/1000\n",
      "509/509 [==============================] - 3s 6ms/step - loss: 0.2509 - acc: 0.8948 - val_loss: 0.4085 - val_acc: 0.8084\n",
      "Epoch 83/1000\n",
      "509/509 [==============================] - 3s 6ms/step - loss: 0.2485 - acc: 0.8964 - val_loss: 0.4087 - val_acc: 0.8093\n",
      "Epoch 84/1000\n",
      "509/509 [==============================] - 3s 6ms/step - loss: 0.2461 - acc: 0.8971 - val_loss: 0.4088 - val_acc: 0.8106\n",
      "Epoch 85/1000\n",
      "509/509 [==============================] - 3s 6ms/step - loss: 0.2439 - acc: 0.8987 - val_loss: 0.4089 - val_acc: 0.8105\n",
      "Epoch 86/1000\n",
      "509/509 [==============================] - 3s 6ms/step - loss: 0.2415 - acc: 0.9002 - val_loss: 0.4093 - val_acc: 0.8099\n",
      "Epoch 87/1000\n",
      "509/509 [==============================] - 3s 6ms/step - loss: 0.2393 - acc: 0.9008 - val_loss: 0.4096 - val_acc: 0.8105\n",
      "Epoch 88/1000\n",
      "509/509 [==============================] - 3s 6ms/step - loss: 0.2370 - acc: 0.9021 - val_loss: 0.4106 - val_acc: 0.8099\n"
     ]
    }
   ],
   "source": [
    "# result = regressor.fit_generator(train_gen, steps_per_epoch=len(train_gen), epochs=1000)\n",
    "result = regressor.fit(x, y, epochs=1000, validation_data=(x1, y1), callbacks = [EarlyStopping(monitor='val_loss', mode='min', patience=10),\n",
    "             ModelCheckpoint(filepath='best_model.h5', monitor='val_acc', save_best_only=True)])"
   ]
  },
  {
   "cell_type": "code",
   "execution_count": 14,
   "metadata": {
    "ExecuteTime": {
     "end_time": "2019-03-10T17:31:56.080717Z",
     "start_time": "2019-03-10T17:31:55.783537Z"
    }
   },
   "outputs": [
    {
     "data": {
      "text/plain": [
       "[<matplotlib.lines.Line2D at 0x7f832c858390>]"
      ]
     },
     "execution_count": 14,
     "metadata": {},
     "output_type": "execute_result"
    },
    {
     "data": {
      "image/png": "[encoded data removed]",
      "text/plain": [
       "<Figure size 432x288 with 1 Axes>"
      ]
     },
     "metadata": {
      "needs_background": "light"
     },
     "output_type": "display_data"
    }
   ],
   "source": [
    "plt.plot(result.history[\"acc\"])\n",
    "plt.plot(result.history[\"val_acc\"])"
   ]
  },
  {
   "cell_type": "code",
   "execution_count": 15,
   "metadata": {
    "ExecuteTime": {
     "end_time": "2019-03-10T17:31:56.278469Z",
     "start_time": "2019-03-10T17:31:56.084117Z"
    }
   },
   "outputs": [
    {
     "data": {
      "text/plain": [
       "[<matplotlib.lines.Line2D at 0x7f830d8792b0>]"
      ]
     },
     "execution_count": 15,
     "metadata": {},
     "output_type": "execute_result"
    },
    {
     "data": {
      "image/png": "[encoded data removed]",
      "text/plain": [
       "<Figure size 432x288 with 1 Axes>"
      ]
     },
     "metadata": {
      "needs_background": "light"
     },
     "output_type": "display_data"
    }
   ],
   "source": [
    "plt.plot(result.history[\"loss\"])\n",
    "plt.plot(result.history[\"val_loss\"])"
   ]
  }
 ],
 "metadata": {
  "kernelspec": {
   "display_name": "projet_S5",
   "language": "python",
   "name": "projet_s5"
  },
  "language_info": {
   "codemirror_mode": {
    "name": "ipython",
    "version": 3
   },
   "file_extension": ".py",
   "mimetype": "text/x-python",
   "name": "python",
   "nbconvert_exporter": "python",
   "pygments_lexer": "ipython3",
   "version": "3.6.7"
  },
  "toc": {
   "base_numbering": 1,
   "nav_menu": {},
   "number_sections": true,
   "sideBar": true,
   "skip_h1_title": false,
   "title_cell": "Table of Contents",
   "title_sidebar": "Contents",
   "toc_cell": false,
   "toc_position": {},
   "toc_section_display": true,
   "toc_window_display": false
  }
 },
 "nbformat": 4,
 "nbformat_minor": 2
}
