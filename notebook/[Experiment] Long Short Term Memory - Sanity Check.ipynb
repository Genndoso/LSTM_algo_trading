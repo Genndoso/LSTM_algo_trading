{
 "cells": [
  {
   "cell_type": "code",
   "execution_count": 1,
   "metadata": {
    "ExecuteTime": {
     "end_time": "2019-03-10T15:26:44.778255Z",
     "start_time": "2019-03-10T15:26:43.823126Z"
    },
    "scrolled": true
   },
   "outputs": [],
   "source": [
    "# List all device\n",
    "from tensorflow.python.client import device_lib\n",
    "# print(device_lib.list_local_devices())"
   ]
  },
  {
   "cell_type": "code",
   "execution_count": 2,
   "metadata": {
    "ExecuteTime": {
     "end_time": "2019-03-10T15:26:45.093103Z",
     "start_time": "2019-03-10T15:26:44.779962Z"
    },
    "scrolled": true
   },
   "outputs": [
    {
     "name": "stderr",
     "output_type": "stream",
     "text": [
      "Using TensorFlow backend.\n"
     ]
    },
    {
     "data": {
      "text/plain": [
       "['/job:localhost/replica:0/task:0/device:GPU:0']"
      ]
     },
     "execution_count": 2,
     "metadata": {},
     "output_type": "execute_result"
    }
   ],
   "source": [
    "# Check available GPU\n",
    "from keras import backend as K\n",
    "K.tensorflow_backend._get_available_gpus()"
   ]
  },
  {
   "cell_type": "code",
   "execution_count": 3,
   "metadata": {
    "ExecuteTime": {
     "end_time": "2019-03-10T15:26:45.096721Z",
     "start_time": "2019-03-10T15:26:45.094487Z"
    }
   },
   "outputs": [],
   "source": [
    "import os\n",
    "os.environ[\"CUDA_DEVICE_ORDER\"]=\"PCI_BUS_ID\";\n",
    "# The GPU id to use, usually either \"0\" or \"1\";\n",
    "os.environ[\"CUDA_VISIBLE_DEVICES\"]=\"0\";  "
   ]
  },
  {
   "cell_type": "code",
   "execution_count": 4,
   "metadata": {
    "ExecuteTime": {
     "end_time": "2019-03-10T15:26:45.517671Z",
     "start_time": "2019-03-10T15:26:45.098796Z"
    }
   },
   "outputs": [],
   "source": [
    "# Importing the libraries\n",
    "import numpy as np\n",
    "import pandas as pd\n",
    "from keras.models import Sequential\n",
    "from keras.layers import Dense, LSTM, Dropout, Reshape, Lambda, GRU, BatchNormalization, Bidirectional\n",
    "from keras.preprocessing.sequence import TimeseriesGenerator\n",
    "from keras.callbacks import EarlyStopping, ModelCheckpoint\n",
    "from keras.activations import softmax\n",
    "from keras.optimizers import SGD, RMSprop\n",
    "import math\n",
    "import pickle\n",
    "import matplotlib.pyplot as plt\n",
    "from keras.utils import to_categorical\n",
    "from sklearn.preprocessing import StandardScaler"
   ]
  },
  {
   "cell_type": "code",
   "execution_count": 5,
   "metadata": {
    "ExecuteTime": {
     "end_time": "2019-03-10T15:26:45.530966Z",
     "start_time": "2019-03-10T15:26:45.519786Z"
    }
   },
   "outputs": [],
   "source": [
    "index = \"dowjones\"\n",
    "# index = \"frankfurt\"\n",
    "with open(f\"../data/{index}_calculated/periods750_250_240.txt\", \"rb\") as fp:   # Unpickling\n",
    "    dataset = pickle.load(fp)"
   ]
  },
  {
   "cell_type": "code",
   "execution_count": 6,
   "metadata": {
    "ExecuteTime": {
     "end_time": "2019-03-10T15:26:45.599937Z",
     "start_time": "2019-03-10T15:26:45.532457Z"
    }
   },
   "outputs": [],
   "source": [
    "def calculate_class(returns):\n",
    "    \"\"\"Find the class for each LSTM sequence based on the median returns.\"\"\"\n",
    "    median_returns = returns.median(axis=1)\n",
    "    labels = returns.iloc[:, :].apply(lambda x: np.where\n",
    "                                      (x >= median_returns, 1, 0), axis=0)\n",
    "    return labels"
   ]
  },
  {
   "cell_type": "code",
   "execution_count": 7,
   "metadata": {
    "ExecuteTime": {
     "end_time": "2019-03-10T15:26:45.683352Z",
     "start_time": "2019-03-10T15:26:45.605222Z"
    }
   },
   "outputs": [],
   "source": [
    "i = 7\n",
    "timestep = 240\n",
    "feature = 31"
   ]
  },
  {
   "cell_type": "code",
   "execution_count": 8,
   "metadata": {
    "ExecuteTime": {
     "end_time": "2019-03-10T15:26:46.794342Z",
     "start_time": "2019-03-10T15:26:45.689091Z"
    }
   },
   "outputs": [],
   "source": [
    "x_train = dataset[0][i][0].values\n",
    "x_test = dataset[1][i][0].values\n",
    "\n",
    "scaler = StandardScaler().fit(x_train)\n",
    "\n",
    "x_train = scaler.transform(x_train)\n",
    "x_test = scaler.transform(x_test)\n",
    "\n",
    "y_train = to_categorical(dataset[0][i][1].values, 2)\n",
    "y_test = to_categorical(dataset[1][i][1].values, 2)"
   ]
  },
  {
   "cell_type": "code",
   "execution_count": 9,
   "metadata": {
    "ExecuteTime": {
     "end_time": "2019-03-10T15:26:47.098876Z",
     "start_time": "2019-03-10T15:26:46.797320Z"
    }
   },
   "outputs": [
    {
     "name": "stdout",
     "output_type": "stream",
     "text": [
      "x train shape: (750, 31)\n",
      "y train shape: (750, 31, 2)\n",
      "x test shape: (490, 31)\n",
      "y test shape: (490, 31, 2)\n"
     ]
    }
   ],
   "source": [
    "print(f\"x train shape: {x_train.shape}\")\n",
    "print(f\"y train shape: {y_train.shape}\")\n",
    "print(f\"x test shape: {x_test.shape}\")\n",
    "print(f\"y test shape: {y_test.shape}\")"
   ]
  },
  {
   "cell_type": "code",
   "execution_count": 10,
   "metadata": {
    "ExecuteTime": {
     "end_time": "2019-03-10T15:26:47.555686Z",
     "start_time": "2019-03-10T15:26:47.104444Z"
    }
   },
   "outputs": [
    {
     "name": "stdout",
     "output_type": "stream",
     "text": [
      "x shape: (509, 240, 31)\n",
      "y shape: (509, 31, 2)\n"
     ]
    }
   ],
   "source": [
    "x_series = [x_train[i:i+timestep, :] for i in range(1, x_train.shape[0] - timestep)]\n",
    "y_series = [y_train[i+timestep] for i in range(y_train.shape[0] - timestep - 1)]\n",
    "x = np.array(x_series)\n",
    "y = np.array(y_series)\n",
    "print(f\"x shape: {x.shape}\")\n",
    "print(f\"y shape: {y.shape}\")"
   ]
  },
  {
   "cell_type": "code",
   "execution_count": 11,
   "metadata": {
    "ExecuteTime": {
     "end_time": "2019-03-10T15:26:47.586160Z",
     "start_time": "2019-03-10T15:26:47.557933Z"
    }
   },
   "outputs": [
    {
     "name": "stdout",
     "output_type": "stream",
     "text": [
      "x1 shape: (249, 240, 31)\n",
      "y1 shape: (249, 31, 2)\n"
     ]
    }
   ],
   "source": [
    "x_series1 = [x_test[i:i+timestep, :] for i in range(1, x_test.shape[0] - timestep)]\n",
    "y_series1 = [y_test[i+timestep] for i in range(y_test.shape[0] - timestep - 1)]\n",
    "x1 = np.array(x_series1)\n",
    "y1 = np.array(y_series1)\n",
    "print(f\"x1 shape: {x1.shape}\")\n",
    "print(f\"y1 shape: {y1.shape}\")"
   ]
  },
  {
   "cell_type": "code",
   "execution_count": 12,
   "metadata": {
    "ExecuteTime": {
     "end_time": "2019-03-10T15:26:47.870624Z",
     "start_time": "2019-03-10T15:26:47.588231Z"
    }
   },
   "outputs": [
    {
     "name": "stdout",
     "output_type": "stream",
     "text": [
      "_________________________________________________________________\n",
      "Layer (type)                 Output Shape              Param #   \n",
      "=================================================================\n",
      "lstm_1 (LSTM)                (None, 25)                5700      \n",
      "_________________________________________________________________\n",
      "dense_1 (Dense)              (None, 62)                1612      \n",
      "_________________________________________________________________\n",
      "reshape_1 (Reshape)          (None, 31, 2)             0         \n",
      "_________________________________________________________________\n",
      "dense_2 (Dense)              (None, 31, 2)             6         \n",
      "=================================================================\n",
      "Total params: 7,318\n",
      "Trainable params: 7,318\n",
      "Non-trainable params: 0\n",
      "_________________________________________________________________\n"
     ]
    }
   ],
   "source": [
    "regressor = Sequential()\n",
    "regressor.add(LSTM(units=25, input_shape=(timestep, feature)))\n",
    "regressor.add(Dense(feature * 2, activation='relu'))\n",
    "regressor.add(Reshape((feature, 2)))\n",
    "# regressor.add(Lambda(lambda x: softmax(x, axis=-1)))\n",
    "regressor.add(Dense(2, activation='softmax'))\n",
    "regressor.compile(loss='binary_crossentropy',\n",
    "                  optimizer='rmsprop',\n",
    "                  metrics=['accuracy'])\n",
    "regressor.summary()"
   ]
  },
  {
   "cell_type": "code",
   "execution_count": 13,
   "metadata": {
    "ExecuteTime": {
     "end_time": "2019-03-10T15:31:53.189088Z",
     "start_time": "2019-03-10T15:26:47.872047Z"
    }
   },
   "outputs": [
    {
     "name": "stdout",
     "output_type": "stream",
     "text": [
      "Train on 509 samples, validate on 249 samples\n",
      "Epoch 1/100\n",
      "509/509 [==============================] - 4s 8ms/step - loss: 0.6927 - acc: 0.5126 - val_loss: 0.6920 - val_acc: 0.5160\n",
      "Epoch 2/100\n",
      "509/509 [==============================] - 3s 6ms/step - loss: 0.6912 - acc: 0.5161 - val_loss: 0.6912 - val_acc: 0.5165\n",
      "Epoch 3/100\n",
      "509/509 [==============================] - 3s 7ms/step - loss: 0.6899 - acc: 0.5177 - val_loss: 0.6903 - val_acc: 0.5221\n",
      "Epoch 4/100\n",
      "509/509 [==============================] - 3s 7ms/step - loss: 0.6883 - acc: 0.5266 - val_loss: 0.6892 - val_acc: 0.5339\n",
      "Epoch 5/100\n",
      "509/509 [==============================] - 3s 7ms/step - loss: 0.6865 - acc: 0.5415 - val_loss: 0.6880 - val_acc: 0.5463\n",
      "Epoch 6/100\n",
      "509/509 [==============================] - 3s 6ms/step - loss: 0.6843 - acc: 0.5583 - val_loss: 0.6865 - val_acc: 0.5540\n",
      "Epoch 7/100\n",
      "509/509 [==============================] - 3s 6ms/step - loss: 0.6817 - acc: 0.5685 - val_loss: 0.6846 - val_acc: 0.5520\n",
      "Epoch 8/100\n",
      "509/509 [==============================] - 3s 6ms/step - loss: 0.6787 - acc: 0.5774 - val_loss: 0.6823 - val_acc: 0.5577\n",
      "Epoch 9/100\n",
      "509/509 [==============================] - 3s 6ms/step - loss: 0.6752 - acc: 0.5869 - val_loss: 0.6793 - val_acc: 0.5633\n",
      "Epoch 10/100\n",
      "509/509 [==============================] - 3s 7ms/step - loss: 0.6713 - acc: 0.5951 - val_loss: 0.6759 - val_acc: 0.5712\n",
      "Epoch 11/100\n",
      "509/509 [==============================] - 3s 7ms/step - loss: 0.6669 - acc: 0.6052 - val_loss: 0.6719 - val_acc: 0.5806\n",
      "Epoch 12/100\n",
      "509/509 [==============================] - 3s 7ms/step - loss: 0.6620 - acc: 0.6133 - val_loss: 0.6676 - val_acc: 0.5926\n",
      "Epoch 13/100\n",
      "509/509 [==============================] - 3s 7ms/step - loss: 0.6565 - acc: 0.6233 - val_loss: 0.6628 - val_acc: 0.5971\n",
      "Epoch 14/100\n",
      "509/509 [==============================] - 3s 6ms/step - loss: 0.6507 - acc: 0.6318 - val_loss: 0.6574 - val_acc: 0.6093\n",
      "Epoch 15/100\n",
      "509/509 [==============================] - 3s 6ms/step - loss: 0.6444 - acc: 0.6409 - val_loss: 0.6522 - val_acc: 0.6189\n",
      "Epoch 16/100\n",
      "509/509 [==============================] - 3s 6ms/step - loss: 0.6376 - acc: 0.6492 - val_loss: 0.6463 - val_acc: 0.6244\n",
      "Epoch 17/100\n",
      "509/509 [==============================] - 3s 6ms/step - loss: 0.6306 - acc: 0.6611 - val_loss: 0.6404 - val_acc: 0.6318\n",
      "Epoch 18/100\n",
      "509/509 [==============================] - 3s 7ms/step - loss: 0.6234 - acc: 0.6683 - val_loss: 0.6348 - val_acc: 0.6349\n",
      "Epoch 19/100\n",
      "509/509 [==============================] - 3s 7ms/step - loss: 0.6163 - acc: 0.6748 - val_loss: 0.6290 - val_acc: 0.6398\n",
      "Epoch 20/100\n",
      "509/509 [==============================] - 4s 7ms/step - loss: 0.6088 - acc: 0.6803 - val_loss: 0.6244 - val_acc: 0.6465\n",
      "Epoch 21/100\n",
      "509/509 [==============================] - 4s 7ms/step - loss: 0.6013 - acc: 0.6882 - val_loss: 0.6190 - val_acc: 0.6516\n",
      "Epoch 22/100\n",
      "509/509 [==============================] - 3s 7ms/step - loss: 0.5941 - acc: 0.6934 - val_loss: 0.6143 - val_acc: 0.6557\n",
      "Epoch 23/100\n",
      "509/509 [==============================] - 3s 7ms/step - loss: 0.5870 - acc: 0.6994 - val_loss: 0.6090 - val_acc: 0.6585\n",
      "Epoch 24/100\n",
      "509/509 [==============================] - 3s 7ms/step - loss: 0.5797 - acc: 0.7059 - val_loss: 0.6061 - val_acc: 0.6603\n",
      "Epoch 25/100\n",
      "509/509 [==============================] - 3s 7ms/step - loss: 0.5729 - acc: 0.7113 - val_loss: 0.6002 - val_acc: 0.6694\n",
      "Epoch 26/100\n",
      "509/509 [==============================] - 3s 6ms/step - loss: 0.5663 - acc: 0.7148 - val_loss: 0.5966 - val_acc: 0.6708\n",
      "Epoch 27/100\n",
      "509/509 [==============================] - 3s 7ms/step - loss: 0.5596 - acc: 0.7206 - val_loss: 0.5922 - val_acc: 0.6730\n",
      "Epoch 28/100\n",
      "509/509 [==============================] - 3s 6ms/step - loss: 0.5530 - acc: 0.7269 - val_loss: 0.5881 - val_acc: 0.6777\n",
      "Epoch 29/100\n",
      "509/509 [==============================] - 3s 6ms/step - loss: 0.5466 - acc: 0.7303 - val_loss: 0.5858 - val_acc: 0.6786\n",
      "Epoch 30/100\n",
      "509/509 [==============================] - 3s 6ms/step - loss: 0.5403 - acc: 0.7369 - val_loss: 0.5809 - val_acc: 0.6852\n",
      "Epoch 31/100\n",
      "509/509 [==============================] - 3s 6ms/step - loss: 0.5341 - acc: 0.7406 - val_loss: 0.5769 - val_acc: 0.6921\n",
      "Epoch 32/100\n",
      "509/509 [==============================] - 3s 6ms/step - loss: 0.5278 - acc: 0.7461 - val_loss: 0.5734 - val_acc: 0.6939\n",
      "Epoch 33/100\n",
      "509/509 [==============================] - 3s 6ms/step - loss: 0.5218 - acc: 0.7495 - val_loss: 0.5699 - val_acc: 0.6993\n",
      "Epoch 34/100\n",
      "509/509 [==============================] - 3s 6ms/step - loss: 0.5157 - acc: 0.7551 - val_loss: 0.5660 - val_acc: 0.7029\n",
      "Epoch 35/100\n",
      "509/509 [==============================] - 3s 6ms/step - loss: 0.5097 - acc: 0.7594 - val_loss: 0.5622 - val_acc: 0.7076\n",
      "Epoch 36/100\n",
      "509/509 [==============================] - 3s 6ms/step - loss: 0.5034 - acc: 0.7642 - val_loss: 0.5587 - val_acc: 0.7107\n",
      "Epoch 37/100\n",
      "509/509 [==============================] - 3s 6ms/step - loss: 0.4977 - acc: 0.7699 - val_loss: 0.5556 - val_acc: 0.7116\n",
      "Epoch 38/100\n",
      "509/509 [==============================] - 3s 6ms/step - loss: 0.4920 - acc: 0.7712 - val_loss: 0.5529 - val_acc: 0.7140\n",
      "Epoch 39/100\n",
      "509/509 [==============================] - 3s 7ms/step - loss: 0.4864 - acc: 0.7751 - val_loss: 0.5499 - val_acc: 0.7154\n",
      "Epoch 40/100\n",
      "509/509 [==============================] - 3s 7ms/step - loss: 0.4807 - acc: 0.7795 - val_loss: 0.5478 - val_acc: 0.7145\n",
      "Epoch 41/100\n",
      "509/509 [==============================] - 3s 6ms/step - loss: 0.4756 - acc: 0.7812 - val_loss: 0.5448 - val_acc: 0.7189\n",
      "Epoch 42/100\n",
      "509/509 [==============================] - 3s 7ms/step - loss: 0.4705 - acc: 0.7838 - val_loss: 0.5422 - val_acc: 0.7185\n",
      "Epoch 43/100\n",
      "509/509 [==============================] - 4s 7ms/step - loss: 0.4653 - acc: 0.7870 - val_loss: 0.5397 - val_acc: 0.7190\n",
      "Epoch 44/100\n",
      "509/509 [==============================] - 4s 7ms/step - loss: 0.4604 - acc: 0.7900 - val_loss: 0.5360 - val_acc: 0.7219\n",
      "Epoch 45/100\n",
      "509/509 [==============================] - 3s 7ms/step - loss: 0.4554 - acc: 0.7928 - val_loss: 0.5347 - val_acc: 0.7243\n",
      "Epoch 46/100\n",
      "509/509 [==============================] - 4s 7ms/step - loss: 0.4509 - acc: 0.7952 - val_loss: 0.5331 - val_acc: 0.7263\n",
      "Epoch 47/100\n",
      "509/509 [==============================] - 4s 7ms/step - loss: 0.4462 - acc: 0.7964 - val_loss: 0.5315 - val_acc: 0.7279\n",
      "Epoch 48/100\n",
      "509/509 [==============================] - 3s 7ms/step - loss: 0.4415 - acc: 0.7990 - val_loss: 0.5290 - val_acc: 0.7287\n",
      "Epoch 49/100\n",
      "509/509 [==============================] - 3s 7ms/step - loss: 0.4374 - acc: 0.8001 - val_loss: 0.5272 - val_acc: 0.7292\n",
      "Epoch 50/100\n",
      "509/509 [==============================] - 4s 7ms/step - loss: 0.4329 - acc: 0.8030 - val_loss: 0.5252 - val_acc: 0.7285\n",
      "Epoch 51/100\n",
      "509/509 [==============================] - 3s 7ms/step - loss: 0.4288 - acc: 0.8056 - val_loss: 0.5240 - val_acc: 0.7281\n",
      "Epoch 52/100\n",
      "509/509 [==============================] - 4s 7ms/step - loss: 0.4247 - acc: 0.8091 - val_loss: 0.5227 - val_acc: 0.7299\n",
      "Epoch 53/100\n",
      "509/509 [==============================] - 4s 7ms/step - loss: 0.4205 - acc: 0.8105 - val_loss: 0.5213 - val_acc: 0.7322\n",
      "Epoch 54/100\n",
      "509/509 [==============================] - 4s 7ms/step - loss: 0.4166 - acc: 0.8123 - val_loss: 0.5191 - val_acc: 0.7329\n",
      "Epoch 55/100\n",
      "509/509 [==============================] - 4s 7ms/step - loss: 0.4126 - acc: 0.8133 - val_loss: 0.5178 - val_acc: 0.7365\n",
      "Epoch 56/100\n",
      "509/509 [==============================] - 4s 7ms/step - loss: 0.4087 - acc: 0.8151 - val_loss: 0.5170 - val_acc: 0.7348\n",
      "Epoch 57/100\n",
      "509/509 [==============================] - 3s 7ms/step - loss: 0.4049 - acc: 0.8182 - val_loss: 0.5151 - val_acc: 0.7371\n",
      "Epoch 58/100\n",
      "509/509 [==============================] - 4s 7ms/step - loss: 0.4012 - acc: 0.8208 - val_loss: 0.5148 - val_acc: 0.7368\n",
      "Epoch 59/100\n",
      "509/509 [==============================] - 4s 7ms/step - loss: 0.3976 - acc: 0.8234 - val_loss: 0.5135 - val_acc: 0.7371\n",
      "Epoch 60/100\n",
      "509/509 [==============================] - 4s 7ms/step - loss: 0.3938 - acc: 0.8249 - val_loss: 0.5141 - val_acc: 0.7369\n",
      "Epoch 61/100\n",
      "509/509 [==============================] - 3s 7ms/step - loss: 0.3902 - acc: 0.8265 - val_loss: 0.5117 - val_acc: 0.7397\n"
     ]
    },
    {
     "name": "stdout",
     "output_type": "stream",
     "text": [
      "Epoch 62/100\n",
      "509/509 [==============================] - 3s 7ms/step - loss: 0.3867 - acc: 0.8283 - val_loss: 0.5116 - val_acc: 0.7406\n",
      "Epoch 63/100\n",
      "509/509 [==============================] - 3s 7ms/step - loss: 0.3832 - acc: 0.8316 - val_loss: 0.5105 - val_acc: 0.7399\n",
      "Epoch 64/100\n",
      "509/509 [==============================] - 3s 7ms/step - loss: 0.3797 - acc: 0.8328 - val_loss: 0.5116 - val_acc: 0.7397\n",
      "Epoch 65/100\n",
      "509/509 [==============================] - 3s 6ms/step - loss: 0.3763 - acc: 0.8340 - val_loss: 0.5113 - val_acc: 0.7405\n",
      "Epoch 66/100\n",
      "509/509 [==============================] - 3s 6ms/step - loss: 0.3731 - acc: 0.8354 - val_loss: 0.5106 - val_acc: 0.7425\n",
      "Epoch 67/100\n",
      "509/509 [==============================] - 3s 6ms/step - loss: 0.3697 - acc: 0.8382 - val_loss: 0.5086 - val_acc: 0.7431\n",
      "Epoch 68/100\n",
      "509/509 [==============================] - 3s 6ms/step - loss: 0.3665 - acc: 0.8401 - val_loss: 0.5090 - val_acc: 0.7440\n",
      "Epoch 69/100\n",
      "509/509 [==============================] - 3s 7ms/step - loss: 0.3633 - acc: 0.8428 - val_loss: 0.5078 - val_acc: 0.7443\n",
      "Epoch 70/100\n",
      "509/509 [==============================] - 4s 7ms/step - loss: 0.3602 - acc: 0.8428 - val_loss: 0.5082 - val_acc: 0.7445\n",
      "Epoch 71/100\n",
      "509/509 [==============================] - 3s 6ms/step - loss: 0.3570 - acc: 0.8452 - val_loss: 0.5086 - val_acc: 0.7456\n",
      "Epoch 72/100\n",
      "509/509 [==============================] - 3s 7ms/step - loss: 0.3540 - acc: 0.8469 - val_loss: 0.5073 - val_acc: 0.7471\n",
      "Epoch 73/100\n",
      "509/509 [==============================] - 3s 7ms/step - loss: 0.3509 - acc: 0.8480 - val_loss: 0.5074 - val_acc: 0.7475\n",
      "Epoch 74/100\n",
      "509/509 [==============================] - 3s 7ms/step - loss: 0.3481 - acc: 0.8499 - val_loss: 0.5072 - val_acc: 0.7480\n",
      "Epoch 75/100\n",
      "509/509 [==============================] - 4s 7ms/step - loss: 0.3451 - acc: 0.8508 - val_loss: 0.5072 - val_acc: 0.7493\n",
      "Epoch 76/100\n",
      "509/509 [==============================] - 4s 7ms/step - loss: 0.3419 - acc: 0.8527 - val_loss: 0.5077 - val_acc: 0.7494\n",
      "Epoch 77/100\n",
      "509/509 [==============================] - 3s 7ms/step - loss: 0.3391 - acc: 0.8553 - val_loss: 0.5071 - val_acc: 0.7510\n",
      "Epoch 78/100\n",
      "509/509 [==============================] - 3s 7ms/step - loss: 0.3361 - acc: 0.8556 - val_loss: 0.5082 - val_acc: 0.7498\n",
      "Epoch 79/100\n",
      "509/509 [==============================] - 3s 6ms/step - loss: 0.3333 - acc: 0.8582 - val_loss: 0.5069 - val_acc: 0.7524\n",
      "Epoch 80/100\n",
      "509/509 [==============================] - 3s 6ms/step - loss: 0.3307 - acc: 0.8601 - val_loss: 0.5085 - val_acc: 0.7505\n",
      "Epoch 81/100\n",
      "509/509 [==============================] - 3s 6ms/step - loss: 0.3278 - acc: 0.8610 - val_loss: 0.5087 - val_acc: 0.7513\n",
      "Epoch 82/100\n",
      "509/509 [==============================] - 3s 6ms/step - loss: 0.3251 - acc: 0.8617 - val_loss: 0.5086 - val_acc: 0.7524\n",
      "Epoch 83/100\n",
      "509/509 [==============================] - 3s 7ms/step - loss: 0.3225 - acc: 0.8629 - val_loss: 0.5096 - val_acc: 0.7535\n",
      "Epoch 84/100\n",
      "509/509 [==============================] - 3s 7ms/step - loss: 0.3200 - acc: 0.8656 - val_loss: 0.5102 - val_acc: 0.7514\n",
      "Epoch 85/100\n",
      "509/509 [==============================] - 3s 7ms/step - loss: 0.3173 - acc: 0.8674 - val_loss: 0.5092 - val_acc: 0.7533\n",
      "Epoch 86/100\n",
      "509/509 [==============================] - 3s 7ms/step - loss: 0.3148 - acc: 0.8687 - val_loss: 0.5096 - val_acc: 0.7533\n",
      "Epoch 87/100\n",
      "509/509 [==============================] - 3s 6ms/step - loss: 0.3125 - acc: 0.8682 - val_loss: 0.5097 - val_acc: 0.7548\n",
      "Epoch 88/100\n",
      "509/509 [==============================] - 3s 7ms/step - loss: 0.3098 - acc: 0.8706 - val_loss: 0.5112 - val_acc: 0.7548\n",
      "Epoch 89/100\n",
      "509/509 [==============================] - 4s 7ms/step - loss: 0.3074 - acc: 0.8713 - val_loss: 0.5112 - val_acc: 0.7555\n"
     ]
    }
   ],
   "source": [
    "# result = regressor.fit_generator(train_gen, steps_per_epoch=len(train_gen), epochs=1000)\n",
    "result = regressor.fit(x, y, epochs=1000, validation_data=(x1, y1), callbacks = [EarlyStopping(monitor='val_loss', mode='min', patience=10),\n",
    "             ModelCheckpoint(filepath='best_model.h5', monitor='val_acc', save_best_only=True)])"
   ]
  },
  {
   "cell_type": "code",
   "execution_count": 14,
   "metadata": {
    "ExecuteTime": {
     "end_time": "2019-03-10T15:31:53.305050Z",
     "start_time": "2019-03-10T15:31:53.190327Z"
    }
   },
   "outputs": [
    {
     "data": {
      "text/plain": [
       "[<matplotlib.lines.Line2D at 0x7feaae41df28>]"
      ]
     },
     "execution_count": 14,
     "metadata": {},
     "output_type": "execute_result"
    },
    {
     "data": {
      "image/png": "[encoded data removed]",
      "text/plain": [
       "<Figure size 432x288 with 1 Axes>"
      ]
     },
     "metadata": {
      "needs_background": "light"
     },
     "output_type": "display_data"
    }
   ],
   "source": [
    "plt.plot(result.history[\"acc\"])\n",
    "plt.plot(result.history[\"val_acc\"])"
   ]
  },
  {
   "cell_type": "code",
   "execution_count": 15,
   "metadata": {
    "ExecuteTime": {
     "end_time": "2019-03-10T15:31:53.906759Z",
     "start_time": "2019-03-10T15:31:53.306556Z"
    }
   },
   "outputs": [
    {
     "data": {
      "text/plain": [
       "[<matplotlib.lines.Line2D at 0x7fea1cf40c18>]"
      ]
     },
     "execution_count": 15,
     "metadata": {},
     "output_type": "execute_result"
    },
    {
     "data": {
      "image/png": "[encoded data removed]",
      "text/plain": [
       "<Figure size 432x288 with 1 Axes>"
      ]
     },
     "metadata": {
      "needs_background": "light"
     },
     "output_type": "display_data"
    }
   ],
   "source": [
    "plt.plot(result.history[\"loss\"])\n",
    "plt.plot(result.history[\"val_loss\"])"
   ]
  }
 ],
 "metadata": {
  "kernelspec": {
   "display_name": "projet_S5",
   "language": "python",
   "name": "projet_s5"
  },
  "language_info": {
   "codemirror_mode": {
    "name": "ipython",
    "version": 3
   },
   "file_extension": ".py",
   "mimetype": "text/x-python",
   "name": "python",
   "nbconvert_exporter": "python",
   "pygments_lexer": "ipython3",
   "version": "3.6.8"
  },
  "toc": {
   "base_numbering": 1,
   "nav_menu": {},
   "number_sections": true,
   "sideBar": true,
   "skip_h1_title": false,
   "title_cell": "Table of Contents",
   "title_sidebar": "Contents",
   "toc_cell": false,
   "toc_position": {},
   "toc_section_display": true,
   "toc_window_display": false
  }
 },
 "nbformat": 4,
 "nbformat_minor": 2
}
