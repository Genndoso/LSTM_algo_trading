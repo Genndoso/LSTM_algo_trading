{
 "cells": [
  {
   "cell_type": "code",
   "execution_count": 1,
   "metadata": {
    "ExecuteTime": {
     "end_time": "2019-03-10T17:37:38.815453Z",
     "start_time": "2019-03-10T17:37:37.098611Z"
    },
    "scrolled": true
   },
   "outputs": [],
   "source": [
    "# List all device\n",
    "from tensorflow.python.client import device_lib\n",
    "# print(device_lib.list_local_devices())"
   ]
  },
  {
   "cell_type": "code",
   "execution_count": 2,
   "metadata": {
    "ExecuteTime": {
     "end_time": "2019-03-10T17:37:38.890884Z",
     "start_time": "2019-03-10T17:37:38.819525Z"
    },
    "scrolled": true
   },
   "outputs": [
    {
     "name": "stderr",
     "output_type": "stream",
     "text": [
      "Using TensorFlow backend.\n"
     ]
    },
    {
     "data": {
      "text/plain": [
       "[]"
      ]
     },
     "execution_count": 2,
     "metadata": {},
     "output_type": "execute_result"
    }
   ],
   "source": [
    "# Check available GPU\n",
    "from keras import backend as K\n",
    "K.tensorflow_backend._get_available_gpus()"
   ]
  },
  {
   "cell_type": "code",
   "execution_count": 3,
   "metadata": {
    "ExecuteTime": {
     "end_time": "2019-03-10T17:37:38.905268Z",
     "start_time": "2019-03-10T17:37:38.895183Z"
    }
   },
   "outputs": [],
   "source": [
    "import os\n",
    "os.environ[\"CUDA_DEVICE_ORDER\"]=\"PCI_BUS_ID\";\n",
    "# The GPU id to use, usually either \"0\" or \"1\";\n",
    "os.environ[\"CUDA_VISIBLE_DEVICES\"]=\"0\";  "
   ]
  },
  {
   "cell_type": "code",
   "execution_count": 4,
   "metadata": {
    "ExecuteTime": {
     "end_time": "2019-03-10T17:37:40.367414Z",
     "start_time": "2019-03-10T17:37:38.908856Z"
    }
   },
   "outputs": [],
   "source": [
    "# Importing the libraries\n",
    "import numpy as np\n",
    "import pandas as pd\n",
    "from keras.models import Sequential\n",
    "from keras.layers import Dense, LSTM, Dropout, Reshape, Lambda, GRU, BatchNormalization, Bidirectional\n",
    "from keras.preprocessing.sequence import TimeseriesGenerator\n",
    "from keras.callbacks import EarlyStopping, ModelCheckpoint\n",
    "from keras.activations import softmax\n",
    "from keras.optimizers import SGD, RMSprop\n",
    "import math\n",
    "import pickle\n",
    "import matplotlib.pyplot as plt\n",
    "from keras.utils import to_categorical\n",
    "from sklearn.preprocessing import StandardScaler"
   ]
  },
  {
   "cell_type": "code",
   "execution_count": 5,
   "metadata": {
    "ExecuteTime": {
     "end_time": "2019-03-10T17:37:40.397263Z",
     "start_time": "2019-03-10T17:37:40.370493Z"
    }
   },
   "outputs": [],
   "source": [
    "index = \"dowjones\"\n",
    "# index = \"frankfurt\"\n",
    "with open(f\"../data/{index}_calculated/absolute_periods750_250_240.txt\", \"rb\") as fp:   # Unpickling\n",
    "    dataset = pickle.load(fp)"
   ]
  },
  {
   "cell_type": "code",
   "execution_count": 6,
   "metadata": {
    "ExecuteTime": {
     "end_time": "2019-03-10T17:37:41.543729Z",
     "start_time": "2019-03-10T17:37:40.402107Z"
    }
   },
   "outputs": [],
   "source": [
    "i = 7\n",
    "timestep = 240\n",
    "feature = 31"
   ]
  },
  {
   "cell_type": "code",
   "execution_count": 7,
   "metadata": {
    "ExecuteTime": {
     "end_time": "2019-03-10T17:37:41.613782Z",
     "start_time": "2019-03-10T17:37:41.545579Z"
    }
   },
   "outputs": [],
   "source": [
    "x_train = dataset[0][i][0].values\n",
    "x_test = dataset[1][i][0].values\n",
    "\n",
    "scaler = StandardScaler().fit(x_train)\n",
    "\n",
    "x_train = scaler.transform(x_train)\n",
    "x_test = scaler.transform(x_test)\n",
    "\n",
    "y_train = to_categorical(dataset[0][i][1].values, 2)\n",
    "y_test = to_categorical(dataset[1][i][1].values, 2)"
   ]
  },
  {
   "cell_type": "code",
   "execution_count": 8,
   "metadata": {
    "ExecuteTime": {
     "end_time": "2019-03-10T17:37:41.680797Z",
     "start_time": "2019-03-10T17:37:41.616657Z"
    }
   },
   "outputs": [
    {
     "name": "stdout",
     "output_type": "stream",
     "text": [
      "x train shape: (750, 31)\n",
      "y train shape: (750, 31, 2)\n",
      "x test shape: (490, 31)\n",
      "y test shape: (490, 31, 2)\n"
     ]
    }
   ],
   "source": [
    "print(f\"x train shape: {x_train.shape}\")\n",
    "print(f\"y train shape: {y_train.shape}\")\n",
    "print(f\"x test shape: {x_test.shape}\")\n",
    "print(f\"y test shape: {y_test.shape}\")"
   ]
  },
  {
   "cell_type": "code",
   "execution_count": 9,
   "metadata": {
    "ExecuteTime": {
     "end_time": "2019-03-10T17:37:41.811111Z",
     "start_time": "2019-03-10T17:37:41.685836Z"
    }
   },
   "outputs": [
    {
     "name": "stdout",
     "output_type": "stream",
     "text": [
      "x shape: (15810, 240)\n",
      "y shape: (15810, 2)\n"
     ]
    }
   ],
   "source": [
    "x_series = [x_train[i:i+timestep, j] for i in range(x_train.shape[0] - timestep) for j in range(feature)]\n",
    "y_series = [y_train[i+timestep, j] for i in range(y_train.shape[0] - timestep) for j in range(feature)]\n",
    "x = np.array(x_series)\n",
    "y = np.array(y_series)\n",
    "print(f\"x shape: {x.shape}\")\n",
    "print(f\"y shape: {y.shape}\")"
   ]
  },
  {
   "cell_type": "code",
   "execution_count": 10,
   "metadata": {
    "ExecuteTime": {
     "end_time": "2019-03-10T17:37:41.851072Z",
     "start_time": "2019-03-10T17:37:41.813803Z"
    }
   },
   "outputs": [
    {
     "name": "stdout",
     "output_type": "stream",
     "text": [
      "x1 shape: (7750, 240)\n",
      "y1 shape: (7750, 2)\n"
     ]
    }
   ],
   "source": [
    "x_series1 = [x_test[i:i+timestep, j] for i in range(x_test.shape[0] - timestep) for j in range(feature)]\n",
    "y_series1 = [y_test[i+timestep, j] for i in range(y_test.shape[0] - timestep) for j in range(feature)]\n",
    "x1 = np.array(x_series1)\n",
    "y1 = np.array(y_series1)\n",
    "print(f\"x1 shape: {x1.shape}\")\n",
    "print(f\"y1 shape: {y1.shape}\")"
   ]
  },
  {
   "cell_type": "code",
   "execution_count": 11,
   "metadata": {
    "ExecuteTime": {
     "end_time": "2019-03-10T17:37:41.998746Z",
     "start_time": "2019-03-10T17:37:41.853262Z"
    }
   },
   "outputs": [],
   "source": [
    "x = np.reshape(x, (x.shape[0], x.shape[1], 1))\n",
    "x1 = np.reshape(x1, (x1.shape[0], x1.shape[1], 1))"
   ]
  },
  {
   "cell_type": "code",
   "execution_count": 12,
   "metadata": {
    "ExecuteTime": {
     "end_time": "2019-03-10T17:37:42.507303Z",
     "start_time": "2019-03-10T17:37:42.001309Z"
    }
   },
   "outputs": [
    {
     "name": "stdout",
     "output_type": "stream",
     "text": [
      "_________________________________________________________________\n",
      "Layer (type)                 Output Shape              Param #   \n",
      "=================================================================\n",
      "lstm_1 (LSTM)                (None, 25)                2700      \n",
      "_________________________________________________________________\n",
      "dense_1 (Dense)              (None, 2)                 52        \n",
      "=================================================================\n",
      "Total params: 2,752\n",
      "Trainable params: 2,752\n",
      "Non-trainable params: 0\n",
      "_________________________________________________________________\n"
     ]
    }
   ],
   "source": [
    "regressor = Sequential()\n",
    "regressor.add(LSTM(units=25, input_shape=(timestep, 1)))\n",
    "# regressor.add(Dense(feature * 2, activation='relu'))\n",
    "# regressor.add(Reshape((feature, 2)))\n",
    "# regressor.add(Lambda(lambda x: softmax(x, axis=-1)))\n",
    "regressor.add(Dense(2, activation='softmax'))\n",
    "regressor.compile(loss='binary_crossentropy',\n",
    "                  optimizer='rmsprop',\n",
    "                  metrics=['accuracy'])\n",
    "regressor.summary()"
   ]
  },
  {
   "cell_type": "code",
   "execution_count": 13,
   "metadata": {
    "ExecuteTime": {
     "end_time": "2019-03-10T17:39:38.465125Z",
     "start_time": "2019-03-10T17:37:42.510923Z"
    }
   },
   "outputs": [
    {
     "name": "stdout",
     "output_type": "stream",
     "text": [
      "Train on 12648 samples, validate on 3162 samples\n",
      "Epoch 1/1000\n",
      "12648/12648 [==============================] - 7s 582us/step - loss: 0.6915 - acc: 0.5222 - val_loss: 0.6959 - val_acc: 0.4870\n",
      "Epoch 2/1000\n",
      "12648/12648 [==============================] - 6s 505us/step - loss: 0.6908 - acc: 0.5268 - val_loss: 0.6964 - val_acc: 0.4817\n",
      "Epoch 3/1000\n",
      "12648/12648 [==============================] - 6s 482us/step - loss: 0.6904 - acc: 0.5279 - val_loss: 0.6971 - val_acc: 0.4829\n",
      "Epoch 4/1000\n",
      "12648/12648 [==============================] - 6s 488us/step - loss: 0.6899 - acc: 0.5284 - val_loss: 0.6975 - val_acc: 0.4836\n",
      "Epoch 5/1000\n",
      "12648/12648 [==============================] - 6s 496us/step - loss: 0.6898 - acc: 0.5316 - val_loss: 0.6968 - val_acc: 0.4943\n",
      "Epoch 6/1000\n",
      "12648/12648 [==============================] - 6s 488us/step - loss: 0.6896 - acc: 0.5342 - val_loss: 0.6973 - val_acc: 0.4994\n",
      "Epoch 7/1000\n",
      "12648/12648 [==============================] - 6s 481us/step - loss: 0.6895 - acc: 0.5319 - val_loss: 0.6988 - val_acc: 0.4924\n",
      "Epoch 8/1000\n",
      "12648/12648 [==============================] - 6s 497us/step - loss: 0.6893 - acc: 0.5340 - val_loss: 0.6979 - val_acc: 0.4984\n",
      "Epoch 9/1000\n",
      "12648/12648 [==============================] - 6s 491us/step - loss: 0.6892 - acc: 0.5350 - val_loss: 0.6985 - val_acc: 0.4934\n",
      "Epoch 10/1000\n",
      "12648/12648 [==============================] - 7s 519us/step - loss: 0.6891 - acc: 0.5375 - val_loss: 0.6992 - val_acc: 0.4981\n",
      "Epoch 11/1000\n",
      "12648/12648 [==============================] - 6s 478us/step - loss: 0.6890 - acc: 0.5332 - val_loss: 0.6977 - val_acc: 0.4972\n",
      "Epoch 12/1000\n",
      "12648/12648 [==============================] - 7s 527us/step - loss: 0.6890 - acc: 0.5386 - val_loss: 0.6991 - val_acc: 0.4965\n",
      "Epoch 13/1000\n",
      "12648/12648 [==============================] - 5s 375us/step - loss: 0.6889 - acc: 0.5352 - val_loss: 0.6992 - val_acc: 0.4880\n",
      "Epoch 14/1000\n",
      "12648/12648 [==============================] - 4s 335us/step - loss: 0.6889 - acc: 0.5348 - val_loss: 0.6994 - val_acc: 0.4918\n",
      "Epoch 15/1000\n",
      "12648/12648 [==============================] - 4s 321us/step - loss: 0.6888 - acc: 0.5364 - val_loss: 0.7000 - val_acc: 0.4972\n",
      "Epoch 16/1000\n",
      "12648/12648 [==============================] - 4s 318us/step - loss: 0.6887 - acc: 0.5357 - val_loss: 0.6986 - val_acc: 0.4934\n",
      "Epoch 17/1000\n",
      "12648/12648 [==============================] - 4s 343us/step - loss: 0.6886 - acc: 0.5335 - val_loss: 0.6985 - val_acc: 0.4975\n",
      "Epoch 18/1000\n",
      "12648/12648 [==============================] - 4s 323us/step - loss: 0.6886 - acc: 0.5347 - val_loss: 0.7016 - val_acc: 0.4987\n",
      "Epoch 19/1000\n",
      "12648/12648 [==============================] - 4s 321us/step - loss: 0.6886 - acc: 0.5362 - val_loss: 0.7004 - val_acc: 0.4934\n",
      "Epoch 20/1000\n",
      "12648/12648 [==============================] - 4s 334us/step - loss: 0.6886 - acc: 0.5363 - val_loss: 0.7002 - val_acc: 0.4943\n",
      "Epoch 21/1000\n",
      "12648/12648 [==============================] - 4s 336us/step - loss: 0.6884 - acc: 0.5346 - val_loss: 0.6998 - val_acc: 0.4946\n"
     ]
    }
   ],
   "source": [
    "# result = regressor.fit_generator(train_gen, steps_per_epoch=len(train_gen), epochs=1000)\n",
    "result = regressor.fit(x, y,batch_size=1000, epochs=1000, validation_split=0.2, callbacks = [EarlyStopping(monitor='val_loss', mode='min', patience=20),\n",
    "             ModelCheckpoint(filepath='best_model.h5', monitor='val_acc', save_best_only=True)])\n",
    "# result = regressor.fit(x, y,batch_size=1000, epochs=1000, validation_data=(x1, y1), callbacks = [EarlyStopping(monitor='val_loss', mode='min', patience=20),\n",
    "#              ModelCheckpoint(filepath='best_model.h5', monitor='val_acc', save_best_only=True)])"
   ]
  },
  {
   "cell_type": "code",
   "execution_count": 14,
   "metadata": {
    "ExecuteTime": {
     "end_time": "2019-03-10T17:39:38.755140Z",
     "start_time": "2019-03-10T17:39:38.467743Z"
    }
   },
   "outputs": [
    {
     "data": {
      "text/plain": [
       "[<matplotlib.lines.Line2D at 0x7f2a786b8f60>]"
      ]
     },
     "execution_count": 14,
     "metadata": {},
     "output_type": "execute_result"
    },
    {
     "data": {
      "image/png": "[encoded data removed]",
      "text/plain": [
       "<Figure size 432x288 with 1 Axes>"
      ]
     },
     "metadata": {
      "needs_background": "light"
     },
     "output_type": "display_data"
    }
   ],
   "source": [
    "plt.plot(result.history[\"acc\"])\n",
    "plt.plot(result.history[\"val_acc\"])"
   ]
  },
  {
   "cell_type": "code",
   "execution_count": 15,
   "metadata": {
    "ExecuteTime": {
     "end_time": "2019-03-10T17:39:38.971935Z",
     "start_time": "2019-03-10T17:39:38.757566Z"
    }
   },
   "outputs": [
    {
     "data": {
      "text/plain": [
       "[<matplotlib.lines.Line2D at 0x7f2aa4b115f8>]"
      ]
     },
     "execution_count": 15,
     "metadata": {},
     "output_type": "execute_result"
    },
    {
     "data": {
      "image/png": "[encoded data removed]",
      "text/plain": [
       "<Figure size 432x288 with 1 Axes>"
      ]
     },
     "metadata": {
      "needs_background": "light"
     },
     "output_type": "display_data"
    }
   ],
   "source": [
    "plt.plot(result.history[\"loss\"])\n",
    "plt.plot(result.history[\"val_loss\"])"
   ]
  }
 ],
 "metadata": {
  "kernelspec": {
   "display_name": "projet_S5",
   "language": "python",
   "name": "projet_s5"
  },
  "language_info": {
   "codemirror_mode": {
    "name": "ipython",
    "version": 3
   },
   "file_extension": ".py",
   "mimetype": "text/x-python",
   "name": "python",
   "nbconvert_exporter": "python",
   "pygments_lexer": "ipython3",
   "version": "3.6.7"
  },
  "toc": {
   "base_numbering": 1,
   "nav_menu": {},
   "number_sections": true,
   "sideBar": true,
   "skip_h1_title": false,
   "title_cell": "Table of Contents",
   "title_sidebar": "Contents",
   "toc_cell": false,
   "toc_position": {},
   "toc_section_display": true,
   "toc_window_display": false
  }
 },
 "nbformat": 4,
 "nbformat_minor": 2
}
