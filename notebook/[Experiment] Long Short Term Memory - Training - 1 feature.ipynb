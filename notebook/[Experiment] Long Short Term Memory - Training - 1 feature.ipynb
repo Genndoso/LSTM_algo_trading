{
 "cells": [
  {
   "cell_type": "code",
   "execution_count": 1,
   "metadata": {
    "ExecuteTime": {
     "end_time": "2019-03-10T16:18:29.677439Z",
     "start_time": "2019-03-10T16:18:28.732369Z"
    },
    "scrolled": true
   },
   "outputs": [],
   "source": [
    "# List all device\n",
    "from tensorflow.python.client import device_lib\n",
    "# print(device_lib.list_local_devices())"
   ]
  },
  {
   "cell_type": "code",
   "execution_count": 2,
   "metadata": {
    "ExecuteTime": {
     "end_time": "2019-03-10T16:18:29.716882Z",
     "start_time": "2019-03-10T16:18:29.679083Z"
    },
    "scrolled": true
   },
   "outputs": [
    {
     "name": "stderr",
     "output_type": "stream",
     "text": [
      "Using TensorFlow backend.\n"
     ]
    },
    {
     "data": {
      "text/plain": [
       "[]"
      ]
     },
     "execution_count": 2,
     "metadata": {},
     "output_type": "execute_result"
    }
   ],
   "source": [
    "# Check available GPU\n",
    "from keras import backend as K\n",
    "K.tensorflow_backend._get_available_gpus()"
   ]
  },
  {
   "cell_type": "code",
   "execution_count": 3,
   "metadata": {
    "ExecuteTime": {
     "end_time": "2019-03-10T16:18:29.757306Z",
     "start_time": "2019-03-10T16:18:29.718432Z"
    }
   },
   "outputs": [],
   "source": [
    "import os\n",
    "os.environ[\"CUDA_DEVICE_ORDER\"]=\"PCI_BUS_ID\";\n",
    "# The GPU id to use, usually either \"0\" or \"1\";\n",
    "os.environ[\"CUDA_VISIBLE_DEVICES\"]=\"0\";  "
   ]
  },
  {
   "cell_type": "code",
   "execution_count": 4,
   "metadata": {
    "ExecuteTime": {
     "end_time": "2019-03-10T16:18:30.166670Z",
     "start_time": "2019-03-10T16:18:29.759833Z"
    }
   },
   "outputs": [],
   "source": [
    "# Importing the libraries\n",
    "import numpy as np\n",
    "import pandas as pd\n",
    "from keras.models import Sequential\n",
    "from keras.layers import Dense, LSTM, Dropout, Reshape, Lambda, GRU, BatchNormalization, Bidirectional\n",
    "from keras.preprocessing.sequence import TimeseriesGenerator\n",
    "from keras.callbacks import EarlyStopping, ModelCheckpoint\n",
    "from keras.activations import softmax\n",
    "from keras.optimizers import SGD, RMSprop\n",
    "import math\n",
    "import pickle\n",
    "import matplotlib.pyplot as plt\n",
    "from keras.utils import to_categorical\n",
    "from sklearn.preprocessing import StandardScaler"
   ]
  },
  {
   "cell_type": "code",
   "execution_count": 5,
   "metadata": {
    "ExecuteTime": {
     "end_time": "2019-03-10T16:18:30.180174Z",
     "start_time": "2019-03-10T16:18:30.168555Z"
    }
   },
   "outputs": [],
   "source": [
    "index = \"dowjones\"\n",
    "# index = \"frankfurt\"\n",
    "with open(f\"../data/{index}_calculated/periods750_250_240.txt\", \"rb\") as fp:   # Unpickling\n",
    "    dataset = pickle.load(fp)"
   ]
  },
  {
   "cell_type": "code",
   "execution_count": 6,
   "metadata": {
    "ExecuteTime": {
     "end_time": "2019-03-10T16:18:30.244351Z",
     "start_time": "2019-03-10T16:18:30.181416Z"
    }
   },
   "outputs": [],
   "source": [
    "i = 7\n",
    "timestep = 240\n",
    "feature = 31"
   ]
  },
  {
   "cell_type": "code",
   "execution_count": 7,
   "metadata": {
    "ExecuteTime": {
     "end_time": "2019-03-10T16:18:30.317680Z",
     "start_time": "2019-03-10T16:18:30.251321Z"
    }
   },
   "outputs": [],
   "source": [
    "x_train = dataset[0][i][0].values\n",
    "x_test = dataset[1][i][0].values\n",
    "\n",
    "scaler = StandardScaler().fit(x_train)\n",
    "\n",
    "x_train = scaler.transform(x_train)\n",
    "x_test = scaler.transform(x_test)\n",
    "\n",
    "y_train = to_categorical(dataset[0][i][1].values, 2)\n",
    "y_test = to_categorical(dataset[1][i][1].values, 2)"
   ]
  },
  {
   "cell_type": "code",
   "execution_count": 8,
   "metadata": {
    "ExecuteTime": {
     "end_time": "2019-03-10T16:18:30.377829Z",
     "start_time": "2019-03-10T16:18:30.325703Z"
    }
   },
   "outputs": [
    {
     "name": "stdout",
     "output_type": "stream",
     "text": [
      "x train shape: (750, 31)\n",
      "y train shape: (750, 31, 2)\n",
      "x test shape: (490, 31)\n",
      "y test shape: (490, 31, 2)\n"
     ]
    }
   ],
   "source": [
    "print(f\"x train shape: {x_train.shape}\")\n",
    "print(f\"y train shape: {y_train.shape}\")\n",
    "print(f\"x test shape: {x_test.shape}\")\n",
    "print(f\"y test shape: {y_test.shape}\")"
   ]
  },
  {
   "cell_type": "code",
   "execution_count": 9,
   "metadata": {
    "ExecuteTime": {
     "end_time": "2019-03-10T16:18:30.493825Z",
     "start_time": "2019-03-10T16:18:30.379735Z"
    }
   },
   "outputs": [
    {
     "name": "stdout",
     "output_type": "stream",
     "text": [
      "x shape: (15810, 240)\n",
      "y shape: (15810, 2)\n"
     ]
    }
   ],
   "source": [
    "x_series = [x_train[i:i+timestep, j] for i in range(x_train.shape[0] - timestep) for j in range(feature)]\n",
    "y_series = [y_train[i+timestep, j] for i in range(y_train.shape[0] - timestep) for j in range(feature)]\n",
    "x = np.array(x_series)\n",
    "y = np.array(y_series)\n",
    "print(f\"x shape: {x.shape}\")\n",
    "print(f\"y shape: {y.shape}\")"
   ]
  },
  {
   "cell_type": "code",
   "execution_count": 10,
   "metadata": {
    "ExecuteTime": {
     "end_time": "2019-03-10T16:18:30.561929Z",
     "start_time": "2019-03-10T16:18:30.495093Z"
    }
   },
   "outputs": [
    {
     "name": "stdout",
     "output_type": "stream",
     "text": [
      "x1 shape: (7750, 240)\n",
      "y1 shape: (7750, 2)\n"
     ]
    }
   ],
   "source": [
    "x_series1 = [x_test[i:i+timestep, j] for i in range(x_test.shape[0] - timestep) for j in range(feature)]\n",
    "y_series1 = [y_test[i+timestep, j] for i in range(y_test.shape[0] - timestep) for j in range(feature)]\n",
    "x1 = np.array(x_series1)\n",
    "y1 = np.array(y_series1)\n",
    "print(f\"x1 shape: {x1.shape}\")\n",
    "print(f\"y1 shape: {y1.shape}\")"
   ]
  },
  {
   "cell_type": "code",
   "execution_count": 11,
   "metadata": {
    "ExecuteTime": {
     "end_time": "2019-03-10T16:18:30.624023Z",
     "start_time": "2019-03-10T16:18:30.563794Z"
    }
   },
   "outputs": [],
   "source": [
    "x = np.reshape(x, (x.shape[0], x.shape[1], 1))\n",
    "x1 = np.reshape(x1, (x1.shape[0], x1.shape[1], 1))"
   ]
  },
  {
   "cell_type": "code",
   "execution_count": 12,
   "metadata": {
    "ExecuteTime": {
     "end_time": "2019-03-10T16:18:30.910331Z",
     "start_time": "2019-03-10T16:18:30.626069Z"
    }
   },
   "outputs": [
    {
     "name": "stdout",
     "output_type": "stream",
     "text": [
      "_________________________________________________________________\n",
      "Layer (type)                 Output Shape              Param #   \n",
      "=================================================================\n",
      "lstm_1 (LSTM)                (None, 25)                2700      \n",
      "_________________________________________________________________\n",
      "dense_1 (Dense)              (None, 2)                 52        \n",
      "=================================================================\n",
      "Total params: 2,752\n",
      "Trainable params: 2,752\n",
      "Non-trainable params: 0\n",
      "_________________________________________________________________\n"
     ]
    }
   ],
   "source": [
    "regressor = Sequential()\n",
    "regressor.add(LSTM(units=25, input_shape=(timestep, 1)))\n",
    "# regressor.add(Dense(feature * 2, activation='relu'))\n",
    "# regressor.add(Reshape((feature, 2)))\n",
    "# regressor.add(Lambda(lambda x: softmax(x, axis=-1)))\n",
    "regressor.add(Dense(2, activation='softmax'))\n",
    "regressor.compile(loss='binary_crossentropy',\n",
    "                  optimizer='rmsprop',\n",
    "                  metrics=['accuracy'])\n",
    "regressor.summary()"
   ]
  },
  {
   "cell_type": "code",
   "execution_count": 13,
   "metadata": {
    "ExecuteTime": {
     "end_time": "2019-03-10T16:19:53.118862Z",
     "start_time": "2019-03-10T16:18:30.911685Z"
    }
   },
   "outputs": [
    {
     "name": "stdout",
     "output_type": "stream",
     "text": [
      "Train on 12648 samples, validate on 3162 samples\n",
      "Epoch 1/1000\n",
      "12648/12648 [==============================] - 4s 280us/step - loss: 0.6935 - acc: 0.5105 - val_loss: 0.6931 - val_acc: 0.5130\n",
      "Epoch 2/1000\n",
      "12648/12648 [==============================] - 3s 239us/step - loss: 0.6926 - acc: 0.5156 - val_loss: 0.6927 - val_acc: 0.5209\n",
      "Epoch 3/1000\n",
      "12648/12648 [==============================] - 3s 239us/step - loss: 0.6925 - acc: 0.5174 - val_loss: 0.6927 - val_acc: 0.5120\n",
      "Epoch 4/1000\n",
      "12648/12648 [==============================] - 3s 243us/step - loss: 0.6924 - acc: 0.5168 - val_loss: 0.6927 - val_acc: 0.5155\n",
      "Epoch 5/1000\n",
      "12648/12648 [==============================] - 3s 238us/step - loss: 0.6924 - acc: 0.5176 - val_loss: 0.6927 - val_acc: 0.5120\n",
      "Epoch 6/1000\n",
      "12648/12648 [==============================] - 3s 237us/step - loss: 0.6924 - acc: 0.5198 - val_loss: 0.6927 - val_acc: 0.5120\n",
      "Epoch 7/1000\n",
      "12648/12648 [==============================] - 3s 246us/step - loss: 0.6924 - acc: 0.5189 - val_loss: 0.6927 - val_acc: 0.5161\n",
      "Epoch 8/1000\n",
      "12648/12648 [==============================] - 3s 244us/step - loss: 0.6923 - acc: 0.5208 - val_loss: 0.6927 - val_acc: 0.5136\n",
      "Epoch 9/1000\n",
      "12648/12648 [==============================] - 3s 255us/step - loss: 0.6923 - acc: 0.5194 - val_loss: 0.6927 - val_acc: 0.5152\n",
      "Epoch 10/1000\n",
      "12648/12648 [==============================] - 3s 274us/step - loss: 0.6923 - acc: 0.5187 - val_loss: 0.6927 - val_acc: 0.5108\n",
      "Epoch 11/1000\n",
      "12648/12648 [==============================] - 3s 270us/step - loss: 0.6922 - acc: 0.5206 - val_loss: 0.6927 - val_acc: 0.5104\n",
      "Epoch 12/1000\n",
      "12648/12648 [==============================] - 4s 277us/step - loss: 0.6922 - acc: 0.5220 - val_loss: 0.6928 - val_acc: 0.5190\n",
      "Epoch 13/1000\n",
      "12648/12648 [==============================] - 3s 271us/step - loss: 0.6922 - acc: 0.5179 - val_loss: 0.6929 - val_acc: 0.5089\n",
      "Epoch 14/1000\n",
      "12648/12648 [==============================] - 3s 272us/step - loss: 0.6923 - acc: 0.5201 - val_loss: 0.6928 - val_acc: 0.5104\n",
      "Epoch 15/1000\n",
      "12648/12648 [==============================] - 4s 277us/step - loss: 0.6922 - acc: 0.5201 - val_loss: 0.6929 - val_acc: 0.5079\n",
      "Epoch 16/1000\n",
      "12648/12648 [==============================] - 4s 278us/step - loss: 0.6922 - acc: 0.5222 - val_loss: 0.6929 - val_acc: 0.5054\n",
      "Epoch 17/1000\n",
      "12648/12648 [==============================] - 3s 269us/step - loss: 0.6923 - acc: 0.5209 - val_loss: 0.6929 - val_acc: 0.5101\n",
      "Epoch 18/1000\n",
      "12648/12648 [==============================] - 3s 271us/step - loss: 0.6922 - acc: 0.5194 - val_loss: 0.6930 - val_acc: 0.5098\n",
      "Epoch 19/1000\n",
      "12648/12648 [==============================] - 3s 272us/step - loss: 0.6923 - acc: 0.5206 - val_loss: 0.6929 - val_acc: 0.5101\n",
      "Epoch 20/1000\n",
      "12648/12648 [==============================] - 4s 277us/step - loss: 0.6922 - acc: 0.5204 - val_loss: 0.6930 - val_acc: 0.5070\n",
      "Epoch 21/1000\n",
      "12648/12648 [==============================] - 4s 282us/step - loss: 0.6922 - acc: 0.5229 - val_loss: 0.6930 - val_acc: 0.5092\n",
      "Epoch 22/1000\n",
      "12648/12648 [==============================] - 4s 339us/step - loss: 0.6922 - acc: 0.5197 - val_loss: 0.6930 - val_acc: 0.5136\n",
      "Epoch 23/1000\n",
      "12648/12648 [==============================] - 4s 317us/step - loss: 0.6921 - acc: 0.5218 - val_loss: 0.6931 - val_acc: 0.5079\n",
      "Epoch 24/1000\n",
      "12648/12648 [==============================] - 4s 278us/step - loss: 0.6922 - acc: 0.5218 - val_loss: 0.6932 - val_acc: 0.5133\n"
     ]
    }
   ],
   "source": [
    "# result = regressor.fit_generator(train_gen, steps_per_epoch=len(train_gen), epochs=1000)\n",
    "result = regressor.fit(x, y,batch_size=1000, epochs=1000, validation_split=0.2, callbacks = [EarlyStopping(monitor='val_loss', mode='min', patience=20),\n",
    "             ModelCheckpoint(filepath='best_model.h5', monitor='val_acc', save_best_only=True)])\n",
    "# result = regressor.fit(x, y,batch_size=1000, epochs=1000, validation_data=(x1, y1), callbacks = [EarlyStopping(monitor='val_loss', mode='min', patience=20),\n",
    "#              ModelCheckpoint(filepath='best_model.h5', monitor='val_acc', save_best_only=True)])"
   ]
  },
  {
   "cell_type": "code",
   "execution_count": 14,
   "metadata": {
    "ExecuteTime": {
     "end_time": "2019-03-10T16:19:53.295879Z",
     "start_time": "2019-03-10T16:19:53.120904Z"
    }
   },
   "outputs": [
    {
     "data": {
      "text/plain": [
       "[<matplotlib.lines.Line2D at 0x7f97597f1e48>]"
      ]
     },
     "execution_count": 14,
     "metadata": {},
     "output_type": "execute_result"
    },
    {
     "data": {
      "image/png": "[encoded data removed]",
      "text/plain": [
       "<Figure size 432x288 with 1 Axes>"
      ]
     },
     "metadata": {
      "needs_background": "light"
     },
     "output_type": "display_data"
    }
   ],
   "source": [
    "plt.plot(result.history[\"acc\"])\n",
    "plt.plot(result.history[\"val_acc\"])"
   ]
  },
  {
   "cell_type": "code",
   "execution_count": 15,
   "metadata": {
    "ExecuteTime": {
     "end_time": "2019-03-10T16:19:53.931241Z",
     "start_time": "2019-03-10T16:19:53.297709Z"
    }
   },
   "outputs": [
    {
     "data": {
      "text/plain": [
       "[<matplotlib.lines.Line2D at 0x7f974b5180f0>]"
      ]
     },
     "execution_count": 15,
     "metadata": {},
     "output_type": "execute_result"
    },
    {
     "data": {
      "image/png": "[encoded data removed]",
      "text/plain": [
       "<Figure size 432x288 with 1 Axes>"
      ]
     },
     "metadata": {
      "needs_background": "light"
     },
     "output_type": "display_data"
    }
   ],
   "source": [
    "plt.plot(result.history[\"loss\"])\n",
    "plt.plot(result.history[\"val_loss\"])"
   ]
  }
 ],
 "metadata": {
  "kernelspec": {
   "display_name": "projet_S5",
   "language": "python",
   "name": "projet_s5"
  },
  "language_info": {
   "codemirror_mode": {
    "name": "ipython",
    "version": 3
   },
   "file_extension": ".py",
   "mimetype": "text/x-python",
   "name": "python",
   "nbconvert_exporter": "python",
   "pygments_lexer": "ipython3",
   "version": "3.6.7"
  },
  "toc": {
   "base_numbering": 1,
   "nav_menu": {},
   "number_sections": true,
   "sideBar": true,
   "skip_h1_title": false,
   "title_cell": "Table of Contents",
   "title_sidebar": "Contents",
   "toc_cell": false,
   "toc_position": {},
   "toc_section_display": true,
   "toc_window_display": false
  }
 },
 "nbformat": 4,
 "nbformat_minor": 2
}
