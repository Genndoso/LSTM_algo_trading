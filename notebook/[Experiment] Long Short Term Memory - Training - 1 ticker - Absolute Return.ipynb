{
 "cells": [
  {
   "cell_type": "code",
   "execution_count": 1,
   "metadata": {
    "ExecuteTime": {
     "end_time": "2019-03-10T18:12:47.097165Z",
     "start_time": "2019-03-10T18:12:45.310179Z"
    },
    "scrolled": true
   },
   "outputs": [],
   "source": [
    "# List all device\n",
    "from tensorflow.python.client import device_lib\n",
    "# print(device_lib.list_local_devices())"
   ]
  },
  {
   "cell_type": "code",
   "execution_count": 2,
   "metadata": {
    "ExecuteTime": {
     "end_time": "2019-03-10T18:12:47.172003Z",
     "start_time": "2019-03-10T18:12:47.100394Z"
    },
    "scrolled": true
   },
   "outputs": [
    {
     "name": "stderr",
     "output_type": "stream",
     "text": [
      "Using TensorFlow backend.\n"
     ]
    },
    {
     "data": {
      "text/plain": [
       "[]"
      ]
     },
     "execution_count": 2,
     "metadata": {},
     "output_type": "execute_result"
    }
   ],
   "source": [
    "# Check available GPU\n",
    "from keras import backend as K\n",
    "K.tensorflow_backend._get_available_gpus()"
   ]
  },
  {
   "cell_type": "code",
   "execution_count": 3,
   "metadata": {
    "ExecuteTime": {
     "end_time": "2019-03-10T18:12:47.180646Z",
     "start_time": "2019-03-10T18:12:47.176323Z"
    }
   },
   "outputs": [],
   "source": [
    "import os\n",
    "os.environ[\"CUDA_DEVICE_ORDER\"]=\"PCI_BUS_ID\";\n",
    "# The GPU id to use, usually either \"0\" or \"1\";\n",
    "os.environ[\"CUDA_VISIBLE_DEVICES\"]=\"0\";  "
   ]
  },
  {
   "cell_type": "code",
   "execution_count": 4,
   "metadata": {
    "ExecuteTime": {
     "end_time": "2019-03-10T18:12:47.846617Z",
     "start_time": "2019-03-10T18:12:47.184538Z"
    }
   },
   "outputs": [],
   "source": [
    "# Importing the libraries\n",
    "import numpy as np\n",
    "import pandas as pd\n",
    "from keras.models import Sequential\n",
    "from keras.layers import Dense, LSTM, Dropout, Reshape, Lambda, GRU, BatchNormalization, Bidirectional\n",
    "from keras.preprocessing.sequence import TimeseriesGenerator\n",
    "from keras.callbacks import EarlyStopping, ModelCheckpoint\n",
    "from keras.activations import softmax\n",
    "from keras.optimizers import SGD, RMSprop\n",
    "import math\n",
    "import pickle\n",
    "import matplotlib.pyplot as plt\n",
    "from keras.utils import to_categorical\n",
    "from sklearn.preprocessing import StandardScaler"
   ]
  },
  {
   "cell_type": "code",
   "execution_count": 5,
   "metadata": {
    "ExecuteTime": {
     "end_time": "2019-03-10T18:12:47.867959Z",
     "start_time": "2019-03-10T18:12:47.849424Z"
    }
   },
   "outputs": [],
   "source": [
    "index = \"dowjones\"\n",
    "# index = \"frankfurt\"\n",
    "with open(f\"../data/{index}_calculated/absolute_periods750_250_240.txt\", \"rb\") as fp:   # Unpickling\n",
    "    dataset = pickle.load(fp)"
   ]
  },
  {
   "cell_type": "code",
   "execution_count": 6,
   "metadata": {
    "ExecuteTime": {
     "end_time": "2019-03-10T18:12:47.921586Z",
     "start_time": "2019-03-10T18:12:47.870568Z"
    }
   },
   "outputs": [],
   "source": [
    "i = 7\n",
    "timestep = 240\n",
    "feature = 31"
   ]
  },
  {
   "cell_type": "code",
   "execution_count": 7,
   "metadata": {
    "ExecuteTime": {
     "end_time": "2019-03-10T18:12:47.991148Z",
     "start_time": "2019-03-10T18:12:47.924180Z"
    }
   },
   "outputs": [],
   "source": [
    "x_train = dataset[0][i][0].values\n",
    "x_test = dataset[1][i][0].values\n",
    "\n",
    "scaler = StandardScaler().fit(x_train)\n",
    "\n",
    "x_train = scaler.transform(x_train)\n",
    "x_test = scaler.transform(x_test)\n",
    "\n",
    "y_train = to_categorical(dataset[0][i][1].values, 2)\n",
    "y_test = to_categorical(dataset[1][i][1].values, 2)"
   ]
  },
  {
   "cell_type": "code",
   "execution_count": 8,
   "metadata": {
    "ExecuteTime": {
     "end_time": "2019-03-10T18:12:48.056988Z",
     "start_time": "2019-03-10T18:12:47.995602Z"
    }
   },
   "outputs": [
    {
     "name": "stdout",
     "output_type": "stream",
     "text": [
      "x train shape: (750, 31)\n",
      "y train shape: (750, 31, 2)\n",
      "x test shape: (490, 31)\n",
      "y test shape: (490, 31, 2)\n"
     ]
    }
   ],
   "source": [
    "print(f\"x train shape: {x_train.shape}\")\n",
    "print(f\"y train shape: {y_train.shape}\")\n",
    "print(f\"x test shape: {x_test.shape}\")\n",
    "print(f\"y test shape: {y_test.shape}\")"
   ]
  },
  {
   "cell_type": "code",
   "execution_count": 9,
   "metadata": {
    "ExecuteTime": {
     "end_time": "2019-03-10T18:12:48.129069Z",
     "start_time": "2019-03-10T18:12:48.060392Z"
    }
   },
   "outputs": [
    {
     "name": "stdout",
     "output_type": "stream",
     "text": [
      "x shape: (510, 240)\n",
      "y shape: (510, 2)\n"
     ]
    }
   ],
   "source": [
    "j = 25\n",
    "x_series = [x_train[i:i+timestep, j] for i in range(x_train.shape[0] - timestep)]\n",
    "y_series = [y_train[i+timestep, j] for i in range(y_train.shape[0] - timestep)]\n",
    "x = np.array(x_series)\n",
    "y = np.array(y_series)\n",
    "print(f\"x shape: {x.shape}\")\n",
    "print(f\"y shape: {y.shape}\")"
   ]
  },
  {
   "cell_type": "code",
   "execution_count": 10,
   "metadata": {
    "ExecuteTime": {
     "end_time": "2019-03-10T18:12:48.194547Z",
     "start_time": "2019-03-10T18:12:48.131845Z"
    }
   },
   "outputs": [
    {
     "name": "stdout",
     "output_type": "stream",
     "text": [
      "x1 shape: (250, 240)\n",
      "y1 shape: (250, 2)\n"
     ]
    }
   ],
   "source": [
    "x_series1 = [x_test[i:i+timestep, j] for i in range(x_test.shape[0] - timestep)]\n",
    "y_series1 = [y_test[i+timestep, j] for i in range(y_test.shape[0] - timestep)]\n",
    "x1 = np.array(x_series1)\n",
    "y1 = np.array(y_series1)\n",
    "print(f\"x1 shape: {x1.shape}\")\n",
    "print(f\"y1 shape: {y1.shape}\")"
   ]
  },
  {
   "cell_type": "code",
   "execution_count": 11,
   "metadata": {
    "ExecuteTime": {
     "end_time": "2019-03-10T18:12:48.258303Z",
     "start_time": "2019-03-10T18:12:48.200162Z"
    }
   },
   "outputs": [],
   "source": [
    "x = np.reshape(x, (x.shape[0], x.shape[1], 1))\n",
    "x1 = np.reshape(x1, (x1.shape[0], x1.shape[1], 1))"
   ]
  },
  {
   "cell_type": "code",
   "execution_count": 12,
   "metadata": {
    "ExecuteTime": {
     "end_time": "2019-03-10T18:12:48.850974Z",
     "start_time": "2019-03-10T18:12:48.260792Z"
    }
   },
   "outputs": [
    {
     "name": "stdout",
     "output_type": "stream",
     "text": [
      "_________________________________________________________________\n",
      "Layer (type)                 Output Shape              Param #   \n",
      "=================================================================\n",
      "lstm_1 (LSTM)                (None, 25)                2700      \n",
      "_________________________________________________________________\n",
      "dense_1 (Dense)              (None, 2)                 52        \n",
      "=================================================================\n",
      "Total params: 2,752\n",
      "Trainable params: 2,752\n",
      "Non-trainable params: 0\n",
      "_________________________________________________________________\n"
     ]
    }
   ],
   "source": [
    "dropout_level = 0.1\n",
    "regressor = Sequential()\n",
    "regressor.add(LSTM(units=25, input_shape=(timestep, 1), recurrent_dropout=dropout_level, dropout=dropout_level))\n",
    "# regressor.add(Dense(feature * 2, activation='relu'))\n",
    "# regressor.add(Reshape((feature, 2)))\n",
    "# regressor.add(Lambda(lambda x: softmax(x, axis=-1)))\n",
    "regressor.add(Dense(2, activation='softmax'))\n",
    "regressor.compile(loss='binary_crossentropy',\n",
    "                  optimizer='rmsprop',\n",
    "                  metrics=['accuracy'])\n",
    "regressor.summary()"
   ]
  },
  {
   "cell_type": "code",
   "execution_count": 13,
   "metadata": {
    "ExecuteTime": {
     "end_time": "2019-03-10T18:13:20.940303Z",
     "start_time": "2019-03-10T18:12:48.852872Z"
    }
   },
   "outputs": [
    {
     "name": "stdout",
     "output_type": "stream",
     "text": [
      "Train on 408 samples, validate on 102 samples\n",
      "Epoch 1/1000\n",
      "408/408 [==============================] - 1s 4ms/step - loss: 0.6910 - acc: 0.5110 - val_loss: 0.7022 - val_acc: 0.5196\n",
      "Epoch 2/1000\n",
      "408/408 [==============================] - 0s 891us/step - loss: 0.6888 - acc: 0.5221 - val_loss: 0.7016 - val_acc: 0.5196\n",
      "Epoch 3/1000\n",
      "408/408 [==============================] - 0s 717us/step - loss: 0.6896 - acc: 0.5319 - val_loss: 0.7010 - val_acc: 0.4902\n",
      "Epoch 4/1000\n",
      "408/408 [==============================] - 0s 812us/step - loss: 0.6890 - acc: 0.5245 - val_loss: 0.7008 - val_acc: 0.4804\n",
      "Epoch 5/1000\n",
      "408/408 [==============================] - 0s 836us/step - loss: 0.6895 - acc: 0.5319 - val_loss: 0.6997 - val_acc: 0.4804\n",
      "Epoch 6/1000\n",
      "408/408 [==============================] - 0s 756us/step - loss: 0.6874 - acc: 0.5392 - val_loss: 0.6996 - val_acc: 0.4706\n",
      "Epoch 7/1000\n",
      "408/408 [==============================] - 0s 780us/step - loss: 0.6881 - acc: 0.5417 - val_loss: 0.6987 - val_acc: 0.4608\n",
      "Epoch 8/1000\n",
      "408/408 [==============================] - 0s 755us/step - loss: 0.6868 - acc: 0.5515 - val_loss: 0.6986 - val_acc: 0.4510\n",
      "Epoch 9/1000\n",
      "408/408 [==============================] - 0s 760us/step - loss: 0.6868 - acc: 0.5588 - val_loss: 0.6987 - val_acc: 0.4608\n",
      "Epoch 10/1000\n",
      "408/408 [==============================] - 0s 782us/step - loss: 0.6881 - acc: 0.5343 - val_loss: 0.6982 - val_acc: 0.4608\n",
      "Epoch 11/1000\n",
      "408/408 [==============================] - 0s 831us/step - loss: 0.6859 - acc: 0.5564 - val_loss: 0.6981 - val_acc: 0.4510\n",
      "Epoch 12/1000\n",
      "408/408 [==============================] - 0s 786us/step - loss: 0.6871 - acc: 0.5343 - val_loss: 0.6981 - val_acc: 0.4608\n",
      "Epoch 13/1000\n",
      "408/408 [==============================] - 0s 785us/step - loss: 0.6871 - acc: 0.5613 - val_loss: 0.6982 - val_acc: 0.4608\n",
      "Epoch 14/1000\n",
      "408/408 [==============================] - 0s 768us/step - loss: 0.6844 - acc: 0.5711 - val_loss: 0.6991 - val_acc: 0.4706\n",
      "Epoch 15/1000\n",
      "408/408 [==============================] - 0s 802us/step - loss: 0.6883 - acc: 0.5392 - val_loss: 0.6986 - val_acc: 0.4706\n",
      "Epoch 16/1000\n",
      "408/408 [==============================] - 0s 862us/step - loss: 0.6875 - acc: 0.5490 - val_loss: 0.6981 - val_acc: 0.4608\n",
      "Epoch 17/1000\n",
      "408/408 [==============================] - 0s 832us/step - loss: 0.6878 - acc: 0.5368 - val_loss: 0.6978 - val_acc: 0.4608\n",
      "Epoch 18/1000\n",
      "408/408 [==============================] - 0s 670us/step - loss: 0.6871 - acc: 0.5515 - val_loss: 0.6977 - val_acc: 0.4608\n",
      "Epoch 19/1000\n",
      "408/408 [==============================] - 0s 749us/step - loss: 0.6866 - acc: 0.5417 - val_loss: 0.6978 - val_acc: 0.4706\n",
      "Epoch 20/1000\n",
      "408/408 [==============================] - 0s 894us/step - loss: 0.6868 - acc: 0.5564 - val_loss: 0.6976 - val_acc: 0.4706\n",
      "Epoch 21/1000\n",
      "408/408 [==============================] - 0s 835us/step - loss: 0.6868 - acc: 0.5417 - val_loss: 0.6977 - val_acc: 0.4706\n",
      "Epoch 22/1000\n",
      "408/408 [==============================] - 0s 797us/step - loss: 0.6864 - acc: 0.5319 - val_loss: 0.6972 - val_acc: 0.4804\n",
      "Epoch 23/1000\n",
      "408/408 [==============================] - 0s 784us/step - loss: 0.6881 - acc: 0.5466 - val_loss: 0.6970 - val_acc: 0.4804\n",
      "Epoch 24/1000\n",
      "408/408 [==============================] - 0s 747us/step - loss: 0.6848 - acc: 0.5662 - val_loss: 0.6977 - val_acc: 0.4804\n",
      "Epoch 25/1000\n",
      "408/408 [==============================] - 0s 851us/step - loss: 0.6877 - acc: 0.5441 - val_loss: 0.6974 - val_acc: 0.4706\n",
      "Epoch 26/1000\n",
      "408/408 [==============================] - 0s 757us/step - loss: 0.6860 - acc: 0.5490 - val_loss: 0.6972 - val_acc: 0.4804\n",
      "Epoch 27/1000\n",
      "408/408 [==============================] - 0s 771us/step - loss: 0.6857 - acc: 0.5564 - val_loss: 0.6971 - val_acc: 0.4804\n",
      "Epoch 28/1000\n",
      "408/408 [==============================] - 0s 786us/step - loss: 0.6864 - acc: 0.5539 - val_loss: 0.6970 - val_acc: 0.4902\n",
      "Epoch 29/1000\n",
      "408/408 [==============================] - 0s 807us/step - loss: 0.6866 - acc: 0.5490 - val_loss: 0.6969 - val_acc: 0.5000\n",
      "Epoch 30/1000\n",
      "408/408 [==============================] - 0s 946us/step - loss: 0.6838 - acc: 0.5564 - val_loss: 0.6976 - val_acc: 0.4804\n",
      "Epoch 31/1000\n",
      "408/408 [==============================] - 0s 810us/step - loss: 0.6832 - acc: 0.5613 - val_loss: 0.6983 - val_acc: 0.4902\n",
      "Epoch 32/1000\n",
      "408/408 [==============================] - 0s 786us/step - loss: 0.6859 - acc: 0.5564 - val_loss: 0.6982 - val_acc: 0.4902\n",
      "Epoch 33/1000\n",
      "408/408 [==============================] - 0s 729us/step - loss: 0.6854 - acc: 0.5441 - val_loss: 0.6978 - val_acc: 0.5000\n",
      "Epoch 34/1000\n",
      "408/408 [==============================] - 0s 863us/step - loss: 0.6844 - acc: 0.5417 - val_loss: 0.6979 - val_acc: 0.5000\n",
      "Epoch 35/1000\n",
      "408/408 [==============================] - 0s 809us/step - loss: 0.6843 - acc: 0.5392 - val_loss: 0.6979 - val_acc: 0.5196\n",
      "Epoch 36/1000\n",
      "408/408 [==============================] - 0s 820us/step - loss: 0.6855 - acc: 0.5515 - val_loss: 0.6975 - val_acc: 0.5098\n",
      "Epoch 37/1000\n",
      "408/408 [==============================] - 0s 759us/step - loss: 0.6832 - acc: 0.5564 - val_loss: 0.6979 - val_acc: 0.5098\n",
      "Epoch 38/1000\n",
      "408/408 [==============================] - 0s 762us/step - loss: 0.6828 - acc: 0.5588 - val_loss: 0.6980 - val_acc: 0.5196\n",
      "Epoch 39/1000\n",
      "408/408 [==============================] - 0s 758us/step - loss: 0.6854 - acc: 0.5368 - val_loss: 0.6972 - val_acc: 0.5196\n",
      "Epoch 40/1000\n",
      "408/408 [==============================] - 0s 860us/step - loss: 0.6845 - acc: 0.5368 - val_loss: 0.6971 - val_acc: 0.5196\n",
      "Epoch 41/1000\n",
      "408/408 [==============================] - 0s 775us/step - loss: 0.6815 - acc: 0.5613 - val_loss: 0.6972 - val_acc: 0.5098\n",
      "Epoch 42/1000\n",
      "408/408 [==============================] - 0s 811us/step - loss: 0.6834 - acc: 0.5539 - val_loss: 0.6968 - val_acc: 0.5196\n",
      "Epoch 43/1000\n",
      "408/408 [==============================] - 0s 847us/step - loss: 0.6840 - acc: 0.5466 - val_loss: 0.6970 - val_acc: 0.5098\n",
      "Epoch 44/1000\n",
      "408/408 [==============================] - 0s 793us/step - loss: 0.6828 - acc: 0.5686 - val_loss: 0.6970 - val_acc: 0.5098\n",
      "Epoch 45/1000\n",
      "408/408 [==============================] - 0s 815us/step - loss: 0.6849 - acc: 0.5564 - val_loss: 0.6964 - val_acc: 0.5196\n",
      "Epoch 46/1000\n",
      "408/408 [==============================] - 0s 860us/step - loss: 0.6822 - acc: 0.5588 - val_loss: 0.6970 - val_acc: 0.5098\n",
      "Epoch 47/1000\n",
      "408/408 [==============================] - 0s 849us/step - loss: 0.6830 - acc: 0.5686 - val_loss: 0.6971 - val_acc: 0.5000\n",
      "Epoch 48/1000\n",
      "408/408 [==============================] - 0s 776us/step - loss: 0.6820 - acc: 0.5564 - val_loss: 0.6967 - val_acc: 0.5196\n",
      "Epoch 49/1000\n",
      "408/408 [==============================] - 0s 713us/step - loss: 0.6831 - acc: 0.5637 - val_loss: 0.6968 - val_acc: 0.5196\n",
      "Epoch 50/1000\n",
      "408/408 [==============================] - 0s 747us/step - loss: 0.6817 - acc: 0.5588 - val_loss: 0.6966 - val_acc: 0.5098\n",
      "Epoch 51/1000\n",
      "408/408 [==============================] - 0s 755us/step - loss: 0.6804 - acc: 0.5466 - val_loss: 0.6974 - val_acc: 0.5294\n",
      "Epoch 52/1000\n",
      "408/408 [==============================] - 0s 743us/step - loss: 0.6802 - acc: 0.5564 - val_loss: 0.6971 - val_acc: 0.5392\n",
      "Epoch 53/1000\n",
      "408/408 [==============================] - 0s 751us/step - loss: 0.6807 - acc: 0.5637 - val_loss: 0.6976 - val_acc: 0.5392\n",
      "Epoch 54/1000\n",
      "408/408 [==============================] - 0s 770us/step - loss: 0.6837 - acc: 0.5539 - val_loss: 0.6967 - val_acc: 0.5000\n",
      "Epoch 55/1000\n",
      "408/408 [==============================] - 0s 761us/step - loss: 0.6813 - acc: 0.5564 - val_loss: 0.6961 - val_acc: 0.5098\n",
      "Epoch 56/1000\n",
      "408/408 [==============================] - 0s 768us/step - loss: 0.6852 - acc: 0.5441 - val_loss: 0.6951 - val_acc: 0.5196\n",
      "Epoch 57/1000\n",
      "408/408 [==============================] - 0s 746us/step - loss: 0.6789 - acc: 0.5441 - val_loss: 0.6952 - val_acc: 0.5098\n",
      "Epoch 58/1000\n",
      "408/408 [==============================] - 0s 746us/step - loss: 0.6793 - acc: 0.5637 - val_loss: 0.6950 - val_acc: 0.5000\n",
      "Epoch 59/1000\n",
      "408/408 [==============================] - 0s 764us/step - loss: 0.6785 - acc: 0.5858 - val_loss: 0.6948 - val_acc: 0.5098\n",
      "Epoch 60/1000\n",
      "408/408 [==============================] - 0s 758us/step - loss: 0.6793 - acc: 0.5539 - val_loss: 0.6949 - val_acc: 0.5196\n"
     ]
    },
    {
     "name": "stdout",
     "output_type": "stream",
     "text": [
      "Epoch 61/1000\n",
      "408/408 [==============================] - 0s 744us/step - loss: 0.6815 - acc: 0.5735 - val_loss: 0.6949 - val_acc: 0.5196\n",
      "Epoch 62/1000\n",
      "408/408 [==============================] - 0s 754us/step - loss: 0.6773 - acc: 0.5784 - val_loss: 0.6952 - val_acc: 0.5098\n",
      "Epoch 63/1000\n",
      "408/408 [==============================] - 0s 709us/step - loss: 0.6812 - acc: 0.5662 - val_loss: 0.6940 - val_acc: 0.5098\n",
      "Epoch 64/1000\n",
      "408/408 [==============================] - 0s 662us/step - loss: 0.6805 - acc: 0.5662 - val_loss: 0.6941 - val_acc: 0.5098\n",
      "Epoch 65/1000\n",
      "408/408 [==============================] - 0s 723us/step - loss: 0.6782 - acc: 0.5735 - val_loss: 0.6942 - val_acc: 0.5098\n",
      "Epoch 66/1000\n",
      "408/408 [==============================] - 0s 760us/step - loss: 0.6794 - acc: 0.5686 - val_loss: 0.6941 - val_acc: 0.5098\n",
      "Epoch 67/1000\n",
      "408/408 [==============================] - 0s 765us/step - loss: 0.6778 - acc: 0.5760 - val_loss: 0.6943 - val_acc: 0.5000\n",
      "Epoch 68/1000\n",
      "408/408 [==============================] - 0s 744us/step - loss: 0.6780 - acc: 0.5833 - val_loss: 0.6949 - val_acc: 0.5098\n",
      "Epoch 69/1000\n",
      "408/408 [==============================] - 0s 786us/step - loss: 0.6796 - acc: 0.5858 - val_loss: 0.6946 - val_acc: 0.5000\n",
      "Epoch 70/1000\n",
      "408/408 [==============================] - 0s 774us/step - loss: 0.6769 - acc: 0.5760 - val_loss: 0.6948 - val_acc: 0.5098\n",
      "Epoch 71/1000\n",
      "408/408 [==============================] - 0s 741us/step - loss: 0.6773 - acc: 0.5784 - val_loss: 0.6943 - val_acc: 0.5000\n",
      "Epoch 72/1000\n",
      "408/408 [==============================] - 0s 770us/step - loss: 0.6776 - acc: 0.5637 - val_loss: 0.6944 - val_acc: 0.5098\n",
      "Epoch 73/1000\n",
      "408/408 [==============================] - 0s 752us/step - loss: 0.6815 - acc: 0.5662 - val_loss: 0.6935 - val_acc: 0.5196\n",
      "Epoch 74/1000\n",
      "408/408 [==============================] - 0s 789us/step - loss: 0.6755 - acc: 0.5784 - val_loss: 0.6940 - val_acc: 0.5196\n",
      "Epoch 75/1000\n",
      "408/408 [==============================] - 0s 751us/step - loss: 0.6813 - acc: 0.5637 - val_loss: 0.6941 - val_acc: 0.5294\n",
      "Epoch 76/1000\n",
      "408/408 [==============================] - 0s 699us/step - loss: 0.6701 - acc: 0.5858 - val_loss: 0.6947 - val_acc: 0.5294\n",
      "Epoch 77/1000\n",
      "408/408 [==============================] - 0s 754us/step - loss: 0.6756 - acc: 0.5858 - val_loss: 0.6945 - val_acc: 0.5294\n",
      "Epoch 78/1000\n",
      "408/408 [==============================] - 0s 680us/step - loss: 0.6751 - acc: 0.5735 - val_loss: 0.6943 - val_acc: 0.5196\n",
      "Epoch 79/1000\n",
      "408/408 [==============================] - 0s 657us/step - loss: 0.6717 - acc: 0.5809 - val_loss: 0.6950 - val_acc: 0.5196\n",
      "Epoch 80/1000\n",
      "408/408 [==============================] - 0s 782us/step - loss: 0.6735 - acc: 0.5613 - val_loss: 0.6954 - val_acc: 0.5098\n",
      "Epoch 81/1000\n",
      "408/408 [==============================] - 0s 744us/step - loss: 0.6743 - acc: 0.5809 - val_loss: 0.6956 - val_acc: 0.5294\n",
      "Epoch 82/1000\n",
      "408/408 [==============================] - 0s 767us/step - loss: 0.6777 - acc: 0.5637 - val_loss: 0.6951 - val_acc: 0.5294\n",
      "Epoch 83/1000\n",
      "408/408 [==============================] - 0s 754us/step - loss: 0.6736 - acc: 0.5833 - val_loss: 0.6956 - val_acc: 0.5294\n",
      "Epoch 84/1000\n",
      "408/408 [==============================] - 0s 741us/step - loss: 0.6748 - acc: 0.5858 - val_loss: 0.6960 - val_acc: 0.5196\n",
      "Epoch 85/1000\n",
      "408/408 [==============================] - 0s 748us/step - loss: 0.6776 - acc: 0.5809 - val_loss: 0.6954 - val_acc: 0.5196\n",
      "Epoch 86/1000\n",
      "408/408 [==============================] - 0s 748us/step - loss: 0.6736 - acc: 0.5760 - val_loss: 0.6959 - val_acc: 0.5196\n",
      "Epoch 87/1000\n",
      "408/408 [==============================] - 0s 705us/step - loss: 0.6752 - acc: 0.5735 - val_loss: 0.6963 - val_acc: 0.5196\n",
      "Epoch 88/1000\n",
      "408/408 [==============================] - 0s 708us/step - loss: 0.6733 - acc: 0.5686 - val_loss: 0.6962 - val_acc: 0.5098\n",
      "Epoch 89/1000\n",
      "408/408 [==============================] - 0s 746us/step - loss: 0.6719 - acc: 0.5662 - val_loss: 0.6967 - val_acc: 0.5196\n",
      "Epoch 90/1000\n",
      "408/408 [==============================] - 0s 738us/step - loss: 0.6690 - acc: 0.5931 - val_loss: 0.6970 - val_acc: 0.5196\n",
      "Epoch 91/1000\n",
      "408/408 [==============================] - 0s 743us/step - loss: 0.6741 - acc: 0.6078 - val_loss: 0.6973 - val_acc: 0.5294\n",
      "Epoch 92/1000\n",
      "408/408 [==============================] - 0s 756us/step - loss: 0.6726 - acc: 0.5882 - val_loss: 0.6974 - val_acc: 0.5294\n",
      "Epoch 93/1000\n",
      "408/408 [==============================] - 0s 679us/step - loss: 0.6690 - acc: 0.5760 - val_loss: 0.6973 - val_acc: 0.5000\n"
     ]
    }
   ],
   "source": [
    "# result = regressor.fit_generator(train_gen, steps_per_epoch=len(train_gen), epochs=1000)\n",
    "result = regressor.fit(x, y,batch_size=1000, epochs=1000, validation_split=0.2, callbacks = [EarlyStopping(monitor='val_loss', mode='min', patience=20),\n",
    "             ModelCheckpoint(filepath='best_model.h5', monitor='val_acc', save_best_only=True)])\n",
    "# result = regressor.fit(x, y,batch_size=1000, epochs=1000, validation_data=(x1, y1), callbacks = [EarlyStopping(monitor='val_loss', mode='min', patience=20),\n",
    "#              ModelCheckpoint(filepath='best_model.h5', monitor='val_acc', save_best_only=True)])"
   ]
  },
  {
   "cell_type": "code",
   "execution_count": 14,
   "metadata": {
    "ExecuteTime": {
     "end_time": "2019-03-10T18:13:20.947441Z",
     "start_time": "2019-03-10T18:13:20.943084Z"
    }
   },
   "outputs": [
    {
     "name": "stdout",
     "output_type": "stream",
     "text": [
      "0.5392156839370728\n"
     ]
    }
   ],
   "source": [
    "print(max(result.history[\"val_acc\"]))"
   ]
  },
  {
   "cell_type": "code",
   "execution_count": 15,
   "metadata": {
    "ExecuteTime": {
     "end_time": "2019-03-10T18:13:21.260309Z",
     "start_time": "2019-03-10T18:13:20.950279Z"
    }
   },
   "outputs": [
    {
     "data": {
      "text/plain": [
       "[<matplotlib.lines.Line2D at 0x7f37efbc5fd0>]"
      ]
     },
     "execution_count": 15,
     "metadata": {},
     "output_type": "execute_result"
    },
    {
     "data": {
      "image/png": "[encoded data removed]",
      "text/plain": [
       "<Figure size 432x288 with 1 Axes>"
      ]
     },
     "metadata": {
      "needs_background": "light"
     },
     "output_type": "display_data"
    }
   ],
   "source": [
    "plt.plot(result.history[\"acc\"])\n",
    "plt.plot(result.history[\"val_acc\"])"
   ]
  },
  {
   "cell_type": "code",
   "execution_count": 16,
   "metadata": {
    "ExecuteTime": {
     "end_time": "2019-03-10T18:13:21.481978Z",
     "start_time": "2019-03-10T18:13:21.263619Z"
    },
    "scrolled": true
   },
   "outputs": [
    {
     "data": {
      "text/plain": [
       "[<matplotlib.lines.Line2D at 0x7f37c4112f28>]"
      ]
     },
     "execution_count": 16,
     "metadata": {},
     "output_type": "execute_result"
    },
    {
     "data": {
      "image/png": "[encoded data removed]",
      "text/plain": [
       "<Figure size 432x288 with 1 Axes>"
      ]
     },
     "metadata": {
      "needs_background": "light"
     },
     "output_type": "display_data"
    }
   ],
   "source": [
    "plt.plot(result.history[\"loss\"])\n",
    "plt.plot(result.history[\"val_loss\"])"
   ]
  },
  {
   "cell_type": "code",
   "execution_count": 17,
   "metadata": {
    "ExecuteTime": {
     "end_time": "2019-03-10T18:13:21.897354Z",
     "start_time": "2019-03-10T18:13:21.485579Z"
    }
   },
   "outputs": [
    {
     "data": {
      "text/plain": [
       "array([[0.5217025 , 0.4782975 ],\n",
       "       [0.6211792 , 0.3788208 ],\n",
       "       [0.58739483, 0.41260517],\n",
       "       [0.40638766, 0.5936124 ],\n",
       "       [0.2841099 , 0.71589005],\n",
       "       [0.43753   , 0.56246996],\n",
       "       [0.5686406 , 0.43135944],\n",
       "       [0.5605896 , 0.4394104 ],\n",
       "       [0.5104186 , 0.48958135],\n",
       "       [0.5030097 , 0.49699035],\n",
       "       [0.576192  , 0.42380795],\n",
       "       [0.45508423, 0.5449158 ],\n",
       "       [0.40022647, 0.5997735 ],\n",
       "       [0.32768223, 0.67231774],\n",
       "       [0.4636616 , 0.5363384 ],\n",
       "       [0.42698804, 0.57301193],\n",
       "       [0.3358506 , 0.6641494 ],\n",
       "       [0.35932362, 0.6406763 ],\n",
       "       [0.45005697, 0.54994303],\n",
       "       [0.5252289 , 0.47477108],\n",
       "       [0.3582917 , 0.6417084 ],\n",
       "       [0.42844164, 0.57155836],\n",
       "       [0.29872   , 0.70128006],\n",
       "       [0.36506963, 0.6349304 ],\n",
       "       [0.24851155, 0.75148845],\n",
       "       [0.22027177, 0.77972823],\n",
       "       [0.27137563, 0.7286243 ],\n",
       "       [0.22312413, 0.7768759 ],\n",
       "       [0.30734992, 0.69265014],\n",
       "       [0.2998649 , 0.7001351 ],\n",
       "       [0.3762935 , 0.6237065 ],\n",
       "       [0.53739697, 0.46260306],\n",
       "       [0.39851904, 0.60148096],\n",
       "       [0.3205615 , 0.67943853],\n",
       "       [0.446773  , 0.55322695],\n",
       "       [0.49014246, 0.50985754],\n",
       "       [0.40486366, 0.59513634],\n",
       "       [0.429494  , 0.570506  ],\n",
       "       [0.51901263, 0.48098734],\n",
       "       [0.5256086 , 0.4743914 ],\n",
       "       [0.42117417, 0.57882583],\n",
       "       [0.69965935, 0.3003406 ],\n",
       "       [0.57488686, 0.42511308],\n",
       "       [0.6452146 , 0.35478535],\n",
       "       [0.50967264, 0.49032742],\n",
       "       [0.45279598, 0.547204  ],\n",
       "       [0.56477165, 0.43522838],\n",
       "       [0.43856317, 0.5614368 ],\n",
       "       [0.5318947 , 0.4681053 ],\n",
       "       [0.57142806, 0.42857194],\n",
       "       [0.48808363, 0.51191634],\n",
       "       [0.4610297 , 0.53897023],\n",
       "       [0.6448842 , 0.35511568],\n",
       "       [0.5453526 , 0.45464748],\n",
       "       [0.48606938, 0.5139306 ],\n",
       "       [0.5259401 , 0.4740599 ],\n",
       "       [0.49872047, 0.50127953],\n",
       "       [0.51602954, 0.48397043],\n",
       "       [0.51878756, 0.48121238],\n",
       "       [0.498916  , 0.50108397],\n",
       "       [0.59004104, 0.4099589 ],\n",
       "       [0.43037742, 0.56962264],\n",
       "       [0.5038937 , 0.4961064 ],\n",
       "       [0.49066034, 0.50933963],\n",
       "       [0.5000436 , 0.49995646],\n",
       "       [0.42146182, 0.5785382 ],\n",
       "       [0.42364746, 0.57635254],\n",
       "       [0.4134757 , 0.5865243 ],\n",
       "       [0.40871277, 0.59128726],\n",
       "       [0.4037617 , 0.59623826],\n",
       "       [0.48460412, 0.5153958 ],\n",
       "       [0.47102734, 0.5289726 ],\n",
       "       [0.5107272 , 0.48927277],\n",
       "       [0.42487133, 0.5751287 ],\n",
       "       [0.4809399 , 0.51906013],\n",
       "       [0.46607676, 0.53392327],\n",
       "       [0.3922164 , 0.60778356],\n",
       "       [0.4454544 , 0.5545456 ],\n",
       "       [0.4152847 , 0.5847153 ],\n",
       "       [0.51989645, 0.48010358],\n",
       "       [0.4995776 , 0.50042236],\n",
       "       [0.5333258 , 0.46667415],\n",
       "       [0.55722153, 0.4427785 ],\n",
       "       [0.48143008, 0.51856995],\n",
       "       [0.53283286, 0.46716714],\n",
       "       [0.48272672, 0.5172733 ],\n",
       "       [0.4932846 , 0.50671536],\n",
       "       [0.45676947, 0.5432306 ],\n",
       "       [0.23344038, 0.7665596 ],\n",
       "       [0.47266003, 0.52733994],\n",
       "       [0.47082013, 0.5291798 ],\n",
       "       [0.47228485, 0.5277151 ],\n",
       "       [0.45923233, 0.5407676 ],\n",
       "       [0.44461218, 0.55538785],\n",
       "       [0.50515074, 0.49484932],\n",
       "       [0.5422824 , 0.4577176 ],\n",
       "       [0.4448604 , 0.5551396 ],\n",
       "       [0.40628958, 0.5937104 ],\n",
       "       [0.50008076, 0.49991927],\n",
       "       [0.45178092, 0.54821914],\n",
       "       [0.4822479 , 0.5177521 ],\n",
       "       [0.56585467, 0.43414527],\n",
       "       [0.47620085, 0.5237992 ],\n",
       "       [0.5168654 , 0.4831346 ],\n",
       "       [0.48980823, 0.5101918 ],\n",
       "       [0.46354532, 0.53645474],\n",
       "       [0.39302728, 0.6069727 ],\n",
       "       [0.5295452 , 0.47045484],\n",
       "       [0.46584663, 0.5341534 ],\n",
       "       [0.61316466, 0.38683525],\n",
       "       [0.5275178 , 0.47248217],\n",
       "       [0.6353685 , 0.36463147],\n",
       "       [0.53582054, 0.46417943],\n",
       "       [0.49964958, 0.5003505 ],\n",
       "       [0.5165095 , 0.48349053],\n",
       "       [0.48263413, 0.51736593],\n",
       "       [0.5181652 , 0.48183477],\n",
       "       [0.48689577, 0.5131042 ],\n",
       "       [0.46788144, 0.53211856],\n",
       "       [0.46865863, 0.53134143],\n",
       "       [0.50592464, 0.4940754 ],\n",
       "       [0.4882738 , 0.5117262 ],\n",
       "       [0.5066061 , 0.49339393],\n",
       "       [0.4923875 , 0.50761247],\n",
       "       [0.4686139 , 0.53138614],\n",
       "       [0.47897157, 0.52102846],\n",
       "       [0.465059  , 0.534941  ],\n",
       "       [0.5484476 , 0.45155242],\n",
       "       [0.4742039 , 0.52579606],\n",
       "       [0.5294843 , 0.47051573],\n",
       "       [0.5078693 , 0.49213076],\n",
       "       [0.4362253 , 0.5637747 ],\n",
       "       [0.578882  , 0.42111805],\n",
       "       [0.3664745 , 0.6335255 ],\n",
       "       [0.38822538, 0.6117746 ],\n",
       "       [0.6545134 , 0.3454866 ],\n",
       "       [0.6670906 , 0.33290944],\n",
       "       [0.6121698 , 0.3878302 ],\n",
       "       [0.4256147 , 0.5743852 ],\n",
       "       [0.38728625, 0.61271375],\n",
       "       [0.4001421 , 0.5998579 ],\n",
       "       [0.35268155, 0.6473184 ],\n",
       "       [0.4595226 , 0.5404774 ],\n",
       "       [0.47364795, 0.5263521 ],\n",
       "       [0.48409447, 0.51590556],\n",
       "       [0.48997727, 0.51002264],\n",
       "       [0.5356413 , 0.4643587 ],\n",
       "       [0.5004926 , 0.4995074 ],\n",
       "       [0.4371284 , 0.56287163],\n",
       "       [0.4707102 , 0.52928984],\n",
       "       [0.50198555, 0.4980145 ],\n",
       "       [0.5007249 , 0.49927515],\n",
       "       [0.5350995 , 0.46490046],\n",
       "       [0.5339798 , 0.46602017],\n",
       "       [0.5201718 , 0.47982818],\n",
       "       [0.4371278 , 0.5628722 ],\n",
       "       [0.53730756, 0.4626924 ],\n",
       "       [0.43373686, 0.56626314],\n",
       "       [0.504275  , 0.495725  ],\n",
       "       [0.5095457 , 0.49045435],\n",
       "       [0.548984  , 0.45101604],\n",
       "       [0.49503288, 0.50496715],\n",
       "       [0.5215493 , 0.47845072],\n",
       "       [0.463642  , 0.53635806],\n",
       "       [0.4774607 , 0.5225393 ],\n",
       "       [0.4878128 , 0.5121872 ],\n",
       "       [0.5128154 , 0.48718455],\n",
       "       [0.49651477, 0.5034852 ],\n",
       "       [0.4903848 , 0.5096152 ],\n",
       "       [0.4299638 , 0.5700362 ],\n",
       "       [0.5079551 , 0.49204493],\n",
       "       [0.5369961 , 0.4630039 ],\n",
       "       [0.50233024, 0.4976697 ],\n",
       "       [0.47722423, 0.52277577],\n",
       "       [0.47606686, 0.5239332 ],\n",
       "       [0.51894367, 0.48105627],\n",
       "       [0.54056287, 0.4594371 ],\n",
       "       [0.4715855 , 0.5284145 ],\n",
       "       [0.5565976 , 0.4434024 ],\n",
       "       [0.5007302 , 0.4992698 ],\n",
       "       [0.49730444, 0.5026956 ],\n",
       "       [0.46388265, 0.5361173 ],\n",
       "       [0.50702983, 0.4929701 ],\n",
       "       [0.519598  , 0.480402  ],\n",
       "       [0.46720007, 0.5327999 ],\n",
       "       [0.40017614, 0.59982383],\n",
       "       [0.3441934 , 0.65580654],\n",
       "       [0.4902752 , 0.5097248 ],\n",
       "       [0.44001874, 0.5599812 ],\n",
       "       [0.43528214, 0.5647178 ],\n",
       "       [0.531863  , 0.46813703],\n",
       "       [0.4804282 , 0.51957184],\n",
       "       [0.4884021 , 0.5115979 ],\n",
       "       [0.4421964 , 0.5578036 ],\n",
       "       [0.51212597, 0.487874  ],\n",
       "       [0.5141336 , 0.48586643],\n",
       "       [0.38621822, 0.61378187],\n",
       "       [0.35220468, 0.6477953 ],\n",
       "       [0.44806942, 0.55193055],\n",
       "       [0.5074563 , 0.4925437 ],\n",
       "       [0.42637134, 0.5736286 ],\n",
       "       [0.5026131 , 0.49738687],\n",
       "       [0.4019915 , 0.5980085 ],\n",
       "       [0.39854938, 0.60145056],\n",
       "       [0.48691088, 0.5130892 ],\n",
       "       [0.48259127, 0.5174088 ],\n",
       "       [0.5576063 , 0.44239372],\n",
       "       [0.5302745 , 0.4697254 ],\n",
       "       [0.41356495, 0.586435  ],\n",
       "       [0.53449064, 0.46550933],\n",
       "       [0.47402543, 0.5259746 ],\n",
       "       [0.4832609 , 0.5167391 ],\n",
       "       [0.48559055, 0.5144094 ],\n",
       "       [0.5109072 , 0.4890928 ],\n",
       "       [0.57041556, 0.42958447],\n",
       "       [0.2802334 , 0.71976656],\n",
       "       [0.32947448, 0.6705255 ],\n",
       "       [0.47020406, 0.52979594],\n",
       "       [0.4987496 , 0.5012504 ],\n",
       "       [0.48714906, 0.512851  ],\n",
       "       [0.4300127 , 0.5699873 ],\n",
       "       [0.4668467 , 0.5331533 ],\n",
       "       [0.4349131 , 0.5650869 ],\n",
       "       [0.31298   , 0.68702   ],\n",
       "       [0.30292615, 0.6970738 ],\n",
       "       [0.33604422, 0.66395575],\n",
       "       [0.2810228 , 0.7189772 ],\n",
       "       [0.33888346, 0.66111654],\n",
       "       [0.53196985, 0.46803018],\n",
       "       [0.35321894, 0.646781  ],\n",
       "       [0.5596671 , 0.4403329 ],\n",
       "       [0.48034355, 0.5196564 ],\n",
       "       [0.5517854 , 0.44821462],\n",
       "       [0.4144422 , 0.5855578 ],\n",
       "       [0.3971952 , 0.6028048 ],\n",
       "       [0.43771055, 0.5622894 ],\n",
       "       [0.5188824 , 0.48111755],\n",
       "       [0.5138318 , 0.48616827],\n",
       "       [0.55013674, 0.44986328],\n",
       "       [0.56084806, 0.4391519 ],\n",
       "       [0.5385261 , 0.46147397],\n",
       "       [0.5240006 , 0.47599941],\n",
       "       [0.48956186, 0.51043814],\n",
       "       [0.4712729 , 0.5287271 ],\n",
       "       [0.5925638 , 0.4074362 ],\n",
       "       [0.5073564 , 0.49264362],\n",
       "       [0.47864044, 0.5213595 ],\n",
       "       [0.50462353, 0.4953765 ],\n",
       "       [0.50847447, 0.4915256 ],\n",
       "       [0.45286173, 0.5471383 ]], dtype=float32)"
      ]
     },
     "execution_count": 17,
     "metadata": {},
     "output_type": "execute_result"
    }
   ],
   "source": [
    "regressor.predict(x1)"
   ]
  }
 ],
 "metadata": {
  "kernelspec": {
   "display_name": "projet_S5",
   "language": "python",
   "name": "projet_s5"
  },
  "language_info": {
   "codemirror_mode": {
    "name": "ipython",
    "version": 3
   },
   "file_extension": ".py",
   "mimetype": "text/x-python",
   "name": "python",
   "nbconvert_exporter": "python",
   "pygments_lexer": "ipython3",
   "version": "3.6.7"
  },
  "toc": {
   "base_numbering": 1,
   "nav_menu": {},
   "number_sections": true,
   "sideBar": true,
   "skip_h1_title": false,
   "title_cell": "Table of Contents",
   "title_sidebar": "Contents",
   "toc_cell": false,
   "toc_position": {},
   "toc_section_display": true,
   "toc_window_display": false
  }
 },
 "nbformat": 4,
 "nbformat_minor": 2
}
