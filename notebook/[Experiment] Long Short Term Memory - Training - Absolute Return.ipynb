{
 "cells": [
  {
   "cell_type": "code",
   "execution_count": 1,
   "metadata": {
    "ExecuteTime": {
     "end_time": "2019-03-10T17:37:44.828204Z",
     "start_time": "2019-03-10T17:37:43.016233Z"
    },
    "scrolled": true
   },
   "outputs": [],
   "source": [
    "# List all device\n",
    "from tensorflow.python.client import device_lib\n",
    "# print(device_lib.list_local_devices())"
   ]
  },
  {
   "cell_type": "code",
   "execution_count": 2,
   "metadata": {
    "ExecuteTime": {
     "end_time": "2019-03-10T17:37:44.940211Z",
     "start_time": "2019-03-10T17:37:44.831269Z"
    },
    "scrolled": true
   },
   "outputs": [
    {
     "name": "stderr",
     "output_type": "stream",
     "text": [
      "Using TensorFlow backend.\n"
     ]
    },
    {
     "data": {
      "text/plain": [
       "[]"
      ]
     },
     "execution_count": 2,
     "metadata": {},
     "output_type": "execute_result"
    }
   ],
   "source": [
    "# Check available GPU\n",
    "from keras import backend as K\n",
    "K.tensorflow_backend._get_available_gpus()"
   ]
  },
  {
   "cell_type": "code",
   "execution_count": 3,
   "metadata": {
    "ExecuteTime": {
     "end_time": "2019-03-10T17:37:44.952401Z",
     "start_time": "2019-03-10T17:37:44.945011Z"
    }
   },
   "outputs": [],
   "source": [
    "import os\n",
    "os.environ[\"CUDA_DEVICE_ORDER\"]=\"PCI_BUS_ID\";\n",
    "# The GPU id to use, usually either \"0\" or \"1\";\n",
    "os.environ[\"CUDA_VISIBLE_DEVICES\"]=\"0\";  "
   ]
  },
  {
   "cell_type": "code",
   "execution_count": 4,
   "metadata": {
    "ExecuteTime": {
     "end_time": "2019-03-10T17:37:45.818150Z",
     "start_time": "2019-03-10T17:37:44.957963Z"
    }
   },
   "outputs": [],
   "source": [
    "# Importing the libraries\n",
    "import numpy as np\n",
    "import pandas as pd\n",
    "from keras.models import Sequential\n",
    "from keras.layers import Dense, LSTM, Dropout, Reshape, Lambda, GRU, BatchNormalization, Bidirectional\n",
    "from keras.preprocessing.sequence import TimeseriesGenerator\n",
    "from keras.callbacks import EarlyStopping, ModelCheckpoint\n",
    "from keras.activations import softmax\n",
    "from keras.optimizers import SGD, RMSprop\n",
    "import math\n",
    "import pickle\n",
    "import matplotlib.pyplot as plt\n",
    "from keras.utils import to_categorical\n",
    "from sklearn.preprocessing import StandardScaler"
   ]
  },
  {
   "cell_type": "code",
   "execution_count": 5,
   "metadata": {
    "ExecuteTime": {
     "end_time": "2019-03-10T17:37:45.843356Z",
     "start_time": "2019-03-10T17:37:45.821725Z"
    }
   },
   "outputs": [],
   "source": [
    "index = \"dowjones\"\n",
    "# index = \"frankfurt\"\n",
    "with open(f\"../data/{index}_calculated/absolute_periods750_250_240.txt\", \"rb\") as fp:   # Unpickling\n",
    "    dataset = pickle.load(fp)"
   ]
  },
  {
   "cell_type": "code",
   "execution_count": 6,
   "metadata": {
    "ExecuteTime": {
     "end_time": "2019-03-10T17:37:45.953124Z",
     "start_time": "2019-03-10T17:37:45.845912Z"
    }
   },
   "outputs": [],
   "source": [
    "i = 7\n",
    "timestep = 240\n",
    "feature = 31"
   ]
  },
  {
   "cell_type": "code",
   "execution_count": 7,
   "metadata": {
    "ExecuteTime": {
     "end_time": "2019-03-10T17:37:46.037394Z",
     "start_time": "2019-03-10T17:37:45.957288Z"
    }
   },
   "outputs": [],
   "source": [
    "x_train = dataset[0][i][0].values\n",
    "x_test = dataset[1][i][0].values\n",
    "\n",
    "scaler = StandardScaler().fit(x_train)\n",
    "\n",
    "x_train = scaler.transform(x_train)\n",
    "x_test = scaler.transform(x_test)\n",
    "\n",
    "y_train = to_categorical(dataset[0][i][1].values, 2)\n",
    "y_test = to_categorical(dataset[1][i][1].values, 2)"
   ]
  },
  {
   "cell_type": "code",
   "execution_count": 8,
   "metadata": {
    "ExecuteTime": {
     "end_time": "2019-03-10T17:37:46.114027Z",
     "start_time": "2019-03-10T17:37:46.042301Z"
    }
   },
   "outputs": [
    {
     "name": "stdout",
     "output_type": "stream",
     "text": [
      "x train shape: (750, 31)\n",
      "y train shape: (750, 31, 2)\n",
      "x test shape: (490, 31)\n",
      "y test shape: (490, 31, 2)\n"
     ]
    }
   ],
   "source": [
    "print(f\"x train shape: {x_train.shape}\")\n",
    "print(f\"y train shape: {y_train.shape}\")\n",
    "print(f\"x test shape: {x_test.shape}\")\n",
    "print(f\"y test shape: {y_test.shape}\")"
   ]
  },
  {
   "cell_type": "code",
   "execution_count": 9,
   "metadata": {
    "ExecuteTime": {
     "end_time": "2019-03-10T17:37:46.222251Z",
     "start_time": "2019-03-10T17:37:46.119889Z"
    }
   },
   "outputs": [
    {
     "name": "stdout",
     "output_type": "stream",
     "text": [
      "x shape: (510, 240, 31)\n",
      "y shape: (510, 31, 2)\n"
     ]
    }
   ],
   "source": [
    "x_series = [x_train[i:i+timestep, :] for i in range(x_train.shape[0] - timestep)]\n",
    "y_series = [y_train[i+timestep] for i in range(y_train.shape[0] - timestep)]\n",
    "x = np.array(x_series)\n",
    "y = np.array(y_series)\n",
    "print(f\"x shape: {x.shape}\")\n",
    "print(f\"y shape: {y.shape}\")"
   ]
  },
  {
   "cell_type": "code",
   "execution_count": 10,
   "metadata": {
    "ExecuteTime": {
     "end_time": "2019-03-10T17:37:46.297145Z",
     "start_time": "2019-03-10T17:37:46.227253Z"
    }
   },
   "outputs": [
    {
     "name": "stdout",
     "output_type": "stream",
     "text": [
      "x1 shape: (250, 240, 31)\n",
      "y1 shape: (250, 31, 2)\n"
     ]
    }
   ],
   "source": [
    "x_series1 = [x_test[i:i+timestep, :] for i in range(x_test.shape[0] - timestep)]\n",
    "y_series1 = [y_test[i+timestep] for i in range(y_test.shape[0] - timestep)]\n",
    "x1 = np.array(x_series1)\n",
    "y1 = np.array(y_series1)\n",
    "print(f\"x1 shape: {x1.shape}\")\n",
    "print(f\"y1 shape: {y1.shape}\")"
   ]
  },
  {
   "cell_type": "code",
   "execution_count": 11,
   "metadata": {
    "ExecuteTime": {
     "end_time": "2019-03-10T17:37:47.131677Z",
     "start_time": "2019-03-10T17:37:46.302968Z"
    }
   },
   "outputs": [
    {
     "name": "stdout",
     "output_type": "stream",
     "text": [
      "_________________________________________________________________\n",
      "Layer (type)                 Output Shape              Param #   \n",
      "=================================================================\n",
      "lstm_1 (LSTM)                (None, 25)                5700      \n",
      "_________________________________________________________________\n",
      "dense_1 (Dense)              (None, 62)                1612      \n",
      "_________________________________________________________________\n",
      "reshape_1 (Reshape)          (None, 31, 2)             0         \n",
      "_________________________________________________________________\n",
      "dense_2 (Dense)              (None, 31, 2)             6         \n",
      "=================================================================\n",
      "Total params: 7,318\n",
      "Trainable params: 7,318\n",
      "Non-trainable params: 0\n",
      "_________________________________________________________________\n"
     ]
    }
   ],
   "source": [
    "regressor = Sequential()\n",
    "regressor.add(LSTM(units=25, input_shape=(timestep, feature)))\n",
    "regressor.add(Dense(feature * 2, activation='relu'))\n",
    "regressor.add(Reshape((feature, 2)))\n",
    "# regressor.add(Lambda(lambda x: softmax(x, axis=-1)))\n",
    "regressor.add(Dense(2, activation='softmax'))\n",
    "regressor.compile(loss='binary_crossentropy',\n",
    "                  optimizer='rmsprop',\n",
    "                  metrics=['accuracy'])\n",
    "regressor.summary()"
   ]
  },
  {
   "cell_type": "code",
   "execution_count": 12,
   "metadata": {
    "ExecuteTime": {
     "end_time": "2019-03-10T17:40:25.777946Z",
     "start_time": "2019-03-10T17:37:47.135193Z"
    }
   },
   "outputs": [
    {
     "name": "stdout",
     "output_type": "stream",
     "text": [
      "Train on 510 samples, validate on 250 samples\n",
      "Epoch 1/1000\n",
      "510/510 [==============================] - 8s 15ms/step - loss: 0.6945 - acc: 0.4992 - val_loss: 0.6936 - val_acc: 0.5039\n",
      "Epoch 2/1000\n",
      "510/510 [==============================] - 6s 12ms/step - loss: 0.6926 - acc: 0.5184 - val_loss: 0.6931 - val_acc: 0.5089\n",
      "Epoch 3/1000\n",
      "510/510 [==============================] - 6s 12ms/step - loss: 0.6915 - acc: 0.5331 - val_loss: 0.6929 - val_acc: 0.5137\n",
      "Epoch 4/1000\n",
      "510/510 [==============================] - 6s 12ms/step - loss: 0.6906 - acc: 0.5417 - val_loss: 0.6928 - val_acc: 0.5134\n",
      "Epoch 5/1000\n",
      "510/510 [==============================] - 6s 12ms/step - loss: 0.6897 - acc: 0.5509 - val_loss: 0.6927 - val_acc: 0.5155\n",
      "Epoch 6/1000\n",
      "510/510 [==============================] - 6s 12ms/step - loss: 0.6887 - acc: 0.5610 - val_loss: 0.6928 - val_acc: 0.5143\n",
      "Epoch 7/1000\n",
      "510/510 [==============================] - 6s 12ms/step - loss: 0.6877 - acc: 0.5706 - val_loss: 0.6929 - val_acc: 0.5177\n",
      "Epoch 8/1000\n",
      "510/510 [==============================] - 6s 12ms/step - loss: 0.6865 - acc: 0.5760 - val_loss: 0.6931 - val_acc: 0.5152\n",
      "Epoch 9/1000\n",
      "510/510 [==============================] - 6s 13ms/step - loss: 0.6851 - acc: 0.5830 - val_loss: 0.6936 - val_acc: 0.5119\n",
      "Epoch 10/1000\n",
      "510/510 [==============================] - 6s 12ms/step - loss: 0.6837 - acc: 0.5877 - val_loss: 0.6939 - val_acc: 0.5135\n",
      "Epoch 11/1000\n",
      "510/510 [==============================] - 6s 13ms/step - loss: 0.6820 - acc: 0.5957 - val_loss: 0.6946 - val_acc: 0.5092\n",
      "Epoch 12/1000\n",
      "510/510 [==============================] - 4s 8ms/step - loss: 0.6802 - acc: 0.6002 - val_loss: 0.6957 - val_acc: 0.5085\n",
      "Epoch 13/1000\n",
      "510/510 [==============================] - 3s 6ms/step - loss: 0.6783 - acc: 0.6039 - val_loss: 0.6971 - val_acc: 0.5057\n",
      "Epoch 14/1000\n",
      "510/510 [==============================] - 3s 6ms/step - loss: 0.6760 - acc: 0.6086 - val_loss: 0.6988 - val_acc: 0.5058\n",
      "Epoch 15/1000\n",
      "510/510 [==============================] - 3s 6ms/step - loss: 0.6739 - acc: 0.6120 - val_loss: 0.7010 - val_acc: 0.5054\n",
      "Epoch 16/1000\n",
      "510/510 [==============================] - 3s 6ms/step - loss: 0.6715 - acc: 0.6154 - val_loss: 0.7025 - val_acc: 0.5067\n",
      "Epoch 17/1000\n",
      "510/510 [==============================] - 3s 6ms/step - loss: 0.6688 - acc: 0.6172 - val_loss: 0.7014 - val_acc: 0.5089\n",
      "Epoch 18/1000\n",
      "510/510 [==============================] - 3s 6ms/step - loss: 0.6664 - acc: 0.6250 - val_loss: 0.7097 - val_acc: 0.4994\n",
      "Epoch 19/1000\n",
      "510/510 [==============================] - 3s 6ms/step - loss: 0.6635 - acc: 0.6254 - val_loss: 0.7105 - val_acc: 0.5019\n",
      "Epoch 20/1000\n",
      "510/510 [==============================] - 3s 6ms/step - loss: 0.6609 - acc: 0.6280 - val_loss: 0.7120 - val_acc: 0.5015\n",
      "Epoch 21/1000\n",
      "510/510 [==============================] - 3s 6ms/step - loss: 0.6584 - acc: 0.6357 - val_loss: 0.7182 - val_acc: 0.5009\n",
      "Epoch 22/1000\n",
      "510/510 [==============================] - 3s 6ms/step - loss: 0.6555 - acc: 0.6395 - val_loss: 0.7231 - val_acc: 0.5004\n",
      "Epoch 23/1000\n",
      "510/510 [==============================] - 3s 6ms/step - loss: 0.6523 - acc: 0.6448 - val_loss: 0.7264 - val_acc: 0.4992\n",
      "Epoch 24/1000\n",
      "510/510 [==============================] - 2s 5ms/step - loss: 0.6504 - acc: 0.6459 - val_loss: 0.7502 - val_acc: 0.4961\n",
      "Epoch 25/1000\n",
      "510/510 [==============================] - 2s 3ms/step - loss: 0.6477 - acc: 0.6469 - val_loss: 0.7497 - val_acc: 0.4947\n",
      "Epoch 26/1000\n",
      "510/510 [==============================] - 2s 3ms/step - loss: 0.6445 - acc: 0.6501 - val_loss: 0.7449 - val_acc: 0.4963\n",
      "Epoch 27/1000\n",
      "510/510 [==============================] - 2s 3ms/step - loss: 0.6416 - acc: 0.6509 - val_loss: 0.7818 - val_acc: 0.4966\n",
      "Epoch 28/1000\n",
      "510/510 [==============================] - 1s 3ms/step - loss: 0.6400 - acc: 0.6527 - val_loss: 0.7679 - val_acc: 0.4943\n",
      "Epoch 29/1000\n",
      "510/510 [==============================] - 1s 3ms/step - loss: 0.6367 - acc: 0.6574 - val_loss: 0.7820 - val_acc: 0.4942\n",
      "Epoch 30/1000\n",
      "510/510 [==============================] - 2s 3ms/step - loss: 0.6340 - acc: 0.6598 - val_loss: 0.8141 - val_acc: 0.4916\n",
      "Epoch 31/1000\n",
      "510/510 [==============================] - 2s 3ms/step - loss: 0.6316 - acc: 0.6615 - val_loss: 0.8264 - val_acc: 0.4926\n",
      "Epoch 32/1000\n",
      "510/510 [==============================] - 2s 3ms/step - loss: 0.6300 - acc: 0.6633 - val_loss: 0.7974 - val_acc: 0.4938\n",
      "Epoch 33/1000\n",
      "510/510 [==============================] - 2s 3ms/step - loss: 0.6260 - acc: 0.6708 - val_loss: 0.8729 - val_acc: 0.4935\n",
      "Epoch 34/1000\n",
      "510/510 [==============================] - 1s 3ms/step - loss: 0.6238 - acc: 0.6725 - val_loss: 0.8611 - val_acc: 0.4929\n",
      "Epoch 35/1000\n",
      "510/510 [==============================] - 2s 3ms/step - loss: 0.6215 - acc: 0.6709 - val_loss: 0.8507 - val_acc: 0.4898\n",
      "Epoch 36/1000\n",
      "510/510 [==============================] - 2s 3ms/step - loss: 0.6184 - acc: 0.6755 - val_loss: 0.8364 - val_acc: 0.4920\n",
      "Epoch 37/1000\n",
      "510/510 [==============================] - 1s 3ms/step - loss: 0.6162 - acc: 0.6781 - val_loss: 0.8616 - val_acc: 0.4897\n",
      "Epoch 38/1000\n",
      "510/510 [==============================] - 1s 3ms/step - loss: 0.6140 - acc: 0.6807 - val_loss: 0.9162 - val_acc: 0.4905\n",
      "Epoch 39/1000\n",
      "510/510 [==============================] - 1s 3ms/step - loss: 0.6116 - acc: 0.6825 - val_loss: 0.9072 - val_acc: 0.4884\n",
      "Epoch 40/1000\n",
      "510/510 [==============================] - 1s 3ms/step - loss: 0.6086 - acc: 0.6830 - val_loss: 0.9419 - val_acc: 0.4897\n",
      "Epoch 41/1000\n",
      "510/510 [==============================] - 1s 3ms/step - loss: 0.6081 - acc: 0.6836 - val_loss: 0.9259 - val_acc: 0.4903\n",
      "Epoch 42/1000\n",
      "510/510 [==============================] - 2s 3ms/step - loss: 0.6051 - acc: 0.6861 - val_loss: 0.9103 - val_acc: 0.4926\n",
      "Epoch 43/1000\n",
      "510/510 [==============================] - 1s 3ms/step - loss: 0.6018 - acc: 0.6907 - val_loss: 0.9509 - val_acc: 0.4895\n",
      "Epoch 44/1000\n",
      "510/510 [==============================] - 2s 3ms/step - loss: 0.6009 - acc: 0.6904 - val_loss: 0.9226 - val_acc: 0.4945\n",
      "Epoch 45/1000\n",
      "510/510 [==============================] - 1s 3ms/step - loss: 0.5981 - acc: 0.6928 - val_loss: 0.9216 - val_acc: 0.4939\n",
      "Epoch 46/1000\n",
      "510/510 [==============================] - 2s 3ms/step - loss: 0.5968 - acc: 0.6931 - val_loss: 0.9590 - val_acc: 0.4951\n",
      "Epoch 47/1000\n",
      "510/510 [==============================] - 2s 3ms/step - loss: 0.5934 - acc: 0.6973 - val_loss: 0.9473 - val_acc: 0.4954\n",
      "Epoch 48/1000\n",
      "510/510 [==============================] - 2s 3ms/step - loss: 0.5909 - acc: 0.7004 - val_loss: 0.9815 - val_acc: 0.4941\n",
      "Epoch 49/1000\n",
      "510/510 [==============================] - 2s 3ms/step - loss: 0.5893 - acc: 0.7006 - val_loss: 0.9781 - val_acc: 0.4955\n",
      "Epoch 50/1000\n",
      "510/510 [==============================] - 2s 3ms/step - loss: 0.5865 - acc: 0.7037 - val_loss: 1.0083 - val_acc: 0.4970\n",
      "Epoch 51/1000\n",
      "510/510 [==============================] - 1s 3ms/step - loss: 0.5837 - acc: 0.7056 - val_loss: 1.0674 - val_acc: 0.4939\n",
      "Epoch 52/1000\n",
      "510/510 [==============================] - 1s 3ms/step - loss: 0.5840 - acc: 0.7026 - val_loss: 1.0068 - val_acc: 0.4964\n",
      "Epoch 53/1000\n",
      "510/510 [==============================] - 1s 3ms/step - loss: 0.5815 - acc: 0.7077 - val_loss: 0.9764 - val_acc: 0.4990\n",
      "Epoch 54/1000\n",
      "510/510 [==============================] - 1s 3ms/step - loss: 0.5772 - acc: 0.7132 - val_loss: 0.9821 - val_acc: 0.5008\n",
      "Epoch 55/1000\n",
      "510/510 [==============================] - 2s 3ms/step - loss: 0.5756 - acc: 0.7129 - val_loss: 1.0289 - val_acc: 0.4996\n"
     ]
    }
   ],
   "source": [
    "# result = regressor.fit_generator(train_gen, steps_per_epoch=len(train_gen), epochs=1000)\n",
    "result = regressor.fit(x, y, epochs=1000, validation_data=(x1, y1), callbacks = [EarlyStopping(monitor='val_loss', mode='min', patience=50),\n",
    "             ModelCheckpoint(filepath='best_model.h5', monitor='val_acc', save_best_only=True)])"
   ]
  },
  {
   "cell_type": "code",
   "execution_count": 13,
   "metadata": {
    "ExecuteTime": {
     "end_time": "2019-03-10T17:40:25.942607Z",
     "start_time": "2019-03-10T17:40:25.779568Z"
    }
   },
   "outputs": [
    {
     "data": {
      "text/plain": [
       "[<matplotlib.lines.Line2D at 0x7fa91ddcce80>]"
      ]
     },
     "execution_count": 13,
     "metadata": {},
     "output_type": "execute_result"
    },
    {
     "data": {
      "image/png": "[encoded data removed]",
      "text/plain": [
       "<Figure size 432x288 with 1 Axes>"
      ]
     },
     "metadata": {
      "needs_background": "light"
     },
     "output_type": "display_data"
    }
   ],
   "source": [
    "plt.plot(result.history[\"acc\"])\n",
    "plt.plot(result.history[\"val_acc\"])"
   ]
  },
  {
   "cell_type": "code",
   "execution_count": 14,
   "metadata": {
    "ExecuteTime": {
     "end_time": "2019-03-10T17:40:26.070404Z",
     "start_time": "2019-03-10T17:40:25.944767Z"
    }
   },
   "outputs": [
    {
     "data": {
      "text/plain": [
       "[<matplotlib.lines.Line2D at 0x7fa93f557eb8>]"
      ]
     },
     "execution_count": 14,
     "metadata": {},
     "output_type": "execute_result"
    },
    {
     "data": {
      "image/png": "[encoded data removed]",
      "text/plain": [
       "<Figure size 432x288 with 1 Axes>"
      ]
     },
     "metadata": {
      "needs_background": "light"
     },
     "output_type": "display_data"
    }
   ],
   "source": [
    "plt.plot(result.history[\"loss\"])\n",
    "plt.plot(result.history[\"val_loss\"])"
   ]
  }
 ],
 "metadata": {
  "kernelspec": {
   "display_name": "projet_S5",
   "language": "python",
   "name": "projet_s5"
  },
  "language_info": {
   "codemirror_mode": {
    "name": "ipython",
    "version": 3
   },
   "file_extension": ".py",
   "mimetype": "text/x-python",
   "name": "python",
   "nbconvert_exporter": "python",
   "pygments_lexer": "ipython3",
   "version": "3.6.7"
  },
  "toc": {
   "base_numbering": 1,
   "nav_menu": {},
   "number_sections": true,
   "sideBar": true,
   "skip_h1_title": false,
   "title_cell": "Table of Contents",
   "title_sidebar": "Contents",
   "toc_cell": false,
   "toc_position": {},
   "toc_section_display": true,
   "toc_window_display": false
  }
 },
 "nbformat": 4,
 "nbformat_minor": 2
}
