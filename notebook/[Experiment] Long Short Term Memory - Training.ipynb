{
 "cells": [
  {
   "cell_type": "code",
   "execution_count": 1,
   "metadata": {
    "ExecuteTime": {
     "end_time": "2019-03-10T15:43:22.023369Z",
     "start_time": "2019-03-10T15:43:21.047981Z"
    },
    "scrolled": true
   },
   "outputs": [],
   "source": [
    "# List all device\n",
    "from tensorflow.python.client import device_lib\n",
    "# print(device_lib.list_local_devices())"
   ]
  },
  {
   "cell_type": "code",
   "execution_count": 2,
   "metadata": {
    "ExecuteTime": {
     "end_time": "2019-03-10T15:43:22.338979Z",
     "start_time": "2019-03-10T15:43:22.025081Z"
    },
    "scrolled": true
   },
   "outputs": [
    {
     "name": "stderr",
     "output_type": "stream",
     "text": [
      "Using TensorFlow backend.\n"
     ]
    },
    {
     "data": {
      "text/plain": [
       "['/job:localhost/replica:0/task:0/device:GPU:0']"
      ]
     },
     "execution_count": 2,
     "metadata": {},
     "output_type": "execute_result"
    }
   ],
   "source": [
    "# Check available GPU\n",
    "from keras import backend as K\n",
    "K.tensorflow_backend._get_available_gpus()"
   ]
  },
  {
   "cell_type": "code",
   "execution_count": 3,
   "metadata": {
    "ExecuteTime": {
     "end_time": "2019-03-10T15:43:22.343092Z",
     "start_time": "2019-03-10T15:43:22.340314Z"
    }
   },
   "outputs": [],
   "source": [
    "import os\n",
    "os.environ[\"CUDA_DEVICE_ORDER\"]=\"PCI_BUS_ID\";\n",
    "# The GPU id to use, usually either \"0\" or \"1\";\n",
    "os.environ[\"CUDA_VISIBLE_DEVICES\"]=\"0\";  "
   ]
  },
  {
   "cell_type": "code",
   "execution_count": 4,
   "metadata": {
    "ExecuteTime": {
     "end_time": "2019-03-10T15:43:22.769418Z",
     "start_time": "2019-03-10T15:43:22.345411Z"
    }
   },
   "outputs": [],
   "source": [
    "# Importing the libraries\n",
    "import numpy as np\n",
    "import pandas as pd\n",
    "from keras.models import Sequential\n",
    "from keras.layers import Dense, LSTM, Dropout, Reshape, Lambda, GRU, BatchNormalization, Bidirectional\n",
    "from keras.preprocessing.sequence import TimeseriesGenerator\n",
    "from keras.callbacks import EarlyStopping, ModelCheckpoint\n",
    "from keras.activations import softmax\n",
    "from keras.optimizers import SGD, RMSprop\n",
    "import math\n",
    "import pickle\n",
    "import matplotlib.pyplot as plt\n",
    "from keras.utils import to_categorical\n",
    "from sklearn.preprocessing import StandardScaler"
   ]
  },
  {
   "cell_type": "code",
   "execution_count": 5,
   "metadata": {
    "ExecuteTime": {
     "end_time": "2019-03-10T15:43:22.781880Z",
     "start_time": "2019-03-10T15:43:22.771526Z"
    }
   },
   "outputs": [],
   "source": [
    "index = \"dowjones\"\n",
    "# index = \"frankfurt\"\n",
    "with open(f\"../data/{index}_calculated/periods750_250_240.txt\", \"rb\") as fp:   # Unpickling\n",
    "    dataset = pickle.load(fp)"
   ]
  },
  {
   "cell_type": "code",
   "execution_count": 7,
   "metadata": {
    "ExecuteTime": {
     "end_time": "2019-03-10T15:43:22.911326Z",
     "start_time": "2019-03-10T15:43:22.845940Z"
    }
   },
   "outputs": [],
   "source": [
    "i = 7\n",
    "timestep = 240\n",
    "feature = 31"
   ]
  },
  {
   "cell_type": "code",
   "execution_count": 8,
   "metadata": {
    "ExecuteTime": {
     "end_time": "2019-03-10T15:43:23.003435Z",
     "start_time": "2019-03-10T15:43:22.917577Z"
    }
   },
   "outputs": [],
   "source": [
    "x_train = dataset[0][i][0].values\n",
    "x_test = dataset[1][i][0].values\n",
    "\n",
    "scaler = StandardScaler().fit(x_train)\n",
    "\n",
    "x_train = scaler.transform(x_train)\n",
    "x_test = scaler.transform(x_test)\n",
    "\n",
    "y_train = to_categorical(dataset[0][i][1].values, 2)\n",
    "y_test = to_categorical(dataset[1][i][1].values, 2)"
   ]
  },
  {
   "cell_type": "code",
   "execution_count": 9,
   "metadata": {
    "ExecuteTime": {
     "end_time": "2019-03-10T15:43:23.067422Z",
     "start_time": "2019-03-10T15:43:23.006734Z"
    }
   },
   "outputs": [
    {
     "name": "stdout",
     "output_type": "stream",
     "text": [
      "x train shape: (750, 31)\n",
      "y train shape: (750, 31, 2)\n",
      "x test shape: (490, 31)\n",
      "y test shape: (490, 31, 2)\n"
     ]
    }
   ],
   "source": [
    "print(f\"x train shape: {x_train.shape}\")\n",
    "print(f\"y train shape: {y_train.shape}\")\n",
    "print(f\"x test shape: {x_test.shape}\")\n",
    "print(f\"y test shape: {y_test.shape}\")"
   ]
  },
  {
   "cell_type": "code",
   "execution_count": 10,
   "metadata": {
    "ExecuteTime": {
     "end_time": "2019-03-10T15:43:23.150052Z",
     "start_time": "2019-03-10T15:43:23.074475Z"
    }
   },
   "outputs": [
    {
     "name": "stdout",
     "output_type": "stream",
     "text": [
      "x shape: (510, 240, 31)\n",
      "y shape: (510, 31, 2)\n"
     ]
    }
   ],
   "source": [
    "x_series = [x_train[i:i+timestep, :] for i in range(x_train.shape[0] - timestep)]\n",
    "y_series = [y_train[i+timestep] for i in range(y_train.shape[0] - timestep)]\n",
    "x = np.array(x_series)\n",
    "y = np.array(y_series)\n",
    "print(f\"x shape: {x.shape}\")\n",
    "print(f\"y shape: {y.shape}\")"
   ]
  },
  {
   "cell_type": "code",
   "execution_count": 11,
   "metadata": {
    "ExecuteTime": {
     "end_time": "2019-03-10T15:43:23.214650Z",
     "start_time": "2019-03-10T15:43:23.151550Z"
    }
   },
   "outputs": [
    {
     "name": "stdout",
     "output_type": "stream",
     "text": [
      "x1 shape: (250, 240, 31)\n",
      "y1 shape: (250, 31, 2)\n"
     ]
    }
   ],
   "source": [
    "x_series1 = [x_test[i:i+timestep, :] for i in range(x_test.shape[0] - timestep)]\n",
    "y_series1 = [y_test[i+timestep] for i in range(y_test.shape[0] - timestep)]\n",
    "x1 = np.array(x_series1)\n",
    "y1 = np.array(y_series1)\n",
    "print(f\"x1 shape: {x1.shape}\")\n",
    "print(f\"y1 shape: {y1.shape}\")"
   ]
  },
  {
   "cell_type": "code",
   "execution_count": 12,
   "metadata": {
    "ExecuteTime": {
     "end_time": "2019-03-10T15:43:23.473970Z",
     "start_time": "2019-03-10T15:43:23.216223Z"
    }
   },
   "outputs": [
    {
     "name": "stdout",
     "output_type": "stream",
     "text": [
      "_________________________________________________________________\n",
      "Layer (type)                 Output Shape              Param #   \n",
      "=================================================================\n",
      "lstm_1 (LSTM)                (None, 25)                5700      \n",
      "_________________________________________________________________\n",
      "dense_1 (Dense)              (None, 62)                1612      \n",
      "_________________________________________________________________\n",
      "reshape_1 (Reshape)          (None, 31, 2)             0         \n",
      "_________________________________________________________________\n",
      "dense_2 (Dense)              (None, 31, 2)             6         \n",
      "=================================================================\n",
      "Total params: 7,318\n",
      "Trainable params: 7,318\n",
      "Non-trainable params: 0\n",
      "_________________________________________________________________\n"
     ]
    }
   ],
   "source": [
    "regressor = Sequential()\n",
    "regressor.add(LSTM(units=25, input_shape=(timestep, feature)))\n",
    "regressor.add(Dense(feature * 2, activation='relu'))\n",
    "regressor.add(Reshape((feature, 2)))\n",
    "# regressor.add(Lambda(lambda x: softmax(x, axis=-1)))\n",
    "regressor.add(Dense(2, activation='softmax'))\n",
    "regressor.compile(loss='binary_crossentropy',\n",
    "                  optimizer='rmsprop',\n",
    "                  metrics=['accuracy'])\n",
    "regressor.summary()"
   ]
  },
  {
   "cell_type": "code",
   "execution_count": 13,
   "metadata": {
    "ExecuteTime": {
     "end_time": "2019-03-10T15:46:16.646027Z",
     "start_time": "2019-03-10T15:43:23.475630Z"
    }
   },
   "outputs": [
    {
     "name": "stdout",
     "output_type": "stream",
     "text": [
      "Train on 510 samples, validate on 250 samples\n",
      "Epoch 1/1000\n",
      "510/510 [==============================] - 4s 8ms/step - loss: 0.6933 - acc: 0.5079 - val_loss: 0.6932 - val_acc: 0.5086\n",
      "Epoch 2/1000\n",
      "510/510 [==============================] - 3s 6ms/step - loss: 0.6915 - acc: 0.5233 - val_loss: 0.6931 - val_acc: 0.5080\n",
      "Epoch 3/1000\n",
      "510/510 [==============================] - 3s 6ms/step - loss: 0.6904 - acc: 0.5274 - val_loss: 0.6931 - val_acc: 0.5079\n",
      "Epoch 4/1000\n",
      "510/510 [==============================] - 3s 6ms/step - loss: 0.6894 - acc: 0.5379 - val_loss: 0.6932 - val_acc: 0.5085\n",
      "Epoch 5/1000\n",
      "510/510 [==============================] - 3s 6ms/step - loss: 0.6884 - acc: 0.5448 - val_loss: 0.6934 - val_acc: 0.5054\n",
      "Epoch 6/1000\n",
      "510/510 [==============================] - 3s 7ms/step - loss: 0.6874 - acc: 0.5491 - val_loss: 0.6936 - val_acc: 0.5053\n",
      "Epoch 7/1000\n",
      "510/510 [==============================] - 3s 6ms/step - loss: 0.6863 - acc: 0.5561 - val_loss: 0.6938 - val_acc: 0.5036\n",
      "Epoch 8/1000\n",
      "510/510 [==============================] - 3s 6ms/step - loss: 0.6852 - acc: 0.5620 - val_loss: 0.6941 - val_acc: 0.5061\n",
      "Epoch 9/1000\n",
      "510/510 [==============================] - 3s 6ms/step - loss: 0.6840 - acc: 0.5659 - val_loss: 0.6943 - val_acc: 0.5035\n",
      "Epoch 10/1000\n",
      "510/510 [==============================] - 3s 7ms/step - loss: 0.6828 - acc: 0.5703 - val_loss: 0.6947 - val_acc: 0.5018\n",
      "Epoch 11/1000\n",
      "510/510 [==============================] - 3s 7ms/step - loss: 0.6815 - acc: 0.5755 - val_loss: 0.6950 - val_acc: 0.5017\n",
      "Epoch 12/1000\n",
      "510/510 [==============================] - 3s 6ms/step - loss: 0.6803 - acc: 0.5780 - val_loss: 0.6953 - val_acc: 0.5054\n",
      "Epoch 13/1000\n",
      "510/510 [==============================] - 3s 6ms/step - loss: 0.6789 - acc: 0.5835 - val_loss: 0.6957 - val_acc: 0.5039\n",
      "Epoch 14/1000\n",
      "510/510 [==============================] - 3s 6ms/step - loss: 0.6775 - acc: 0.5852 - val_loss: 0.6959 - val_acc: 0.5021\n",
      "Epoch 15/1000\n",
      "510/510 [==============================] - 3s 6ms/step - loss: 0.6760 - acc: 0.5926 - val_loss: 0.6965 - val_acc: 0.5015\n",
      "Epoch 16/1000\n",
      "510/510 [==============================] - 3s 6ms/step - loss: 0.6745 - acc: 0.5946 - val_loss: 0.6971 - val_acc: 0.4994\n",
      "Epoch 17/1000\n",
      "510/510 [==============================] - 3s 6ms/step - loss: 0.6729 - acc: 0.5977 - val_loss: 0.6976 - val_acc: 0.4999\n",
      "Epoch 18/1000\n",
      "510/510 [==============================] - 3s 6ms/step - loss: 0.6712 - acc: 0.6023 - val_loss: 0.6983 - val_acc: 0.4955\n",
      "Epoch 19/1000\n",
      "510/510 [==============================] - 3s 6ms/step - loss: 0.6696 - acc: 0.6042 - val_loss: 0.6988 - val_acc: 0.4956\n",
      "Epoch 20/1000\n",
      "510/510 [==============================] - 3s 6ms/step - loss: 0.6680 - acc: 0.6058 - val_loss: 0.6997 - val_acc: 0.4961\n",
      "Epoch 21/1000\n",
      "510/510 [==============================] - 3s 6ms/step - loss: 0.6663 - acc: 0.6101 - val_loss: 0.7003 - val_acc: 0.4942\n",
      "Epoch 22/1000\n",
      "510/510 [==============================] - 3s 7ms/step - loss: 0.6645 - acc: 0.6130 - val_loss: 0.7011 - val_acc: 0.4935\n",
      "Epoch 23/1000\n",
      "510/510 [==============================] - 3s 6ms/step - loss: 0.6627 - acc: 0.6160 - val_loss: 0.7021 - val_acc: 0.4963\n",
      "Epoch 24/1000\n",
      "510/510 [==============================] - 3s 6ms/step - loss: 0.6611 - acc: 0.6166 - val_loss: 0.7026 - val_acc: 0.4983\n",
      "Epoch 25/1000\n",
      "510/510 [==============================] - 3s 6ms/step - loss: 0.6593 - acc: 0.6207 - val_loss: 0.7035 - val_acc: 0.4973\n",
      "Epoch 26/1000\n",
      "510/510 [==============================] - 3s 6ms/step - loss: 0.6575 - acc: 0.6220 - val_loss: 0.7041 - val_acc: 0.4992\n",
      "Epoch 27/1000\n",
      "510/510 [==============================] - 3s 6ms/step - loss: 0.6557 - acc: 0.6247 - val_loss: 0.7053 - val_acc: 0.4968\n",
      "Epoch 28/1000\n",
      "510/510 [==============================] - 3s 7ms/step - loss: 0.6539 - acc: 0.6281 - val_loss: 0.7062 - val_acc: 0.4961\n",
      "Epoch 29/1000\n",
      "510/510 [==============================] - 3s 6ms/step - loss: 0.6521 - acc: 0.6281 - val_loss: 0.7073 - val_acc: 0.4965\n",
      "Epoch 30/1000\n",
      "510/510 [==============================] - 3s 6ms/step - loss: 0.6503 - acc: 0.6317 - val_loss: 0.7086 - val_acc: 0.4961\n",
      "Epoch 31/1000\n",
      "510/510 [==============================] - 3s 6ms/step - loss: 0.6485 - acc: 0.6312 - val_loss: 0.7097 - val_acc: 0.4960\n",
      "Epoch 32/1000\n",
      "510/510 [==============================] - 3s 6ms/step - loss: 0.6466 - acc: 0.6376 - val_loss: 0.7112 - val_acc: 0.4965\n",
      "Epoch 33/1000\n",
      "510/510 [==============================] - 3s 6ms/step - loss: 0.6448 - acc: 0.6381 - val_loss: 0.7121 - val_acc: 0.4964\n",
      "Epoch 34/1000\n",
      "510/510 [==============================] - 3s 6ms/step - loss: 0.6430 - acc: 0.6402 - val_loss: 0.7135 - val_acc: 0.4955\n",
      "Epoch 35/1000\n",
      "510/510 [==============================] - 3s 6ms/step - loss: 0.6411 - acc: 0.6433 - val_loss: 0.7149 - val_acc: 0.4961\n",
      "Epoch 36/1000\n",
      "510/510 [==============================] - 3s 6ms/step - loss: 0.6392 - acc: 0.6430 - val_loss: 0.7163 - val_acc: 0.4969\n",
      "Epoch 37/1000\n",
      "510/510 [==============================] - 3s 6ms/step - loss: 0.6375 - acc: 0.6472 - val_loss: 0.7179 - val_acc: 0.4981\n",
      "Epoch 38/1000\n",
      "510/510 [==============================] - 3s 6ms/step - loss: 0.6356 - acc: 0.6487 - val_loss: 0.7196 - val_acc: 0.4990\n",
      "Epoch 39/1000\n",
      "510/510 [==============================] - 3s 6ms/step - loss: 0.6338 - acc: 0.6503 - val_loss: 0.7216 - val_acc: 0.4997\n",
      "Epoch 40/1000\n",
      "510/510 [==============================] - 3s 6ms/step - loss: 0.6320 - acc: 0.6528 - val_loss: 0.7232 - val_acc: 0.4995\n",
      "Epoch 41/1000\n",
      "510/510 [==============================] - 3s 6ms/step - loss: 0.6302 - acc: 0.6535 - val_loss: 0.7241 - val_acc: 0.4990\n",
      "Epoch 42/1000\n",
      "510/510 [==============================] - 3s 6ms/step - loss: 0.6283 - acc: 0.6548 - val_loss: 0.7258 - val_acc: 0.4990\n",
      "Epoch 43/1000\n",
      "510/510 [==============================] - 3s 6ms/step - loss: 0.6266 - acc: 0.6562 - val_loss: 0.7277 - val_acc: 0.4988\n",
      "Epoch 44/1000\n",
      "510/510 [==============================] - 3s 7ms/step - loss: 0.6248 - acc: 0.6603 - val_loss: 0.7299 - val_acc: 0.4972\n",
      "Epoch 45/1000\n",
      "510/510 [==============================] - 3s 6ms/step - loss: 0.6231 - acc: 0.6614 - val_loss: 0.7317 - val_acc: 0.4972\n",
      "Epoch 46/1000\n",
      "510/510 [==============================] - 3s 6ms/step - loss: 0.6212 - acc: 0.6625 - val_loss: 0.7330 - val_acc: 0.4991\n",
      "Epoch 47/1000\n",
      "510/510 [==============================] - 3s 6ms/step - loss: 0.6192 - acc: 0.6629 - val_loss: 0.7355 - val_acc: 0.4996\n",
      "Epoch 48/1000\n",
      "510/510 [==============================] - 3s 6ms/step - loss: 0.6178 - acc: 0.6648 - val_loss: 0.7371 - val_acc: 0.4969\n",
      "Epoch 49/1000\n",
      "510/510 [==============================] - 3s 6ms/step - loss: 0.6158 - acc: 0.6667 - val_loss: 0.7398 - val_acc: 0.4959\n",
      "Epoch 50/1000\n",
      "510/510 [==============================] - 3s 6ms/step - loss: 0.6141 - acc: 0.6677 - val_loss: 0.7416 - val_acc: 0.4956\n",
      "Epoch 51/1000\n",
      "510/510 [==============================] - 3s 6ms/step - loss: 0.6122 - acc: 0.6682 - val_loss: 0.7434 - val_acc: 0.4968\n",
      "Epoch 52/1000\n",
      "510/510 [==============================] - 3s 6ms/step - loss: 0.6106 - acc: 0.6710 - val_loss: 0.7448 - val_acc: 0.4994\n"
     ]
    }
   ],
   "source": [
    "# result = regressor.fit_generator(train_gen, steps_per_epoch=len(train_gen), epochs=1000)\n",
    "result = regressor.fit(x, y, epochs=1000, validation_data=(x1, y1), callbacks = [EarlyStopping(monitor='val_loss', mode='min', patience=50),\n",
    "             ModelCheckpoint(filepath='best_model.h5', monitor='val_acc', save_best_only=True)])"
   ]
  },
  {
   "cell_type": "code",
   "execution_count": 14,
   "metadata": {
    "ExecuteTime": {
     "end_time": "2019-03-10T15:46:16.767029Z",
     "start_time": "2019-03-10T15:46:16.647428Z"
    }
   },
   "outputs": [
    {
     "data": {
      "text/plain": [
       "[<matplotlib.lines.Line2D at 0x7f1f5c719780>]"
      ]
     },
     "execution_count": 14,
     "metadata": {},
     "output_type": "execute_result"
    },
    {
     "data": {
      "image/png": "[encoded data removed]",
      "text/plain": [
       "<Figure size 432x288 with 1 Axes>"
      ]
     },
     "metadata": {
      "needs_background": "light"
     },
     "output_type": "display_data"
    }
   ],
   "source": [
    "plt.plot(result.history[\"acc\"])\n",
    "plt.plot(result.history[\"val_acc\"])"
   ]
  },
  {
   "cell_type": "code",
   "execution_count": 15,
   "metadata": {
    "ExecuteTime": {
     "end_time": "2019-03-10T15:46:16.876680Z",
     "start_time": "2019-03-10T15:46:16.768458Z"
    }
   },
   "outputs": [
    {
     "data": {
      "text/plain": [
       "[<matplotlib.lines.Line2D at 0x7f1f1e1c6860>]"
      ]
     },
     "execution_count": 15,
     "metadata": {},
     "output_type": "execute_result"
    },
    {
     "data": {
      "image/png": "[encoded data removed]",
      "text/plain": [
       "<Figure size 432x288 with 1 Axes>"
      ]
     },
     "metadata": {
      "needs_background": "light"
     },
     "output_type": "display_data"
    }
   ],
   "source": [
    "plt.plot(result.history[\"loss\"])\n",
    "plt.plot(result.history[\"val_loss\"])"
   ]
  }
 ],
 "metadata": {
  "kernelspec": {
   "display_name": "projet_S5",
   "language": "python",
   "name": "projet_s5"
  },
  "language_info": {
   "codemirror_mode": {
    "name": "ipython",
    "version": 3
   },
   "file_extension": ".py",
   "mimetype": "text/x-python",
   "name": "python",
   "nbconvert_exporter": "python",
   "pygments_lexer": "ipython3",
   "version": "3.6.7"
  },
  "toc": {
   "base_numbering": 1,
   "nav_menu": {},
   "number_sections": true,
   "sideBar": true,
   "skip_h1_title": false,
   "title_cell": "Table of Contents",
   "title_sidebar": "Contents",
   "toc_cell": false,
   "toc_position": {},
   "toc_section_display": true,
   "toc_window_display": false
  }
 },
 "nbformat": 4,
 "nbformat_minor": 2
}
