{
 "cells": [
  {
   "cell_type": "code",
   "execution_count": 1,
   "metadata": {
    "ExecuteTime": {
     "end_time": "2019-03-07T10:26:48.771277Z",
     "start_time": "2019-03-07T10:26:47.570214Z"
    }
   },
   "outputs": [
    {
     "name": "stderr",
     "output_type": "stream",
     "text": [
      "Using TensorFlow backend.\n"
     ]
    }
   ],
   "source": [
    "import math\n",
    "import numpy as np\n",
    "import pandas as pd\n",
    "import matplotlib.pyplot as plt\n",
    "import pickle\n",
    "# Importing the libraries\n",
    "import numpy as np\n",
    "import pandas as pd\n",
    "from keras.models import Sequential\n",
    "from keras.layers import Dense, LSTM, Dropout, Reshape, Lambda\n",
    "from keras.preprocessing.sequence import TimeseriesGenerator\n",
    "from keras.callbacks import EarlyStopping, ModelCheckpoint\n",
    "from keras.activations import softmax\n",
    "from keras.optimizers import SGD\n",
    "import math\n",
    "import pickle"
   ]
  },
  {
   "cell_type": "code",
   "execution_count": 2,
   "metadata": {
    "ExecuteTime": {
     "end_time": "2019-03-07T10:26:48.777946Z",
     "start_time": "2019-03-07T10:26:48.773623Z"
    }
   },
   "outputs": [],
   "source": [
    "def normalize_data(df):\n",
    "    \"\"\"normalize a dataframe.\"\"\"\n",
    "    mean = df.mean(axis=1)\n",
    "    std = df.std(axis=1)\n",
    "    df = df.sub(mean, axis=0)\n",
    "    df = df.div(std, axis=0)\n",
    "#     df = df.values\n",
    "    return df"
   ]
  },
  {
   "cell_type": "code",
   "execution_count": 3,
   "metadata": {
    "ExecuteTime": {
     "end_time": "2019-03-07T10:26:48.940621Z",
     "start_time": "2019-03-07T10:26:48.780094Z"
    }
   },
   "outputs": [
    {
     "data": {
      "text/html": [
       "<div>\n",
       "<style scoped>\n",
       "    .dataframe tbody tr th:only-of-type {\n",
       "        vertical-align: middle;\n",
       "    }\n",
       "\n",
       "    .dataframe tbody tr th {\n",
       "        vertical-align: top;\n",
       "    }\n",
       "\n",
       "    .dataframe thead th {\n",
       "        text-align: right;\n",
       "    }\n",
       "</style>\n",
       "<table border=\"1\" class=\"dataframe\">\n",
       "  <thead>\n",
       "    <tr style=\"text-align: right;\">\n",
       "      <th></th>\n",
       "      <th>AABA</th>\n",
       "      <th>AAPL</th>\n",
       "      <th>AMZN</th>\n",
       "      <th>AXP</th>\n",
       "      <th>BA</th>\n",
       "      <th>CAT</th>\n",
       "      <th>CSCO</th>\n",
       "      <th>CVX</th>\n",
       "      <th>DIS</th>\n",
       "      <th>GE</th>\n",
       "      <th>...</th>\n",
       "      <th>MSFT</th>\n",
       "      <th>NKE</th>\n",
       "      <th>PFE</th>\n",
       "      <th>PG</th>\n",
       "      <th>TRV</th>\n",
       "      <th>UNH</th>\n",
       "      <th>UTX</th>\n",
       "      <th>VZ</th>\n",
       "      <th>WMT</th>\n",
       "      <th>XOM</th>\n",
       "    </tr>\n",
       "    <tr>\n",
       "      <th>Date</th>\n",
       "      <th></th>\n",
       "      <th></th>\n",
       "      <th></th>\n",
       "      <th></th>\n",
       "      <th></th>\n",
       "      <th></th>\n",
       "      <th></th>\n",
       "      <th></th>\n",
       "      <th></th>\n",
       "      <th></th>\n",
       "      <th></th>\n",
       "      <th></th>\n",
       "      <th></th>\n",
       "      <th></th>\n",
       "      <th></th>\n",
       "      <th></th>\n",
       "      <th></th>\n",
       "      <th></th>\n",
       "      <th></th>\n",
       "      <th></th>\n",
       "      <th></th>\n",
       "    </tr>\n",
       "  </thead>\n",
       "  <tbody>\n",
       "    <tr>\n",
       "      <th>2006-01-04</th>\n",
       "      <td>0.001467</td>\n",
       "      <td>0.002809</td>\n",
       "      <td>-0.006936</td>\n",
       "      <td>-0.011982</td>\n",
       "      <td>0.010363</td>\n",
       "      <td>0.025433</td>\n",
       "      <td>0.022923</td>\n",
       "      <td>-0.002877</td>\n",
       "      <td>-0.016803</td>\n",
       "      <td>-0.001414</td>\n",
       "      <td>...</td>\n",
       "      <td>0.004844</td>\n",
       "      <td>-0.004655</td>\n",
       "      <td>0.032380</td>\n",
       "      <td>0.001871</td>\n",
       "      <td>0.011089</td>\n",
       "      <td>0.002430</td>\n",
       "      <td>-0.006015</td>\n",
       "      <td>0.029296</td>\n",
       "      <td>0.001947</td>\n",
       "      <td>0.001710</td>\n",
       "    </tr>\n",
       "    <tr>\n",
       "      <th>2006-01-05</th>\n",
       "      <td>0.013669</td>\n",
       "      <td>-0.007470</td>\n",
       "      <td>0.008466</td>\n",
       "      <td>0.010587</td>\n",
       "      <td>-0.011803</td>\n",
       "      <td>0.000000</td>\n",
       "      <td>0.028011</td>\n",
       "      <td>-0.012222</td>\n",
       "      <td>0.017507</td>\n",
       "      <td>-0.002548</td>\n",
       "      <td>...</td>\n",
       "      <td>0.000742</td>\n",
       "      <td>0.006548</td>\n",
       "      <td>0.001222</td>\n",
       "      <td>-0.003226</td>\n",
       "      <td>0.009677</td>\n",
       "      <td>-0.003070</td>\n",
       "      <td>-0.003737</td>\n",
       "      <td>0.011513</td>\n",
       "      <td>-0.013601</td>\n",
       "      <td>-0.004951</td>\n",
       "    </tr>\n",
       "    <tr>\n",
       "      <th>2006-01-06</th>\n",
       "      <td>0.040453</td>\n",
       "      <td>0.025400</td>\n",
       "      <td>0.004617</td>\n",
       "      <td>0.003429</td>\n",
       "      <td>-0.013934</td>\n",
       "      <td>0.019909</td>\n",
       "      <td>0.022888</td>\n",
       "      <td>0.018216</td>\n",
       "      <td>0.013519</td>\n",
       "      <td>0.006812</td>\n",
       "      <td>...</td>\n",
       "      <td>-0.002964</td>\n",
       "      <td>-0.003717</td>\n",
       "      <td>0.010985</td>\n",
       "      <td>-0.001022</td>\n",
       "      <td>0.005538</td>\n",
       "      <td>0.019614</td>\n",
       "      <td>0.003215</td>\n",
       "      <td>-0.008852</td>\n",
       "      <td>0.004158</td>\n",
       "      <td>0.019732</td>\n",
       "    </tr>\n",
       "    <tr>\n",
       "      <th>2006-01-09</th>\n",
       "      <td>0.004860</td>\n",
       "      <td>-0.003670</td>\n",
       "      <td>-0.016503</td>\n",
       "      <td>0.024867</td>\n",
       "      <td>-0.008363</td>\n",
       "      <td>0.018197</td>\n",
       "      <td>0.015450</td>\n",
       "      <td>-0.005063</td>\n",
       "      <td>0.010509</td>\n",
       "      <td>-0.002537</td>\n",
       "      <td>...</td>\n",
       "      <td>-0.001858</td>\n",
       "      <td>0.014925</td>\n",
       "      <td>0.000000</td>\n",
       "      <td>0.007503</td>\n",
       "      <td>0.000424</td>\n",
       "      <td>-0.023847</td>\n",
       "      <td>0.011396</td>\n",
       "      <td>0.004147</td>\n",
       "      <td>-0.003705</td>\n",
       "      <td>-0.000505</td>\n",
       "    </tr>\n",
       "    <tr>\n",
       "      <th>2006-01-10</th>\n",
       "      <td>-0.010134</td>\n",
       "      <td>0.063536</td>\n",
       "      <td>-0.030374</td>\n",
       "      <td>-0.002964</td>\n",
       "      <td>0.004799</td>\n",
       "      <td>-0.004062</td>\n",
       "      <td>-0.004722</td>\n",
       "      <td>0.004919</td>\n",
       "      <td>0.012800</td>\n",
       "      <td>-0.005370</td>\n",
       "      <td>...</td>\n",
       "      <td>0.005212</td>\n",
       "      <td>0.001838</td>\n",
       "      <td>-0.016499</td>\n",
       "      <td>-0.003893</td>\n",
       "      <td>-0.007199</td>\n",
       "      <td>0.019707</td>\n",
       "      <td>0.000704</td>\n",
       "      <td>0.004130</td>\n",
       "      <td>0.003282</td>\n",
       "      <td>0.007744</td>\n",
       "    </tr>\n",
       "  </tbody>\n",
       "</table>\n",
       "<p>5 rows × 31 columns</p>\n",
       "</div>"
      ],
      "text/plain": [
       "                AABA      AAPL      AMZN       AXP        BA       CAT  \\\n",
       "Date                                                                     \n",
       "2006-01-04  0.001467  0.002809 -0.006936 -0.011982  0.010363  0.025433   \n",
       "2006-01-05  0.013669 -0.007470  0.008466  0.010587 -0.011803  0.000000   \n",
       "2006-01-06  0.040453  0.025400  0.004617  0.003429 -0.013934  0.019909   \n",
       "2006-01-09  0.004860 -0.003670 -0.016503  0.024867 -0.008363  0.018197   \n",
       "2006-01-10 -0.010134  0.063536 -0.030374 -0.002964  0.004799 -0.004062   \n",
       "\n",
       "                CSCO       CVX       DIS        GE    ...         MSFT  \\\n",
       "Date                                                  ...                \n",
       "2006-01-04  0.022923 -0.002877 -0.016803 -0.001414    ...     0.004844   \n",
       "2006-01-05  0.028011 -0.012222  0.017507 -0.002548    ...     0.000742   \n",
       "2006-01-06  0.022888  0.018216  0.013519  0.006812    ...    -0.002964   \n",
       "2006-01-09  0.015450 -0.005063  0.010509 -0.002537    ...    -0.001858   \n",
       "2006-01-10 -0.004722  0.004919  0.012800 -0.005370    ...     0.005212   \n",
       "\n",
       "                 NKE       PFE        PG       TRV       UNH       UTX  \\\n",
       "Date                                                                     \n",
       "2006-01-04 -0.004655  0.032380  0.001871  0.011089  0.002430 -0.006015   \n",
       "2006-01-05  0.006548  0.001222 -0.003226  0.009677 -0.003070 -0.003737   \n",
       "2006-01-06 -0.003717  0.010985 -0.001022  0.005538  0.019614  0.003215   \n",
       "2006-01-09  0.014925  0.000000  0.007503  0.000424 -0.023847  0.011396   \n",
       "2006-01-10  0.001838 -0.016499 -0.003893 -0.007199  0.019707  0.000704   \n",
       "\n",
       "                  VZ       WMT       XOM  \n",
       "Date                                      \n",
       "2006-01-04  0.029296  0.001947  0.001710  \n",
       "2006-01-05  0.011513 -0.013601 -0.004951  \n",
       "2006-01-06 -0.008852  0.004158  0.019732  \n",
       "2006-01-09  0.004147 -0.003705 -0.000505  \n",
       "2006-01-10  0.004130  0.003282  0.007744  \n",
       "\n",
       "[5 rows x 31 columns]"
      ]
     },
     "execution_count": 3,
     "metadata": {},
     "output_type": "execute_result"
    }
   ],
   "source": [
    "# First, we get the data\n",
    "returns = pd.read_csv('../data/dowjones_calculated/returns.csv', index_col='Date', parse_dates=['Date'])\n",
    "returns.head()"
   ]
  },
  {
   "cell_type": "code",
   "execution_count": 30,
   "metadata": {
    "ExecuteTime": {
     "end_time": "2019-03-07T10:36:20.181104Z",
     "start_time": "2019-03-07T10:36:20.166009Z"
    }
   },
   "outputs": [
    {
     "data": {
      "text/plain": [
       "AABA     1.409325\n",
       "AAPL     3.375104\n",
       "AMZN     4.159440\n",
       "AXP      1.431123\n",
       "BA       1.888389\n",
       "CAT      1.571600\n",
       "CSCO     1.300350\n",
       "CVX      1.153521\n",
       "DIS      1.896328\n",
       "GE      -0.169934\n",
       "GOOGL    2.074177\n",
       "GS       1.499777\n",
       "HD       1.917156\n",
       "IBM      0.888303\n",
       "INTC     1.061534\n",
       "JNJ      0.965329\n",
       "JPM      1.969506\n",
       "KO       1.017517\n",
       "MCD      1.823237\n",
       "MMM      1.339003\n",
       "MRK      0.913876\n",
       "MSFT     1.587212\n",
       "NKE      2.185073\n",
       "PFE      0.730034\n",
       "PG       0.615158\n",
       "TRV      1.554823\n",
       "UNH      1.865643\n",
       "UTX      1.078645\n",
       "VZ       0.804244\n",
       "WMT      0.970750\n",
       "XOM      0.685599\n",
       "dtype: float64"
      ]
     },
     "execution_count": 30,
     "metadata": {},
     "output_type": "execute_result"
    }
   ],
   "source": [
    "returns.sum()"
   ]
  },
  {
   "cell_type": "code",
   "execution_count": 33,
   "metadata": {
    "ExecuteTime": {
     "end_time": "2019-03-07T10:45:31.864349Z",
     "start_time": "2019-03-07T10:45:31.815201Z"
    }
   },
   "outputs": [
    {
     "data": {
      "text/html": [
       "<div>\n",
       "<style scoped>\n",
       "    .dataframe tbody tr th:only-of-type {\n",
       "        vertical-align: middle;\n",
       "    }\n",
       "\n",
       "    .dataframe tbody tr th {\n",
       "        vertical-align: top;\n",
       "    }\n",
       "\n",
       "    .dataframe thead th {\n",
       "        text-align: right;\n",
       "    }\n",
       "</style>\n",
       "<table border=\"1\" class=\"dataframe\">\n",
       "  <thead>\n",
       "    <tr style=\"text-align: right;\">\n",
       "      <th></th>\n",
       "      <th>AABA</th>\n",
       "      <th>AAPL</th>\n",
       "      <th>AMZN</th>\n",
       "      <th>AXP</th>\n",
       "      <th>BA</th>\n",
       "      <th>CAT</th>\n",
       "      <th>CSCO</th>\n",
       "      <th>CVX</th>\n",
       "      <th>DIS</th>\n",
       "      <th>GE</th>\n",
       "      <th>...</th>\n",
       "      <th>MSFT</th>\n",
       "      <th>NKE</th>\n",
       "      <th>PFE</th>\n",
       "      <th>PG</th>\n",
       "      <th>TRV</th>\n",
       "      <th>UNH</th>\n",
       "      <th>UTX</th>\n",
       "      <th>VZ</th>\n",
       "      <th>WMT</th>\n",
       "      <th>XOM</th>\n",
       "    </tr>\n",
       "    <tr>\n",
       "      <th>Date</th>\n",
       "      <th></th>\n",
       "      <th></th>\n",
       "      <th></th>\n",
       "      <th></th>\n",
       "      <th></th>\n",
       "      <th></th>\n",
       "      <th></th>\n",
       "      <th></th>\n",
       "      <th></th>\n",
       "      <th></th>\n",
       "      <th></th>\n",
       "      <th></th>\n",
       "      <th></th>\n",
       "      <th></th>\n",
       "      <th></th>\n",
       "      <th></th>\n",
       "      <th></th>\n",
       "      <th></th>\n",
       "      <th></th>\n",
       "      <th></th>\n",
       "      <th></th>\n",
       "    </tr>\n",
       "  </thead>\n",
       "  <tbody>\n",
       "    <tr>\n",
       "      <th>2006-01-04</th>\n",
       "      <td>0.001466</td>\n",
       "      <td>0.002805</td>\n",
       "      <td>-0.006960</td>\n",
       "      <td>-0.012054</td>\n",
       "      <td>0.010310</td>\n",
       "      <td>0.025115</td>\n",
       "      <td>0.022664</td>\n",
       "      <td>-0.002882</td>\n",
       "      <td>-0.016946</td>\n",
       "      <td>-0.001415</td>\n",
       "      <td>...</td>\n",
       "      <td>0.004832</td>\n",
       "      <td>-0.004666</td>\n",
       "      <td>0.031867</td>\n",
       "      <td>0.001870</td>\n",
       "      <td>0.011028</td>\n",
       "      <td>0.002427</td>\n",
       "      <td>-0.006033</td>\n",
       "      <td>0.028875</td>\n",
       "      <td>0.001945</td>\n",
       "      <td>0.001709</td>\n",
       "    </tr>\n",
       "    <tr>\n",
       "      <th>2006-01-05</th>\n",
       "      <td>0.013576</td>\n",
       "      <td>-0.007498</td>\n",
       "      <td>0.008430</td>\n",
       "      <td>0.010531</td>\n",
       "      <td>-0.011873</td>\n",
       "      <td>0.000000</td>\n",
       "      <td>0.027626</td>\n",
       "      <td>-0.012297</td>\n",
       "      <td>0.017356</td>\n",
       "      <td>-0.002551</td>\n",
       "      <td>...</td>\n",
       "      <td>0.000741</td>\n",
       "      <td>0.006527</td>\n",
       "      <td>0.001221</td>\n",
       "      <td>-0.003232</td>\n",
       "      <td>0.009631</td>\n",
       "      <td>-0.003075</td>\n",
       "      <td>-0.003744</td>\n",
       "      <td>0.011447</td>\n",
       "      <td>-0.013694</td>\n",
       "      <td>-0.004964</td>\n",
       "    </tr>\n",
       "    <tr>\n",
       "      <th>2006-01-06</th>\n",
       "      <td>0.039656</td>\n",
       "      <td>0.025083</td>\n",
       "      <td>0.004606</td>\n",
       "      <td>0.003423</td>\n",
       "      <td>-0.014032</td>\n",
       "      <td>0.019713</td>\n",
       "      <td>0.022630</td>\n",
       "      <td>0.018052</td>\n",
       "      <td>0.013428</td>\n",
       "      <td>0.006789</td>\n",
       "      <td>...</td>\n",
       "      <td>-0.002968</td>\n",
       "      <td>-0.003724</td>\n",
       "      <td>0.010925</td>\n",
       "      <td>-0.001023</td>\n",
       "      <td>0.005523</td>\n",
       "      <td>0.019424</td>\n",
       "      <td>0.003210</td>\n",
       "      <td>-0.008892</td>\n",
       "      <td>0.004150</td>\n",
       "      <td>0.019540</td>\n",
       "    </tr>\n",
       "    <tr>\n",
       "      <th>2006-01-09</th>\n",
       "      <td>0.004848</td>\n",
       "      <td>-0.003676</td>\n",
       "      <td>-0.016641</td>\n",
       "      <td>0.024563</td>\n",
       "      <td>-0.008399</td>\n",
       "      <td>0.018033</td>\n",
       "      <td>0.015332</td>\n",
       "      <td>-0.005076</td>\n",
       "      <td>0.010454</td>\n",
       "      <td>-0.002541</td>\n",
       "      <td>...</td>\n",
       "      <td>-0.001860</td>\n",
       "      <td>0.014815</td>\n",
       "      <td>0.000000</td>\n",
       "      <td>0.007475</td>\n",
       "      <td>0.000424</td>\n",
       "      <td>-0.024136</td>\n",
       "      <td>0.011332</td>\n",
       "      <td>0.004138</td>\n",
       "      <td>-0.003712</td>\n",
       "      <td>-0.000505</td>\n",
       "    </tr>\n",
       "    <tr>\n",
       "      <th>2006-01-10</th>\n",
       "      <td>-0.010185</td>\n",
       "      <td>0.061599</td>\n",
       "      <td>-0.030845</td>\n",
       "      <td>-0.002968</td>\n",
       "      <td>0.004787</td>\n",
       "      <td>-0.004070</td>\n",
       "      <td>-0.004733</td>\n",
       "      <td>0.004907</td>\n",
       "      <td>0.012719</td>\n",
       "      <td>-0.005385</td>\n",
       "      <td>...</td>\n",
       "      <td>0.005199</td>\n",
       "      <td>0.001837</td>\n",
       "      <td>-0.016637</td>\n",
       "      <td>-0.003901</td>\n",
       "      <td>-0.007225</td>\n",
       "      <td>0.019515</td>\n",
       "      <td>0.000704</td>\n",
       "      <td>0.004121</td>\n",
       "      <td>0.003276</td>\n",
       "      <td>0.007714</td>\n",
       "    </tr>\n",
       "  </tbody>\n",
       "</table>\n",
       "<p>5 rows × 31 columns</p>\n",
       "</div>"
      ],
      "text/plain": [
       "                AABA      AAPL      AMZN       AXP        BA       CAT  \\\n",
       "Date                                                                     \n",
       "2006-01-04  0.001466  0.002805 -0.006960 -0.012054  0.010310  0.025115   \n",
       "2006-01-05  0.013576 -0.007498  0.008430  0.010531 -0.011873  0.000000   \n",
       "2006-01-06  0.039656  0.025083  0.004606  0.003423 -0.014032  0.019713   \n",
       "2006-01-09  0.004848 -0.003676 -0.016641  0.024563 -0.008399  0.018033   \n",
       "2006-01-10 -0.010185  0.061599 -0.030845 -0.002968  0.004787 -0.004070   \n",
       "\n",
       "                CSCO       CVX       DIS        GE    ...         MSFT  \\\n",
       "Date                                                  ...                \n",
       "2006-01-04  0.022664 -0.002882 -0.016946 -0.001415    ...     0.004832   \n",
       "2006-01-05  0.027626 -0.012297  0.017356 -0.002551    ...     0.000741   \n",
       "2006-01-06  0.022630  0.018052  0.013428  0.006789    ...    -0.002968   \n",
       "2006-01-09  0.015332 -0.005076  0.010454 -0.002541    ...    -0.001860   \n",
       "2006-01-10 -0.004733  0.004907  0.012719 -0.005385    ...     0.005199   \n",
       "\n",
       "                 NKE       PFE        PG       TRV       UNH       UTX  \\\n",
       "Date                                                                     \n",
       "2006-01-04 -0.004666  0.031867  0.001870  0.011028  0.002427 -0.006033   \n",
       "2006-01-05  0.006527  0.001221 -0.003232  0.009631 -0.003075 -0.003744   \n",
       "2006-01-06 -0.003724  0.010925 -0.001023  0.005523  0.019424  0.003210   \n",
       "2006-01-09  0.014815  0.000000  0.007475  0.000424 -0.024136  0.011332   \n",
       "2006-01-10  0.001837 -0.016637 -0.003901 -0.007225  0.019515  0.000704   \n",
       "\n",
       "                  VZ       WMT       XOM  \n",
       "Date                                      \n",
       "2006-01-04  0.028875  0.001945  0.001709  \n",
       "2006-01-05  0.011447 -0.013694 -0.004964  \n",
       "2006-01-06 -0.008892  0.004150  0.019540  \n",
       "2006-01-09  0.004138 -0.003712 -0.000505  \n",
       "2006-01-10  0.004121  0.003276  0.007714  \n",
       "\n",
       "[5 rows x 31 columns]"
      ]
     },
     "execution_count": 33,
     "metadata": {},
     "output_type": "execute_result"
    }
   ],
   "source": [
    "log_returns = pd.read_csv('../data/dowjones_calculated/log_returns.csv', index_col='Date', parse_dates=['Date'])\n",
    "log_returns.head()"
   ]
  },
  {
   "cell_type": "code",
   "execution_count": 34,
   "metadata": {
    "ExecuteTime": {
     "end_time": "2019-03-07T10:45:35.022827Z",
     "start_time": "2019-03-07T10:45:35.017659Z"
    }
   },
   "outputs": [
    {
     "data": {
      "text/plain": [
       "AABA     0.532774\n",
       "AAPL     2.744284\n",
       "AMZN     3.216084\n",
       "AXP      0.619146\n",
       "BA       1.427413\n",
       "CAT      0.960384\n",
       "CSCO     0.790498\n",
       "CVX      0.734488\n",
       "DIS      1.482515\n",
       "GE      -0.693829\n",
       "GOOGL    1.564894\n",
       "GS       0.645819\n",
       "HD       1.511918\n",
       "IBM      0.612230\n",
       "INTC     0.574663\n",
       "JNJ      0.817572\n",
       "JPM      0.976859\n",
       "KO       0.830616\n",
       "MCD      1.616783\n",
       "MMM      1.063100\n",
       "MRK      0.535623\n",
       "MSFT     1.155088\n",
       "NKE      1.746885\n",
       "PFE      0.438599\n",
       "PG       0.440694\n",
       "TRV      1.092738\n",
       "UNH      1.232412\n",
       "UTX      0.757204\n",
       "VZ       0.531766\n",
       "WMT      0.745179\n",
       "XOM      0.341117\n",
       "dtype: float64"
      ]
     },
     "execution_count": 34,
     "metadata": {},
     "output_type": "execute_result"
    }
   ],
   "source": [
    "log_returns.sum()"
   ]
  },
  {
   "cell_type": "code",
   "execution_count": 4,
   "metadata": {
    "ExecuteTime": {
     "end_time": "2019-03-07T10:26:48.998745Z",
     "start_time": "2019-03-07T10:26:48.942656Z"
    },
    "scrolled": true
   },
   "outputs": [
    {
     "data": {
      "text/html": [
       "<div>\n",
       "<style scoped>\n",
       "    .dataframe tbody tr th:only-of-type {\n",
       "        vertical-align: middle;\n",
       "    }\n",
       "\n",
       "    .dataframe tbody tr th {\n",
       "        vertical-align: top;\n",
       "    }\n",
       "\n",
       "    .dataframe thead th {\n",
       "        text-align: right;\n",
       "    }\n",
       "</style>\n",
       "<table border=\"1\" class=\"dataframe\">\n",
       "  <thead>\n",
       "    <tr style=\"text-align: right;\">\n",
       "      <th></th>\n",
       "      <th>AABA</th>\n",
       "      <th>AAPL</th>\n",
       "      <th>AMZN</th>\n",
       "      <th>AXP</th>\n",
       "      <th>BA</th>\n",
       "      <th>CAT</th>\n",
       "      <th>CSCO</th>\n",
       "      <th>CVX</th>\n",
       "      <th>DIS</th>\n",
       "      <th>GE</th>\n",
       "      <th>...</th>\n",
       "      <th>MSFT</th>\n",
       "      <th>NKE</th>\n",
       "      <th>PFE</th>\n",
       "      <th>PG</th>\n",
       "      <th>TRV</th>\n",
       "      <th>UNH</th>\n",
       "      <th>UTX</th>\n",
       "      <th>VZ</th>\n",
       "      <th>WMT</th>\n",
       "      <th>XOM</th>\n",
       "    </tr>\n",
       "    <tr>\n",
       "      <th>Date</th>\n",
       "      <th></th>\n",
       "      <th></th>\n",
       "      <th></th>\n",
       "      <th></th>\n",
       "      <th></th>\n",
       "      <th></th>\n",
       "      <th></th>\n",
       "      <th></th>\n",
       "      <th></th>\n",
       "      <th></th>\n",
       "      <th></th>\n",
       "      <th></th>\n",
       "      <th></th>\n",
       "      <th></th>\n",
       "      <th></th>\n",
       "      <th></th>\n",
       "      <th></th>\n",
       "      <th></th>\n",
       "      <th></th>\n",
       "      <th></th>\n",
       "      <th></th>\n",
       "    </tr>\n",
       "  </thead>\n",
       "  <tbody>\n",
       "    <tr>\n",
       "      <th>2006-01-04</th>\n",
       "      <td>-0.168184</td>\n",
       "      <td>-0.068062</td>\n",
       "      <td>-0.794884</td>\n",
       "      <td>-1.171251</td>\n",
       "      <td>0.495397</td>\n",
       "      <td>1.619349</td>\n",
       "      <td>1.432145</td>\n",
       "      <td>-0.492194</td>\n",
       "      <td>-1.530873</td>\n",
       "      <td>-0.383012</td>\n",
       "      <td>...</td>\n",
       "      <td>0.083686</td>\n",
       "      <td>-0.624812</td>\n",
       "      <td>2.137548</td>\n",
       "      <td>-0.137995</td>\n",
       "      <td>0.549543</td>\n",
       "      <td>-0.096334</td>\n",
       "      <td>-0.726176</td>\n",
       "      <td>1.907482</td>\n",
       "      <td>-0.132371</td>\n",
       "      <td>-0.150011</td>\n",
       "    </tr>\n",
       "    <tr>\n",
       "      <th>2006-01-05</th>\n",
       "      <td>1.184305</td>\n",
       "      <td>-0.987965</td>\n",
       "      <td>0.649625</td>\n",
       "      <td>0.867641</td>\n",
       "      <td>-1.433254</td>\n",
       "      <td>-0.220345</td>\n",
       "      <td>2.658232</td>\n",
       "      <td>-1.476344</td>\n",
       "      <td>1.578796</td>\n",
       "      <td>-0.482204</td>\n",
       "      <td>...</td>\n",
       "      <td>-0.144138</td>\n",
       "      <td>0.452580</td>\n",
       "      <td>-0.094766</td>\n",
       "      <td>-0.551901</td>\n",
       "      <td>0.774157</td>\n",
       "      <td>-0.535881</td>\n",
       "      <td>-0.604411</td>\n",
       "      <td>0.962753</td>\n",
       "      <td>-1.618057</td>\n",
       "      <td>-0.729170</td>\n",
       "    </tr>\n",
       "    <tr>\n",
       "      <th>2006-01-06</th>\n",
       "      <td>2.511847</td>\n",
       "      <td>1.275601</td>\n",
       "      <td>-0.431226</td>\n",
       "      <td>-0.528828</td>\n",
       "      <td>-1.954787</td>\n",
       "      <td>0.824649</td>\n",
       "      <td>1.069337</td>\n",
       "      <td>0.685633</td>\n",
       "      <td>0.299872</td>\n",
       "      <td>-0.250927</td>\n",
       "      <td>...</td>\n",
       "      <td>-1.053835</td>\n",
       "      <td>-1.115710</td>\n",
       "      <td>0.091720</td>\n",
       "      <td>-0.894351</td>\n",
       "      <td>-0.355603</td>\n",
       "      <td>0.800447</td>\n",
       "      <td>-0.546332</td>\n",
       "      <td>-1.537422</td>\n",
       "      <td>-0.468884</td>\n",
       "      <td>0.810149</td>\n",
       "    </tr>\n",
       "    <tr>\n",
       "      <th>2006-01-09</th>\n",
       "      <td>0.056863</td>\n",
       "      <td>-0.715194</td>\n",
       "      <td>-1.876786</td>\n",
       "      <td>1.867787</td>\n",
       "      <td>-1.140034</td>\n",
       "      <td>1.264035</td>\n",
       "      <td>1.015423</td>\n",
       "      <td>-0.841331</td>\n",
       "      <td>0.568204</td>\n",
       "      <td>-0.612699</td>\n",
       "      <td>...</td>\n",
       "      <td>-0.551212</td>\n",
       "      <td>0.967921</td>\n",
       "      <td>-0.383033</td>\n",
       "      <td>0.296130</td>\n",
       "      <td>-0.344688</td>\n",
       "      <td>-2.541551</td>\n",
       "      <td>0.648464</td>\n",
       "      <td>-0.007696</td>\n",
       "      <td>-0.718416</td>\n",
       "      <td>-0.428724</td>\n",
       "    </tr>\n",
       "    <tr>\n",
       "      <th>2006-01-10</th>\n",
       "      <td>-0.793837</td>\n",
       "      <td>3.974750</td>\n",
       "      <td>-2.103978</td>\n",
       "      <td>-0.329723</td>\n",
       "      <td>0.172715</td>\n",
       "      <td>-0.400810</td>\n",
       "      <td>-0.443544</td>\n",
       "      <td>0.180536</td>\n",
       "      <td>0.690641</td>\n",
       "      <td>-0.485511</td>\n",
       "      <td>...</td>\n",
       "      <td>0.199488</td>\n",
       "      <td>-0.018908</td>\n",
       "      <td>-1.205867</td>\n",
       "      <td>-0.389890</td>\n",
       "      <td>-0.603872</td>\n",
       "      <td>1.137717</td>\n",
       "      <td>-0.092312</td>\n",
       "      <td>0.129411</td>\n",
       "      <td>0.074517</td>\n",
       "      <td>0.363376</td>\n",
       "    </tr>\n",
       "  </tbody>\n",
       "</table>\n",
       "<p>5 rows × 31 columns</p>\n",
       "</div>"
      ],
      "text/plain": [
       "                AABA      AAPL      AMZN       AXP        BA       CAT  \\\n",
       "Date                                                                     \n",
       "2006-01-04 -0.168184 -0.068062 -0.794884 -1.171251  0.495397  1.619349   \n",
       "2006-01-05  1.184305 -0.987965  0.649625  0.867641 -1.433254 -0.220345   \n",
       "2006-01-06  2.511847  1.275601 -0.431226 -0.528828 -1.954787  0.824649   \n",
       "2006-01-09  0.056863 -0.715194 -1.876786  1.867787 -1.140034  1.264035   \n",
       "2006-01-10 -0.793837  3.974750 -2.103978 -0.329723  0.172715 -0.400810   \n",
       "\n",
       "                CSCO       CVX       DIS        GE    ...         MSFT  \\\n",
       "Date                                                  ...                \n",
       "2006-01-04  1.432145 -0.492194 -1.530873 -0.383012    ...     0.083686   \n",
       "2006-01-05  2.658232 -1.476344  1.578796 -0.482204    ...    -0.144138   \n",
       "2006-01-06  1.069337  0.685633  0.299872 -0.250927    ...    -1.053835   \n",
       "2006-01-09  1.015423 -0.841331  0.568204 -0.612699    ...    -0.551212   \n",
       "2006-01-10 -0.443544  0.180536  0.690641 -0.485511    ...     0.199488   \n",
       "\n",
       "                 NKE       PFE        PG       TRV       UNH       UTX  \\\n",
       "Date                                                                     \n",
       "2006-01-04 -0.624812  2.137548 -0.137995  0.549543 -0.096334 -0.726176   \n",
       "2006-01-05  0.452580 -0.094766 -0.551901  0.774157 -0.535881 -0.604411   \n",
       "2006-01-06 -1.115710  0.091720 -0.894351 -0.355603  0.800447 -0.546332   \n",
       "2006-01-09  0.967921 -0.383033  0.296130 -0.344688 -2.541551  0.648464   \n",
       "2006-01-10 -0.018908 -1.205867 -0.389890 -0.603872  1.137717 -0.092312   \n",
       "\n",
       "                  VZ       WMT       XOM  \n",
       "Date                                      \n",
       "2006-01-04  1.907482 -0.132371 -0.150011  \n",
       "2006-01-05  0.962753 -1.618057 -0.729170  \n",
       "2006-01-06 -1.537422 -0.468884  0.810149  \n",
       "2006-01-09 -0.007696 -0.718416 -0.428724  \n",
       "2006-01-10  0.129411  0.074517  0.363376  \n",
       "\n",
       "[5 rows x 31 columns]"
      ]
     },
     "execution_count": 4,
     "metadata": {},
     "output_type": "execute_result"
    }
   ],
   "source": [
    "returns_normalize = normalize_data(returns)\n",
    "returns_normalize.head()"
   ]
  },
  {
   "cell_type": "code",
   "execution_count": 5,
   "metadata": {
    "ExecuteTime": {
     "end_time": "2019-03-07T10:26:49.044946Z",
     "start_time": "2019-03-07T10:26:49.000744Z"
    },
    "scrolled": true
   },
   "outputs": [
    {
     "data": {
      "text/html": [
       "<div>\n",
       "<style scoped>\n",
       "    .dataframe tbody tr th:only-of-type {\n",
       "        vertical-align: middle;\n",
       "    }\n",
       "\n",
       "    .dataframe tbody tr th {\n",
       "        vertical-align: top;\n",
       "    }\n",
       "\n",
       "    .dataframe thead th {\n",
       "        text-align: right;\n",
       "    }\n",
       "</style>\n",
       "<table border=\"1\" class=\"dataframe\">\n",
       "  <thead>\n",
       "    <tr style=\"text-align: right;\">\n",
       "      <th></th>\n",
       "      <th>AABA</th>\n",
       "      <th>AAPL</th>\n",
       "      <th>AMZN</th>\n",
       "      <th>AXP</th>\n",
       "      <th>BA</th>\n",
       "      <th>CAT</th>\n",
       "      <th>CSCO</th>\n",
       "      <th>CVX</th>\n",
       "      <th>DIS</th>\n",
       "      <th>GE</th>\n",
       "      <th>...</th>\n",
       "      <th>MSFT</th>\n",
       "      <th>NKE</th>\n",
       "      <th>PFE</th>\n",
       "      <th>PG</th>\n",
       "      <th>TRV</th>\n",
       "      <th>UNH</th>\n",
       "      <th>UTX</th>\n",
       "      <th>VZ</th>\n",
       "      <th>WMT</th>\n",
       "      <th>XOM</th>\n",
       "    </tr>\n",
       "    <tr>\n",
       "      <th>Date</th>\n",
       "      <th></th>\n",
       "      <th></th>\n",
       "      <th></th>\n",
       "      <th></th>\n",
       "      <th></th>\n",
       "      <th></th>\n",
       "      <th></th>\n",
       "      <th></th>\n",
       "      <th></th>\n",
       "      <th></th>\n",
       "      <th></th>\n",
       "      <th></th>\n",
       "      <th></th>\n",
       "      <th></th>\n",
       "      <th></th>\n",
       "      <th></th>\n",
       "      <th></th>\n",
       "      <th></th>\n",
       "      <th></th>\n",
       "      <th></th>\n",
       "      <th></th>\n",
       "    </tr>\n",
       "  </thead>\n",
       "  <tbody>\n",
       "    <tr>\n",
       "      <th>2006-01-04</th>\n",
       "      <td>0</td>\n",
       "      <td>1</td>\n",
       "      <td>0</td>\n",
       "      <td>0</td>\n",
       "      <td>1</td>\n",
       "      <td>1</td>\n",
       "      <td>1</td>\n",
       "      <td>0</td>\n",
       "      <td>0</td>\n",
       "      <td>0</td>\n",
       "      <td>...</td>\n",
       "      <td>1</td>\n",
       "      <td>0</td>\n",
       "      <td>1</td>\n",
       "      <td>1</td>\n",
       "      <td>1</td>\n",
       "      <td>1</td>\n",
       "      <td>0</td>\n",
       "      <td>1</td>\n",
       "      <td>1</td>\n",
       "      <td>0</td>\n",
       "    </tr>\n",
       "    <tr>\n",
       "      <th>2006-01-05</th>\n",
       "      <td>1</td>\n",
       "      <td>0</td>\n",
       "      <td>1</td>\n",
       "      <td>1</td>\n",
       "      <td>0</td>\n",
       "      <td>0</td>\n",
       "      <td>1</td>\n",
       "      <td>0</td>\n",
       "      <td>1</td>\n",
       "      <td>0</td>\n",
       "      <td>...</td>\n",
       "      <td>0</td>\n",
       "      <td>1</td>\n",
       "      <td>1</td>\n",
       "      <td>0</td>\n",
       "      <td>1</td>\n",
       "      <td>0</td>\n",
       "      <td>0</td>\n",
       "      <td>1</td>\n",
       "      <td>0</td>\n",
       "      <td>0</td>\n",
       "    </tr>\n",
       "    <tr>\n",
       "      <th>2006-01-06</th>\n",
       "      <td>1</td>\n",
       "      <td>1</td>\n",
       "      <td>0</td>\n",
       "      <td>0</td>\n",
       "      <td>0</td>\n",
       "      <td>1</td>\n",
       "      <td>1</td>\n",
       "      <td>1</td>\n",
       "      <td>1</td>\n",
       "      <td>0</td>\n",
       "      <td>...</td>\n",
       "      <td>0</td>\n",
       "      <td>0</td>\n",
       "      <td>1</td>\n",
       "      <td>0</td>\n",
       "      <td>0</td>\n",
       "      <td>1</td>\n",
       "      <td>0</td>\n",
       "      <td>0</td>\n",
       "      <td>0</td>\n",
       "      <td>1</td>\n",
       "    </tr>\n",
       "    <tr>\n",
       "      <th>2006-01-09</th>\n",
       "      <td>1</td>\n",
       "      <td>0</td>\n",
       "      <td>0</td>\n",
       "      <td>1</td>\n",
       "      <td>0</td>\n",
       "      <td>1</td>\n",
       "      <td>1</td>\n",
       "      <td>0</td>\n",
       "      <td>1</td>\n",
       "      <td>0</td>\n",
       "      <td>...</td>\n",
       "      <td>0</td>\n",
       "      <td>1</td>\n",
       "      <td>0</td>\n",
       "      <td>1</td>\n",
       "      <td>0</td>\n",
       "      <td>0</td>\n",
       "      <td>1</td>\n",
       "      <td>0</td>\n",
       "      <td>0</td>\n",
       "      <td>0</td>\n",
       "    </tr>\n",
       "    <tr>\n",
       "      <th>2006-01-10</th>\n",
       "      <td>0</td>\n",
       "      <td>1</td>\n",
       "      <td>0</td>\n",
       "      <td>0</td>\n",
       "      <td>1</td>\n",
       "      <td>0</td>\n",
       "      <td>0</td>\n",
       "      <td>1</td>\n",
       "      <td>1</td>\n",
       "      <td>0</td>\n",
       "      <td>...</td>\n",
       "      <td>1</td>\n",
       "      <td>1</td>\n",
       "      <td>0</td>\n",
       "      <td>0</td>\n",
       "      <td>0</td>\n",
       "      <td>1</td>\n",
       "      <td>0</td>\n",
       "      <td>1</td>\n",
       "      <td>1</td>\n",
       "      <td>1</td>\n",
       "    </tr>\n",
       "  </tbody>\n",
       "</table>\n",
       "<p>5 rows × 31 columns</p>\n",
       "</div>"
      ],
      "text/plain": [
       "            AABA  AAPL  AMZN  AXP  BA  CAT  CSCO  CVX  DIS  GE ...   MSFT  \\\n",
       "Date                                                           ...          \n",
       "2006-01-04     0     1     0    0   1    1     1    0    0   0 ...      1   \n",
       "2006-01-05     1     0     1    1   0    0     1    0    1   0 ...      0   \n",
       "2006-01-06     1     1     0    0   0    1     1    1    1   0 ...      0   \n",
       "2006-01-09     1     0     0    1   0    1     1    0    1   0 ...      0   \n",
       "2006-01-10     0     1     0    0   1    0     0    1    1   0 ...      1   \n",
       "\n",
       "            NKE  PFE  PG  TRV  UNH  UTX  VZ  WMT  XOM  \n",
       "Date                                                   \n",
       "2006-01-04    0    1   1    1    1    0   1    1    0  \n",
       "2006-01-05    1    1   0    1    0    0   1    0    0  \n",
       "2006-01-06    0    1   0    0    1    0   0    0    1  \n",
       "2006-01-09    1    0   1    0    0    1   0    0    0  \n",
       "2006-01-10    1    0   0    0    1    0   1    1    1  \n",
       "\n",
       "[5 rows x 31 columns]"
      ]
     },
     "execution_count": 5,
     "metadata": {},
     "output_type": "execute_result"
    }
   ],
   "source": [
    "labels = pd.read_csv('../data/dowjones_calculated/labels.csv', index_col='Date', parse_dates=['Date'])\n",
    "labels.head()"
   ]
  },
  {
   "cell_type": "code",
   "execution_count": 35,
   "metadata": {
    "ExecuteTime": {
     "end_time": "2019-03-07T10:46:02.512895Z",
     "start_time": "2019-03-07T10:46:02.480951Z"
    }
   },
   "outputs": [
    {
     "data": {
      "text/html": [
       "<div>\n",
       "<style scoped>\n",
       "    .dataframe tbody tr th:only-of-type {\n",
       "        vertical-align: middle;\n",
       "    }\n",
       "\n",
       "    .dataframe tbody tr th {\n",
       "        vertical-align: top;\n",
       "    }\n",
       "\n",
       "    .dataframe thead th {\n",
       "        text-align: right;\n",
       "    }\n",
       "</style>\n",
       "<table border=\"1\" class=\"dataframe\">\n",
       "  <thead>\n",
       "    <tr style=\"text-align: right;\">\n",
       "      <th></th>\n",
       "      <th>AABA</th>\n",
       "      <th>AAPL</th>\n",
       "      <th>AMZN</th>\n",
       "      <th>AXP</th>\n",
       "      <th>BA</th>\n",
       "      <th>CAT</th>\n",
       "      <th>CSCO</th>\n",
       "      <th>CVX</th>\n",
       "      <th>DIS</th>\n",
       "      <th>GE</th>\n",
       "      <th>...</th>\n",
       "      <th>MSFT</th>\n",
       "      <th>NKE</th>\n",
       "      <th>PFE</th>\n",
       "      <th>PG</th>\n",
       "      <th>TRV</th>\n",
       "      <th>UNH</th>\n",
       "      <th>UTX</th>\n",
       "      <th>VZ</th>\n",
       "      <th>WMT</th>\n",
       "      <th>XOM</th>\n",
       "    </tr>\n",
       "    <tr>\n",
       "      <th>Date</th>\n",
       "      <th></th>\n",
       "      <th></th>\n",
       "      <th></th>\n",
       "      <th></th>\n",
       "      <th></th>\n",
       "      <th></th>\n",
       "      <th></th>\n",
       "      <th></th>\n",
       "      <th></th>\n",
       "      <th></th>\n",
       "      <th></th>\n",
       "      <th></th>\n",
       "      <th></th>\n",
       "      <th></th>\n",
       "      <th></th>\n",
       "      <th></th>\n",
       "      <th></th>\n",
       "      <th></th>\n",
       "      <th></th>\n",
       "      <th></th>\n",
       "      <th></th>\n",
       "    </tr>\n",
       "  </thead>\n",
       "  <tbody>\n",
       "    <tr>\n",
       "      <th>2006-01-04</th>\n",
       "      <td>0</td>\n",
       "      <td>1</td>\n",
       "      <td>0</td>\n",
       "      <td>0</td>\n",
       "      <td>1</td>\n",
       "      <td>1</td>\n",
       "      <td>1</td>\n",
       "      <td>0</td>\n",
       "      <td>0</td>\n",
       "      <td>0</td>\n",
       "      <td>...</td>\n",
       "      <td>1</td>\n",
       "      <td>0</td>\n",
       "      <td>1</td>\n",
       "      <td>1</td>\n",
       "      <td>1</td>\n",
       "      <td>1</td>\n",
       "      <td>0</td>\n",
       "      <td>1</td>\n",
       "      <td>1</td>\n",
       "      <td>0</td>\n",
       "    </tr>\n",
       "    <tr>\n",
       "      <th>2006-01-05</th>\n",
       "      <td>1</td>\n",
       "      <td>0</td>\n",
       "      <td>1</td>\n",
       "      <td>1</td>\n",
       "      <td>0</td>\n",
       "      <td>0</td>\n",
       "      <td>1</td>\n",
       "      <td>0</td>\n",
       "      <td>1</td>\n",
       "      <td>0</td>\n",
       "      <td>...</td>\n",
       "      <td>0</td>\n",
       "      <td>1</td>\n",
       "      <td>1</td>\n",
       "      <td>0</td>\n",
       "      <td>1</td>\n",
       "      <td>0</td>\n",
       "      <td>0</td>\n",
       "      <td>1</td>\n",
       "      <td>0</td>\n",
       "      <td>0</td>\n",
       "    </tr>\n",
       "    <tr>\n",
       "      <th>2006-01-06</th>\n",
       "      <td>1</td>\n",
       "      <td>1</td>\n",
       "      <td>0</td>\n",
       "      <td>0</td>\n",
       "      <td>0</td>\n",
       "      <td>1</td>\n",
       "      <td>1</td>\n",
       "      <td>1</td>\n",
       "      <td>1</td>\n",
       "      <td>0</td>\n",
       "      <td>...</td>\n",
       "      <td>0</td>\n",
       "      <td>0</td>\n",
       "      <td>1</td>\n",
       "      <td>0</td>\n",
       "      <td>0</td>\n",
       "      <td>1</td>\n",
       "      <td>0</td>\n",
       "      <td>0</td>\n",
       "      <td>0</td>\n",
       "      <td>1</td>\n",
       "    </tr>\n",
       "    <tr>\n",
       "      <th>2006-01-09</th>\n",
       "      <td>1</td>\n",
       "      <td>0</td>\n",
       "      <td>0</td>\n",
       "      <td>1</td>\n",
       "      <td>0</td>\n",
       "      <td>1</td>\n",
       "      <td>1</td>\n",
       "      <td>0</td>\n",
       "      <td>1</td>\n",
       "      <td>0</td>\n",
       "      <td>...</td>\n",
       "      <td>0</td>\n",
       "      <td>1</td>\n",
       "      <td>0</td>\n",
       "      <td>1</td>\n",
       "      <td>0</td>\n",
       "      <td>0</td>\n",
       "      <td>1</td>\n",
       "      <td>0</td>\n",
       "      <td>0</td>\n",
       "      <td>0</td>\n",
       "    </tr>\n",
       "    <tr>\n",
       "      <th>2006-01-10</th>\n",
       "      <td>0</td>\n",
       "      <td>1</td>\n",
       "      <td>0</td>\n",
       "      <td>0</td>\n",
       "      <td>1</td>\n",
       "      <td>0</td>\n",
       "      <td>0</td>\n",
       "      <td>1</td>\n",
       "      <td>1</td>\n",
       "      <td>0</td>\n",
       "      <td>...</td>\n",
       "      <td>1</td>\n",
       "      <td>1</td>\n",
       "      <td>0</td>\n",
       "      <td>0</td>\n",
       "      <td>0</td>\n",
       "      <td>1</td>\n",
       "      <td>0</td>\n",
       "      <td>1</td>\n",
       "      <td>1</td>\n",
       "      <td>1</td>\n",
       "    </tr>\n",
       "  </tbody>\n",
       "</table>\n",
       "<p>5 rows × 31 columns</p>\n",
       "</div>"
      ],
      "text/plain": [
       "            AABA  AAPL  AMZN  AXP  BA  CAT  CSCO  CVX  DIS  GE ...   MSFT  \\\n",
       "Date                                                           ...          \n",
       "2006-01-04     0     1     0    0   1    1     1    0    0   0 ...      1   \n",
       "2006-01-05     1     0     1    1   0    0     1    0    1   0 ...      0   \n",
       "2006-01-06     1     1     0    0   0    1     1    1    1   0 ...      0   \n",
       "2006-01-09     1     0     0    1   0    1     1    0    1   0 ...      0   \n",
       "2006-01-10     0     1     0    0   1    0     0    1    1   0 ...      1   \n",
       "\n",
       "            NKE  PFE  PG  TRV  UNH  UTX  VZ  WMT  XOM  \n",
       "Date                                                   \n",
       "2006-01-04    0    1   1    1    1    0   1    1    0  \n",
       "2006-01-05    1    1   0    1    0    0   1    0    0  \n",
       "2006-01-06    0    1   0    0    1    0   0    0    1  \n",
       "2006-01-09    1    0   1    0    0    1   0    0    0  \n",
       "2006-01-10    1    0   0    0    1    0   1    1    1  \n",
       "\n",
       "[5 rows x 31 columns]"
      ]
     },
     "execution_count": 35,
     "metadata": {},
     "output_type": "execute_result"
    }
   ],
   "source": [
    "log_labels = pd.read_csv('../data/dowjones_calculated/log_labels.csv', index_col='Date', parse_dates=['Date'])\n",
    "log_labels.head()"
   ]
  },
  {
   "cell_type": "code",
   "execution_count": 38,
   "metadata": {
    "ExecuteTime": {
     "end_time": "2019-03-07T10:52:31.109202Z",
     "start_time": "2019-03-07T10:52:31.074386Z"
    }
   },
   "outputs": [
    {
     "data": {
      "text/plain": [
       "True"
      ]
     },
     "execution_count": 38,
     "metadata": {},
     "output_type": "execute_result"
    }
   ],
   "source": [
    "all(log_labels == labels)"
   ]
  },
  {
   "cell_type": "code",
   "execution_count": null,
   "metadata": {},
   "outputs": [],
   "source": []
  },
  {
   "cell_type": "code",
   "execution_count": 29,
   "metadata": {
    "ExecuteTime": {
     "end_time": "2019-03-07T10:35:40.382552Z",
     "start_time": "2019-03-07T10:35:40.362190Z"
    }
   },
   "outputs": [
    {
     "data": {
      "text/plain": [
       "AABA     1492\n",
       "AAPL     1568\n",
       "AMZN     1549\n",
       "AXP      1537\n",
       "BA       1553\n",
       "CAT      1513\n",
       "CSCO     1560\n",
       "CVX      1555\n",
       "DIS      1590\n",
       "GE       1471\n",
       "GOOGL    1574\n",
       "GS       1525\n",
       "HD       1566\n",
       "IBM      1555\n",
       "INTC     1577\n",
       "JNJ      1591\n",
       "JPM      1508\n",
       "KO       1589\n",
       "MCD      1604\n",
       "MMM      1638\n",
       "MRK      1532\n",
       "MSFT     1546\n",
       "NKE      1565\n",
       "PFE      1535\n",
       "PG       1531\n",
       "TRV      1589\n",
       "UNH      1622\n",
       "UTX      1587\n",
       "VZ       1560\n",
       "WMT      1537\n",
       "XOM      1526\n",
       "dtype: int64"
      ]
     },
     "execution_count": 29,
     "metadata": {},
     "output_type": "execute_result"
    }
   ],
   "source": [
    "labels.sum()"
   ]
  },
  {
   "cell_type": "code",
   "execution_count": 6,
   "metadata": {
    "ExecuteTime": {
     "end_time": "2019-03-07T10:26:49.091331Z",
     "start_time": "2019-03-07T10:26:49.046454Z"
    }
   },
   "outputs": [
    {
     "name": "stdout",
     "output_type": "stream",
     "text": [
      "3015 3015\n"
     ]
    }
   ],
   "source": [
    "print(len(returns), len(labels))"
   ]
  },
  {
   "cell_type": "code",
   "execution_count": 7,
   "metadata": {
    "ExecuteTime": {
     "end_time": "2019-03-07T10:26:49.174036Z",
     "start_time": "2019-03-07T10:26:49.092964Z"
    }
   },
   "outputs": [],
   "source": [
    "with open(\"../data/dowjones_calculated/periods.txt\", \"rb\") as file:   # Unpickling\n",
    "    dataset = pickle.load(file)"
   ]
  },
  {
   "cell_type": "code",
   "execution_count": 8,
   "metadata": {
    "ExecuteTime": {
     "end_time": "2019-03-07T10:26:49.226062Z",
     "start_time": "2019-03-07T10:26:49.176358Z"
    }
   },
   "outputs": [],
   "source": [
    "from keras.preprocessing.sequence import TimeseriesGenerator\n",
    "def generate_time_series_sample(data, target, timestep):\n",
    "    \"\"\"Generate samples of a time series with a certain length.\"\"\"\n",
    "    generator = TimeseriesGenerator(data, target,\n",
    "                                    length=timestep, sampling_rate=1,\n",
    "                                    batch_size=(data.shape[0] - timestep))\n",
    "    return generator[0][0], generator[0][1]"
   ]
  },
  {
   "cell_type": "code",
   "execution_count": 9,
   "metadata": {
    "ExecuteTime": {
     "end_time": "2019-03-07T10:26:49.526605Z",
     "start_time": "2019-03-07T10:26:49.227449Z"
    }
   },
   "outputs": [
    {
     "ename": "KeyError",
     "evalue": "range(0, 240)",
     "output_type": "error",
     "traceback": [
      "\u001b[0;31m---------------------------------------------------------------------------\u001b[0m",
      "\u001b[0;31mKeyError\u001b[0m                                  Traceback (most recent call last)",
      "\u001b[0;32m~/anaconda3/envs/projet_S5/lib/python3.6/site-packages/pandas/core/indexes/base.py\u001b[0m in \u001b[0;36mget_loc\u001b[0;34m(self, key, method, tolerance)\u001b[0m\n\u001b[1;32m   3077\u001b[0m             \u001b[0;32mtry\u001b[0m\u001b[0;34m:\u001b[0m\u001b[0;34m\u001b[0m\u001b[0;34m\u001b[0m\u001b[0m\n\u001b[0;32m-> 3078\u001b[0;31m                 \u001b[0;32mreturn\u001b[0m \u001b[0mself\u001b[0m\u001b[0;34m.\u001b[0m\u001b[0m_engine\u001b[0m\u001b[0;34m.\u001b[0m\u001b[0mget_loc\u001b[0m\u001b[0;34m(\u001b[0m\u001b[0mkey\u001b[0m\u001b[0;34m)\u001b[0m\u001b[0;34m\u001b[0m\u001b[0;34m\u001b[0m\u001b[0m\n\u001b[0m\u001b[1;32m   3079\u001b[0m             \u001b[0;32mexcept\u001b[0m \u001b[0mKeyError\u001b[0m\u001b[0;34m:\u001b[0m\u001b[0;34m\u001b[0m\u001b[0;34m\u001b[0m\u001b[0m\n",
      "\u001b[0;32mpandas/_libs/index.pyx\u001b[0m in \u001b[0;36mpandas._libs.index.IndexEngine.get_loc\u001b[0;34m()\u001b[0m\n",
      "\u001b[0;32mpandas/_libs/index.pyx\u001b[0m in \u001b[0;36mpandas._libs.index.IndexEngine.get_loc\u001b[0;34m()\u001b[0m\n",
      "\u001b[0;32mpandas/_libs/hashtable_class_helper.pxi\u001b[0m in \u001b[0;36mpandas._libs.hashtable.PyObjectHashTable.get_item\u001b[0;34m()\u001b[0m\n",
      "\u001b[0;32mpandas/_libs/hashtable_class_helper.pxi\u001b[0m in \u001b[0;36mpandas._libs.hashtable.PyObjectHashTable.get_item\u001b[0;34m()\u001b[0m\n",
      "\u001b[0;31mKeyError\u001b[0m: range(0, 240)",
      "\nDuring handling of the above exception, another exception occurred:\n",
      "\u001b[0;31mKeyError\u001b[0m                                  Traceback (most recent call last)",
      "\u001b[0;32m<ipython-input-9-b5cdbab9cc3b>\u001b[0m in \u001b[0;36m<module>\u001b[0;34m\u001b[0m\n\u001b[1;32m      3\u001b[0m x_train, y_train = generate_time_series_sample(\n\u001b[1;32m      4\u001b[0m     \u001b[0mnormalize_data\u001b[0m\u001b[0;34m(\u001b[0m\u001b[0mdataset\u001b[0m\u001b[0;34m[\u001b[0m\u001b[0;36m0\u001b[0m\u001b[0;34m]\u001b[0m\u001b[0;34m[\u001b[0m\u001b[0mi\u001b[0m\u001b[0;34m]\u001b[0m\u001b[0;34m[\u001b[0m\u001b[0;36m0\u001b[0m\u001b[0;34m]\u001b[0m\u001b[0;34m)\u001b[0m\u001b[0;34m,\u001b[0m\u001b[0;34m\u001b[0m\u001b[0;34m\u001b[0m\u001b[0m\n\u001b[0;32m----> 5\u001b[0;31m     dataset[0][i][1].values, timestep)\n\u001b[0m\u001b[1;32m      6\u001b[0m \u001b[0;34m\u001b[0m\u001b[0m\n\u001b[1;32m      7\u001b[0m x_test, y_test = generate_time_series_sample(\n",
      "\u001b[0;32m<ipython-input-8-13ab4e4398d4>\u001b[0m in \u001b[0;36mgenerate_time_series_sample\u001b[0;34m(data, target, timestep)\u001b[0m\n\u001b[1;32m      5\u001b[0m                                     \u001b[0mlength\u001b[0m\u001b[0;34m=\u001b[0m\u001b[0mtimestep\u001b[0m\u001b[0;34m,\u001b[0m \u001b[0msampling_rate\u001b[0m\u001b[0;34m=\u001b[0m\u001b[0;36m1\u001b[0m\u001b[0;34m,\u001b[0m\u001b[0;34m\u001b[0m\u001b[0;34m\u001b[0m\u001b[0m\n\u001b[1;32m      6\u001b[0m                                     batch_size=(data.shape[0] - timestep))\n\u001b[0;32m----> 7\u001b[0;31m     \u001b[0;32mreturn\u001b[0m \u001b[0mgenerator\u001b[0m\u001b[0;34m[\u001b[0m\u001b[0;36m0\u001b[0m\u001b[0;34m]\u001b[0m\u001b[0;34m[\u001b[0m\u001b[0;36m0\u001b[0m\u001b[0;34m]\u001b[0m\u001b[0;34m,\u001b[0m \u001b[0mgenerator\u001b[0m\u001b[0;34m[\u001b[0m\u001b[0;36m0\u001b[0m\u001b[0;34m]\u001b[0m\u001b[0;34m[\u001b[0m\u001b[0;36m1\u001b[0m\u001b[0;34m]\u001b[0m\u001b[0;34m\u001b[0m\u001b[0;34m\u001b[0m\u001b[0m\n\u001b[0m",
      "\u001b[0;32m~/.local/lib/python3.6/site-packages/keras_preprocessing/sequence.py\u001b[0m in \u001b[0;36m__getitem__\u001b[0;34m(self, index)\u001b[0m\n\u001b[1;32m    376\u001b[0m         \u001b[0;32mfor\u001b[0m \u001b[0mj\u001b[0m\u001b[0;34m,\u001b[0m \u001b[0mrow\u001b[0m \u001b[0;32min\u001b[0m \u001b[0menumerate\u001b[0m\u001b[0;34m(\u001b[0m\u001b[0mrows\u001b[0m\u001b[0;34m)\u001b[0m\u001b[0;34m:\u001b[0m\u001b[0;34m\u001b[0m\u001b[0;34m\u001b[0m\u001b[0m\n\u001b[1;32m    377\u001b[0m             \u001b[0mindices\u001b[0m \u001b[0;34m=\u001b[0m \u001b[0mrange\u001b[0m\u001b[0;34m(\u001b[0m\u001b[0mrows\u001b[0m\u001b[0;34m[\u001b[0m\u001b[0mj\u001b[0m\u001b[0;34m]\u001b[0m \u001b[0;34m-\u001b[0m \u001b[0mself\u001b[0m\u001b[0;34m.\u001b[0m\u001b[0mlength\u001b[0m\u001b[0;34m,\u001b[0m \u001b[0mrows\u001b[0m\u001b[0;34m[\u001b[0m\u001b[0mj\u001b[0m\u001b[0;34m]\u001b[0m\u001b[0;34m,\u001b[0m \u001b[0mself\u001b[0m\u001b[0;34m.\u001b[0m\u001b[0msampling_rate\u001b[0m\u001b[0;34m)\u001b[0m\u001b[0;34m\u001b[0m\u001b[0;34m\u001b[0m\u001b[0m\n\u001b[0;32m--> 378\u001b[0;31m             \u001b[0msamples\u001b[0m\u001b[0;34m[\u001b[0m\u001b[0mj\u001b[0m\u001b[0;34m]\u001b[0m \u001b[0;34m=\u001b[0m \u001b[0mself\u001b[0m\u001b[0;34m.\u001b[0m\u001b[0mdata\u001b[0m\u001b[0;34m[\u001b[0m\u001b[0mindices\u001b[0m\u001b[0;34m]\u001b[0m\u001b[0;34m\u001b[0m\u001b[0;34m\u001b[0m\u001b[0m\n\u001b[0m\u001b[1;32m    379\u001b[0m             \u001b[0mtargets\u001b[0m\u001b[0;34m[\u001b[0m\u001b[0mj\u001b[0m\u001b[0;34m]\u001b[0m \u001b[0;34m=\u001b[0m \u001b[0mself\u001b[0m\u001b[0;34m.\u001b[0m\u001b[0mtargets\u001b[0m\u001b[0;34m[\u001b[0m\u001b[0mrows\u001b[0m\u001b[0;34m[\u001b[0m\u001b[0mj\u001b[0m\u001b[0;34m]\u001b[0m\u001b[0;34m]\u001b[0m\u001b[0;34m\u001b[0m\u001b[0;34m\u001b[0m\u001b[0m\n\u001b[1;32m    380\u001b[0m         \u001b[0;32mif\u001b[0m \u001b[0mself\u001b[0m\u001b[0;34m.\u001b[0m\u001b[0mreverse\u001b[0m\u001b[0;34m:\u001b[0m\u001b[0;34m\u001b[0m\u001b[0;34m\u001b[0m\u001b[0m\n",
      "\u001b[0;32m~/anaconda3/envs/projet_S5/lib/python3.6/site-packages/pandas/core/frame.py\u001b[0m in \u001b[0;36m__getitem__\u001b[0;34m(self, key)\u001b[0m\n\u001b[1;32m   2686\u001b[0m             \u001b[0;32mreturn\u001b[0m \u001b[0mself\u001b[0m\u001b[0;34m.\u001b[0m\u001b[0m_getitem_multilevel\u001b[0m\u001b[0;34m(\u001b[0m\u001b[0mkey\u001b[0m\u001b[0;34m)\u001b[0m\u001b[0;34m\u001b[0m\u001b[0;34m\u001b[0m\u001b[0m\n\u001b[1;32m   2687\u001b[0m         \u001b[0;32melse\u001b[0m\u001b[0;34m:\u001b[0m\u001b[0;34m\u001b[0m\u001b[0;34m\u001b[0m\u001b[0m\n\u001b[0;32m-> 2688\u001b[0;31m             \u001b[0;32mreturn\u001b[0m \u001b[0mself\u001b[0m\u001b[0;34m.\u001b[0m\u001b[0m_getitem_column\u001b[0m\u001b[0;34m(\u001b[0m\u001b[0mkey\u001b[0m\u001b[0;34m)\u001b[0m\u001b[0;34m\u001b[0m\u001b[0;34m\u001b[0m\u001b[0m\n\u001b[0m\u001b[1;32m   2689\u001b[0m \u001b[0;34m\u001b[0m\u001b[0m\n\u001b[1;32m   2690\u001b[0m     \u001b[0;32mdef\u001b[0m \u001b[0m_getitem_column\u001b[0m\u001b[0;34m(\u001b[0m\u001b[0mself\u001b[0m\u001b[0;34m,\u001b[0m \u001b[0mkey\u001b[0m\u001b[0;34m)\u001b[0m\u001b[0;34m:\u001b[0m\u001b[0;34m\u001b[0m\u001b[0;34m\u001b[0m\u001b[0m\n",
      "\u001b[0;32m~/anaconda3/envs/projet_S5/lib/python3.6/site-packages/pandas/core/frame.py\u001b[0m in \u001b[0;36m_getitem_column\u001b[0;34m(self, key)\u001b[0m\n\u001b[1;32m   2693\u001b[0m         \u001b[0;31m# get column\u001b[0m\u001b[0;34m\u001b[0m\u001b[0;34m\u001b[0m\u001b[0;34m\u001b[0m\u001b[0m\n\u001b[1;32m   2694\u001b[0m         \u001b[0;32mif\u001b[0m \u001b[0mself\u001b[0m\u001b[0;34m.\u001b[0m\u001b[0mcolumns\u001b[0m\u001b[0;34m.\u001b[0m\u001b[0mis_unique\u001b[0m\u001b[0;34m:\u001b[0m\u001b[0;34m\u001b[0m\u001b[0;34m\u001b[0m\u001b[0m\n\u001b[0;32m-> 2695\u001b[0;31m             \u001b[0;32mreturn\u001b[0m \u001b[0mself\u001b[0m\u001b[0;34m.\u001b[0m\u001b[0m_get_item_cache\u001b[0m\u001b[0;34m(\u001b[0m\u001b[0mkey\u001b[0m\u001b[0;34m)\u001b[0m\u001b[0;34m\u001b[0m\u001b[0;34m\u001b[0m\u001b[0m\n\u001b[0m\u001b[1;32m   2696\u001b[0m \u001b[0;34m\u001b[0m\u001b[0m\n\u001b[1;32m   2697\u001b[0m         \u001b[0;31m# duplicate columns & possible reduce dimensionality\u001b[0m\u001b[0;34m\u001b[0m\u001b[0;34m\u001b[0m\u001b[0;34m\u001b[0m\u001b[0m\n",
      "\u001b[0;32m~/anaconda3/envs/projet_S5/lib/python3.6/site-packages/pandas/core/generic.py\u001b[0m in \u001b[0;36m_get_item_cache\u001b[0;34m(self, item)\u001b[0m\n\u001b[1;32m   2487\u001b[0m         \u001b[0mres\u001b[0m \u001b[0;34m=\u001b[0m \u001b[0mcache\u001b[0m\u001b[0;34m.\u001b[0m\u001b[0mget\u001b[0m\u001b[0;34m(\u001b[0m\u001b[0mitem\u001b[0m\u001b[0;34m)\u001b[0m\u001b[0;34m\u001b[0m\u001b[0;34m\u001b[0m\u001b[0m\n\u001b[1;32m   2488\u001b[0m         \u001b[0;32mif\u001b[0m \u001b[0mres\u001b[0m \u001b[0;32mis\u001b[0m \u001b[0;32mNone\u001b[0m\u001b[0;34m:\u001b[0m\u001b[0;34m\u001b[0m\u001b[0;34m\u001b[0m\u001b[0m\n\u001b[0;32m-> 2489\u001b[0;31m             \u001b[0mvalues\u001b[0m \u001b[0;34m=\u001b[0m \u001b[0mself\u001b[0m\u001b[0;34m.\u001b[0m\u001b[0m_data\u001b[0m\u001b[0;34m.\u001b[0m\u001b[0mget\u001b[0m\u001b[0;34m(\u001b[0m\u001b[0mitem\u001b[0m\u001b[0;34m)\u001b[0m\u001b[0;34m\u001b[0m\u001b[0;34m\u001b[0m\u001b[0m\n\u001b[0m\u001b[1;32m   2490\u001b[0m             \u001b[0mres\u001b[0m \u001b[0;34m=\u001b[0m \u001b[0mself\u001b[0m\u001b[0;34m.\u001b[0m\u001b[0m_box_item_values\u001b[0m\u001b[0;34m(\u001b[0m\u001b[0mitem\u001b[0m\u001b[0;34m,\u001b[0m \u001b[0mvalues\u001b[0m\u001b[0;34m)\u001b[0m\u001b[0;34m\u001b[0m\u001b[0;34m\u001b[0m\u001b[0m\n\u001b[1;32m   2491\u001b[0m             \u001b[0mcache\u001b[0m\u001b[0;34m[\u001b[0m\u001b[0mitem\u001b[0m\u001b[0;34m]\u001b[0m \u001b[0;34m=\u001b[0m \u001b[0mres\u001b[0m\u001b[0;34m\u001b[0m\u001b[0;34m\u001b[0m\u001b[0m\n",
      "\u001b[0;32m~/anaconda3/envs/projet_S5/lib/python3.6/site-packages/pandas/core/internals.py\u001b[0m in \u001b[0;36mget\u001b[0;34m(self, item, fastpath)\u001b[0m\n\u001b[1;32m   4113\u001b[0m \u001b[0;34m\u001b[0m\u001b[0m\n\u001b[1;32m   4114\u001b[0m             \u001b[0;32mif\u001b[0m \u001b[0;32mnot\u001b[0m \u001b[0misna\u001b[0m\u001b[0;34m(\u001b[0m\u001b[0mitem\u001b[0m\u001b[0;34m)\u001b[0m\u001b[0;34m:\u001b[0m\u001b[0;34m\u001b[0m\u001b[0;34m\u001b[0m\u001b[0m\n\u001b[0;32m-> 4115\u001b[0;31m                 \u001b[0mloc\u001b[0m \u001b[0;34m=\u001b[0m \u001b[0mself\u001b[0m\u001b[0;34m.\u001b[0m\u001b[0mitems\u001b[0m\u001b[0;34m.\u001b[0m\u001b[0mget_loc\u001b[0m\u001b[0;34m(\u001b[0m\u001b[0mitem\u001b[0m\u001b[0;34m)\u001b[0m\u001b[0;34m\u001b[0m\u001b[0;34m\u001b[0m\u001b[0m\n\u001b[0m\u001b[1;32m   4116\u001b[0m             \u001b[0;32melse\u001b[0m\u001b[0;34m:\u001b[0m\u001b[0;34m\u001b[0m\u001b[0;34m\u001b[0m\u001b[0m\n\u001b[1;32m   4117\u001b[0m                 \u001b[0mindexer\u001b[0m \u001b[0;34m=\u001b[0m \u001b[0mnp\u001b[0m\u001b[0;34m.\u001b[0m\u001b[0marange\u001b[0m\u001b[0;34m(\u001b[0m\u001b[0mlen\u001b[0m\u001b[0;34m(\u001b[0m\u001b[0mself\u001b[0m\u001b[0;34m.\u001b[0m\u001b[0mitems\u001b[0m\u001b[0;34m)\u001b[0m\u001b[0;34m)\u001b[0m\u001b[0;34m[\u001b[0m\u001b[0misna\u001b[0m\u001b[0;34m(\u001b[0m\u001b[0mself\u001b[0m\u001b[0;34m.\u001b[0m\u001b[0mitems\u001b[0m\u001b[0;34m)\u001b[0m\u001b[0;34m]\u001b[0m\u001b[0;34m\u001b[0m\u001b[0;34m\u001b[0m\u001b[0m\n",
      "\u001b[0;32m~/anaconda3/envs/projet_S5/lib/python3.6/site-packages/pandas/core/indexes/base.py\u001b[0m in \u001b[0;36mget_loc\u001b[0;34m(self, key, method, tolerance)\u001b[0m\n\u001b[1;32m   3078\u001b[0m                 \u001b[0;32mreturn\u001b[0m \u001b[0mself\u001b[0m\u001b[0;34m.\u001b[0m\u001b[0m_engine\u001b[0m\u001b[0;34m.\u001b[0m\u001b[0mget_loc\u001b[0m\u001b[0;34m(\u001b[0m\u001b[0mkey\u001b[0m\u001b[0;34m)\u001b[0m\u001b[0;34m\u001b[0m\u001b[0;34m\u001b[0m\u001b[0m\n\u001b[1;32m   3079\u001b[0m             \u001b[0;32mexcept\u001b[0m \u001b[0mKeyError\u001b[0m\u001b[0;34m:\u001b[0m\u001b[0;34m\u001b[0m\u001b[0;34m\u001b[0m\u001b[0m\n\u001b[0;32m-> 3080\u001b[0;31m                 \u001b[0;32mreturn\u001b[0m \u001b[0mself\u001b[0m\u001b[0;34m.\u001b[0m\u001b[0m_engine\u001b[0m\u001b[0;34m.\u001b[0m\u001b[0mget_loc\u001b[0m\u001b[0;34m(\u001b[0m\u001b[0mself\u001b[0m\u001b[0;34m.\u001b[0m\u001b[0m_maybe_cast_indexer\u001b[0m\u001b[0;34m(\u001b[0m\u001b[0mkey\u001b[0m\u001b[0;34m)\u001b[0m\u001b[0;34m)\u001b[0m\u001b[0;34m\u001b[0m\u001b[0;34m\u001b[0m\u001b[0m\n\u001b[0m\u001b[1;32m   3081\u001b[0m \u001b[0;34m\u001b[0m\u001b[0m\n\u001b[1;32m   3082\u001b[0m         \u001b[0mindexer\u001b[0m \u001b[0;34m=\u001b[0m \u001b[0mself\u001b[0m\u001b[0;34m.\u001b[0m\u001b[0mget_indexer\u001b[0m\u001b[0;34m(\u001b[0m\u001b[0;34m[\u001b[0m\u001b[0mkey\u001b[0m\u001b[0;34m]\u001b[0m\u001b[0;34m,\u001b[0m \u001b[0mmethod\u001b[0m\u001b[0;34m=\u001b[0m\u001b[0mmethod\u001b[0m\u001b[0;34m,\u001b[0m \u001b[0mtolerance\u001b[0m\u001b[0;34m=\u001b[0m\u001b[0mtolerance\u001b[0m\u001b[0;34m)\u001b[0m\u001b[0;34m\u001b[0m\u001b[0;34m\u001b[0m\u001b[0m\n",
      "\u001b[0;32mpandas/_libs/index.pyx\u001b[0m in \u001b[0;36mpandas._libs.index.IndexEngine.get_loc\u001b[0;34m()\u001b[0m\n",
      "\u001b[0;32mpandas/_libs/index.pyx\u001b[0m in \u001b[0;36mpandas._libs.index.IndexEngine.get_loc\u001b[0;34m()\u001b[0m\n",
      "\u001b[0;32mpandas/_libs/hashtable_class_helper.pxi\u001b[0m in \u001b[0;36mpandas._libs.hashtable.PyObjectHashTable.get_item\u001b[0;34m()\u001b[0m\n",
      "\u001b[0;32mpandas/_libs/hashtable_class_helper.pxi\u001b[0m in \u001b[0;36mpandas._libs.hashtable.PyObjectHashTable.get_item\u001b[0;34m()\u001b[0m\n",
      "\u001b[0;31mKeyError\u001b[0m: range(0, 240)"
     ]
    }
   ],
   "source": [
    "i = 0\n",
    "timestep = 240\n",
    "x_train, y_train = generate_time_series_sample(\n",
    "    normalize_data(dataset[0][i][0]),\n",
    "    dataset[0][i][1].values, timestep)\n",
    "\n",
    "x_test, y_test = generate_time_series_sample(\n",
    "    normalize_data(dataset[1][i][0]),\n",
    "    dataset[1][i][1].values, timestep)\n",
    "\n",
    "x_train = x_train.transpose((0, 2, 1))\n",
    "x_train = np.reshape(\n",
    "    x_train, (x_train.shape[0] * x_train.shape[1], timestep))\n",
    "y_train = np.reshape(y_train, (y_train.shape[0] * y_train.shape[1]))"
   ]
  },
  {
   "cell_type": "code",
   "execution_count": null,
   "metadata": {
    "ExecuteTime": {
     "end_time": "2019-03-07T10:26:49.528847Z",
     "start_time": "2019-03-07T10:26:47.618Z"
    }
   },
   "outputs": [],
   "source": [
    "data = normalize_data(dataset[0][i][0])"
   ]
  },
  {
   "cell_type": "code",
   "execution_count": null,
   "metadata": {
    "ExecuteTime": {
     "end_time": "2019-03-07T10:26:49.529957Z",
     "start_time": "2019-03-07T10:26:47.622Z"
    }
   },
   "outputs": [],
   "source": [
    "data.shape"
   ]
  },
  {
   "cell_type": "code",
   "execution_count": null,
   "metadata": {
    "ExecuteTime": {
     "end_time": "2019-03-07T10:26:49.530789Z",
     "start_time": "2019-03-07T10:26:47.625Z"
    }
   },
   "outputs": [],
   "source": [
    "target = dataset[0][i][1].values"
   ]
  },
  {
   "cell_type": "code",
   "execution_count": null,
   "metadata": {
    "ExecuteTime": {
     "end_time": "2019-03-07T10:26:49.531629Z",
     "start_time": "2019-03-07T10:26:47.627Z"
    }
   },
   "outputs": [],
   "source": [
    "target.shape"
   ]
  },
  {
   "cell_type": "code",
   "execution_count": null,
   "metadata": {},
   "outputs": [],
   "source": []
  },
  {
   "cell_type": "code",
   "execution_count": null,
   "metadata": {
    "ExecuteTime": {
     "end_time": "2019-03-07T10:26:49.532634Z",
     "start_time": "2019-03-07T10:26:47.630Z"
    }
   },
   "outputs": [],
   "source": [
    "generator = TimeseriesGenerator(data, target,\n",
    "                                length=timestep, sampling_rate=1,\n",
    "                                batch_size=10)"
   ]
  },
  {
   "cell_type": "code",
   "execution_count": null,
   "metadata": {
    "ExecuteTime": {
     "end_time": "2019-03-07T10:26:49.533611Z",
     "start_time": "2019-03-07T10:26:47.631Z"
    }
   },
   "outputs": [],
   "source": [
    "generator[0]"
   ]
  },
  {
   "cell_type": "code",
   "execution_count": 18,
   "metadata": {
    "ExecuteTime": {
     "end_time": "2019-03-07T10:29:01.292484Z",
     "start_time": "2019-03-07T10:29:01.283220Z"
    }
   },
   "outputs": [],
   "source": [
    "x1 = dataset[1][i][0].values\n",
    "y1 = dataset[1][i][1].values"
   ]
  },
  {
   "cell_type": "code",
   "execution_count": 19,
   "metadata": {
    "ExecuteTime": {
     "end_time": "2019-03-07T10:29:05.503941Z",
     "start_time": "2019-03-07T10:29:05.501046Z"
    }
   },
   "outputs": [
    {
     "data": {
      "text/plain": [
       "(490, 31)"
      ]
     },
     "execution_count": 19,
     "metadata": {},
     "output_type": "execute_result"
    }
   ],
   "source": [
    "x1.shape"
   ]
  },
  {
   "cell_type": "code",
   "execution_count": 20,
   "metadata": {
    "ExecuteTime": {
     "end_time": "2019-03-07T10:29:12.683475Z",
     "start_time": "2019-03-07T10:29:12.674260Z"
    }
   },
   "outputs": [
    {
     "data": {
      "text/plain": [
       "(490, 31)"
      ]
     },
     "execution_count": 20,
     "metadata": {},
     "output_type": "execute_result"
    }
   ],
   "source": [
    "y1.shape"
   ]
  },
  {
   "cell_type": "code",
   "execution_count": 21,
   "metadata": {
    "ExecuteTime": {
     "end_time": "2019-03-07T10:29:33.043422Z",
     "start_time": "2019-03-07T10:29:33.032610Z"
    }
   },
   "outputs": [
    {
     "data": {
      "text/plain": [
       "array([0, 1, 1, 0, 1, 1, 0, 0, 0, 0, 1, 0, 1, 1, 1, 1, 0, 1, 1, 0, 0, 1,\n",
       "       0, 1, 1, 0, 1, 0, 0, 1, 0])"
      ]
     },
     "execution_count": 21,
     "metadata": {},
     "output_type": "execute_result"
    }
   ],
   "source": [
    "y1[2,:]"
   ]
  },
  {
   "cell_type": "code",
   "execution_count": 25,
   "metadata": {
    "ExecuteTime": {
     "end_time": "2019-03-07T10:30:10.924707Z",
     "start_time": "2019-03-07T10:30:10.883248Z"
    }
   },
   "outputs": [],
   "source": [
    "X_test = dataset[1][i][0].values\n",
    "y_test = dataset[1][i][1].values\n",
    "# y_test = get_one_hot(y_test, 2)\n",
    "test_gen = TimeseriesGenerator(X_test, y_test,\n",
    "                               length=10, sampling_rate=1,\n",
    "                               batch_size=490)\n",
    "\n",
    "X_test = test_gen[0][0]\n",
    "y_test = test_gen[0][1]"
   ]
  },
  {
   "cell_type": "code",
   "execution_count": 15,
   "metadata": {
    "ExecuteTime": {
     "end_time": "2019-03-07T10:28:27.829042Z",
     "start_time": "2019-03-07T10:28:27.820614Z"
    }
   },
   "outputs": [
    {
     "data": {
      "text/plain": [
       "(488, 2, 31)"
      ]
     },
     "execution_count": 15,
     "metadata": {},
     "output_type": "execute_result"
    }
   ],
   "source": [
    "X_test.shape"
   ]
  },
  {
   "cell_type": "code",
   "execution_count": 16,
   "metadata": {
    "ExecuteTime": {
     "end_time": "2019-03-07T10:28:37.689060Z",
     "start_time": "2019-03-07T10:28:37.683064Z"
    }
   },
   "outputs": [
    {
     "data": {
      "text/plain": [
       "(488, 31)"
      ]
     },
     "execution_count": 16,
     "metadata": {},
     "output_type": "execute_result"
    }
   ],
   "source": [
    "y_test.shape"
   ]
  },
  {
   "cell_type": "code",
   "execution_count": 28,
   "metadata": {
    "ExecuteTime": {
     "end_time": "2019-03-07T10:30:22.184499Z",
     "start_time": "2019-03-07T10:30:22.178631Z"
    }
   },
   "outputs": [
    {
     "data": {
      "text/plain": [
       "array([ True,  True,  True,  True,  True,  True,  True,  True,  True,\n",
       "        True,  True,  True,  True,  True,  True,  True,  True,  True,\n",
       "        True,  True,  True,  True,  True,  True,  True,  True,  True,\n",
       "        True,  True,  True,  True])"
      ]
     },
     "execution_count": 28,
     "metadata": {},
     "output_type": "execute_result"
    }
   ],
   "source": [
    "y_test[1,:] == y1[11,:]"
   ]
  }
 ],
 "metadata": {
  "kernelspec": {
   "display_name": "projet_S5",
   "language": "python",
   "name": "projet_s5"
  },
  "language_info": {
   "codemirror_mode": {
    "name": "ipython",
    "version": 3
   },
   "file_extension": ".py",
   "mimetype": "text/x-python",
   "name": "python",
   "nbconvert_exporter": "python",
   "pygments_lexer": "ipython3",
   "version": "3.6.8"
  },
  "toc": {
   "base_numbering": 1,
   "nav_menu": {},
   "number_sections": true,
   "sideBar": true,
   "skip_h1_title": false,
   "title_cell": "Table of Contents",
   "title_sidebar": "Contents",
   "toc_cell": false,
   "toc_position": {},
   "toc_section_display": true,
   "toc_window_display": false
  }
 },
 "nbformat": 4,
 "nbformat_minor": 2
}
