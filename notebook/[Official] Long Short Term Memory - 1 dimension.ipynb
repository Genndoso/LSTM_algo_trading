{
 "cells": [
  {
   "cell_type": "code",
   "execution_count": 1,
   "metadata": {
    "ExecuteTime": {
     "end_time": "2019-03-03T21:27:13.864869Z",
     "start_time": "2019-03-03T21:27:12.979258Z"
    }
   },
   "outputs": [
    {
     "name": "stderr",
     "output_type": "stream",
     "text": [
      "Using TensorFlow backend.\n"
     ]
    }
   ],
   "source": [
    "# Importing the libraries\n",
    "import numpy as np\n",
    "import pandas as pd\n",
    "from keras.models import Sequential\n",
    "from keras.layers import Dense, LSTM, Dropout\n",
    "from keras.preprocessing.sequence import TimeseriesGenerator\n",
    "from keras.optimizers import SGD\n",
    "import math\n",
    "import pickle"
   ]
  },
  {
   "cell_type": "code",
   "execution_count": 2,
   "metadata": {
    "ExecuteTime": {
     "end_time": "2019-03-03T21:27:13.875621Z",
     "start_time": "2019-03-03T21:27:13.866402Z"
    }
   },
   "outputs": [],
   "source": [
    "with open(\"../data/dowjones_calculated/periods.txt\", \"rb\") as fp:   # Unpickling\n",
    "    dataset = pickle.load(fp)"
   ]
  },
  {
   "cell_type": "code",
   "execution_count": 3,
   "metadata": {
    "ExecuteTime": {
     "end_time": "2019-03-03T21:27:14.864006Z",
     "start_time": "2019-03-03T21:27:13.876903Z"
    }
   },
   "outputs": [],
   "source": [
    "X_train = dataset[0][0][0][\"AAPL\"].values\n",
    "y_train = dataset[0][0][1][\"AAPL\"].values\n",
    "X_test = dataset[1][0][0][\"AAPL\"].values\n",
    "y_test = dataset[1][0][1][\"AAPL\"].values"
   ]
  },
  {
   "cell_type": "code",
   "execution_count": 4,
   "metadata": {
    "ExecuteTime": {
     "end_time": "2019-03-03T21:27:14.929232Z",
     "start_time": "2019-03-03T21:27:14.869168Z"
    }
   },
   "outputs": [
    {
     "name": "stdout",
     "output_type": "stream",
     "text": [
      "x train shape: (750,)\n",
      "y train shape: (750,)\n",
      "x test shape: (250,)\n",
      "y test shape: (250,)\n"
     ]
    }
   ],
   "source": [
    "print(f\"x train shape: {X_train.shape}\")\n",
    "print(f\"y train shape: {y_train.shape}\")\n",
    "print(f\"x test shape: {X_test.shape}\")\n",
    "print(f\"y test shape: {y_test.shape}\")\n",
    "# print(f\"predicted shape: {predicted.shape}\")"
   ]
  },
  {
   "cell_type": "code",
   "execution_count": 5,
   "metadata": {
    "ExecuteTime": {
     "end_time": "2019-03-03T21:27:14.997791Z",
     "start_time": "2019-03-03T21:27:14.931051Z"
    }
   },
   "outputs": [],
   "source": [
    "data = X_train\n",
    "targets = y_train\n",
    "\n",
    "train_gen = TimeseriesGenerator(data, targets,\n",
    "                               length=240, sampling_rate=1,\n",
    "                               batch_size=510)"
   ]
  },
  {
   "cell_type": "code",
   "execution_count": 6,
   "metadata": {
    "ExecuteTime": {
     "end_time": "2019-03-03T21:27:15.101134Z",
     "start_time": "2019-03-03T21:27:15.001212Z"
    }
   },
   "outputs": [],
   "source": [
    "data = X_test\n",
    "targets = y_test\n",
    "\n",
    "test_gen = TimeseriesGenerator(data, targets,\n",
    "                               length=240, sampling_rate=1,\n",
    "                               batch_size=250)"
   ]
  },
  {
   "cell_type": "code",
   "execution_count": 7,
   "metadata": {
    "ExecuteTime": {
     "end_time": "2019-03-03T21:27:15.200077Z",
     "start_time": "2019-03-03T21:27:15.107566Z"
    }
   },
   "outputs": [],
   "source": [
    "X_train = train_gen[0][0]\n",
    "y_train = train_gen[0][1]\n",
    "X_test = test_gen[0][0]\n",
    "y_test = test_gen[0][1]"
   ]
  },
  {
   "cell_type": "code",
   "execution_count": 8,
   "metadata": {
    "ExecuteTime": {
     "end_time": "2019-03-03T21:27:15.233272Z",
     "start_time": "2019-03-03T21:27:15.201548Z"
    }
   },
   "outputs": [],
   "source": [
    "# Reshaping X_train for efficient modelling\n",
    "X_train = np.reshape(X_train, (X_train.shape[0],X_train.shape[1], 1))\n",
    "X_test = np.reshape(X_test, (X_test.shape[0],X_test.shape[1], 1))"
   ]
  },
  {
   "cell_type": "code",
   "execution_count": 9,
   "metadata": {
    "ExecuteTime": {
     "end_time": "2019-03-03T21:27:15.323249Z",
     "start_time": "2019-03-03T21:27:15.234764Z"
    }
   },
   "outputs": [
    {
     "data": {
      "text/plain": [
       "(510, 240, 1)"
      ]
     },
     "execution_count": 9,
     "metadata": {},
     "output_type": "execute_result"
    }
   ],
   "source": [
    "X_train.shape"
   ]
  },
  {
   "cell_type": "code",
   "execution_count": 10,
   "metadata": {
    "ExecuteTime": {
     "end_time": "2019-03-03T21:30:27.001143Z",
     "start_time": "2019-03-03T21:27:15.326592Z"
    },
    "scrolled": true
   },
   "outputs": [
    {
     "name": "stdout",
     "output_type": "stream",
     "text": [
      "Epoch 1/10\n",
      "510/510 [==============================] - 20s 38ms/step - loss: 7.6586 - binary_crossentropy: 7.6586\n",
      "Epoch 2/10\n",
      "510/510 [==============================] - 19s 37ms/step - loss: 7.6586 - binary_crossentropy: 7.6586\n",
      "Epoch 3/10\n",
      "510/510 [==============================] - 19s 37ms/step - loss: 7.6586 - binary_crossentropy: 7.6586\n",
      "Epoch 4/10\n",
      "510/510 [==============================] - 20s 39ms/step - loss: 7.6586 - binary_crossentropy: 7.6586\n",
      "Epoch 5/10\n",
      "510/510 [==============================] - 19s 37ms/step - loss: 7.6586 - binary_crossentropy: 7.6586\n",
      "Epoch 6/10\n",
      "510/510 [==============================] - 18s 36ms/step - loss: 7.6586 - binary_crossentropy: 7.6586\n",
      "Epoch 7/10\n",
      "510/510 [==============================] - 19s 37ms/step - loss: 7.6586 - binary_crossentropy: 7.6586\n",
      "Epoch 8/10\n",
      "510/510 [==============================] - 19s 38ms/step - loss: 7.6586 - binary_crossentropy: 7.6586\n",
      "Epoch 9/10\n",
      "510/510 [==============================] - 18s 36ms/step - loss: 7.6586 - binary_crossentropy: 7.6586\n",
      "Epoch 10/10\n",
      "510/510 [==============================] - 19s 37ms/step - loss: 7.6586 - binary_crossentropy: 7.6586\n"
     ]
    },
    {
     "data": {
      "text/plain": [
       "<keras.callbacks.History at 0x7f97d39ab2e8>"
      ]
     },
     "execution_count": 10,
     "metadata": {},
     "output_type": "execute_result"
    }
   ],
   "source": [
    "# expected input data shape: (batch_size, timesteps, data_dim)\n",
    "\n",
    "# The LSTM architecture\n",
    "regressor = Sequential()\n",
    "# First LSTM layer with Dropout regularisation\n",
    "regressor.add(LSTM(units=25, return_sequences=True, input_shape=(240, 1)))\n",
    "# The output layer\n",
    "regressor.add(LSTM(32))\n",
    "regressor.add(Dense(1, activation='softmax'))\n",
    "# Compiling the RNN\n",
    "regressor.compile(loss='binary_crossentropy',\n",
    "              optimizer='rmsprop',\n",
    "              metrics=['binary_crossentropy'])\n",
    "\n",
    "# Fitting to the training set\n",
    "regressor.fit(X_train,y_train,epochs=10,batch_size=10)"
   ]
  },
  {
   "cell_type": "code",
   "execution_count": 11,
   "metadata": {
    "ExecuteTime": {
     "end_time": "2019-03-03T21:30:27.234570Z",
     "start_time": "2019-03-03T21:30:27.002525Z"
    }
   },
   "outputs": [],
   "source": [
    "# Evaluating our model\n",
    "predicted = regressor.predict(X_test)"
   ]
  },
  {
   "cell_type": "code",
   "execution_count": 12,
   "metadata": {
    "ExecuteTime": {
     "end_time": "2019-03-03T21:30:27.239598Z",
     "start_time": "2019-03-03T21:30:27.235998Z"
    }
   },
   "outputs": [
    {
     "data": {
      "text/plain": [
       "array([[1],\n",
       "       [1],\n",
       "       [1],\n",
       "       [1],\n",
       "       [1],\n",
       "       [1],\n",
       "       [1],\n",
       "       [1],\n",
       "       [1],\n",
       "       [1]])"
      ]
     },
     "execution_count": 12,
     "metadata": {},
     "output_type": "execute_result"
    }
   ],
   "source": [
    "label = predicted > 0.5\n",
    "label = label * 1 # Convert boolean to int\n",
    "label"
   ]
  },
  {
   "cell_type": "code",
   "execution_count": 13,
   "metadata": {
    "ExecuteTime": {
     "end_time": "2019-03-03T21:30:27.302853Z",
     "start_time": "2019-03-03T21:30:27.241164Z"
    }
   },
   "outputs": [
    {
     "data": {
      "text/plain": [
       "0.7"
      ]
     },
     "execution_count": 13,
     "metadata": {},
     "output_type": "execute_result"
    }
   ],
   "source": [
    "(sum(y_test == label)/len(y_test)).mean()"
   ]
  }
 ],
 "metadata": {
  "kernelspec": {
   "display_name": "projet_S5",
   "language": "python",
   "name": "projet_s5"
  },
  "language_info": {
   "codemirror_mode": {
    "name": "ipython",
    "version": 3
   },
   "file_extension": ".py",
   "mimetype": "text/x-python",
   "name": "python",
   "nbconvert_exporter": "python",
   "pygments_lexer": "ipython3",
   "version": "3.6.8"
  },
  "toc": {
   "base_numbering": 1,
   "nav_menu": {},
   "number_sections": true,
   "sideBar": true,
   "skip_h1_title": false,
   "title_cell": "Table of Contents",
   "title_sidebar": "Contents",
   "toc_cell": false,
   "toc_position": {},
   "toc_section_display": true,
   "toc_window_display": false
  }
 },
 "nbformat": 4,
 "nbformat_minor": 2
}
