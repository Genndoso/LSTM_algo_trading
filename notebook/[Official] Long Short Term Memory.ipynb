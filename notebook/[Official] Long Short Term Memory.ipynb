{
 "cells": [
  {
   "cell_type": "code",
   "execution_count": 1,
   "metadata": {
    "ExecuteTime": {
     "end_time": "2019-03-08T23:17:22.432883Z",
     "start_time": "2019-03-08T23:17:21.445070Z"
    },
    "scrolled": true
   },
   "outputs": [],
   "source": [
    "# List all device\n",
    "from tensorflow.python.client import device_lib\n",
    "# print(device_lib.list_local_devices())"
   ]
  },
  {
   "cell_type": "code",
   "execution_count": 2,
   "metadata": {
    "ExecuteTime": {
     "end_time": "2019-03-08T23:17:22.776937Z",
     "start_time": "2019-03-08T23:17:22.434576Z"
    },
    "scrolled": true
   },
   "outputs": [
    {
     "name": "stderr",
     "output_type": "stream",
     "text": [
      "Using TensorFlow backend.\n"
     ]
    },
    {
     "data": {
      "text/plain": [
       "['/job:localhost/replica:0/task:0/device:GPU:0']"
      ]
     },
     "execution_count": 2,
     "metadata": {},
     "output_type": "execute_result"
    }
   ],
   "source": [
    "# Check available GPU\n",
    "from keras import backend as K\n",
    "K.tensorflow_backend._get_available_gpus()"
   ]
  },
  {
   "cell_type": "code",
   "execution_count": 3,
   "metadata": {
    "ExecuteTime": {
     "end_time": "2019-03-08T23:17:22.780844Z",
     "start_time": "2019-03-08T23:17:22.778385Z"
    }
   },
   "outputs": [],
   "source": [
    "import os\n",
    "os.environ[\"CUDA_DEVICE_ORDER\"]=\"PCI_BUS_ID\";\n",
    "# The GPU id to use, usually either \"0\" or \"1\";\n",
    "os.environ[\"CUDA_VISIBLE_DEVICES\"]=\"0\";  "
   ]
  },
  {
   "cell_type": "code",
   "execution_count": 4,
   "metadata": {
    "ExecuteTime": {
     "end_time": "2019-03-08T23:17:23.115902Z",
     "start_time": "2019-03-08T23:17:22.782745Z"
    }
   },
   "outputs": [],
   "source": [
    "# Importing the libraries\n",
    "import numpy as np\n",
    "import pandas as pd\n",
    "from keras.models import Sequential\n",
    "from keras.layers import Dense, LSTM, Dropout, Reshape, Lambda\n",
    "from keras.preprocessing.sequence import TimeseriesGenerator\n",
    "from keras.callbacks import EarlyStopping, ModelCheckpoint\n",
    "from keras.activations import softmax\n",
    "from keras.optimizers import SGD\n",
    "import math\n",
    "import pickle"
   ]
  },
  {
   "cell_type": "code",
   "execution_count": 5,
   "metadata": {
    "ExecuteTime": {
     "end_time": "2019-03-08T23:17:24.031168Z",
     "start_time": "2019-03-08T23:17:23.128091Z"
    }
   },
   "outputs": [],
   "source": [
    "with open(\"../data/dowjones_calculated/periods2500_250_240.txt\", \"rb\") as fp:   # Unpickling\n",
    "    dataset = pickle.load(fp)"
   ]
  },
  {
   "cell_type": "code",
   "execution_count": 6,
   "metadata": {
    "ExecuteTime": {
     "end_time": "2019-03-08T23:17:24.085767Z",
     "start_time": "2019-03-08T23:17:24.036841Z"
    }
   },
   "outputs": [],
   "source": [
    "def normalize_data(df):\n",
    "    \"\"\"normalize a dataframe.\"\"\"\n",
    "    mean = df.mean(axis=1)\n",
    "    std = df.std(axis=1)\n",
    "    df = df.sub(mean, axis=0)\n",
    "    df = df.div(std, axis=0)\n",
    "    df = df.values\n",
    "    return df"
   ]
  },
  {
   "cell_type": "code",
   "execution_count": 7,
   "metadata": {
    "ExecuteTime": {
     "end_time": "2019-03-08T23:17:24.154644Z",
     "start_time": "2019-03-08T23:17:24.088819Z"
    }
   },
   "outputs": [],
   "source": [
    "def get_one_hot(targets, nb_classes):\n",
    "    res = np.eye(nb_classes)[np.array(targets).reshape(-1)]\n",
    "    return res.reshape(list(targets.shape)+[nb_classes])"
   ]
  },
  {
   "cell_type": "code",
   "execution_count": 8,
   "metadata": {
    "ExecuteTime": {
     "end_time": "2019-03-08T23:17:24.254281Z",
     "start_time": "2019-03-08T23:17:24.159840Z"
    }
   },
   "outputs": [],
   "source": [
    "i = 0\n",
    "x_train1 = normalize_data(dataset[0][i][0])\n",
    "y_train1 = get_one_hot(dataset[0][i][1].values, 2) * 1.0\n",
    "x_test1 = normalize_data(dataset[1][i][0])\n",
    "y_test1 = get_one_hot(dataset[1][i][1].values, 2) * 1.0"
   ]
  },
  {
   "cell_type": "code",
   "execution_count": 9,
   "metadata": {
    "ExecuteTime": {
     "end_time": "2019-03-08T23:17:24.342494Z",
     "start_time": "2019-03-08T23:17:24.257474Z"
    }
   },
   "outputs": [
    {
     "name": "stdout",
     "output_type": "stream",
     "text": [
      "x train 1 shape: (2500, 31)\n",
      "y train 1 shape: (2500, 31, 2)\n",
      "x test 1 shape: (490, 31)\n",
      "y test 1 shape: (490, 31, 2)\n"
     ]
    }
   ],
   "source": [
    "print(f\"x train 1 shape: {x_train1.shape}\")\n",
    "print(f\"y train 1 shape: {y_train1.shape}\")\n",
    "print(f\"x test 1 shape: {x_test1.shape}\")\n",
    "print(f\"y test 1 shape: {y_test1.shape}\")"
   ]
  },
  {
   "cell_type": "code",
   "execution_count": 10,
   "metadata": {
    "ExecuteTime": {
     "end_time": "2019-03-08T23:17:24.550464Z",
     "start_time": "2019-03-08T23:17:24.343981Z"
    }
   },
   "outputs": [
    {
     "name": "stdout",
     "output_type": "stream",
     "text": [
      "x shape: (70060, 240)\n",
      "y shape: (70060, 2)\n"
     ]
    }
   ],
   "source": [
    "x_series = [x_train1[i:i+240,j] for j in range(31) for i in range(2500 - 240)]\n",
    "y_series = [y_train1[i+240,j] for j in range(31) for i in range(2500 - 240)]\n",
    "x = np.array(x_series)\n",
    "y = np.array(y_series)\n",
    "print(f\"x shape: {x.shape}\")\n",
    "print(f\"y shape: {y.shape}\")"
   ]
  },
  {
   "cell_type": "code",
   "execution_count": 11,
   "metadata": {
    "ExecuteTime": {
     "end_time": "2019-03-08T23:17:24.554620Z",
     "start_time": "2019-03-08T23:17:24.551872Z"
    }
   },
   "outputs": [
    {
     "name": "stdout",
     "output_type": "stream",
     "text": [
      "x shape: (70060, 240)\n",
      "y shape: (70060, 2)\n"
     ]
    }
   ],
   "source": [
    "# x = x.transpose((0,2,1))\n",
    "# x = np.reshape(x, (510 * 31, timestep))\n",
    "# y = np.reshape(y, (510 * 31, 2))\n",
    "print(f\"x shape: {x.shape}\")\n",
    "print(f\"y shape: {y.shape}\")"
   ]
  },
  {
   "cell_type": "code",
   "execution_count": 12,
   "metadata": {
    "ExecuteTime": {
     "end_time": "2019-03-08T23:17:24.622284Z",
     "start_time": "2019-03-08T23:17:24.556660Z"
    }
   },
   "outputs": [
    {
     "name": "stdout",
     "output_type": "stream",
     "text": [
      "x shape: (70060, 240, 1)\n"
     ]
    }
   ],
   "source": [
    "x = np.reshape(x, (x.shape[0], x.shape[1], 1))\n",
    "print(f\"x shape: {x.shape}\")\n"
   ]
  },
  {
   "cell_type": "code",
   "execution_count": 13,
   "metadata": {
    "ExecuteTime": {
     "end_time": "2019-03-08T23:17:24.712097Z",
     "start_time": "2019-03-08T23:17:24.624553Z"
    }
   },
   "outputs": [],
   "source": [
    "i = 0\n",
    "timestep = 240\n",
    "x_train = normalize_data(dataset[0][i][0])\n",
    "y_train = get_one_hot(dataset[0][i][1].values, 2) * 1.0\n",
    "x_test = normalize_data(dataset[1][i][0])\n",
    "y_test = get_one_hot(dataset[1][i][1].values, 2) * 1.0\n",
    "\n",
    "train_gen = TimeseriesGenerator(x_train, y_train,\n",
    "                                length=timestep, sampling_rate=1,\n",
    "                                batch_size=510)\n",
    "test_gen = TimeseriesGenerator(x_test, y_test,\n",
    "                               length=timestep, sampling_rate=1,\n",
    "                               batch_size=250)"
   ]
  },
  {
   "cell_type": "code",
   "execution_count": 14,
   "metadata": {
    "ExecuteTime": {
     "end_time": "2019-03-08T23:17:24.814205Z",
     "start_time": "2019-03-08T23:17:24.717240Z"
    }
   },
   "outputs": [
    {
     "name": "stdout",
     "output_type": "stream",
     "text": [
      "x train shape: (2500, 31)\n",
      "y train shape: (2500, 31, 2)\n",
      "x test shape: (490, 31, 2)\n",
      "y test shape: (490, 31, 2)\n"
     ]
    }
   ],
   "source": [
    "print(f\"x train shape: {x_train.shape}\")\n",
    "print(f\"y train shape: {y_train.shape}\")\n",
    "print(f\"x test shape: {y_test.shape}\")\n",
    "print(f\"y test shape: {y_test.shape}\")\n",
    "# print(f\"predicted shape: {predicted.shape}\")"
   ]
  },
  {
   "cell_type": "code",
   "execution_count": 15,
   "metadata": {
    "ExecuteTime": {
     "end_time": "2019-03-08T23:17:24.988434Z",
     "start_time": "2019-03-08T23:17:24.815643Z"
    }
   },
   "outputs": [],
   "source": [
    "x_train = train_gen[0][0]\n",
    "y_train = train_gen[0][1]\n",
    "y_test = test_gen[0][0]\n",
    "y_test = test_gen[0][1]"
   ]
  },
  {
   "cell_type": "code",
   "execution_count": 16,
   "metadata": {
    "ExecuteTime": {
     "end_time": "2019-03-08T23:17:24.992446Z",
     "start_time": "2019-03-08T23:17:24.989808Z"
    }
   },
   "outputs": [
    {
     "name": "stdout",
     "output_type": "stream",
     "text": [
      "x train shape: (510, 240, 31)\n",
      "y train shape: (510, 31, 2)\n",
      "x test shape: (250, 31, 2)\n",
      "y test shape: (250, 31, 2)\n"
     ]
    }
   ],
   "source": [
    "print(f\"x train shape: {x_train.shape}\")\n",
    "print(f\"y train shape: {y_train.shape}\")\n",
    "print(f\"x test shape: {y_test.shape}\")\n",
    "print(f\"y test shape: {y_test.shape}\")"
   ]
  },
  {
   "cell_type": "code",
   "execution_count": 17,
   "metadata": {
    "ExecuteTime": {
     "end_time": "2019-03-08T23:17:25.075413Z",
     "start_time": "2019-03-08T23:17:24.994072Z"
    }
   },
   "outputs": [],
   "source": [
    "# Reshaping X_train for efficient modelling\n",
    "# X_train = np.reshape(X_train, (X_train.shape[0], X_train.shape[1], X_train.shape[2], 1))\n",
    "# X_test = np.reshape(X_test, (X_test.shape[0], X_test.shape[1], X_test.shape[2], 1))"
   ]
  },
  {
   "cell_type": "code",
   "execution_count": 18,
   "metadata": {
    "ExecuteTime": {
     "end_time": "2019-03-08T23:17:25.154277Z",
     "start_time": "2019-03-08T23:17:25.084773Z"
    }
   },
   "outputs": [
    {
     "name": "stdout",
     "output_type": "stream",
     "text": [
      "x train shape: (510, 240, 31)\n",
      "y train shape: (510, 31, 2)\n",
      "x test shape: (250, 31, 2)\n",
      "y test shape: (250, 31, 2)\n"
     ]
    }
   ],
   "source": [
    "print(f\"x train shape: {x_train.shape}\")\n",
    "print(f\"y train shape: {y_train.shape}\")\n",
    "print(f\"x test shape: {y_test.shape}\")\n",
    "print(f\"y test shape: {y_test.shape}\")"
   ]
  },
  {
   "cell_type": "code",
   "execution_count": null,
   "metadata": {
    "ExecuteTime": {
     "start_time": "2019-03-08T23:17:21.503Z"
    },
    "scrolled": true
   },
   "outputs": [
    {
     "name": "stdout",
     "output_type": "stream",
     "text": [
      "Train on 56048 samples, validate on 14012 samples\n",
      "Epoch 1/1000\n",
      "56048/56048 [==============================] - 18s 317us/step - loss: 0.6927 - acc: 0.5154 - val_loss: 0.6924 - val_acc: 0.5216\n",
      "Epoch 2/1000\n",
      "56048/56048 [==============================] - 19s 347us/step - loss: 0.6926 - acc: 0.5162 - val_loss: 0.6925 - val_acc: 0.5201\n",
      "Epoch 3/1000\n",
      "56048/56048 [==============================] - 18s 328us/step - loss: 0.6926 - acc: 0.5158 - val_loss: 0.6922 - val_acc: 0.5201\n",
      "Epoch 4/1000\n",
      "56048/56048 [==============================] - 20s 351us/step - loss: 0.6925 - acc: 0.5165 - val_loss: 0.6924 - val_acc: 0.5191\n",
      "Epoch 5/1000\n",
      "56048/56048 [==============================] - 19s 338us/step - loss: 0.6924 - acc: 0.5174 - val_loss: 0.6926 - val_acc: 0.5171\n",
      "Epoch 6/1000\n",
      "56048/56048 [==============================] - 19s 340us/step - loss: 0.6924 - acc: 0.5188 - val_loss: 0.6922 - val_acc: 0.5203\n",
      "Epoch 7/1000\n",
      "56048/56048 [==============================] - 20s 353us/step - loss: 0.6924 - acc: 0.5171 - val_loss: 0.6923 - val_acc: 0.5218\n",
      "Epoch 8/1000\n",
      "56048/56048 [==============================] - 19s 345us/step - loss: 0.6924 - acc: 0.5160 - val_loss: 0.6924 - val_acc: 0.5210\n",
      "Epoch 9/1000\n",
      "56048/56048 [==============================] - 19s 331us/step - loss: 0.6923 - acc: 0.5174 - val_loss: 0.6923 - val_acc: 0.5195\n",
      "Epoch 10/1000\n",
      "56048/56048 [==============================] - 18s 327us/step - loss: 0.6922 - acc: 0.5186 - val_loss: 0.6928 - val_acc: 0.5145\n",
      "Epoch 11/1000\n",
      "56048/56048 [==============================] - 19s 347us/step - loss: 0.6920 - acc: 0.5192 - val_loss: 0.6928 - val_acc: 0.5186\n",
      "Epoch 12/1000\n",
      "56048/56048 [==============================] - 21s 366us/step - loss: 0.6922 - acc: 0.5179 - val_loss: 0.6924 - val_acc: 0.5191\n",
      "Epoch 13/1000\n",
      "56048/56048 [==============================] - 20s 351us/step - loss: 0.6921 - acc: 0.5182 - val_loss: 0.6927 - val_acc: 0.5204\n",
      "Epoch 14/1000\n",
      "56048/56048 [==============================] - 20s 350us/step - loss: 0.6921 - acc: 0.5200 - val_loss: 0.6926 - val_acc: 0.5201\n",
      "Epoch 15/1000\n",
      "56048/56048 [==============================] - 18s 327us/step - loss: 0.6920 - acc: 0.5212 - val_loss: 0.6927 - val_acc: 0.5185\n",
      "Epoch 16/1000\n",
      "56048/56048 [==============================] - 19s 341us/step - loss: 0.6920 - acc: 0.5195 - val_loss: 0.6924 - val_acc: 0.5193\n",
      "Epoch 17/1000\n",
      "56048/56048 [==============================] - 18s 325us/step - loss: 0.6918 - acc: 0.5219 - val_loss: 0.6930 - val_acc: 0.5093\n",
      "Epoch 18/1000\n",
      "56048/56048 [==============================] - 19s 333us/step - loss: 0.6918 - acc: 0.5203 - val_loss: 0.6927 - val_acc: 0.5147\n",
      "Epoch 19/1000\n",
      "56048/56048 [==============================] - 19s 344us/step - loss: 0.6918 - acc: 0.5207 - val_loss: 0.6928 - val_acc: 0.5168\n",
      "Epoch 20/1000\n",
      "56048/56048 [==============================] - 18s 325us/step - loss: 0.6918 - acc: 0.5204 - val_loss: 0.6932 - val_acc: 0.5100\n",
      "Epoch 21/1000\n",
      "56048/56048 [==============================] - 19s 339us/step - loss: 0.6916 - acc: 0.5219 - val_loss: 0.6926 - val_acc: 0.5185\n",
      "Epoch 22/1000\n",
      "56048/56048 [==============================] - 18s 317us/step - loss: 0.6916 - acc: 0.5209 - val_loss: 0.6929 - val_acc: 0.5179\n",
      "Epoch 23/1000\n",
      "56048/56048 [==============================] - 18s 327us/step - loss: 0.6916 - acc: 0.5216 - val_loss: 0.6935 - val_acc: 0.5052\n",
      "Epoch 24/1000\n",
      "56048/56048 [==============================] - 20s 351us/step - loss: 0.6916 - acc: 0.5218 - val_loss: 0.6966 - val_acc: 0.4914\n",
      "Epoch 25/1000\n",
      "56048/56048 [==============================] - 18s 323us/step - loss: 0.6917 - acc: 0.5198 - val_loss: 0.6926 - val_acc: 0.5173\n",
      "Epoch 26/1000\n",
      "56048/56048 [==============================] - 18s 326us/step - loss: 0.6914 - acc: 0.5230 - val_loss: 0.6925 - val_acc: 0.5179\n",
      "Epoch 27/1000\n",
      "56048/56048 [==============================] - 19s 345us/step - loss: 0.6915 - acc: 0.5212 - val_loss: 0.6929 - val_acc: 0.5155\n",
      "Epoch 28/1000\n",
      "56048/56048 [==============================] - 20s 357us/step - loss: 0.6915 - acc: 0.5220 - val_loss: 0.6928 - val_acc: 0.5169\n",
      "Epoch 29/1000\n",
      "56048/56048 [==============================] - 21s 381us/step - loss: 0.6914 - acc: 0.5241 - val_loss: 0.6925 - val_acc: 0.5175\n",
      "Epoch 30/1000\n",
      "56048/56048 [==============================] - 20s 355us/step - loss: 0.6914 - acc: 0.5214 - val_loss: 0.6931 - val_acc: 0.5159\n",
      "Epoch 31/1000\n",
      "56048/56048 [==============================] - 20s 350us/step - loss: 0.6911 - acc: 0.5243 - val_loss: 0.6933 - val_acc: 0.5086\n",
      "Epoch 32/1000\n",
      "56048/56048 [==============================] - 18s 316us/step - loss: 0.6912 - acc: 0.5240 - val_loss: 0.6938 - val_acc: 0.5096\n",
      "Epoch 33/1000\n",
      "56048/56048 [==============================] - 19s 334us/step - loss: 0.6912 - acc: 0.5239 - val_loss: 0.6931 - val_acc: 0.5118\n",
      "Epoch 34/1000\n",
      "56048/56048 [==============================] - 17s 310us/step - loss: 0.6911 - acc: 0.5246 - val_loss: 0.6927 - val_acc: 0.5194\n",
      "Epoch 35/1000\n",
      "56048/56048 [==============================] - 19s 339us/step - loss: 0.6911 - acc: 0.5229 - val_loss: 0.6932 - val_acc: 0.5117\n",
      "Epoch 36/1000\n",
      "56048/56048 [==============================] - 20s 352us/step - loss: 0.6913 - acc: 0.5250 - val_loss: 0.6929 - val_acc: 0.5182\n",
      "Epoch 37/1000\n",
      "56048/56048 [==============================] - 19s 338us/step - loss: 0.6910 - acc: 0.5246 - val_loss: 0.6930 - val_acc: 0.5135\n",
      "Epoch 38/1000\n",
      "56048/56048 [==============================] - 21s 377us/step - loss: 0.6908 - acc: 0.5256 - val_loss: 0.6926 - val_acc: 0.5197\n",
      "Epoch 39/1000\n",
      "56048/56048 [==============================] - 18s 326us/step - loss: 0.6906 - acc: 0.5273 - val_loss: 0.6929 - val_acc: 0.5179\n",
      "Epoch 40/1000\n",
      "56048/56048 [==============================] - 17s 308us/step - loss: 0.6907 - acc: 0.5272 - val_loss: 0.6931 - val_acc: 0.5198\n",
      "Epoch 41/1000\n",
      "56048/56048 [==============================] - 18s 322us/step - loss: 0.6908 - acc: 0.5260 - val_loss: 0.6931 - val_acc: 0.5111\n",
      "Epoch 42/1000\n",
      "56048/56048 [==============================] - 20s 349us/step - loss: 0.6907 - acc: 0.5277 - val_loss: 0.6941 - val_acc: 0.5138\n",
      "Epoch 43/1000\n",
      "56048/56048 [==============================] - 18s 329us/step - loss: 0.6906 - acc: 0.5267 - val_loss: 0.6926 - val_acc: 0.5200\n",
      "Epoch 44/1000\n",
      "56048/56048 [==============================] - 19s 335us/step - loss: 0.6905 - acc: 0.5284 - val_loss: 0.6931 - val_acc: 0.5203\n",
      "Epoch 45/1000\n",
      "56048/56048 [==============================] - 20s 355us/step - loss: 0.6905 - acc: 0.5275 - val_loss: 0.6933 - val_acc: 0.5193\n",
      "Epoch 46/1000\n",
      "56048/56048 [==============================] - 19s 335us/step - loss: 0.6903 - acc: 0.5281 - val_loss: 0.6929 - val_acc: 0.5212\n",
      "Epoch 47/1000\n",
      "56048/56048 [==============================] - 18s 326us/step - loss: 0.6905 - acc: 0.5263 - val_loss: 0.6937 - val_acc: 0.5088\n",
      "Epoch 48/1000\n",
      "56048/56048 [==============================] - 27s 475us/step - loss: 0.6902 - acc: 0.5292 - val_loss: 0.6942 - val_acc: 0.5023\n",
      "Epoch 49/1000\n",
      "56048/56048 [==============================] - 35s 619us/step - loss: 0.6901 - acc: 0.5301 - val_loss: 0.6934 - val_acc: 0.5182\n",
      "Epoch 50/1000\n",
      "56048/56048 [==============================] - 52s 920us/step - loss: 0.6903 - acc: 0.5289 - val_loss: 0.6934 - val_acc: 0.5208\n",
      "Epoch 51/1000\n",
      "56000/56048 [============================>.] - ETA: 0s - loss: 0.6902 - acc: 0.5273"
     ]
    }
   ],
   "source": [
    "# expected input data shape: (batch_size, timesteps, data_dim)\n",
    "regressor = Sequential()\n",
    "regressor.add(LSTM(units=25,\n",
    "                   input_shape=(timestep, 1), dropout=0.1))\n",
    "# regressor.add(LSTM(units=25, return_sequences=True,\n",
    "#                    input_shape=(timestep, 1), dropout=0.1))\n",
    "# regressor.add(LSTM(25, return_sequences=True, dropout=0.1))\n",
    "# regressor.add(LSTM(25, return_sequences=True, dropout=0.1))\n",
    "# regressor.add(LSTM(25, dropout=0.1))\n",
    "\n",
    "# regressor.add(Dense(10,input_shape=(timestep, ), activation='relu'))\n",
    "regressor.add(Dense(100, activation='relu'))\n",
    "regressor.add(Dense(100, activation='relu'))\n",
    "\n",
    "# regressor.add(Reshape((31, 2)))\n",
    "# regressor.add(Lambda(lambda x: softmax(x, axis=-1)))\n",
    "\n",
    "regressor.add(Dense(2, activation='softmax'))\n",
    "\n",
    "regressor.compile(loss='binary_crossentropy',\n",
    "                  optimizer='rmsprop',\n",
    "                  metrics=['accuracy'])\n",
    "\n",
    "regressor.fit(x, y, epochs=1000,batch_size=1000, validation_split=0.2, callbacks = [EarlyStopping(monitor='val_loss', mode='min', patience=100),\n",
    "             ModelCheckpoint(filepath='../model/LSTM/best_model.h5', monitor='val_acc', save_best_only=True)])\n",
    "\n",
    "# regressor.fit_generator(train_gen, steps_per_epoch=len(train_gen),\n",
    "#                         epochs=10, validation_data=test_gen,\n",
    "#                         callbacks=[\n",
    "#                             EarlyStopping(monitor='val_loss',\n",
    "#                                           mode='min', patience=10),\n",
    "#                             ModelCheckpoint(filepath=\"../model/mymodel.h5\",\n",
    "#                                             monitor='val_acc',\n",
    "#                                             save_best_only=True)])\n"
   ]
  }
 ],
 "metadata": {
  "kernelspec": {
   "display_name": "projet_S5",
   "language": "python",
   "name": "projet_s5"
  },
  "language_info": {
   "codemirror_mode": {
    "name": "ipython",
    "version": 3
   },
   "file_extension": ".py",
   "mimetype": "text/x-python",
   "name": "python",
   "nbconvert_exporter": "python",
   "pygments_lexer": "ipython3",
   "version": "3.6.8"
  },
  "toc": {
   "base_numbering": 1,
   "nav_menu": {},
   "number_sections": true,
   "sideBar": true,
   "skip_h1_title": false,
   "title_cell": "Table of Contents",
   "title_sidebar": "Contents",
   "toc_cell": false,
   "toc_position": {},
   "toc_section_display": true,
   "toc_window_display": false
  }
 },
 "nbformat": 4,
 "nbformat_minor": 2
}
