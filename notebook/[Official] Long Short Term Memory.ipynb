{
 "cells": [
  {
   "cell_type": "code",
   "execution_count": 1,
   "metadata": {
    "ExecuteTime": {
     "end_time": "2019-03-05T06:29:51.772843Z",
     "start_time": "2019-03-05T06:29:50.895651Z"
    },
    "scrolled": true
   },
   "outputs": [],
   "source": [
    "# List all device\n",
    "from tensorflow.python.client import device_lib\n",
    "# print(device_lib.list_local_devices())"
   ]
  },
  {
   "cell_type": "code",
   "execution_count": 2,
   "metadata": {
    "ExecuteTime": {
     "end_time": "2019-03-05T06:29:52.126601Z",
     "start_time": "2019-03-05T06:29:51.774468Z"
    },
    "scrolled": true
   },
   "outputs": [
    {
     "name": "stderr",
     "output_type": "stream",
     "text": [
      "Using TensorFlow backend.\n"
     ]
    },
    {
     "data": {
      "text/plain": [
       "['/job:localhost/replica:0/task:0/device:GPU:0']"
      ]
     },
     "execution_count": 2,
     "metadata": {},
     "output_type": "execute_result"
    }
   ],
   "source": [
    "# Check available GPU\n",
    "from keras import backend as K\n",
    "K.tensorflow_backend._get_available_gpus()"
   ]
  },
  {
   "cell_type": "code",
   "execution_count": 3,
   "metadata": {
    "ExecuteTime": {
     "end_time": "2019-03-05T06:29:52.131042Z",
     "start_time": "2019-03-05T06:29:52.128266Z"
    }
   },
   "outputs": [],
   "source": [
    "import os\n",
    "os.environ[\"CUDA_DEVICE_ORDER\"]=\"PCI_BUS_ID\";\n",
    "# The GPU id to use, usually either \"0\" or \"1\";\n",
    "os.environ[\"CUDA_VISIBLE_DEVICES\"]=\"0\";  "
   ]
  },
  {
   "cell_type": "code",
   "execution_count": 4,
   "metadata": {
    "ExecuteTime": {
     "end_time": "2019-03-05T06:29:52.222906Z",
     "start_time": "2019-03-05T06:29:52.133863Z"
    }
   },
   "outputs": [],
   "source": [
    "# Importing the libraries\n",
    "import numpy as np\n",
    "import pandas as pd\n",
    "from keras.models import Sequential\n",
    "from keras.layers import Dense, LSTM, Dropout, Reshape, Lambda\n",
    "from keras.preprocessing.sequence import TimeseriesGenerator\n",
    "from keras.callbacks import EarlyStopping, ModelCheckpoint\n",
    "from keras.activations import softmax\n",
    "from keras.optimizers import SGD\n",
    "import math\n",
    "import pickle"
   ]
  },
  {
   "cell_type": "code",
   "execution_count": 5,
   "metadata": {
    "ExecuteTime": {
     "end_time": "2019-03-05T06:29:52.297462Z",
     "start_time": "2019-03-05T06:29:52.224622Z"
    }
   },
   "outputs": [],
   "source": [
    "with open(\"../data/dowjones_calculated/periods.txt\", \"rb\") as fp:   # Unpickling\n",
    "    dataset = pickle.load(fp)"
   ]
  },
  {
   "cell_type": "code",
   "execution_count": 6,
   "metadata": {
    "ExecuteTime": {
     "end_time": "2019-03-05T06:29:52.358305Z",
     "start_time": "2019-03-05T06:29:52.298643Z"
    }
   },
   "outputs": [],
   "source": [
    "X_train = dataset[0][0][0].values\n",
    "y_train = dataset[0][0][1].values\n",
    "X_test = dataset[1][0][0].values\n",
    "y_test = dataset[1][0][1].values"
   ]
  },
  {
   "cell_type": "code",
   "execution_count": 7,
   "metadata": {
    "ExecuteTime": {
     "end_time": "2019-03-05T06:29:52.426646Z",
     "start_time": "2019-03-05T06:29:52.359595Z"
    }
   },
   "outputs": [
    {
     "data": {
      "text/plain": [
       "9"
      ]
     },
     "execution_count": 7,
     "metadata": {},
     "output_type": "execute_result"
    }
   ],
   "source": [
    "len(dataset[0])"
   ]
  },
  {
   "cell_type": "code",
   "execution_count": 8,
   "metadata": {
    "ExecuteTime": {
     "end_time": "2019-03-05T06:29:52.493914Z",
     "start_time": "2019-03-05T06:29:52.427874Z"
    }
   },
   "outputs": [],
   "source": [
    "def get_one_hot(targets, nb_classes):\n",
    "    res = np.eye(nb_classes)[np.array(targets).reshape(-1)]\n",
    "    return res.reshape(list(targets.shape)+[nb_classes])\n",
    "y_train = get_one_hot(y_train, 2)\n",
    "y_test = get_one_hot(y_test, 2)"
   ]
  },
  {
   "cell_type": "code",
   "execution_count": 9,
   "metadata": {
    "ExecuteTime": {
     "end_time": "2019-03-05T06:29:52.561344Z",
     "start_time": "2019-03-05T06:29:52.495143Z"
    }
   },
   "outputs": [
    {
     "name": "stdout",
     "output_type": "stream",
     "text": [
      "x train shape: (750, 31)\n",
      "y train shape: (750, 31, 2)\n",
      "x test shape: (490, 31)\n",
      "y test shape: (490, 31, 2)\n"
     ]
    }
   ],
   "source": [
    "print(f\"x train shape: {X_train.shape}\")\n",
    "print(f\"y train shape: {y_train.shape}\")\n",
    "print(f\"x test shape: {X_test.shape}\")\n",
    "print(f\"y test shape: {y_test.shape}\")\n",
    "# print(f\"predicted shape: {predicted.shape}\")"
   ]
  },
  {
   "cell_type": "code",
   "execution_count": 10,
   "metadata": {
    "ExecuteTime": {
     "end_time": "2019-03-05T06:29:52.628534Z",
     "start_time": "2019-03-05T06:29:52.562667Z"
    }
   },
   "outputs": [],
   "source": [
    "data = X_train\n",
    "targets = y_train\n",
    "\n",
    "train_gen = TimeseriesGenerator(data, targets,\n",
    "                               length=240, sampling_rate=1,\n",
    "                               batch_size=510)"
   ]
  },
  {
   "cell_type": "code",
   "execution_count": 11,
   "metadata": {
    "ExecuteTime": {
     "end_time": "2019-03-05T06:29:52.718378Z",
     "start_time": "2019-03-05T06:29:52.629751Z"
    }
   },
   "outputs": [],
   "source": [
    "data = X_test\n",
    "targets = y_test\n",
    "\n",
    "test_gen = TimeseriesGenerator(data, targets,\n",
    "                               length=240, sampling_rate=1,\n",
    "                               batch_size=250)"
   ]
  },
  {
   "cell_type": "code",
   "execution_count": 12,
   "metadata": {
    "ExecuteTime": {
     "end_time": "2019-03-05T06:29:52.854644Z",
     "start_time": "2019-03-05T06:29:52.719655Z"
    }
   },
   "outputs": [],
   "source": [
    "X_train = train_gen[0][0]\n",
    "y_train = train_gen[0][1]\n",
    "X_test = test_gen[0][0]\n",
    "y_test = test_gen[0][1]"
   ]
  },
  {
   "cell_type": "code",
   "execution_count": 13,
   "metadata": {
    "ExecuteTime": {
     "end_time": "2019-03-05T06:29:52.858245Z",
     "start_time": "2019-03-05T06:29:52.855785Z"
    }
   },
   "outputs": [
    {
     "name": "stdout",
     "output_type": "stream",
     "text": [
      "x train shape: (510, 240, 31)\n",
      "y train shape: (510, 31, 2)\n",
      "x test shape: (250, 240, 31)\n",
      "y test shape: (250, 31, 2)\n"
     ]
    }
   ],
   "source": [
    "print(f\"x train shape: {X_train.shape}\")\n",
    "print(f\"y train shape: {y_train.shape}\")\n",
    "print(f\"x test shape: {X_test.shape}\")\n",
    "print(f\"y test shape: {y_test.shape}\")"
   ]
  },
  {
   "cell_type": "code",
   "execution_count": 14,
   "metadata": {
    "ExecuteTime": {
     "end_time": "2019-03-05T06:29:52.920830Z",
     "start_time": "2019-03-05T06:29:52.859604Z"
    }
   },
   "outputs": [],
   "source": [
    "# Reshaping X_train for efficient modelling\n",
    "# X_train = np.reshape(X_train, (X_train.shape[0], X_train.shape[1], X_train.shape[2], 1))\n",
    "# X_test = np.reshape(X_test, (X_test.shape[0], X_test.shape[1], X_test.shape[2], 1))"
   ]
  },
  {
   "cell_type": "code",
   "execution_count": 15,
   "metadata": {
    "ExecuteTime": {
     "end_time": "2019-03-05T06:29:53.018281Z",
     "start_time": "2019-03-05T06:29:52.922103Z"
    }
   },
   "outputs": [
    {
     "name": "stdout",
     "output_type": "stream",
     "text": [
      "x train shape: (510, 240, 31)\n",
      "y train shape: (510, 31, 2)\n",
      "x test shape: (250, 240, 31)\n",
      "y test shape: (250, 31, 2)\n"
     ]
    }
   ],
   "source": [
    "print(f\"x train shape: {X_train.shape}\")\n",
    "print(f\"y train shape: {y_train.shape}\")\n",
    "print(f\"x test shape: {X_test.shape}\")\n",
    "print(f\"y test shape: {y_test.shape}\")"
   ]
  },
  {
   "cell_type": "code",
   "execution_count": 16,
   "metadata": {
    "ExecuteTime": {
     "end_time": "2019-03-05T06:38:05.310972Z",
     "start_time": "2019-03-05T06:29:53.019777Z"
    },
    "scrolled": true
   },
   "outputs": [
    {
     "name": "stdout",
     "output_type": "stream",
     "text": [
      "Train on 459 samples, validate on 51 samples\n",
      "Epoch 1/100\n",
      "459/459 [==============================] - 10s 22ms/step - loss: 0.6931 - acc: 0.5066 - val_loss: 0.6927 - val_acc: 0.5266\n",
      "Epoch 2/100\n",
      "459/459 [==============================] - 10s 23ms/step - loss: 0.6927 - acc: 0.5127 - val_loss: 0.6927 - val_acc: 0.5092\n",
      "Epoch 3/100\n",
      "459/459 [==============================] - 10s 22ms/step - loss: 0.6924 - acc: 0.5208 - val_loss: 0.6926 - val_acc: 0.5127\n",
      "Epoch 4/100\n",
      "459/459 [==============================] - 10s 22ms/step - loss: 0.6921 - acc: 0.5212 - val_loss: 0.6925 - val_acc: 0.5089\n",
      "Epoch 5/100\n",
      "459/459 [==============================] - 10s 23ms/step - loss: 0.6917 - acc: 0.5206 - val_loss: 0.6927 - val_acc: 0.5076\n",
      "Epoch 6/100\n",
      "459/459 [==============================] - 10s 21ms/step - loss: 0.6915 - acc: 0.5219 - val_loss: 0.6927 - val_acc: 0.5104\n",
      "Epoch 7/100\n",
      "459/459 [==============================] - 10s 21ms/step - loss: 0.6914 - acc: 0.5219 - val_loss: 0.6927 - val_acc: 0.5085\n",
      "Epoch 8/100\n",
      "459/459 [==============================] - 10s 21ms/step - loss: 0.6912 - acc: 0.5219 - val_loss: 0.6930 - val_acc: 0.5089\n",
      "Epoch 9/100\n",
      "459/459 [==============================] - 10s 21ms/step - loss: 0.6911 - acc: 0.5233 - val_loss: 0.6930 - val_acc: 0.5092\n",
      "Epoch 10/100\n",
      "459/459 [==============================] - 10s 21ms/step - loss: 0.6910 - acc: 0.5228 - val_loss: 0.6932 - val_acc: 0.5098\n",
      "Epoch 11/100\n",
      "459/459 [==============================] - 10s 21ms/step - loss: 0.6908 - acc: 0.5236 - val_loss: 0.6932 - val_acc: 0.5142\n",
      "Epoch 12/100\n",
      "459/459 [==============================] - 10s 21ms/step - loss: 0.6908 - acc: 0.5246 - val_loss: 0.6934 - val_acc: 0.5142\n",
      "Epoch 13/100\n",
      "459/459 [==============================] - 10s 21ms/step - loss: 0.6906 - acc: 0.5246 - val_loss: 0.6936 - val_acc: 0.5139\n",
      "Epoch 14/100\n",
      "459/459 [==============================] - 10s 21ms/step - loss: 0.6906 - acc: 0.5251 - val_loss: 0.6940 - val_acc: 0.5139\n",
      "Epoch 15/100\n",
      "459/459 [==============================] - 9s 21ms/step - loss: 0.6905 - acc: 0.5243 - val_loss: 0.6943 - val_acc: 0.5155\n",
      "Epoch 16/100\n",
      "459/459 [==============================] - 10s 21ms/step - loss: 0.6903 - acc: 0.5259 - val_loss: 0.6943 - val_acc: 0.5152\n",
      "Epoch 17/100\n",
      "459/459 [==============================] - 9s 21ms/step - loss: 0.6902 - acc: 0.5251 - val_loss: 0.6947 - val_acc: 0.5212\n",
      "Epoch 18/100\n",
      "459/459 [==============================] - 10s 21ms/step - loss: 0.6901 - acc: 0.5236 - val_loss: 0.6953 - val_acc: 0.5164\n",
      "Epoch 19/100\n",
      "459/459 [==============================] - 9s 21ms/step - loss: 0.6900 - acc: 0.5258 - val_loss: 0.6952 - val_acc: 0.5139\n",
      "Epoch 20/100\n",
      "459/459 [==============================] - 9s 21ms/step - loss: 0.6899 - acc: 0.5263 - val_loss: 0.6956 - val_acc: 0.5152\n",
      "Epoch 21/100\n",
      "459/459 [==============================] - 9s 21ms/step - loss: 0.6898 - acc: 0.5268 - val_loss: 0.6962 - val_acc: 0.5174\n",
      "Epoch 22/100\n",
      "459/459 [==============================] - 9s 21ms/step - loss: 0.6897 - acc: 0.5258 - val_loss: 0.6965 - val_acc: 0.5117\n",
      "Epoch 23/100\n",
      "459/459 [==============================] - 10s 21ms/step - loss: 0.6896 - acc: 0.5269 - val_loss: 0.6970 - val_acc: 0.5145\n",
      "Epoch 24/100\n",
      "459/459 [==============================] - 9s 21ms/step - loss: 0.6894 - acc: 0.5272 - val_loss: 0.6970 - val_acc: 0.5145\n",
      "Epoch 25/100\n",
      "459/459 [==============================] - 9s 21ms/step - loss: 0.6894 - acc: 0.5262 - val_loss: 0.6974 - val_acc: 0.5139\n",
      "Epoch 26/100\n",
      "459/459 [==============================] - 10s 21ms/step - loss: 0.6892 - acc: 0.5285 - val_loss: 0.6977 - val_acc: 0.5082\n",
      "Epoch 27/100\n",
      "459/459 [==============================] - 10s 21ms/step - loss: 0.6893 - acc: 0.5266 - val_loss: 0.6979 - val_acc: 0.5066\n",
      "Epoch 28/100\n",
      "459/459 [==============================] - 10s 21ms/step - loss: 0.6891 - acc: 0.5275 - val_loss: 0.6986 - val_acc: 0.5085\n",
      "Epoch 29/100\n",
      "459/459 [==============================] - 10s 21ms/step - loss: 0.6890 - acc: 0.5274 - val_loss: 0.6987 - val_acc: 0.5038\n",
      "Epoch 30/100\n",
      "459/459 [==============================] - 9s 21ms/step - loss: 0.6890 - acc: 0.5285 - val_loss: 0.6991 - val_acc: 0.5063\n",
      "Epoch 31/100\n",
      "459/459 [==============================] - 10s 21ms/step - loss: 0.6889 - acc: 0.5267 - val_loss: 0.6991 - val_acc: 0.5060\n",
      "Epoch 32/100\n",
      "459/459 [==============================] - 10s 21ms/step - loss: 0.6888 - acc: 0.5265 - val_loss: 0.6994 - val_acc: 0.5089\n",
      "Epoch 33/100\n",
      "459/459 [==============================] - 10s 21ms/step - loss: 0.6887 - acc: 0.5281 - val_loss: 0.6995 - val_acc: 0.5114\n",
      "Epoch 34/100\n",
      "459/459 [==============================] - 9s 21ms/step - loss: 0.6885 - acc: 0.5299 - val_loss: 0.7004 - val_acc: 0.5079\n",
      "Epoch 35/100\n",
      "459/459 [==============================] - 9s 21ms/step - loss: 0.6885 - acc: 0.5293 - val_loss: 0.7005 - val_acc: 0.5079\n",
      "Epoch 36/100\n",
      "459/459 [==============================] - 10s 21ms/step - loss: 0.6883 - acc: 0.5290 - val_loss: 0.7003 - val_acc: 0.5111\n",
      "Epoch 37/100\n",
      "459/459 [==============================] - 10s 21ms/step - loss: 0.6882 - acc: 0.5307 - val_loss: 0.7003 - val_acc: 0.5085\n",
      "Epoch 38/100\n",
      "459/459 [==============================] - 10s 21ms/step - loss: 0.6882 - acc: 0.5293 - val_loss: 0.7009 - val_acc: 0.5066\n",
      "Epoch 39/100\n",
      "459/459 [==============================] - 10s 21ms/step - loss: 0.6881 - acc: 0.5303 - val_loss: 0.7009 - val_acc: 0.5076\n",
      "Epoch 40/100\n",
      "459/459 [==============================] - 10s 21ms/step - loss: 0.6880 - acc: 0.5304 - val_loss: 0.7012 - val_acc: 0.5041\n",
      "Epoch 41/100\n",
      "459/459 [==============================] - 10s 21ms/step - loss: 0.6878 - acc: 0.5303 - val_loss: 0.7008 - val_acc: 0.5006\n",
      "Epoch 42/100\n",
      "459/459 [==============================] - 10s 21ms/step - loss: 0.6877 - acc: 0.5333 - val_loss: 0.7009 - val_acc: 0.5019\n",
      "Epoch 43/100\n",
      "459/459 [==============================] - 10s 21ms/step - loss: 0.6879 - acc: 0.5307 - val_loss: 0.7018 - val_acc: 0.5051\n",
      "Epoch 44/100\n",
      "459/459 [==============================] - 10s 21ms/step - loss: 0.6877 - acc: 0.5323 - val_loss: 0.7016 - val_acc: 0.5051\n",
      "Epoch 45/100\n",
      "459/459 [==============================] - 10s 21ms/step - loss: 0.6875 - acc: 0.5325 - val_loss: 0.7015 - val_acc: 0.5025\n",
      "Epoch 46/100\n",
      "459/459 [==============================] - 10s 22ms/step - loss: 0.6874 - acc: 0.5304 - val_loss: 0.7033 - val_acc: 0.5006\n",
      "Epoch 47/100\n",
      "459/459 [==============================] - 10s 22ms/step - loss: 0.6875 - acc: 0.5335 - val_loss: 0.7027 - val_acc: 0.5006\n",
      "Epoch 48/100\n",
      "459/459 [==============================] - 10s 22ms/step - loss: 0.6875 - acc: 0.5320 - val_loss: 0.7028 - val_acc: 0.5051\n",
      "Epoch 49/100\n",
      "459/459 [==============================] - 10s 21ms/step - loss: 0.6873 - acc: 0.5304 - val_loss: 0.7019 - val_acc: 0.5041\n",
      "Epoch 50/100\n",
      "459/459 [==============================] - 9s 20ms/step - loss: 0.6872 - acc: 0.5342 - val_loss: 0.7028 - val_acc: 0.5044\n",
      "Epoch 51/100\n",
      "459/459 [==============================] - 9s 19ms/step - loss: 0.6870 - acc: 0.5306 - val_loss: 0.7026 - val_acc: 0.5051\n"
     ]
    },
    {
     "data": {
      "text/plain": [
       "<keras.callbacks.History at 0x7fd93c23f048>"
      ]
     },
     "execution_count": 16,
     "metadata": {},
     "output_type": "execute_result"
    }
   ],
   "source": [
    "# expected input data shape: (batch_size, timesteps, data_dim)\n",
    "\n",
    "# The LSTM architecture\n",
    "regressor = Sequential()\n",
    "# First LSTM layer with Dropout regularisation\n",
    "# regressor.add(LSTM(units=25, return_sequences=True, input_shape=(240, 31)))\n",
    "regressor.add(LSTM(units=10, input_shape=(240, 31), dropout=0.1))\n",
    "\n",
    "# The output layer\n",
    "# regressor.add(LSTM(25))\n",
    "regressor.add(Dense(62, activation='relu'))\n",
    "regressor.add(Reshape((31,2)))\n",
    "# regressor.add(softmax(axis = -1))\n",
    "regressor.add(Lambda(lambda  x: softmax(x, axis = -1)))\n",
    "# Compiling the RNN\n",
    "regressor.compile(loss='binary_crossentropy',\n",
    "              optimizer='rmsprop',\n",
    "              metrics=['accuracy'])\n",
    "# regressor.compile(loss='mean_squared_error',\n",
    "#               optimizer='rmsprop',\n",
    "#               metrics=['accuracy'])\n",
    "# Fitting to the training set\n",
    "regressor.fit(X_train,y_train,epochs=100,batch_size=10, validation_split=0.1, callbacks = [EarlyStopping(monitor='val_acc', patience=50),\n",
    "             ModelCheckpoint(filepath='../model/LSTM/best_model.h5', monitor='val_acc', save_best_only=True)])"
   ]
  },
  {
   "cell_type": "code",
   "execution_count": 17,
   "metadata": {
    "ExecuteTime": {
     "end_time": "2019-03-05T06:38:06.012707Z",
     "start_time": "2019-03-05T06:38:05.312286Z"
    }
   },
   "outputs": [],
   "source": [
    "# Evaluating our model\n",
    "predicted = regressor.predict(X_test)"
   ]
  },
  {
   "cell_type": "code",
   "execution_count": 18,
   "metadata": {
    "ExecuteTime": {
     "end_time": "2019-03-05T06:38:06.018457Z",
     "start_time": "2019-03-05T06:38:06.015624Z"
    }
   },
   "outputs": [],
   "source": [
    "label = predicted > 0.5\n",
    "label = label * 1 # Convert boolean to int"
   ]
  },
  {
   "cell_type": "code",
   "execution_count": 19,
   "metadata": {
    "ExecuteTime": {
     "end_time": "2019-03-05T06:38:08.074323Z",
     "start_time": "2019-03-05T06:38:06.021808Z"
    }
   },
   "outputs": [
    {
     "data": {
      "text/plain": [
       "0.5070967741935484"
      ]
     },
     "execution_count": 19,
     "metadata": {},
     "output_type": "execute_result"
    }
   ],
   "source": [
    "(sum(y_test[:, :, 1] == label[:, :, 1])/(y_test.size/2)).sum()"
   ]
  },
  {
   "cell_type": "code",
   "execution_count": 20,
   "metadata": {
    "ExecuteTime": {
     "end_time": "2019-03-05T06:38:08.611250Z",
     "start_time": "2019-03-05T06:38:08.079768Z"
    }
   },
   "outputs": [],
   "source": [
    "model_name = '../model/LSTM/my_model3.h5'\n",
    "regressor.save(model_name)  # creates a HDF5 file 'my_model.h5'\n",
    "del regressor  # deletes the existing model"
   ]
  },
  {
   "cell_type": "code",
   "execution_count": 21,
   "metadata": {
    "ExecuteTime": {
     "end_time": "2019-03-05T06:38:09.969292Z",
     "start_time": "2019-03-05T06:38:08.613611Z"
    }
   },
   "outputs": [],
   "source": [
    "from keras.models import load_model\n",
    "from keras.activations import softmax\n",
    "\n",
    "# returns a compiled model\n",
    "# identical to the previous one\n",
    "regressor1 = load_model(model_name, custom_objects={\"softmax\": softmax})"
   ]
  },
  {
   "cell_type": "code",
   "execution_count": 22,
   "metadata": {
    "ExecuteTime": {
     "end_time": "2019-03-05T06:38:10.608872Z",
     "start_time": "2019-03-05T06:38:09.970684Z"
    }
   },
   "outputs": [
    {
     "data": {
      "text/plain": [
       "0.5070967741935484"
      ]
     },
     "execution_count": 22,
     "metadata": {},
     "output_type": "execute_result"
    }
   ],
   "source": [
    "predicted_load = regressor1.predict(X_test)\n",
    "label_load = predicted_load > 0.5\n",
    "label_load = label_load * 1 # Convert boolean to int\n",
    "(sum(y_test[:, :, 1] == label_load[:, :, 1])/(y_test.size/2)).sum()"
   ]
  }
 ],
 "metadata": {
  "kernelspec": {
   "display_name": "projet_S5",
   "language": "python",
   "name": "projet_s5"
  },
  "language_info": {
   "codemirror_mode": {
    "name": "ipython",
    "version": 3
   },
   "file_extension": ".py",
   "mimetype": "text/x-python",
   "name": "python",
   "nbconvert_exporter": "python",
   "pygments_lexer": "ipython3",
   "version": "3.6.8"
  },
  "toc": {
   "base_numbering": 1,
   "nav_menu": {},
   "number_sections": true,
   "sideBar": true,
   "skip_h1_title": false,
   "title_cell": "Table of Contents",
   "title_sidebar": "Contents",
   "toc_cell": false,
   "toc_position": {},
   "toc_section_display": true,
   "toc_window_display": false
  }
 },
 "nbformat": 4,
 "nbformat_minor": 2
}
