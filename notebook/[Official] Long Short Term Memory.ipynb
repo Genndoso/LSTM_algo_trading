{
 "cells": [
  {
   "cell_type": "code",
   "execution_count": 1,
   "metadata": {
    "ExecuteTime": {
     "end_time": "2019-03-03T17:14:46.698198Z",
     "start_time": "2019-03-03T17:14:45.900093Z"
    },
    "scrolled": true
   },
   "outputs": [],
   "source": [
    "# List all device\n",
    "from tensorflow.python.client import device_lib\n",
    "# print(device_lib.list_local_devices())"
   ]
  },
  {
   "cell_type": "code",
   "execution_count": 2,
   "metadata": {
    "ExecuteTime": {
     "end_time": "2019-03-03T17:14:47.008075Z",
     "start_time": "2019-03-03T17:14:46.699785Z"
    },
    "scrolled": true
   },
   "outputs": [
    {
     "name": "stderr",
     "output_type": "stream",
     "text": [
      "Using TensorFlow backend.\n"
     ]
    },
    {
     "data": {
      "text/plain": [
       "['/job:localhost/replica:0/task:0/device:GPU:0']"
      ]
     },
     "execution_count": 2,
     "metadata": {},
     "output_type": "execute_result"
    }
   ],
   "source": [
    "# Check available GPU\n",
    "from keras import backend as K\n",
    "K.tensorflow_backend._get_available_gpus()"
   ]
  },
  {
   "cell_type": "code",
   "execution_count": 3,
   "metadata": {
    "ExecuteTime": {
     "end_time": "2019-03-03T17:14:47.011477Z",
     "start_time": "2019-03-03T17:14:47.009343Z"
    }
   },
   "outputs": [],
   "source": [
    "import os\n",
    "os.environ[\"CUDA_DEVICE_ORDER\"]=\"PCI_BUS_ID\";\n",
    "# The GPU id to use, usually either \"0\" or \"1\";\n",
    "os.environ[\"CUDA_VISIBLE_DEVICES\"]=\"0\";  "
   ]
  },
  {
   "cell_type": "code",
   "execution_count": 4,
   "metadata": {
    "ExecuteTime": {
     "end_time": "2019-03-03T17:14:47.373281Z",
     "start_time": "2019-03-03T17:14:47.014142Z"
    }
   },
   "outputs": [],
   "source": [
    "# Importing the libraries\n",
    "import numpy as np\n",
    "import matplotlib.pyplot as plt\n",
    "plt.style.use('fivethirtyeight')\n",
    "import pandas as pd\n",
    "from sklearn.preprocessing import MinMaxScaler\n",
    "from keras.models import Sequential\n",
    "from keras.layers import Dense, LSTM, Dropout, GRU, Bidirectional\n",
    "from keras.optimizers import SGD\n",
    "import math\n",
    "from sklearn.metrics import mean_squared_error\n",
    "import pickle"
   ]
  },
  {
   "cell_type": "code",
   "execution_count": 5,
   "metadata": {
    "ExecuteTime": {
     "end_time": "2019-03-03T17:14:48.009526Z",
     "start_time": "2019-03-03T17:14:47.375335Z"
    }
   },
   "outputs": [],
   "source": [
    "with open(\"../data/dowjones_calculated/periods.txt\", \"rb\") as fp:   # Unpickling\n",
    "    dataset = pickle.load(fp)"
   ]
  },
  {
   "cell_type": "code",
   "execution_count": 6,
   "metadata": {
    "ExecuteTime": {
     "end_time": "2019-03-03T17:14:48.062107Z",
     "start_time": "2019-03-03T17:14:48.015026Z"
    }
   },
   "outputs": [],
   "source": [
    "X_train = dataset[0][0][0].values\n",
    "y_train = dataset[0][0][1].values\n",
    "X_test = dataset[1][0][0].values\n",
    "y_test = dataset[1][0][1].values"
   ]
  },
  {
   "cell_type": "code",
   "execution_count": 7,
   "metadata": {
    "ExecuteTime": {
     "end_time": "2019-03-03T17:14:48.133685Z",
     "start_time": "2019-03-03T17:14:48.065923Z"
    }
   },
   "outputs": [
    {
     "data": {
      "text/plain": [
       "(750, 31)"
      ]
     },
     "execution_count": 7,
     "metadata": {},
     "output_type": "execute_result"
    }
   ],
   "source": [
    "y_train.shape"
   ]
  },
  {
   "cell_type": "code",
   "execution_count": 8,
   "metadata": {
    "ExecuteTime": {
     "end_time": "2019-03-03T17:14:48.207261Z",
     "start_time": "2019-03-03T17:14:48.138861Z"
    }
   },
   "outputs": [
    {
     "data": {
      "text/plain": [
       "(250, 31)"
      ]
     },
     "execution_count": 8,
     "metadata": {},
     "output_type": "execute_result"
    }
   ],
   "source": [
    "X_test.shape"
   ]
  },
  {
   "cell_type": "code",
   "execution_count": 9,
   "metadata": {
    "ExecuteTime": {
     "end_time": "2019-03-03T17:14:48.276454Z",
     "start_time": "2019-03-03T17:14:48.208756Z"
    }
   },
   "outputs": [
    {
     "data": {
      "text/plain": [
       "(250, 31)"
      ]
     },
     "execution_count": 9,
     "metadata": {},
     "output_type": "execute_result"
    }
   ],
   "source": [
    "y_test.shape"
   ]
  },
  {
   "cell_type": "code",
   "execution_count": 10,
   "metadata": {
    "ExecuteTime": {
     "end_time": "2019-03-03T17:14:48.344383Z",
     "start_time": "2019-03-03T17:14:48.278808Z"
    }
   },
   "outputs": [],
   "source": [
    "# Reshaping X_train for efficient modelling\n",
    "X_train = np.reshape(X_train, (X_train.shape[0],X_train.shape[1],1))\n",
    "X_test = np.reshape(X_test, (X_test.shape[0],X_test.shape[1],1))"
   ]
  },
  {
   "cell_type": "code",
   "execution_count": 12,
   "metadata": {
    "ExecuteTime": {
     "end_time": "2019-03-03T17:17:19.378649Z",
     "start_time": "2019-03-03T17:17:11.320747Z"
    }
   },
   "outputs": [
    {
     "name": "stdout",
     "output_type": "stream",
     "text": [
      "Epoch 1/5\n",
      "750/750 [==============================] - 2s 3ms/step - loss: 1.7879 - binary_crossentropy: 1.7879\n",
      "Epoch 2/5\n",
      "750/750 [==============================] - 1s 2ms/step - loss: 1.7868 - binary_crossentropy: 1.7868\n",
      "Epoch 3/5\n",
      "750/750 [==============================] - 1s 2ms/step - loss: 1.7857 - binary_crossentropy: 1.7857\n",
      "Epoch 4/5\n",
      "750/750 [==============================] - 1s 2ms/step - loss: 1.7850 - binary_crossentropy: 1.7850\n",
      "Epoch 5/5\n",
      "750/750 [==============================] - 1s 2ms/step - loss: 1.7826 - binary_crossentropy: 1.7826\n"
     ]
    },
    {
     "data": {
      "text/plain": [
       "<keras.callbacks.History at 0x7f6a84107da0>"
      ]
     },
     "execution_count": 12,
     "metadata": {},
     "output_type": "execute_result"
    }
   ],
   "source": [
    "# The LSTM architecture\n",
    "regressor = Sequential()\n",
    "# First LSTM layer with Dropout regularisation\n",
    "regressor.add(LSTM(units=25, return_sequences=True, input_shape=(X_train.shape[1],1)))\n",
    "regressor.add(Dropout(0.1))\n",
    "# Second LSTM layer\n",
    "regressor.add(LSTM(units=50))\n",
    "regressor.add(Dropout(0.2))\n",
    "# The output layer\n",
    "regressor.add(Dense(31, activation='softmax'))\n",
    "# Compiling the RNN\n",
    "regressor.compile(loss='binary_crossentropy',\n",
    "              optimizer='rmsprop',\n",
    "              metrics=['accuracy'])\n",
    "\n",
    "# Fitting to the training set\n",
    "regressor.fit(X_train,y_train,epochs=5,batch_size=32)"
   ]
  },
  {
   "cell_type": "code",
   "execution_count": null,
   "metadata": {
    "ExecuteTime": {
     "end_time": "2019-03-03T17:14:48.885224Z",
     "start_time": "2019-03-03T17:14:45.942Z"
    }
   },
   "outputs": [],
   "source": [
    "# Evaluating our model\n",
    "predicted = regressor.predict(X_test)"
   ]
  },
  {
   "cell_type": "code",
   "execution_count": null,
   "metadata": {
    "ExecuteTime": {
     "end_time": "2019-03-03T17:14:48.886307Z",
     "start_time": "2019-03-03T17:14:45.945Z"
    }
   },
   "outputs": [],
   "source": [
    "y_test.shape"
   ]
  },
  {
   "cell_type": "code",
   "execution_count": null,
   "metadata": {
    "ExecuteTime": {
     "end_time": "2019-03-03T17:14:48.887245Z",
     "start_time": "2019-03-03T17:14:45.946Z"
    }
   },
   "outputs": [],
   "source": [
    "predicted.shape"
   ]
  },
  {
   "cell_type": "code",
   "execution_count": null,
   "metadata": {
    "ExecuteTime": {
     "end_time": "2019-03-03T17:14:48.888154Z",
     "start_time": "2019-03-03T17:14:45.948Z"
    }
   },
   "outputs": [],
   "source": [
    "y_test[0]"
   ]
  },
  {
   "cell_type": "code",
   "execution_count": null,
   "metadata": {
    "ExecuteTime": {
     "end_time": "2019-03-03T17:14:48.889069Z",
     "start_time": "2019-03-03T17:14:45.950Z"
    }
   },
   "outputs": [],
   "source": [
    "predicted[0]"
   ]
  },
  {
   "cell_type": "code",
   "execution_count": null,
   "metadata": {
    "ExecuteTime": {
     "end_time": "2019-03-03T17:14:48.889920Z",
     "start_time": "2019-03-03T17:14:45.953Z"
    }
   },
   "outputs": [],
   "source": [
    "predicted[:3]"
   ]
  },
  {
   "cell_type": "code",
   "execution_count": null,
   "metadata": {
    "ExecuteTime": {
     "end_time": "2019-03-03T17:14:48.890798Z",
     "start_time": "2019-03-03T17:14:45.955Z"
    }
   },
   "outputs": [],
   "source": [
    "label = predicted > 0.5\n",
    "label = label * 1 # Convert boolean to int\n",
    "label"
   ]
  },
  {
   "cell_type": "code",
   "execution_count": null,
   "metadata": {
    "ExecuteTime": {
     "end_time": "2019-03-03T17:14:48.891677Z",
     "start_time": "2019-03-03T17:14:45.957Z"
    }
   },
   "outputs": [],
   "source": [
    "(sum(y_test == label)/len(y_test)).mean()"
   ]
  },
  {
   "cell_type": "code",
   "execution_count": null,
   "metadata": {
    "ExecuteTime": {
     "end_time": "2019-03-03T17:14:48.892555Z",
     "start_time": "2019-03-03T17:14:45.960Z"
    }
   },
   "outputs": [],
   "source": [
    "# from keras.models import load_model\n",
    "\n",
    "# regressor.save('../model/LSTM/my_model.h5')  # creates a HDF5 file 'my_model.h5'\n",
    "# del regressor  # deletes the existing model\n",
    "\n",
    "# # returns a compiled model\n",
    "# # identical to the previous one\n",
    "# regressor1 = load_model('../model/LSTM/my_model.h5')\n",
    "# regressor1.predict(X_test)"
   ]
  }
 ],
 "metadata": {
  "kernelspec": {
   "display_name": "projet_S5",
   "language": "python",
   "name": "projet_s5"
  },
  "language_info": {
   "codemirror_mode": {
    "name": "ipython",
    "version": 3
   },
   "file_extension": ".py",
   "mimetype": "text/x-python",
   "name": "python",
   "nbconvert_exporter": "python",
   "pygments_lexer": "ipython3",
   "version": "3.6.8"
  },
  "toc": {
   "base_numbering": 1,
   "nav_menu": {},
   "number_sections": true,
   "sideBar": true,
   "skip_h1_title": false,
   "title_cell": "Table of Contents",
   "title_sidebar": "Contents",
   "toc_cell": false,
   "toc_position": {},
   "toc_section_display": true,
   "toc_window_display": false
  }
 },
 "nbformat": 4,
 "nbformat_minor": 2
}
