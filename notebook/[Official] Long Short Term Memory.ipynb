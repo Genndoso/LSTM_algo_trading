{
 "cells": [
  {
   "cell_type": "code",
   "execution_count": 1,
   "metadata": {
    "ExecuteTime": {
     "end_time": "2019-03-05T07:10:34.862391Z",
     "start_time": "2019-03-05T07:10:34.052990Z"
    },
    "scrolled": true
   },
   "outputs": [],
   "source": [
    "# List all device\n",
    "from tensorflow.python.client import device_lib\n",
    "# print(device_lib.list_local_devices())"
   ]
  },
  {
   "cell_type": "code",
   "execution_count": 2,
   "metadata": {
    "ExecuteTime": {
     "end_time": "2019-03-05T07:10:35.174056Z",
     "start_time": "2019-03-05T07:10:34.864080Z"
    },
    "scrolled": true
   },
   "outputs": [
    {
     "name": "stderr",
     "output_type": "stream",
     "text": [
      "Using TensorFlow backend.\n"
     ]
    },
    {
     "data": {
      "text/plain": [
       "['/job:localhost/replica:0/task:0/device:GPU:0']"
      ]
     },
     "execution_count": 2,
     "metadata": {},
     "output_type": "execute_result"
    }
   ],
   "source": [
    "# Check available GPU\n",
    "from keras import backend as K\n",
    "K.tensorflow_backend._get_available_gpus()"
   ]
  },
  {
   "cell_type": "code",
   "execution_count": 3,
   "metadata": {
    "ExecuteTime": {
     "end_time": "2019-03-05T07:10:35.177573Z",
     "start_time": "2019-03-05T07:10:35.175392Z"
    }
   },
   "outputs": [],
   "source": [
    "import os\n",
    "os.environ[\"CUDA_DEVICE_ORDER\"]=\"PCI_BUS_ID\";\n",
    "# The GPU id to use, usually either \"0\" or \"1\";\n",
    "os.environ[\"CUDA_VISIBLE_DEVICES\"]=\"0\";  "
   ]
  },
  {
   "cell_type": "code",
   "execution_count": 4,
   "metadata": {
    "ExecuteTime": {
     "end_time": "2019-03-05T07:10:35.268187Z",
     "start_time": "2019-03-05T07:10:35.179620Z"
    }
   },
   "outputs": [],
   "source": [
    "# Importing the libraries\n",
    "import numpy as np\n",
    "import pandas as pd\n",
    "from keras.models import Sequential\n",
    "from keras.layers import Dense, LSTM, Dropout, Reshape, Lambda\n",
    "from keras.preprocessing.sequence import TimeseriesGenerator\n",
    "from keras.callbacks import EarlyStopping, ModelCheckpoint\n",
    "from keras.activations import softmax\n",
    "from keras.optimizers import SGD\n",
    "import math\n",
    "import pickle"
   ]
  },
  {
   "cell_type": "code",
   "execution_count": 5,
   "metadata": {
    "ExecuteTime": {
     "end_time": "2019-03-05T07:10:35.342668Z",
     "start_time": "2019-03-05T07:10:35.270263Z"
    }
   },
   "outputs": [],
   "source": [
    "with open(\"../data/dowjones_calculated/periods.txt\", \"rb\") as fp:   # Unpickling\n",
    "    dataset = pickle.load(fp)"
   ]
  },
  {
   "cell_type": "code",
   "execution_count": 6,
   "metadata": {
    "ExecuteTime": {
     "end_time": "2019-03-05T07:10:35.424768Z",
     "start_time": "2019-03-05T07:10:35.343958Z"
    }
   },
   "outputs": [],
   "source": [
    "returns = dataset[0][0][0]\n",
    "returns = (returns - returns.mean()) / returns.std()\n",
    "X_train = returns.values\n",
    "y_train = dataset[0][0][1].values\n",
    "\n",
    "# returns = dataset[1][0][0]\n",
    "# returns = (returns - returns.mean()) / returns.std()\n",
    "X_test = dataset[1][0][0].values\n",
    "y_test = dataset[1][0][1].values"
   ]
  },
  {
   "cell_type": "code",
   "execution_count": 7,
   "metadata": {
    "ExecuteTime": {
     "end_time": "2019-03-05T07:10:35.488996Z",
     "start_time": "2019-03-05T07:10:35.425874Z"
    }
   },
   "outputs": [],
   "source": [
    "def get_one_hot(targets, nb_classes):\n",
    "    res = np.eye(nb_classes)[np.array(targets).reshape(-1)]\n",
    "    return res.reshape(list(targets.shape)+[nb_classes])\n",
    "y_train = get_one_hot(y_train, 2)\n",
    "y_test = get_one_hot(y_test, 2)"
   ]
  },
  {
   "cell_type": "code",
   "execution_count": 8,
   "metadata": {
    "ExecuteTime": {
     "end_time": "2019-03-05T07:10:35.556447Z",
     "start_time": "2019-03-05T07:10:35.490440Z"
    }
   },
   "outputs": [
    {
     "name": "stdout",
     "output_type": "stream",
     "text": [
      "x train shape: (750, 31)\n",
      "y train shape: (750, 31, 2)\n",
      "x test shape: (490, 31)\n",
      "y test shape: (490, 31, 2)\n"
     ]
    }
   ],
   "source": [
    "print(f\"x train shape: {X_train.shape}\")\n",
    "print(f\"y train shape: {y_train.shape}\")\n",
    "print(f\"x test shape: {X_test.shape}\")\n",
    "print(f\"y test shape: {y_test.shape}\")\n",
    "# print(f\"predicted shape: {predicted.shape}\")"
   ]
  },
  {
   "cell_type": "code",
   "execution_count": 9,
   "metadata": {
    "ExecuteTime": {
     "end_time": "2019-03-05T07:10:35.623215Z",
     "start_time": "2019-03-05T07:10:35.557679Z"
    }
   },
   "outputs": [],
   "source": [
    "data = X_train\n",
    "targets = y_train\n",
    "\n",
    "train_gen = TimeseriesGenerator(data, targets,\n",
    "                               length=240, sampling_rate=1,\n",
    "                               batch_size=510)"
   ]
  },
  {
   "cell_type": "code",
   "execution_count": 10,
   "metadata": {
    "ExecuteTime": {
     "end_time": "2019-03-05T07:10:35.690851Z",
     "start_time": "2019-03-05T07:10:35.624424Z"
    }
   },
   "outputs": [],
   "source": [
    "data = X_test\n",
    "targets = y_test\n",
    "\n",
    "test_gen = TimeseriesGenerator(data, targets,\n",
    "                               length=240, sampling_rate=1,\n",
    "                               batch_size=250)"
   ]
  },
  {
   "cell_type": "code",
   "execution_count": 11,
   "metadata": {
    "ExecuteTime": {
     "end_time": "2019-03-05T07:10:35.827571Z",
     "start_time": "2019-03-05T07:10:35.692031Z"
    }
   },
   "outputs": [],
   "source": [
    "X_train = train_gen[0][0]\n",
    "y_train = train_gen[0][1]\n",
    "X_test = test_gen[0][0]\n",
    "y_test = test_gen[0][1]"
   ]
  },
  {
   "cell_type": "code",
   "execution_count": 12,
   "metadata": {
    "ExecuteTime": {
     "end_time": "2019-03-05T07:10:35.831408Z",
     "start_time": "2019-03-05T07:10:35.828787Z"
    }
   },
   "outputs": [
    {
     "name": "stdout",
     "output_type": "stream",
     "text": [
      "x train shape: (510, 240, 31)\n",
      "y train shape: (510, 31, 2)\n",
      "x test shape: (250, 240, 31)\n",
      "y test shape: (250, 31, 2)\n"
     ]
    }
   ],
   "source": [
    "print(f\"x train shape: {X_train.shape}\")\n",
    "print(f\"y train shape: {y_train.shape}\")\n",
    "print(f\"x test shape: {X_test.shape}\")\n",
    "print(f\"y test shape: {y_test.shape}\")"
   ]
  },
  {
   "cell_type": "code",
   "execution_count": 13,
   "metadata": {
    "ExecuteTime": {
     "end_time": "2019-03-05T07:10:35.893573Z",
     "start_time": "2019-03-05T07:10:35.832820Z"
    }
   },
   "outputs": [],
   "source": [
    "# Reshaping X_train for efficient modelling\n",
    "# X_train = np.reshape(X_train, (X_train.shape[0], X_train.shape[1], X_train.shape[2], 1))\n",
    "# X_test = np.reshape(X_test, (X_test.shape[0], X_test.shape[1], X_test.shape[2], 1))"
   ]
  },
  {
   "cell_type": "code",
   "execution_count": 14,
   "metadata": {
    "ExecuteTime": {
     "end_time": "2019-03-05T07:10:35.961807Z",
     "start_time": "2019-03-05T07:10:35.894799Z"
    }
   },
   "outputs": [
    {
     "name": "stdout",
     "output_type": "stream",
     "text": [
      "x train shape: (510, 240, 31)\n",
      "y train shape: (510, 31, 2)\n",
      "x test shape: (250, 240, 31)\n",
      "y test shape: (250, 31, 2)\n"
     ]
    }
   ],
   "source": [
    "print(f\"x train shape: {X_train.shape}\")\n",
    "print(f\"y train shape: {y_train.shape}\")\n",
    "print(f\"x test shape: {X_test.shape}\")\n",
    "print(f\"y test shape: {y_test.shape}\")"
   ]
  },
  {
   "cell_type": "code",
   "execution_count": 15,
   "metadata": {
    "ExecuteTime": {
     "end_time": "2019-03-05T07:20:37.980190Z",
     "start_time": "2019-03-05T07:10:35.963548Z"
    },
    "scrolled": true
   },
   "outputs": [
    {
     "name": "stdout",
     "output_type": "stream",
     "text": [
      "Train on 459 samples, validate on 51 samples\n",
      "Epoch 1/100\n",
      "459/459 [==============================] - 10s 21ms/step - loss: 0.6934 - acc: 0.5038 - val_loss: 0.6947 - val_acc: 0.5076\n",
      "Epoch 2/100\n",
      "459/459 [==============================] - 11s 23ms/step - loss: 0.6926 - acc: 0.5103 - val_loss: 0.6945 - val_acc: 0.5114\n",
      "Epoch 3/100\n",
      "459/459 [==============================] - 11s 23ms/step - loss: 0.6918 - acc: 0.5200 - val_loss: 0.6945 - val_acc: 0.5025\n",
      "Epoch 4/100\n",
      "459/459 [==============================] - 10s 23ms/step - loss: 0.6911 - acc: 0.5239 - val_loss: 0.6947 - val_acc: 0.5063\n",
      "Epoch 5/100\n",
      "459/459 [==============================] - 10s 22ms/step - loss: 0.6905 - acc: 0.5310 - val_loss: 0.6954 - val_acc: 0.5019\n",
      "Epoch 6/100\n",
      "459/459 [==============================] - 10s 22ms/step - loss: 0.6900 - acc: 0.5293 - val_loss: 0.6957 - val_acc: 0.5079\n",
      "Epoch 7/100\n",
      "459/459 [==============================] - 10s 22ms/step - loss: 0.6895 - acc: 0.5342 - val_loss: 0.6962 - val_acc: 0.5051\n",
      "Epoch 8/100\n",
      "459/459 [==============================] - 10s 21ms/step - loss: 0.6888 - acc: 0.5377 - val_loss: 0.6964 - val_acc: 0.5054\n",
      "Epoch 9/100\n",
      "459/459 [==============================] - 10s 21ms/step - loss: 0.6881 - acc: 0.5412 - val_loss: 0.6969 - val_acc: 0.4987\n",
      "Epoch 10/100\n",
      "459/459 [==============================] - 10s 22ms/step - loss: 0.6873 - acc: 0.5431 - val_loss: 0.6973 - val_acc: 0.5006\n",
      "Epoch 11/100\n",
      "459/459 [==============================] - 10s 22ms/step - loss: 0.6870 - acc: 0.5464 - val_loss: 0.6975 - val_acc: 0.5028\n",
      "Epoch 12/100\n",
      "459/459 [==============================] - 10s 21ms/step - loss: 0.6862 - acc: 0.5489 - val_loss: 0.6976 - val_acc: 0.5114\n",
      "Epoch 13/100\n",
      "459/459 [==============================] - 10s 21ms/step - loss: 0.6860 - acc: 0.5486 - val_loss: 0.6975 - val_acc: 0.5009\n",
      "Epoch 14/100\n",
      "459/459 [==============================] - 10s 21ms/step - loss: 0.6850 - acc: 0.5518 - val_loss: 0.6980 - val_acc: 0.5032\n",
      "Epoch 15/100\n",
      "459/459 [==============================] - 10s 21ms/step - loss: 0.6846 - acc: 0.5513 - val_loss: 0.6985 - val_acc: 0.5070\n",
      "Epoch 16/100\n",
      "459/459 [==============================] - 9s 21ms/step - loss: 0.6840 - acc: 0.5551 - val_loss: 0.6989 - val_acc: 0.5047\n",
      "Epoch 17/100\n",
      "459/459 [==============================] - 9s 21ms/step - loss: 0.6832 - acc: 0.5564 - val_loss: 0.6998 - val_acc: 0.5032\n",
      "Epoch 18/100\n",
      "459/459 [==============================] - 9s 21ms/step - loss: 0.6829 - acc: 0.5572 - val_loss: 0.6997 - val_acc: 0.5092\n",
      "Epoch 19/100\n",
      "459/459 [==============================] - 9s 20ms/step - loss: 0.6822 - acc: 0.5588 - val_loss: 0.7001 - val_acc: 0.4991\n",
      "Epoch 20/100\n",
      "459/459 [==============================] - 9s 20ms/step - loss: 0.6811 - acc: 0.5630 - val_loss: 0.7005 - val_acc: 0.4997\n",
      "Epoch 21/100\n",
      "459/459 [==============================] - 9s 20ms/step - loss: 0.6805 - acc: 0.5613 - val_loss: 0.7012 - val_acc: 0.4959\n",
      "Epoch 22/100\n",
      "459/459 [==============================] - 9s 20ms/step - loss: 0.6802 - acc: 0.5635 - val_loss: 0.7014 - val_acc: 0.4994\n",
      "Epoch 23/100\n",
      "459/459 [==============================] - 9s 20ms/step - loss: 0.6793 - acc: 0.5655 - val_loss: 0.7023 - val_acc: 0.5019\n",
      "Epoch 24/100\n",
      "459/459 [==============================] - 9s 21ms/step - loss: 0.6791 - acc: 0.5644 - val_loss: 0.7029 - val_acc: 0.4949\n",
      "Epoch 25/100\n",
      "459/459 [==============================] - 9s 21ms/step - loss: 0.6775 - acc: 0.5699 - val_loss: 0.7033 - val_acc: 0.4911\n",
      "Epoch 26/100\n",
      "459/459 [==============================] - 10s 22ms/step - loss: 0.6769 - acc: 0.5726 - val_loss: 0.7044 - val_acc: 0.4911\n",
      "Epoch 27/100\n",
      "459/459 [==============================] - 10s 21ms/step - loss: 0.6768 - acc: 0.5656 - val_loss: 0.7044 - val_acc: 0.4934\n",
      "Epoch 28/100\n",
      "459/459 [==============================] - 10s 21ms/step - loss: 0.6757 - acc: 0.5732 - val_loss: 0.7049 - val_acc: 0.4915\n",
      "Epoch 29/100\n",
      "459/459 [==============================] - 9s 21ms/step - loss: 0.6750 - acc: 0.5742 - val_loss: 0.7062 - val_acc: 0.4886\n",
      "Epoch 30/100\n",
      "459/459 [==============================] - 9s 20ms/step - loss: 0.6750 - acc: 0.5762 - val_loss: 0.7064 - val_acc: 0.4883\n",
      "Epoch 31/100\n",
      "459/459 [==============================] - 10s 21ms/step - loss: 0.6748 - acc: 0.5715 - val_loss: 0.7073 - val_acc: 0.4848\n",
      "Epoch 32/100\n",
      "459/459 [==============================] - 10s 21ms/step - loss: 0.6734 - acc: 0.5735 - val_loss: 0.7072 - val_acc: 0.4842\n",
      "Epoch 33/100\n",
      "459/459 [==============================] - 10s 22ms/step - loss: 0.6730 - acc: 0.5785 - val_loss: 0.7083 - val_acc: 0.4905\n",
      "Epoch 34/100\n",
      "459/459 [==============================] - 10s 21ms/step - loss: 0.6727 - acc: 0.5754 - val_loss: 0.7083 - val_acc: 0.4908\n",
      "Epoch 35/100\n",
      "459/459 [==============================] - 10s 22ms/step - loss: 0.6719 - acc: 0.5770 - val_loss: 0.7089 - val_acc: 0.4934\n",
      "Epoch 36/100\n",
      "459/459 [==============================] - 10s 22ms/step - loss: 0.6708 - acc: 0.5791 - val_loss: 0.7094 - val_acc: 0.4921\n",
      "Epoch 37/100\n",
      "459/459 [==============================] - 11s 23ms/step - loss: 0.6697 - acc: 0.5821 - val_loss: 0.7104 - val_acc: 0.4858\n",
      "Epoch 38/100\n",
      "459/459 [==============================] - 10s 21ms/step - loss: 0.6694 - acc: 0.5822 - val_loss: 0.7116 - val_acc: 0.4864\n",
      "Epoch 39/100\n",
      "459/459 [==============================] - 10s 21ms/step - loss: 0.6681 - acc: 0.5847 - val_loss: 0.7112 - val_acc: 0.4880\n",
      "Epoch 40/100\n",
      "459/459 [==============================] - 10s 21ms/step - loss: 0.6681 - acc: 0.5853 - val_loss: 0.7114 - val_acc: 0.4902\n",
      "Epoch 41/100\n",
      "459/459 [==============================] - 10s 21ms/step - loss: 0.6680 - acc: 0.5860 - val_loss: 0.7109 - val_acc: 0.4949\n",
      "Epoch 42/100\n",
      "459/459 [==============================] - 10s 21ms/step - loss: 0.6672 - acc: 0.5859 - val_loss: 0.7110 - val_acc: 0.4921\n",
      "Epoch 43/100\n",
      "459/459 [==============================] - 10s 21ms/step - loss: 0.6670 - acc: 0.5859 - val_loss: 0.7112 - val_acc: 0.4918\n",
      "Epoch 44/100\n",
      "459/459 [==============================] - 10s 23ms/step - loss: 0.6656 - acc: 0.5878 - val_loss: 0.7123 - val_acc: 0.4921\n",
      "Epoch 45/100\n",
      "459/459 [==============================] - 10s 23ms/step - loss: 0.6648 - acc: 0.5909 - val_loss: 0.7126 - val_acc: 0.4924\n",
      "Epoch 46/100\n",
      "459/459 [==============================] - 10s 22ms/step - loss: 0.6638 - acc: 0.5934 - val_loss: 0.7126 - val_acc: 0.4946\n",
      "Epoch 47/100\n",
      "459/459 [==============================] - 10s 21ms/step - loss: 0.6640 - acc: 0.5901 - val_loss: 0.7120 - val_acc: 0.4956\n",
      "Epoch 48/100\n",
      "459/459 [==============================] - 9s 21ms/step - loss: 0.6631 - acc: 0.5904 - val_loss: 0.7139 - val_acc: 0.4911\n",
      "Epoch 49/100\n",
      "459/459 [==============================] - 9s 21ms/step - loss: 0.6625 - acc: 0.5926 - val_loss: 0.7135 - val_acc: 0.4905\n",
      "Epoch 50/100\n",
      "459/459 [==============================] - 9s 20ms/step - loss: 0.6615 - acc: 0.5960 - val_loss: 0.7136 - val_acc: 0.4946\n",
      "Epoch 51/100\n",
      "459/459 [==============================] - 9s 20ms/step - loss: 0.6609 - acc: 0.5933 - val_loss: 0.7152 - val_acc: 0.4949\n",
      "Epoch 52/100\n",
      "459/459 [==============================] - 9s 20ms/step - loss: 0.6615 - acc: 0.5968 - val_loss: 0.7152 - val_acc: 0.4984\n",
      "Epoch 53/100\n",
      "459/459 [==============================] - 9s 21ms/step - loss: 0.6620 - acc: 0.5920 - val_loss: 0.7157 - val_acc: 0.4984\n",
      "Epoch 54/100\n",
      "459/459 [==============================] - 9s 20ms/step - loss: 0.6599 - acc: 0.5975 - val_loss: 0.7165 - val_acc: 0.4930\n",
      "Epoch 55/100\n",
      "459/459 [==============================] - 9s 21ms/step - loss: 0.6586 - acc: 0.5962 - val_loss: 0.7171 - val_acc: 0.4959\n",
      "Epoch 56/100\n",
      "459/459 [==============================] - 10s 21ms/step - loss: 0.6583 - acc: 0.5981 - val_loss: 0.7175 - val_acc: 0.4968\n",
      "Epoch 57/100\n",
      "459/459 [==============================] - 10s 21ms/step - loss: 0.6593 - acc: 0.5986 - val_loss: 0.7175 - val_acc: 0.4984\n",
      "Epoch 58/100\n",
      "459/459 [==============================] - 9s 21ms/step - loss: 0.6579 - acc: 0.6007 - val_loss: 0.7170 - val_acc: 0.4962\n",
      "Epoch 59/100\n",
      "459/459 [==============================] - 9s 20ms/step - loss: 0.6562 - acc: 0.6051 - val_loss: 0.7177 - val_acc: 0.4962\n",
      "Epoch 60/100\n",
      "459/459 [==============================] - 9s 20ms/step - loss: 0.6562 - acc: 0.6013 - val_loss: 0.7174 - val_acc: 0.4978\n",
      "Epoch 61/100\n"
     ]
    },
    {
     "name": "stdout",
     "output_type": "stream",
     "text": [
      "459/459 [==============================] - 9s 20ms/step - loss: 0.6557 - acc: 0.6013 - val_loss: 0.7169 - val_acc: 0.4987\n",
      "Epoch 62/100\n",
      "459/459 [==============================] - 9s 20ms/step - loss: 0.6547 - acc: 0.6031 - val_loss: 0.7176 - val_acc: 0.4949\n"
     ]
    },
    {
     "data": {
      "text/plain": [
       "<keras.callbacks.History at 0x7fa618080278>"
      ]
     },
     "execution_count": 15,
     "metadata": {},
     "output_type": "execute_result"
    }
   ],
   "source": [
    "# expected input data shape: (batch_size, timesteps, data_dim)\n",
    "\n",
    "# The LSTM architecture\n",
    "regressor = Sequential()\n",
    "# First LSTM layer with Dropout regularisation\n",
    "# regressor.add(LSTM(units=25, return_sequences=True, input_shape=(240, 31)))\n",
    "regressor.add(LSTM(units=10, input_shape=(240, 31), dropout=0.1))\n",
    "\n",
    "# The output layer\n",
    "# regressor.add(LSTM(25))\n",
    "regressor.add(Dense(62, activation='relu'))\n",
    "regressor.add(Reshape((31,2)))\n",
    "# regressor.add(softmax(axis = -1))\n",
    "regressor.add(Lambda(lambda  x: softmax(x, axis = -1)))\n",
    "# Compiling the RNN\n",
    "regressor.compile(loss='binary_crossentropy',\n",
    "              optimizer='rmsprop',\n",
    "              metrics=['accuracy'])\n",
    "# regressor.compile(loss='mean_squared_error',\n",
    "#               optimizer='rmsprop',\n",
    "#               metrics=['accuracy'])\n",
    "# Fitting to the training set\n",
    "regressor.fit(X_train,y_train,epochs=100,batch_size=10, validation_split=0.1, callbacks = [EarlyStopping(monitor='val_acc', patience=50),\n",
    "             ModelCheckpoint(filepath='../model/LSTM/best_model.h5', monitor='val_acc', save_best_only=True)])"
   ]
  },
  {
   "cell_type": "code",
   "execution_count": 16,
   "metadata": {
    "ExecuteTime": {
     "end_time": "2019-03-05T07:20:38.586555Z",
     "start_time": "2019-03-05T07:20:37.982148Z"
    }
   },
   "outputs": [],
   "source": [
    "# Evaluating our model\n",
    "predicted = regressor.predict(X_test)"
   ]
  },
  {
   "cell_type": "code",
   "execution_count": 17,
   "metadata": {
    "ExecuteTime": {
     "end_time": "2019-03-05T07:20:38.590132Z",
     "start_time": "2019-03-05T07:20:38.587990Z"
    }
   },
   "outputs": [],
   "source": [
    "label = predicted > 0.5\n",
    "label = label * 1 # Convert boolean to int"
   ]
  },
  {
   "cell_type": "code",
   "execution_count": 18,
   "metadata": {
    "ExecuteTime": {
     "end_time": "2019-03-05T07:20:38.667350Z",
     "start_time": "2019-03-05T07:20:38.592495Z"
    }
   },
   "outputs": [
    {
     "data": {
      "text/plain": [
       "0.5141935483870969"
      ]
     },
     "execution_count": 18,
     "metadata": {},
     "output_type": "execute_result"
    }
   ],
   "source": [
    "(sum(y_test[:, :, 1] == label[:, :, 1])/(y_test.size/2)).sum()"
   ]
  },
  {
   "cell_type": "code",
   "execution_count": 19,
   "metadata": {
    "ExecuteTime": {
     "end_time": "2019-03-05T07:20:38.744729Z",
     "start_time": "2019-03-05T07:20:38.668866Z"
    }
   },
   "outputs": [],
   "source": [
    "model_name = '../model/LSTM/my_model3.h5'\n",
    "regressor.save(model_name)  # creates a HDF5 file 'my_model.h5'\n",
    "del regressor  # deletes the existing model"
   ]
  },
  {
   "cell_type": "code",
   "execution_count": 20,
   "metadata": {
    "ExecuteTime": {
     "end_time": "2019-03-05T07:20:39.920087Z",
     "start_time": "2019-03-05T07:20:38.745988Z"
    }
   },
   "outputs": [],
   "source": [
    "from keras.models import load_model\n",
    "from keras.activations import softmax\n",
    "\n",
    "# returns a compiled model\n",
    "# identical to the previous one\n",
    "regressor1 = load_model(model_name, custom_objects={\"softmax\": softmax})"
   ]
  },
  {
   "cell_type": "code",
   "execution_count": 21,
   "metadata": {
    "ExecuteTime": {
     "end_time": "2019-03-05T07:20:40.526288Z",
     "start_time": "2019-03-05T07:20:39.921260Z"
    }
   },
   "outputs": [
    {
     "data": {
      "text/plain": [
       "0.5141935483870969"
      ]
     },
     "execution_count": 21,
     "metadata": {},
     "output_type": "execute_result"
    }
   ],
   "source": [
    "predicted_load = regressor1.predict(X_test)\n",
    "label_load = predicted_load > 0.5\n",
    "label_load = label_load * 1 # Convert boolean to int\n",
    "(sum(y_test[:, :, 1] == label_load[:, :, 1])/(y_test.size/2)).sum()"
   ]
  }
 ],
 "metadata": {
  "kernelspec": {
   "display_name": "projet_S5",
   "language": "python",
   "name": "projet_s5"
  },
  "language_info": {
   "codemirror_mode": {
    "name": "ipython",
    "version": 3
   },
   "file_extension": ".py",
   "mimetype": "text/x-python",
   "name": "python",
   "nbconvert_exporter": "python",
   "pygments_lexer": "ipython3",
   "version": "3.6.8"
  },
  "toc": {
   "base_numbering": 1,
   "nav_menu": {},
   "number_sections": true,
   "sideBar": true,
   "skip_h1_title": false,
   "title_cell": "Table of Contents",
   "title_sidebar": "Contents",
   "toc_cell": false,
   "toc_position": {},
   "toc_section_display": true,
   "toc_window_display": false
  }
 },
 "nbformat": 4,
 "nbformat_minor": 2
}
