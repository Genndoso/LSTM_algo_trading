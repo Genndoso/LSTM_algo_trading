{
 "cells": [
  {
   "cell_type": "code",
   "execution_count": 1,
   "metadata": {
    "ExecuteTime": {
     "end_time": "2019-03-08T23:46:41.948043Z",
     "start_time": "2019-03-08T23:46:41.010574Z"
    },
    "scrolled": true
   },
   "outputs": [],
   "source": [
    "# List all device\n",
    "from tensorflow.python.client import device_lib\n",
    "# print(device_lib.list_local_devices())"
   ]
  },
  {
   "cell_type": "code",
   "execution_count": 2,
   "metadata": {
    "ExecuteTime": {
     "end_time": "2019-03-08T23:46:42.276534Z",
     "start_time": "2019-03-08T23:46:41.953110Z"
    },
    "scrolled": true
   },
   "outputs": [
    {
     "name": "stderr",
     "output_type": "stream",
     "text": [
      "Using TensorFlow backend.\n"
     ]
    },
    {
     "data": {
      "text/plain": [
       "['/job:localhost/replica:0/task:0/device:GPU:0']"
      ]
     },
     "execution_count": 2,
     "metadata": {},
     "output_type": "execute_result"
    }
   ],
   "source": [
    "# Check available GPU\n",
    "from keras import backend as K\n",
    "K.tensorflow_backend._get_available_gpus()"
   ]
  },
  {
   "cell_type": "code",
   "execution_count": 3,
   "metadata": {
    "ExecuteTime": {
     "end_time": "2019-03-08T23:46:42.281118Z",
     "start_time": "2019-03-08T23:46:42.278693Z"
    }
   },
   "outputs": [],
   "source": [
    "import os\n",
    "os.environ[\"CUDA_DEVICE_ORDER\"]=\"PCI_BUS_ID\";\n",
    "# The GPU id to use, usually either \"0\" or \"1\";\n",
    "os.environ[\"CUDA_VISIBLE_DEVICES\"]=\"0\";  "
   ]
  },
  {
   "cell_type": "code",
   "execution_count": 4,
   "metadata": {
    "ExecuteTime": {
     "end_time": "2019-03-08T23:46:42.388524Z",
     "start_time": "2019-03-08T23:46:42.283507Z"
    }
   },
   "outputs": [],
   "source": [
    "# Importing the libraries\n",
    "import numpy as np\n",
    "import pandas as pd\n",
    "from keras.models import Sequential\n",
    "from keras.layers import Dense, LSTM, Dropout, Reshape, Lambda\n",
    "from keras.preprocessing.sequence import TimeseriesGenerator\n",
    "from keras.callbacks import EarlyStopping, ModelCheckpoint\n",
    "from keras.activations import softmax\n",
    "from keras.optimizers import SGD\n",
    "import math\n",
    "import pickle"
   ]
  },
  {
   "cell_type": "code",
   "execution_count": 5,
   "metadata": {
    "ExecuteTime": {
     "end_time": "2019-03-08T23:46:42.480349Z",
     "start_time": "2019-03-08T23:46:42.393726Z"
    }
   },
   "outputs": [],
   "source": [
    "with open(\"../data/dowjones_calculated/absolute_periods750_250_240.txt\", \"rb\") as fp:   # Unpickling\n",
    "    dataset = pickle.load(fp)"
   ]
  },
  {
   "cell_type": "code",
   "execution_count": 6,
   "metadata": {
    "ExecuteTime": {
     "end_time": "2019-03-08T23:46:42.538428Z",
     "start_time": "2019-03-08T23:46:42.481712Z"
    }
   },
   "outputs": [],
   "source": [
    "def normalize_data(df):\n",
    "    \"\"\"normalize a dataframe.\"\"\"\n",
    "    mean = df.mean(axis=1)\n",
    "    std = df.std(axis=1)\n",
    "    df = df.sub(mean, axis=0)\n",
    "    df = df.div(std, axis=0)\n",
    "    df = df.values\n",
    "    return df"
   ]
  },
  {
   "cell_type": "code",
   "execution_count": 7,
   "metadata": {
    "ExecuteTime": {
     "end_time": "2019-03-08T23:46:42.605879Z",
     "start_time": "2019-03-08T23:46:42.539967Z"
    }
   },
   "outputs": [],
   "source": [
    "def get_one_hot(targets, nb_classes):\n",
    "    res = np.eye(nb_classes)[np.array(targets).reshape(-1)]\n",
    "    return res.reshape(list(targets.shape)+[nb_classes])"
   ]
  },
  {
   "cell_type": "code",
   "execution_count": 8,
   "metadata": {
    "ExecuteTime": {
     "end_time": "2019-03-08T23:46:42.704183Z",
     "start_time": "2019-03-08T23:46:42.609015Z"
    }
   },
   "outputs": [],
   "source": [
    "i = 0\n",
    "x_train1 = normalize_data(dataset[0][i][0])\n",
    "y_train1 = get_one_hot(dataset[0][i][1].values, 2) * 1.0\n",
    "x_test1 = normalize_data(dataset[1][i][0])\n",
    "y_test1 = get_one_hot(dataset[1][i][1].values, 2) * 1.0"
   ]
  },
  {
   "cell_type": "code",
   "execution_count": 9,
   "metadata": {
    "ExecuteTime": {
     "end_time": "2019-03-08T23:46:42.742800Z",
     "start_time": "2019-03-08T23:46:42.705851Z"
    }
   },
   "outputs": [
    {
     "name": "stdout",
     "output_type": "stream",
     "text": [
      "x train 1 shape: (750, 31)\n",
      "y train 1 shape: (750, 31, 2)\n",
      "x test 1 shape: (490, 31)\n",
      "y test 1 shape: (490, 31, 2)\n"
     ]
    }
   ],
   "source": [
    "print(f\"x train 1 shape: {x_train1.shape}\")\n",
    "print(f\"y train 1 shape: {y_train1.shape}\")\n",
    "print(f\"x test 1 shape: {x_test1.shape}\")\n",
    "print(f\"y test 1 shape: {y_test1.shape}\")"
   ]
  },
  {
   "cell_type": "code",
   "execution_count": 10,
   "metadata": {
    "ExecuteTime": {
     "end_time": "2019-03-08T23:46:42.854886Z",
     "start_time": "2019-03-08T23:46:42.744775Z"
    }
   },
   "outputs": [
    {
     "name": "stdout",
     "output_type": "stream",
     "text": [
      "x shape: (15810, 240)\n",
      "y shape: (15810, 2)\n"
     ]
    }
   ],
   "source": [
    "x_series = [x_train1[i:i+240,j] for j in range(31) for i in range(750 - 240)]\n",
    "y_series = [y_train1[i+240,j] for j in range(31) for i in range(750 - 240)]\n",
    "x = np.array(x_series)\n",
    "y = np.array(y_series)\n",
    "print(f\"x shape: {x.shape}\")\n",
    "print(f\"y shape: {y.shape}\")"
   ]
  },
  {
   "cell_type": "code",
   "execution_count": 11,
   "metadata": {
    "ExecuteTime": {
     "end_time": "2019-03-08T23:46:42.887728Z",
     "start_time": "2019-03-08T23:46:42.856231Z"
    }
   },
   "outputs": [
    {
     "name": "stdout",
     "output_type": "stream",
     "text": [
      "x shape: (15810, 240)\n",
      "y shape: (15810, 2)\n"
     ]
    }
   ],
   "source": [
    "# x = x.transpose((0,2,1))\n",
    "# x = np.reshape(x, (510 * 31, timestep))\n",
    "# y = np.reshape(y, (510 * 31, 2))\n",
    "print(f\"x shape: {x.shape}\")\n",
    "print(f\"y shape: {y.shape}\")"
   ]
  },
  {
   "cell_type": "code",
   "execution_count": 12,
   "metadata": {
    "ExecuteTime": {
     "end_time": "2019-03-08T23:46:42.962670Z",
     "start_time": "2019-03-08T23:46:42.889010Z"
    }
   },
   "outputs": [
    {
     "name": "stdout",
     "output_type": "stream",
     "text": [
      "x shape: (15810, 240, 1)\n"
     ]
    }
   ],
   "source": [
    "x = np.reshape(x, (x.shape[0], x.shape[1], 1))\n",
    "print(f\"x shape: {x.shape}\")\n"
   ]
  },
  {
   "cell_type": "code",
   "execution_count": 13,
   "metadata": {
    "ExecuteTime": {
     "end_time": "2019-03-08T23:46:43.043022Z",
     "start_time": "2019-03-08T23:46:42.965263Z"
    }
   },
   "outputs": [],
   "source": [
    "i = 0\n",
    "timestep = 240\n",
    "x_train = normalize_data(dataset[0][i][0])\n",
    "y_train = get_one_hot(dataset[0][i][1].values, 2) * 1.0\n",
    "x_test = normalize_data(dataset[1][i][0])\n",
    "y_test = get_one_hot(dataset[1][i][1].values, 2) * 1.0\n",
    "\n",
    "train_gen = TimeseriesGenerator(x_train, y_train,\n",
    "                                length=timestep, sampling_rate=1,\n",
    "                                batch_size=510)\n",
    "test_gen = TimeseriesGenerator(x_test, y_test,\n",
    "                               length=timestep, sampling_rate=1,\n",
    "                               batch_size=250)"
   ]
  },
  {
   "cell_type": "code",
   "execution_count": 14,
   "metadata": {
    "ExecuteTime": {
     "end_time": "2019-03-08T23:46:43.130390Z",
     "start_time": "2019-03-08T23:46:43.046506Z"
    }
   },
   "outputs": [
    {
     "name": "stdout",
     "output_type": "stream",
     "text": [
      "x train shape: (750, 31)\n",
      "y train shape: (750, 31, 2)\n",
      "x test shape: (490, 31, 2)\n",
      "y test shape: (490, 31, 2)\n"
     ]
    }
   ],
   "source": [
    "print(f\"x train shape: {x_train.shape}\")\n",
    "print(f\"y train shape: {y_train.shape}\")\n",
    "print(f\"x test shape: {y_test.shape}\")\n",
    "print(f\"y test shape: {y_test.shape}\")\n",
    "# print(f\"predicted shape: {predicted.shape}\")"
   ]
  },
  {
   "cell_type": "code",
   "execution_count": 15,
   "metadata": {
    "ExecuteTime": {
     "end_time": "2019-03-08T23:46:43.345835Z",
     "start_time": "2019-03-08T23:46:43.136176Z"
    }
   },
   "outputs": [],
   "source": [
    "x_train = train_gen[0][0]\n",
    "y_train = train_gen[0][1]\n",
    "y_test = test_gen[0][0]\n",
    "y_test = test_gen[0][1]"
   ]
  },
  {
   "cell_type": "code",
   "execution_count": 16,
   "metadata": {
    "ExecuteTime": {
     "end_time": "2019-03-08T23:46:43.349976Z",
     "start_time": "2019-03-08T23:46:43.347264Z"
    }
   },
   "outputs": [
    {
     "name": "stdout",
     "output_type": "stream",
     "text": [
      "x train shape: (510, 240, 31)\n",
      "y train shape: (510, 31, 2)\n",
      "x test shape: (250, 31, 2)\n",
      "y test shape: (250, 31, 2)\n"
     ]
    }
   ],
   "source": [
    "print(f\"x train shape: {x_train.shape}\")\n",
    "print(f\"y train shape: {y_train.shape}\")\n",
    "print(f\"x test shape: {y_test.shape}\")\n",
    "print(f\"y test shape: {y_test.shape}\")"
   ]
  },
  {
   "cell_type": "code",
   "execution_count": 17,
   "metadata": {
    "ExecuteTime": {
     "end_time": "2019-03-08T23:46:43.441908Z",
     "start_time": "2019-03-08T23:46:43.351266Z"
    }
   },
   "outputs": [],
   "source": [
    "# Reshaping X_train for efficient modelling\n",
    "# X_train = np.reshape(X_train, (X_train.shape[0], X_train.shape[1], X_train.shape[2], 1))\n",
    "# X_test = np.reshape(X_test, (X_test.shape[0], X_test.shape[1], X_test.shape[2], 1))"
   ]
  },
  {
   "cell_type": "code",
   "execution_count": 18,
   "metadata": {
    "ExecuteTime": {
     "end_time": "2019-03-08T23:46:43.567028Z",
     "start_time": "2019-03-08T23:46:43.454338Z"
    }
   },
   "outputs": [
    {
     "name": "stdout",
     "output_type": "stream",
     "text": [
      "x train shape: (510, 240, 31)\n",
      "y train shape: (510, 31, 2)\n",
      "x test shape: (250, 31, 2)\n",
      "y test shape: (250, 31, 2)\n"
     ]
    }
   ],
   "source": [
    "print(f\"x train shape: {x_train.shape}\")\n",
    "print(f\"y train shape: {y_train.shape}\")\n",
    "print(f\"x test shape: {y_test.shape}\")\n",
    "print(f\"y test shape: {y_test.shape}\")"
   ]
  },
  {
   "cell_type": "code",
   "execution_count": 19,
   "metadata": {
    "ExecuteTime": {
     "end_time": "2019-03-08T23:52:08.250878Z",
     "start_time": "2019-03-08T23:46:43.570531Z"
    },
    "scrolled": true
   },
   "outputs": [
    {
     "name": "stdout",
     "output_type": "stream",
     "text": [
      "Train on 12648 samples, validate on 3162 samples\n",
      "Epoch 1/1000\n",
      "12648/12648 [==============================] - 12s 966us/step - loss: 0.6937 - acc: 0.5023 - val_loss: 0.6931 - val_acc: 0.5130\n",
      "Epoch 2/1000\n",
      "12648/12648 [==============================] - 11s 884us/step - loss: 0.6932 - acc: 0.5071 - val_loss: 0.6931 - val_acc: 0.5000\n",
      "Epoch 3/1000\n",
      "12648/12648 [==============================] - 11s 885us/step - loss: 0.6930 - acc: 0.5087 - val_loss: 0.6930 - val_acc: 0.5070\n",
      "Epoch 4/1000\n",
      "12648/12648 [==============================] - 11s 879us/step - loss: 0.6932 - acc: 0.5090 - val_loss: 0.6932 - val_acc: 0.4991\n",
      "Epoch 5/1000\n",
      "12648/12648 [==============================] - 11s 879us/step - loss: 0.6931 - acc: 0.5081 - val_loss: 0.6932 - val_acc: 0.5060\n",
      "Epoch 6/1000\n",
      "12648/12648 [==============================] - 13s 989us/step - loss: 0.6928 - acc: 0.5155 - val_loss: 0.6937 - val_acc: 0.5000\n",
      "Epoch 7/1000\n",
      "12648/12648 [==============================] - 11s 877us/step - loss: 0.6930 - acc: 0.5051 - val_loss: 0.6934 - val_acc: 0.5000\n",
      "Epoch 8/1000\n",
      "12648/12648 [==============================] - 11s 888us/step - loss: 0.6929 - acc: 0.5070 - val_loss: 0.6934 - val_acc: 0.5032\n",
      "Epoch 9/1000\n",
      "12648/12648 [==============================] - 11s 878us/step - loss: 0.6926 - acc: 0.5173 - val_loss: 0.6931 - val_acc: 0.5168\n",
      "Epoch 10/1000\n",
      "12648/12648 [==============================] - 11s 892us/step - loss: 0.6925 - acc: 0.5119 - val_loss: 0.6930 - val_acc: 0.4991\n",
      "Epoch 11/1000\n",
      "12648/12648 [==============================] - 11s 878us/step - loss: 0.6921 - acc: 0.5172 - val_loss: 0.6937 - val_acc: 0.5035\n",
      "Epoch 12/1000\n",
      "12648/12648 [==============================] - 11s 881us/step - loss: 0.6923 - acc: 0.5164 - val_loss: 0.6935 - val_acc: 0.5041\n",
      "Epoch 13/1000\n",
      "12648/12648 [==============================] - 11s 888us/step - loss: 0.6925 - acc: 0.5127 - val_loss: 0.6931 - val_acc: 0.5168\n",
      "Epoch 14/1000\n",
      "12648/12648 [==============================] - 11s 880us/step - loss: 0.6957 - acc: 0.5164 - val_loss: 0.6932 - val_acc: 0.5155\n",
      "Epoch 15/1000\n",
      "12648/12648 [==============================] - 11s 877us/step - loss: 0.6920 - acc: 0.5176 - val_loss: 0.6933 - val_acc: 0.5095\n",
      "Epoch 16/1000\n",
      "12648/12648 [==============================] - 11s 880us/step - loss: 0.6918 - acc: 0.5170 - val_loss: 0.6934 - val_acc: 0.5057\n",
      "Epoch 17/1000\n",
      "12648/12648 [==============================] - 11s 878us/step - loss: 0.6919 - acc: 0.5182 - val_loss: 0.6935 - val_acc: 0.5133\n",
      "Epoch 18/1000\n",
      "12648/12648 [==============================] - 11s 879us/step - loss: 0.6914 - acc: 0.5201 - val_loss: 0.6948 - val_acc: 0.5035\n",
      "Epoch 19/1000\n",
      "12648/12648 [==============================] - 11s 877us/step - loss: 0.6915 - acc: 0.5151 - val_loss: 0.6939 - val_acc: 0.5095\n",
      "Epoch 20/1000\n",
      "12648/12648 [==============================] - 11s 876us/step - loss: 0.6914 - acc: 0.5193 - val_loss: 0.6939 - val_acc: 0.5089\n",
      "Epoch 21/1000\n",
      "12648/12648 [==============================] - 11s 879us/step - loss: 0.6914 - acc: 0.5217 - val_loss: 0.6946 - val_acc: 0.5120\n",
      "Epoch 22/1000\n",
      "12648/12648 [==============================] - 11s 874us/step - loss: 0.6914 - acc: 0.5153 - val_loss: 0.6949 - val_acc: 0.5136\n",
      "Epoch 23/1000\n",
      "12648/12648 [==============================] - 11s 883us/step - loss: 0.6912 - acc: 0.5200 - val_loss: 0.6937 - val_acc: 0.5054\n",
      "Epoch 24/1000\n",
      "12648/12648 [==============================] - 11s 909us/step - loss: 0.6912 - acc: 0.5216 - val_loss: 0.6935 - val_acc: 0.5095\n",
      "Epoch 25/1000\n",
      "12648/12648 [==============================] - 12s 920us/step - loss: 0.6915 - acc: 0.5202 - val_loss: 0.6938 - val_acc: 0.5051\n",
      "Epoch 26/1000\n",
      "12648/12648 [==============================] - 12s 947us/step - loss: 0.6912 - acc: 0.5210 - val_loss: 0.6929 - val_acc: 0.5161\n",
      "Epoch 27/1000\n",
      "12648/12648 [==============================] - 11s 900us/step - loss: 0.6906 - acc: 0.5257 - val_loss: 0.6973 - val_acc: 0.5082\n",
      "Epoch 28/1000\n",
      "12648/12648 [==============================] - 12s 913us/step - loss: 0.6908 - acc: 0.5247 - val_loss: 0.6941 - val_acc: 0.5136\n",
      "Epoch 29/1000\n",
      " 7000/12648 [===============>..............] - ETA: 4s - loss: 0.6908 - acc: 0.5241"
     ]
    },
    {
     "ename": "KeyboardInterrupt",
     "evalue": "",
     "output_type": "error",
     "traceback": [
      "\u001b[0;31m---------------------------------------------------------------------------\u001b[0m",
      "\u001b[0;31mKeyboardInterrupt\u001b[0m                         Traceback (most recent call last)",
      "\u001b[0;32m<ipython-input-19-fa4c439831be>\u001b[0m in \u001b[0;36m<module>\u001b[0;34m\u001b[0m\n\u001b[1;32m     23\u001b[0m \u001b[0;34m\u001b[0m\u001b[0m\n\u001b[1;32m     24\u001b[0m regressor.fit(x, y, epochs=1000,batch_size=1000, validation_split=0.2, callbacks = [EarlyStopping(monitor='val_loss', mode='min', patience=100),\n\u001b[0;32m---> 25\u001b[0;31m              ModelCheckpoint(filepath='../model/LSTM/best_model.h5', monitor='val_acc', save_best_only=True)])\n\u001b[0m\u001b[1;32m     26\u001b[0m \u001b[0;34m\u001b[0m\u001b[0m\n\u001b[1;32m     27\u001b[0m \u001b[0;31m# regressor.fit_generator(train_gen, steps_per_epoch=len(train_gen),\u001b[0m\u001b[0;34m\u001b[0m\u001b[0;34m\u001b[0m\u001b[0;34m\u001b[0m\u001b[0m\n",
      "\u001b[0;32m~/anaconda3/envs/projet_S5/lib/python3.6/site-packages/keras/engine/training.py\u001b[0m in \u001b[0;36mfit\u001b[0;34m(self, x, y, batch_size, epochs, verbose, callbacks, validation_split, validation_data, shuffle, class_weight, sample_weight, initial_epoch, steps_per_epoch, validation_steps, **kwargs)\u001b[0m\n\u001b[1;32m   1037\u001b[0m                                         \u001b[0minitial_epoch\u001b[0m\u001b[0;34m=\u001b[0m\u001b[0minitial_epoch\u001b[0m\u001b[0;34m,\u001b[0m\u001b[0;34m\u001b[0m\u001b[0;34m\u001b[0m\u001b[0m\n\u001b[1;32m   1038\u001b[0m                                         \u001b[0msteps_per_epoch\u001b[0m\u001b[0;34m=\u001b[0m\u001b[0msteps_per_epoch\u001b[0m\u001b[0;34m,\u001b[0m\u001b[0;34m\u001b[0m\u001b[0;34m\u001b[0m\u001b[0m\n\u001b[0;32m-> 1039\u001b[0;31m                                         validation_steps=validation_steps)\n\u001b[0m\u001b[1;32m   1040\u001b[0m \u001b[0;34m\u001b[0m\u001b[0m\n\u001b[1;32m   1041\u001b[0m     def evaluate(self, x=None, y=None,\n",
      "\u001b[0;32m~/anaconda3/envs/projet_S5/lib/python3.6/site-packages/keras/engine/training_arrays.py\u001b[0m in \u001b[0;36mfit_loop\u001b[0;34m(model, f, ins, out_labels, batch_size, epochs, verbose, callbacks, val_f, val_ins, shuffle, callback_metrics, initial_epoch, steps_per_epoch, validation_steps)\u001b[0m\n\u001b[1;32m    197\u001b[0m                     \u001b[0mins_batch\u001b[0m\u001b[0;34m[\u001b[0m\u001b[0mi\u001b[0m\u001b[0;34m]\u001b[0m \u001b[0;34m=\u001b[0m \u001b[0mins_batch\u001b[0m\u001b[0;34m[\u001b[0m\u001b[0mi\u001b[0m\u001b[0;34m]\u001b[0m\u001b[0;34m.\u001b[0m\u001b[0mtoarray\u001b[0m\u001b[0;34m(\u001b[0m\u001b[0;34m)\u001b[0m\u001b[0;34m\u001b[0m\u001b[0;34m\u001b[0m\u001b[0m\n\u001b[1;32m    198\u001b[0m \u001b[0;34m\u001b[0m\u001b[0m\n\u001b[0;32m--> 199\u001b[0;31m                 \u001b[0mouts\u001b[0m \u001b[0;34m=\u001b[0m \u001b[0mf\u001b[0m\u001b[0;34m(\u001b[0m\u001b[0mins_batch\u001b[0m\u001b[0;34m)\u001b[0m\u001b[0;34m\u001b[0m\u001b[0;34m\u001b[0m\u001b[0m\n\u001b[0m\u001b[1;32m    200\u001b[0m                 \u001b[0mouts\u001b[0m \u001b[0;34m=\u001b[0m \u001b[0mto_list\u001b[0m\u001b[0;34m(\u001b[0m\u001b[0mouts\u001b[0m\u001b[0;34m)\u001b[0m\u001b[0;34m\u001b[0m\u001b[0;34m\u001b[0m\u001b[0m\n\u001b[1;32m    201\u001b[0m                 \u001b[0;32mfor\u001b[0m \u001b[0ml\u001b[0m\u001b[0;34m,\u001b[0m \u001b[0mo\u001b[0m \u001b[0;32min\u001b[0m \u001b[0mzip\u001b[0m\u001b[0;34m(\u001b[0m\u001b[0mout_labels\u001b[0m\u001b[0;34m,\u001b[0m \u001b[0mouts\u001b[0m\u001b[0;34m)\u001b[0m\u001b[0;34m:\u001b[0m\u001b[0;34m\u001b[0m\u001b[0;34m\u001b[0m\u001b[0m\n",
      "\u001b[0;32m~/anaconda3/envs/projet_S5/lib/python3.6/site-packages/keras/backend/tensorflow_backend.py\u001b[0m in \u001b[0;36m__call__\u001b[0;34m(self, inputs)\u001b[0m\n\u001b[1;32m   2713\u001b[0m                 \u001b[0;32mreturn\u001b[0m \u001b[0mself\u001b[0m\u001b[0;34m.\u001b[0m\u001b[0m_legacy_call\u001b[0m\u001b[0;34m(\u001b[0m\u001b[0minputs\u001b[0m\u001b[0;34m)\u001b[0m\u001b[0;34m\u001b[0m\u001b[0;34m\u001b[0m\u001b[0m\n\u001b[1;32m   2714\u001b[0m \u001b[0;34m\u001b[0m\u001b[0m\n\u001b[0;32m-> 2715\u001b[0;31m             \u001b[0;32mreturn\u001b[0m \u001b[0mself\u001b[0m\u001b[0;34m.\u001b[0m\u001b[0m_call\u001b[0m\u001b[0;34m(\u001b[0m\u001b[0minputs\u001b[0m\u001b[0;34m)\u001b[0m\u001b[0;34m\u001b[0m\u001b[0;34m\u001b[0m\u001b[0m\n\u001b[0m\u001b[1;32m   2716\u001b[0m         \u001b[0;32melse\u001b[0m\u001b[0;34m:\u001b[0m\u001b[0;34m\u001b[0m\u001b[0;34m\u001b[0m\u001b[0m\n\u001b[1;32m   2717\u001b[0m             \u001b[0;32mif\u001b[0m \u001b[0mpy_any\u001b[0m\u001b[0;34m(\u001b[0m\u001b[0mis_tensor\u001b[0m\u001b[0;34m(\u001b[0m\u001b[0mx\u001b[0m\u001b[0;34m)\u001b[0m \u001b[0;32mfor\u001b[0m \u001b[0mx\u001b[0m \u001b[0;32min\u001b[0m \u001b[0minputs\u001b[0m\u001b[0;34m)\u001b[0m\u001b[0;34m:\u001b[0m\u001b[0;34m\u001b[0m\u001b[0;34m\u001b[0m\u001b[0m\n",
      "\u001b[0;32m~/anaconda3/envs/projet_S5/lib/python3.6/site-packages/keras/backend/tensorflow_backend.py\u001b[0m in \u001b[0;36m_call\u001b[0;34m(self, inputs)\u001b[0m\n\u001b[1;32m   2673\u001b[0m             \u001b[0mfetched\u001b[0m \u001b[0;34m=\u001b[0m \u001b[0mself\u001b[0m\u001b[0;34m.\u001b[0m\u001b[0m_callable_fn\u001b[0m\u001b[0;34m(\u001b[0m\u001b[0;34m*\u001b[0m\u001b[0marray_vals\u001b[0m\u001b[0;34m,\u001b[0m \u001b[0mrun_metadata\u001b[0m\u001b[0;34m=\u001b[0m\u001b[0mself\u001b[0m\u001b[0;34m.\u001b[0m\u001b[0mrun_metadata\u001b[0m\u001b[0;34m)\u001b[0m\u001b[0;34m\u001b[0m\u001b[0;34m\u001b[0m\u001b[0m\n\u001b[1;32m   2674\u001b[0m         \u001b[0;32melse\u001b[0m\u001b[0;34m:\u001b[0m\u001b[0;34m\u001b[0m\u001b[0;34m\u001b[0m\u001b[0m\n\u001b[0;32m-> 2675\u001b[0;31m             \u001b[0mfetched\u001b[0m \u001b[0;34m=\u001b[0m \u001b[0mself\u001b[0m\u001b[0;34m.\u001b[0m\u001b[0m_callable_fn\u001b[0m\u001b[0;34m(\u001b[0m\u001b[0;34m*\u001b[0m\u001b[0marray_vals\u001b[0m\u001b[0;34m)\u001b[0m\u001b[0;34m\u001b[0m\u001b[0;34m\u001b[0m\u001b[0m\n\u001b[0m\u001b[1;32m   2676\u001b[0m         \u001b[0;32mreturn\u001b[0m \u001b[0mfetched\u001b[0m\u001b[0;34m[\u001b[0m\u001b[0;34m:\u001b[0m\u001b[0mlen\u001b[0m\u001b[0;34m(\u001b[0m\u001b[0mself\u001b[0m\u001b[0;34m.\u001b[0m\u001b[0moutputs\u001b[0m\u001b[0;34m)\u001b[0m\u001b[0;34m]\u001b[0m\u001b[0;34m\u001b[0m\u001b[0;34m\u001b[0m\u001b[0m\n\u001b[1;32m   2677\u001b[0m \u001b[0;34m\u001b[0m\u001b[0m\n",
      "\u001b[0;32m~/anaconda3/envs/projet_S5/lib/python3.6/site-packages/tensorflow/python/client/session.py\u001b[0m in \u001b[0;36m__call__\u001b[0;34m(self, *args, **kwargs)\u001b[0m\n\u001b[1;32m   1437\u001b[0m           ret = tf_session.TF_SessionRunCallable(\n\u001b[1;32m   1438\u001b[0m               \u001b[0mself\u001b[0m\u001b[0;34m.\u001b[0m\u001b[0m_session\u001b[0m\u001b[0;34m.\u001b[0m\u001b[0m_session\u001b[0m\u001b[0;34m,\u001b[0m \u001b[0mself\u001b[0m\u001b[0;34m.\u001b[0m\u001b[0m_handle\u001b[0m\u001b[0;34m,\u001b[0m \u001b[0margs\u001b[0m\u001b[0;34m,\u001b[0m \u001b[0mstatus\u001b[0m\u001b[0;34m,\u001b[0m\u001b[0;34m\u001b[0m\u001b[0;34m\u001b[0m\u001b[0m\n\u001b[0;32m-> 1439\u001b[0;31m               run_metadata_ptr)\n\u001b[0m\u001b[1;32m   1440\u001b[0m         \u001b[0;32mif\u001b[0m \u001b[0mrun_metadata\u001b[0m\u001b[0;34m:\u001b[0m\u001b[0;34m\u001b[0m\u001b[0;34m\u001b[0m\u001b[0m\n\u001b[1;32m   1441\u001b[0m           \u001b[0mproto_data\u001b[0m \u001b[0;34m=\u001b[0m \u001b[0mtf_session\u001b[0m\u001b[0;34m.\u001b[0m\u001b[0mTF_GetBuffer\u001b[0m\u001b[0;34m(\u001b[0m\u001b[0mrun_metadata_ptr\u001b[0m\u001b[0;34m)\u001b[0m\u001b[0;34m\u001b[0m\u001b[0;34m\u001b[0m\u001b[0m\n",
      "\u001b[0;31mKeyboardInterrupt\u001b[0m: "
     ]
    }
   ],
   "source": [
    "# expected input data shape: (batch_size, timesteps, data_dim)\n",
    "regressor = Sequential()\n",
    "regressor.add(LSTM(units=250,\n",
    "                   input_shape=(timestep, 1), dropout=0.1))\n",
    "# regressor.add(LSTM(units=25, return_sequences=True,\n",
    "#                    input_shape=(timestep, 1), dropout=0.1))\n",
    "# regressor.add(LSTM(25, return_sequences=True, dropout=0.1))\n",
    "# regressor.add(LSTM(25, return_sequences=True, dropout=0.1))\n",
    "# regressor.add(LSTM(25, dropout=0.1))\n",
    "\n",
    "# regressor.add(Dense(10,input_shape=(timestep, ), activation='relu'))\n",
    "regressor.add(Dense(100, activation='relu'))\n",
    "regressor.add(Dense(100, activation='relu'))\n",
    "\n",
    "# regressor.add(Reshape((31, 2)))\n",
    "# regressor.add(Lambda(lambda x: softmax(x, axis=-1)))\n",
    "\n",
    "regressor.add(Dense(2, activation='softmax'))\n",
    "\n",
    "regressor.compile(loss='binary_crossentropy',\n",
    "                  optimizer='rmsprop',\n",
    "                  metrics=['accuracy'])\n",
    "\n",
    "regressor.fit(x, y, epochs=1000,batch_size=1000, validation_split=0.2, callbacks = [EarlyStopping(monitor='val_loss', mode='min', patience=100),\n",
    "             ModelCheckpoint(filepath='../model/LSTM/best_model.h5', monitor='val_acc', save_best_only=True)])\n",
    "\n",
    "# regressor.fit_generator(train_gen, steps_per_epoch=len(train_gen),\n",
    "#                         epochs=10, validation_data=test_gen,\n",
    "#                         callbacks=[\n",
    "#                             EarlyStopping(monitor='val_loss',\n",
    "#                                           mode='min', patience=10),\n",
    "#                             ModelCheckpoint(filepath=\"../model/mymodel.h5\",\n",
    "#                                             monitor='val_acc',\n",
    "#                                             save_best_only=True)])\n"
   ]
  }
 ],
 "metadata": {
  "kernelspec": {
   "display_name": "projet_S5",
   "language": "python",
   "name": "projet_s5"
  },
  "language_info": {
   "codemirror_mode": {
    "name": "ipython",
    "version": 3
   },
   "file_extension": ".py",
   "mimetype": "text/x-python",
   "name": "python",
   "nbconvert_exporter": "python",
   "pygments_lexer": "ipython3",
   "version": "3.6.8"
  },
  "toc": {
   "base_numbering": 1,
   "nav_menu": {},
   "number_sections": true,
   "sideBar": true,
   "skip_h1_title": false,
   "title_cell": "Table of Contents",
   "title_sidebar": "Contents",
   "toc_cell": false,
   "toc_position": {},
   "toc_section_display": true,
   "toc_window_display": false
  }
 },
 "nbformat": 4,
 "nbformat_minor": 2
}
