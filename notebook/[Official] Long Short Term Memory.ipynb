{
 "cells": [
  {
   "cell_type": "code",
   "execution_count": 21,
   "metadata": {
    "ExecuteTime": {
     "end_time": "2019-03-03T16:49:21.889351Z",
     "start_time": "2019-03-03T16:49:21.885412Z"
    },
    "scrolled": true
   },
   "outputs": [],
   "source": [
    "# List all device\n",
    "from tensorflow.python.client import device_lib\n",
    "# print(device_lib.list_local_devices())"
   ]
  },
  {
   "cell_type": "code",
   "execution_count": 2,
   "metadata": {
    "ExecuteTime": {
     "end_time": "2019-03-03T16:48:44.247883Z",
     "start_time": "2019-03-03T16:48:44.200863Z"
    },
    "scrolled": true
   },
   "outputs": [
    {
     "name": "stderr",
     "output_type": "stream",
     "text": [
      "Using TensorFlow backend.\n"
     ]
    },
    {
     "data": {
      "text/plain": [
       "['/job:localhost/replica:0/task:0/device:GPU:0']"
      ]
     },
     "execution_count": 2,
     "metadata": {},
     "output_type": "execute_result"
    }
   ],
   "source": [
    "# Check available GPU\n",
    "from keras import backend as K\n",
    "K.tensorflow_backend._get_available_gpus()"
   ]
  },
  {
   "cell_type": "code",
   "execution_count": 3,
   "metadata": {
    "ExecuteTime": {
     "end_time": "2019-03-03T16:48:44.306831Z",
     "start_time": "2019-03-03T16:48:44.249873Z"
    }
   },
   "outputs": [],
   "source": [
    "import os\n",
    "os.environ[\"CUDA_DEVICE_ORDER\"]=\"PCI_BUS_ID\";\n",
    "# The GPU id to use, usually either \"0\" or \"1\";\n",
    "os.environ[\"CUDA_VISIBLE_DEVICES\"]=\"0\";  "
   ]
  },
  {
   "cell_type": "code",
   "execution_count": 4,
   "metadata": {
    "ExecuteTime": {
     "end_time": "2019-03-03T16:48:45.082498Z",
     "start_time": "2019-03-03T16:48:44.314109Z"
    }
   },
   "outputs": [],
   "source": [
    "# Importing the libraries\n",
    "import numpy as np\n",
    "import matplotlib.pyplot as plt\n",
    "plt.style.use('fivethirtyeight')\n",
    "import pandas as pd\n",
    "from sklearn.preprocessing import MinMaxScaler\n",
    "from keras.models import Sequential\n",
    "from keras.layers import Dense, LSTM, Dropout, GRU, Bidirectional\n",
    "from keras.optimizers import SGD\n",
    "import math\n",
    "from sklearn.metrics import mean_squared_error\n",
    "import pickle"
   ]
  },
  {
   "cell_type": "code",
   "execution_count": 5,
   "metadata": {
    "ExecuteTime": {
     "end_time": "2019-03-03T16:48:45.095200Z",
     "start_time": "2019-03-03T16:48:45.084892Z"
    }
   },
   "outputs": [],
   "source": [
    "with open(\"../data/dowjones_calculated/periods.txt\", \"rb\") as fp:   # Unpickling\n",
    "    dataset = pickle.load(fp)"
   ]
  },
  {
   "cell_type": "code",
   "execution_count": 6,
   "metadata": {
    "ExecuteTime": {
     "end_time": "2019-03-03T16:48:45.155013Z",
     "start_time": "2019-03-03T16:48:45.096592Z"
    }
   },
   "outputs": [],
   "source": [
    "X_train = dataset[0][0][0].values\n",
    "y_train = dataset[0][0][1].values\n",
    "X_test = dataset[1][0][0].values\n",
    "y_test = dataset[1][0][1].values"
   ]
  },
  {
   "cell_type": "code",
   "execution_count": 7,
   "metadata": {
    "ExecuteTime": {
     "end_time": "2019-03-03T16:48:45.220237Z",
     "start_time": "2019-03-03T16:48:45.160403Z"
    }
   },
   "outputs": [
    {
     "data": {
      "text/plain": [
       "(750, 31)"
      ]
     },
     "execution_count": 7,
     "metadata": {},
     "output_type": "execute_result"
    }
   ],
   "source": [
    "y_train.shape"
   ]
  },
  {
   "cell_type": "code",
   "execution_count": 8,
   "metadata": {
    "ExecuteTime": {
     "end_time": "2019-03-03T16:48:45.289858Z",
     "start_time": "2019-03-03T16:48:45.221496Z"
    }
   },
   "outputs": [
    {
     "data": {
      "text/plain": [
       "(250, 31)"
      ]
     },
     "execution_count": 8,
     "metadata": {},
     "output_type": "execute_result"
    }
   ],
   "source": [
    "X_test.shape"
   ]
  },
  {
   "cell_type": "code",
   "execution_count": 9,
   "metadata": {
    "ExecuteTime": {
     "end_time": "2019-03-03T16:48:45.359302Z",
     "start_time": "2019-03-03T16:48:45.293597Z"
    }
   },
   "outputs": [
    {
     "data": {
      "text/plain": [
       "(250, 31)"
      ]
     },
     "execution_count": 9,
     "metadata": {},
     "output_type": "execute_result"
    }
   ],
   "source": [
    "y_test.shape"
   ]
  },
  {
   "cell_type": "code",
   "execution_count": 10,
   "metadata": {
    "ExecuteTime": {
     "end_time": "2019-03-03T16:48:45.423400Z",
     "start_time": "2019-03-03T16:48:45.364188Z"
    }
   },
   "outputs": [],
   "source": [
    "# Reshaping X_train for efficient modelling\n",
    "X_train = np.reshape(X_train, (X_train.shape[0],X_train.shape[1],1))\n",
    "X_test = np.reshape(X_test, (X_test.shape[0],X_test.shape[1],1))"
   ]
  },
  {
   "cell_type": "code",
   "execution_count": 11,
   "metadata": {
    "ExecuteTime": {
     "end_time": "2019-03-03T16:48:53.256890Z",
     "start_time": "2019-03-03T16:48:45.425464Z"
    }
   },
   "outputs": [
    {
     "name": "stdout",
     "output_type": "stream",
     "text": [
      "Epoch 1/5\n",
      "750/750 [==============================] - 2s 3ms/step - loss: 1.7877 - acc: 0.4839\n",
      "Epoch 2/5\n",
      "750/750 [==============================] - 1s 1ms/step - loss: 1.7863 - acc: 0.4839\n",
      "Epoch 3/5\n",
      "750/750 [==============================] - 1s 1ms/step - loss: 1.7847 - acc: 0.4839\n",
      "Epoch 4/5\n",
      "750/750 [==============================] - 1s 1ms/step - loss: 1.7834 - acc: 0.4839\n",
      "Epoch 5/5\n",
      "750/750 [==============================] - 1s 1ms/step - loss: 1.7813 - acc: 0.4839\n"
     ]
    },
    {
     "data": {
      "text/plain": [
       "<keras.callbacks.History at 0x7f8f930738d0>"
      ]
     },
     "execution_count": 11,
     "metadata": {},
     "output_type": "execute_result"
    }
   ],
   "source": [
    "# The LSTM architecture\n",
    "regressor = Sequential()\n",
    "# First LSTM layer with Dropout regularisation\n",
    "regressor.add(LSTM(units=25, return_sequences=True, input_shape=(X_train.shape[1],1)))\n",
    "regressor.add(Dropout(0.1))\n",
    "# Second LSTM layer\n",
    "regressor.add(LSTM(units=50))\n",
    "regressor.add(Dropout(0.2))\n",
    "# The output layer\n",
    "regressor.add(Dense(31, activation='softmax'))\n",
    "# Compiling the RNN\n",
    "regressor.compile(loss='binary_crossentropy',\n",
    "              optimizer='rmsprop',\n",
    "              metrics=['accuracy'])\n",
    "\n",
    "# Fitting to the training set\n",
    "regressor.fit(X_train,y_train,epochs=5,batch_size=32)"
   ]
  },
  {
   "cell_type": "code",
   "execution_count": 12,
   "metadata": {
    "ExecuteTime": {
     "end_time": "2019-03-03T16:48:53.504488Z",
     "start_time": "2019-03-03T16:48:53.258109Z"
    }
   },
   "outputs": [],
   "source": [
    "# Evaluating our model\n",
    "predicted = regressor.predict(X_test)"
   ]
  },
  {
   "cell_type": "code",
   "execution_count": 13,
   "metadata": {
    "ExecuteTime": {
     "end_time": "2019-03-03T16:48:54.411812Z",
     "start_time": "2019-03-03T16:48:53.505642Z"
    }
   },
   "outputs": [
    {
     "data": {
      "text/plain": [
       "(250, 31)"
      ]
     },
     "execution_count": 13,
     "metadata": {},
     "output_type": "execute_result"
    }
   ],
   "source": [
    "y_test.shape"
   ]
  },
  {
   "cell_type": "code",
   "execution_count": 14,
   "metadata": {
    "ExecuteTime": {
     "end_time": "2019-03-03T16:48:54.479777Z",
     "start_time": "2019-03-03T16:48:54.416325Z"
    }
   },
   "outputs": [
    {
     "data": {
      "text/plain": [
       "(250, 31)"
      ]
     },
     "execution_count": 14,
     "metadata": {},
     "output_type": "execute_result"
    }
   ],
   "source": [
    "predicted.shape"
   ]
  },
  {
   "cell_type": "code",
   "execution_count": 15,
   "metadata": {
    "ExecuteTime": {
     "end_time": "2019-03-03T16:48:54.547335Z",
     "start_time": "2019-03-03T16:48:54.485397Z"
    }
   },
   "outputs": [
    {
     "data": {
      "text/plain": [
       "array([0, 1, 1, 0, 1, 1, 0, 1, 1, 0, 0, 0, 0, 1, 0, 0, 0, 1, 0, 1, 0, 0,\n",
       "       1, 1, 1, 1, 1, 0, 1, 0, 1])"
      ]
     },
     "execution_count": 15,
     "metadata": {},
     "output_type": "execute_result"
    }
   ],
   "source": [
    "y_test[0]"
   ]
  },
  {
   "cell_type": "code",
   "execution_count": 16,
   "metadata": {
    "ExecuteTime": {
     "end_time": "2019-03-03T16:48:54.613266Z",
     "start_time": "2019-03-03T16:48:54.553458Z"
    }
   },
   "outputs": [
    {
     "data": {
      "text/plain": [
       "array([0.02727226, 0.03024466, 0.02902656, 0.03052546, 0.03134515,\n",
       "       0.03269014, 0.03261134, 0.03468414, 0.0320346 , 0.03242021,\n",
       "       0.02859943, 0.03336369, 0.03127077, 0.03247953, 0.03175566,\n",
       "       0.02965897, 0.0315391 , 0.03060119, 0.03232913, 0.03355063,\n",
       "       0.03380479, 0.03139265, 0.0323641 , 0.0337854 , 0.03469658,\n",
       "       0.03353666, 0.03023486, 0.03495984, 0.03796116, 0.03496579,\n",
       "       0.03429551], dtype=float32)"
      ]
     },
     "execution_count": 16,
     "metadata": {},
     "output_type": "execute_result"
    }
   ],
   "source": [
    "predicted[0]"
   ]
  },
  {
   "cell_type": "code",
   "execution_count": 17,
   "metadata": {
    "ExecuteTime": {
     "end_time": "2019-03-03T16:48:54.679217Z",
     "start_time": "2019-03-03T16:48:54.617315Z"
    }
   },
   "outputs": [
    {
     "data": {
      "text/plain": [
       "array([[0.02727226, 0.03024466, 0.02902656, 0.03052546, 0.03134515,\n",
       "        0.03269014, 0.03261134, 0.03468414, 0.0320346 , 0.03242021,\n",
       "        0.02859943, 0.03336369, 0.03127077, 0.03247953, 0.03175566,\n",
       "        0.02965897, 0.0315391 , 0.03060119, 0.03232913, 0.03355063,\n",
       "        0.03380479, 0.03139265, 0.0323641 , 0.0337854 , 0.03469658,\n",
       "        0.03353666, 0.03023486, 0.03495984, 0.03796116, 0.03496579,\n",
       "        0.03429551],\n",
       "       [0.03253011, 0.02454136, 0.02764754, 0.02910126, 0.03274618,\n",
       "        0.03476344, 0.02591562, 0.0380439 , 0.03285912, 0.0368184 ,\n",
       "        0.02784164, 0.0289867 , 0.02587471, 0.02718208, 0.02535576,\n",
       "        0.03744223, 0.03369911, 0.03083045, 0.02635411, 0.03128981,\n",
       "        0.03681538, 0.0293224 , 0.03661219, 0.03300788, 0.04182931,\n",
       "        0.03476038, 0.04325507, 0.03255562, 0.03356599, 0.03080646,\n",
       "        0.03764576],\n",
       "       [0.01680532, 0.02422477, 0.01774263, 0.02654435, 0.02671684,\n",
       "        0.02447953, 0.02459644, 0.02501129, 0.02928063, 0.02929122,\n",
       "        0.02389019, 0.02984292, 0.03587313, 0.03121782, 0.03462122,\n",
       "        0.03137114, 0.0324553 , 0.04034603, 0.03999506, 0.03545834,\n",
       "        0.04240073, 0.03718671, 0.02997129, 0.04462251, 0.03730539,\n",
       "        0.03942996, 0.02917281, 0.04792998, 0.04635487, 0.03455886,\n",
       "        0.03130279]], dtype=float32)"
      ]
     },
     "execution_count": 17,
     "metadata": {},
     "output_type": "execute_result"
    }
   ],
   "source": [
    "predicted[:3]"
   ]
  },
  {
   "cell_type": "code",
   "execution_count": 18,
   "metadata": {
    "ExecuteTime": {
     "end_time": "2019-03-03T16:48:54.749080Z",
     "start_time": "2019-03-03T16:48:54.683407Z"
    }
   },
   "outputs": [
    {
     "data": {
      "text/plain": [
       "array([[0, 0, 0, ..., 0, 0, 0],\n",
       "       [0, 0, 0, ..., 0, 0, 0],\n",
       "       [0, 0, 0, ..., 0, 0, 0],\n",
       "       ...,\n",
       "       [0, 0, 0, ..., 0, 0, 0],\n",
       "       [0, 0, 0, ..., 0, 0, 0],\n",
       "       [0, 0, 0, ..., 0, 0, 0]])"
      ]
     },
     "execution_count": 18,
     "metadata": {},
     "output_type": "execute_result"
    }
   ],
   "source": [
    "label = predicted > 0.5\n",
    "label = label * 1 # Convert boolean to int\n",
    "label"
   ]
  },
  {
   "cell_type": "code",
   "execution_count": 19,
   "metadata": {
    "ExecuteTime": {
     "end_time": "2019-03-03T16:48:54.813516Z",
     "start_time": "2019-03-03T16:48:54.752784Z"
    }
   },
   "outputs": [
    {
     "data": {
      "text/plain": [
       "0.4838709677419356"
      ]
     },
     "execution_count": 19,
     "metadata": {},
     "output_type": "execute_result"
    }
   ],
   "source": [
    "(sum(y_test == label)/len(y_test)).mean()"
   ]
  },
  {
   "cell_type": "code",
   "execution_count": 20,
   "metadata": {
    "ExecuteTime": {
     "end_time": "2019-03-03T16:48:54.879680Z",
     "start_time": "2019-03-03T16:48:54.815977Z"
    }
   },
   "outputs": [],
   "source": [
    "# from keras.models import load_model\n",
    "\n",
    "# regressor.save('../model/LSTM/my_model.h5')  # creates a HDF5 file 'my_model.h5'\n",
    "# del regressor  # deletes the existing model\n",
    "\n",
    "# # returns a compiled model\n",
    "# # identical to the previous one\n",
    "# regressor1 = load_model('../model/LSTM/my_model.h5')\n",
    "# regressor1.predict(X_test)"
   ]
  }
 ],
 "metadata": {
  "kernelspec": {
   "display_name": "projet_S5",
   "language": "python",
   "name": "projet_s5"
  },
  "language_info": {
   "codemirror_mode": {
    "name": "ipython",
    "version": 3
   },
   "file_extension": ".py",
   "mimetype": "text/x-python",
   "name": "python",
   "nbconvert_exporter": "python",
   "pygments_lexer": "ipython3",
   "version": "3.6.8"
  },
  "toc": {
   "base_numbering": 1,
   "nav_menu": {},
   "number_sections": true,
   "sideBar": true,
   "skip_h1_title": false,
   "title_cell": "Table of Contents",
   "title_sidebar": "Contents",
   "toc_cell": false,
   "toc_position": {},
   "toc_section_display": true,
   "toc_window_display": false
  }
 },
 "nbformat": 4,
 "nbformat_minor": 2
}
