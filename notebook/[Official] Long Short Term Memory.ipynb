{
 "cells": [
  {
   "cell_type": "code",
   "execution_count": 58,
   "metadata": {
    "ExecuteTime": {
     "end_time": "2019-03-09T17:40:31.440253Z",
     "start_time": "2019-03-09T17:40:31.435845Z"
    },
    "scrolled": true
   },
   "outputs": [],
   "source": [
    "# List all device\n",
    "from tensorflow.python.client import device_lib\n",
    "# print(device_lib.list_local_devices())"
   ]
  },
  {
   "cell_type": "code",
   "execution_count": 59,
   "metadata": {
    "ExecuteTime": {
     "end_time": "2019-03-09T17:40:31.521351Z",
     "start_time": "2019-03-09T17:40:31.442063Z"
    },
    "scrolled": true
   },
   "outputs": [
    {
     "data": {
      "text/plain": [
       "[]"
      ]
     },
     "execution_count": 59,
     "metadata": {},
     "output_type": "execute_result"
    }
   ],
   "source": [
    "# Check available GPU\n",
    "from keras import backend as K\n",
    "K.tensorflow_backend._get_available_gpus()"
   ]
  },
  {
   "cell_type": "code",
   "execution_count": 60,
   "metadata": {
    "ExecuteTime": {
     "end_time": "2019-03-09T17:40:31.584764Z",
     "start_time": "2019-03-09T17:40:31.526783Z"
    }
   },
   "outputs": [],
   "source": [
    "import os\n",
    "os.environ[\"CUDA_DEVICE_ORDER\"]=\"PCI_BUS_ID\";\n",
    "# The GPU id to use, usually either \"0\" or \"1\";\n",
    "os.environ[\"CUDA_VISIBLE_DEVICES\"]=\"0\";  "
   ]
  },
  {
   "cell_type": "code",
   "execution_count": 61,
   "metadata": {
    "ExecuteTime": {
     "end_time": "2019-03-09T17:40:31.652915Z",
     "start_time": "2019-03-09T17:40:31.587772Z"
    }
   },
   "outputs": [],
   "source": [
    "# Importing the libraries\n",
    "import numpy as np\n",
    "import pandas as pd\n",
    "from keras.models import Sequential\n",
    "from keras.layers import Dense, LSTM, Dropout, Reshape, Lambda, GRU, BatchNormalization\n",
    "from keras.preprocessing.sequence import TimeseriesGenerator\n",
    "from keras.callbacks import EarlyStopping, ModelCheckpoint\n",
    "from keras.activations import softmax\n",
    "from keras.optimizers import SGD, RMSprop\n",
    "import math\n",
    "import pickle\n",
    "import matplotlib.pyplot as plt\n",
    "from keras.utils import to_categorical"
   ]
  },
  {
   "cell_type": "code",
   "execution_count": 62,
   "metadata": {
    "ExecuteTime": {
     "end_time": "2019-03-09T17:40:31.743685Z",
     "start_time": "2019-03-09T17:40:31.655744Z"
    }
   },
   "outputs": [],
   "source": [
    "with open(\"../data/dowjones_calculated/periods750_250_240.txt\", \"rb\") as fp:   # Unpickling\n",
    "    dataset = pickle.load(fp)"
   ]
  },
  {
   "cell_type": "code",
   "execution_count": 63,
   "metadata": {
    "ExecuteTime": {
     "end_time": "2019-03-09T17:40:31.803602Z",
     "start_time": "2019-03-09T17:40:31.745510Z"
    }
   },
   "outputs": [],
   "source": [
    "def normalize_data(df):\n",
    "    \"\"\"normalize a dataframe.\"\"\"\n",
    "    mean = df.mean(axis=1)\n",
    "    std = df.std(axis=1)\n",
    "    df = df.sub(mean, axis=0)\n",
    "    df = df.div(std, axis=0)\n",
    "    df = df.values\n",
    "    return df\n",
    "def get_one_hot(targets, nb_classes):\n",
    "    res = np.eye(nb_classes)[np.array(targets).reshape(-1)]\n",
    "    return res.reshape(list(targets.shape)+[nb_classes])"
   ]
  },
  {
   "cell_type": "code",
   "execution_count": 64,
   "metadata": {
    "ExecuteTime": {
     "end_time": "2019-03-09T17:40:31.871547Z",
     "start_time": "2019-03-09T17:40:31.804900Z"
    }
   },
   "outputs": [],
   "source": [
    "i = 5\n",
    "timestep = 240"
   ]
  },
  {
   "cell_type": "code",
   "execution_count": 65,
   "metadata": {
    "ExecuteTime": {
     "end_time": "2019-03-09T17:40:31.943437Z",
     "start_time": "2019-03-09T17:40:31.873313Z"
    }
   },
   "outputs": [],
   "source": [
    "# x_train = dataset[0][i][0]['AMZN'].values * 1000\n",
    "# y_train = dataset[0][i][1]['AMZN'].values * 1.0\n",
    "# x_test = dataset[1][i][0]['AMZN'].values * 1000\n",
    "# y_test = dataset[1][i][1]['AMZN'].values * 1.0\n",
    "\n",
    "# x_train = dataset[0][i][0].values\n",
    "# x_train = (x_train - x_train.mean())/x_train.std()\n",
    "# y_train = dataset[0][i][1].values * 1.0\n",
    "# x_test = dataset[1][i][0].values\n",
    "# x_test = (x_test - x_test.mean())/x_test.std()\n",
    "# y_test = dataset[1][i][1].values * 1.0\n",
    "\n",
    "x_train = dataset[0][i][0].values * 1000\n",
    "x_test = dataset[1][i][0].values * 1000\n",
    "# y_train = get_one_hot(dataset[0][i][1].values, 2) * 1.0\n",
    "# y_test = get_one_hot(dataset[1][i][1].values, 2) * 1.0\n",
    "y_train = to_categorical(dataset[0][i][1].values, 2)\n",
    "y_test = to_categorical(dataset[1][i][1].values, 2)"
   ]
  },
  {
   "cell_type": "code",
   "execution_count": 66,
   "metadata": {
    "ExecuteTime": {
     "end_time": "2019-03-09T17:40:32.008977Z",
     "start_time": "2019-03-09T17:40:31.953498Z"
    }
   },
   "outputs": [
    {
     "name": "stdout",
     "output_type": "stream",
     "text": [
      "x train shape: (750, 31)\n",
      "y train shape: (750, 31, 2)\n",
      "x test shape: (490, 31)\n",
      "y test shape: (490, 31, 2)\n"
     ]
    }
   ],
   "source": [
    "print(f\"x train shape: {x_train.shape}\")\n",
    "print(f\"y train shape: {y_train.shape}\")\n",
    "print(f\"x test shape: {x_test.shape}\")\n",
    "print(f\"y test shape: {y_test.shape}\")"
   ]
  },
  {
   "cell_type": "code",
   "execution_count": 67,
   "metadata": {
    "ExecuteTime": {
     "end_time": "2019-03-09T17:40:32.113923Z",
     "start_time": "2019-03-09T17:40:32.012245Z"
    }
   },
   "outputs": [
    {
     "name": "stdout",
     "output_type": "stream",
     "text": [
      "x shape: (15810, 240)\n",
      "y shape: (15810, 2)\n"
     ]
    }
   ],
   "source": [
    "# The second range will be looped first\n",
    "# x_series = [x_train[i:i+240] for i in range(750 - 240)]\n",
    "# y_series = [y_train[i+240] for i in range(750 - 240)]\n",
    "# x_series = [x_train[i:i+240, j] for j in range(31) for i in range(750 - 240)]\n",
    "# y_series = [y_train[i+240, j] for j in range(31) for i in range(750 - 240)]\n",
    "x_series = [x_train[i:i+240, j] for i in range(750 - 240) for j in range(31)]\n",
    "y_series = [y_train[i+240, j] for i in range(750 - 240) for j in range(31)]\n",
    "x = np.array(x_series)\n",
    "y = np.array(y_series)\n",
    "print(f\"x shape: {x.shape}\")\n",
    "print(f\"y shape: {y.shape}\")"
   ]
  },
  {
   "cell_type": "code",
   "execution_count": 68,
   "metadata": {
    "ExecuteTime": {
     "end_time": "2019-03-09T17:40:32.184815Z",
     "start_time": "2019-03-09T17:40:32.115317Z"
    }
   },
   "outputs": [
    {
     "name": "stdout",
     "output_type": "stream",
     "text": [
      "x shape: (15810, 240)\n",
      "y shape: (15810, 2)\n"
     ]
    }
   ],
   "source": [
    "# x = x.transpose((0,2,1))\n",
    "# x = np.reshape(x, (510 * 31, timestep))\n",
    "# y = np.reshape(y, (510 * 31, 2))\n",
    "print(f\"x shape: {x.shape}\")\n",
    "print(f\"y shape: {y.shape}\")"
   ]
  },
  {
   "cell_type": "code",
   "execution_count": 69,
   "metadata": {
    "ExecuteTime": {
     "end_time": "2019-03-09T17:40:32.249558Z",
     "start_time": "2019-03-09T17:40:32.189897Z"
    }
   },
   "outputs": [
    {
     "name": "stdout",
     "output_type": "stream",
     "text": [
      "x shape: (15810, 240, 1)\n"
     ]
    }
   ],
   "source": [
    "x = np.reshape(x, (x.shape[0], x.shape[1], 1))\n",
    "print(f\"x shape: {x.shape}\")\n"
   ]
  },
  {
   "cell_type": "code",
   "execution_count": 70,
   "metadata": {
    "ExecuteTime": {
     "end_time": "2019-03-09T17:40:32.321458Z",
     "start_time": "2019-03-09T17:40:32.251405Z"
    }
   },
   "outputs": [],
   "source": [
    "\n",
    "x_train = normalize_data(dataset[0][i][0])\n",
    "# y_train = get_one_hot(dataset[0][i][1].values, 2) * 1.0\n",
    "x_test = normalize_data(dataset[1][i][0])\n",
    "# y_test = get_one_hot(dataset[1][i][1].values, 2) * 1.0\n",
    "\n",
    "y_train = dataset[0][i][1].values * 1.0\n",
    "y_test = dataset[1][i][1].values * 1.0\n",
    "\n",
    "train_gen = TimeseriesGenerator(x_train, y_train,\n",
    "                                length=timestep, sampling_rate=1,\n",
    "                                batch_size=10)\n",
    "test_gen = TimeseriesGenerator(x_test, y_test,\n",
    "                               length=timestep, sampling_rate=1,\n",
    "                               batch_size=10)"
   ]
  },
  {
   "cell_type": "code",
   "execution_count": 71,
   "metadata": {
    "ExecuteTime": {
     "end_time": "2019-03-09T17:40:32.390158Z",
     "start_time": "2019-03-09T17:40:32.323975Z"
    }
   },
   "outputs": [
    {
     "name": "stdout",
     "output_type": "stream",
     "text": [
      "x train shape: (750, 31)\n",
      "y train shape: (750, 31)\n",
      "x test shape: (490, 31)\n",
      "y test shape: (490, 31)\n"
     ]
    }
   ],
   "source": [
    "print(f\"x train shape: {x_train.shape}\")\n",
    "print(f\"y train shape: {y_train.shape}\")\n",
    "print(f\"x test shape: {y_test.shape}\")\n",
    "print(f\"y test shape: {y_test.shape}\")\n",
    "# print(f\"predicted shape: {predicted.shape}\")"
   ]
  },
  {
   "cell_type": "code",
   "execution_count": 76,
   "metadata": {
    "ExecuteTime": {
     "end_time": "2019-03-09T17:41:32.562388Z",
     "start_time": "2019-03-09T17:41:32.288204Z"
    }
   },
   "outputs": [
    {
     "name": "stdout",
     "output_type": "stream",
     "text": [
      "_________________________________________________________________\n",
      "Layer (type)                 Output Shape              Param #   \n",
      "=================================================================\n",
      "lstm_11 (LSTM)               (527, 25)                 2700      \n",
      "_________________________________________________________________\n",
      "dense_10 (Dense)             (527, 2)                  52        \n",
      "=================================================================\n",
      "Total params: 2,752\n",
      "Trainable params: 2,752\n",
      "Non-trainable params: 0\n",
      "_________________________________________________________________\n"
     ]
    }
   ],
   "source": [
    "dropout_rate = 0.1\n",
    "# expected input data shape: (batch_size, timesteps, data_dim)\n",
    "regressor = Sequential()\n",
    "# regressor.add(LSTM(units=25, input_shape=(timestep, 1), dropout=0.1))\n",
    "# regressor.add(GRU(units=25, return_sequences=True, input_shape=(timestep, 1), dropout=0.3, recurrent_dropout=0.3))\n",
    "# regressor.add(GRU(25, return_sequences=True, dropout=0.3))\n",
    "# regressor.add(GRU(25, dropout=0.3, recurrent_dropout=0.3))\n",
    "\n",
    "# regressor.add(GRU(units=250, return_sequences=True, input_shape=(timestep, 1), dropout=dropout_rate, recurrent_dropout=dropout_rate))\n",
    "# regressor.add(GRU(250, dropout=dropout_rate, recurrent_dropout=dropout_rate))\n",
    "# regressor.add(LSTM(units=100, return_sequences=True, batch_input_shape=(10, timestep, 31), dropout=dropout_rate, recurrent_dropout=dropout_rate, stateful = True))\n",
    "regressor.add(LSTM(units=25, batch_input_shape=(527, timestep, 1), dropout=dropout_rate, recurrent_dropout=dropout_rate, stateful = True))\n",
    "# regressor.add(BatchNormalization())\n",
    "# regressor.add(LSTM(5, dropout=dropout_rate, recurrent_dropout=dropout_rate, stateful = True))\n",
    "# regressor.add(BatchNormalization())\n",
    "\n",
    "# regressor.add(LSTM(units=150, return_sequences=True, input_shape=(timestep, 1), dropout=dropout_rate, recurrent_dropout=dropout_rate))\n",
    "# regressor.add(LSTM(150, dropout=dropout_rate, recurrent_dropout=dropout_rate))\n",
    "# regressor.add(Dense(10,input_shape=(timestep, ), activation='relu'))\n",
    "# regressor.add(Dense(100, activation='relu'))\n",
    "# regressor.add(Dense(50, activation='relu'))\n",
    "\n",
    "# regressor.add(Dense(62, activation='relu'))\n",
    "# regressor.add(Reshape((31, 2)))\n",
    "# regressor.add(Lambda(lambda x: softmax(x, axis=-1)))\n",
    "\n",
    "regressor.add(Dense(2, activation='softmax'))\n",
    "# regressor.add(Dense(1, activation='sigmoid'))\n",
    "# regressor.add(Dense(1, activation='sigmoid'))\n",
    "# regressor.compile(loss='mean_squared_error',\n",
    "#                   optimizer='rmsprop',\n",
    "#                   metrics=['accuracy'])\n",
    "# RMSprop = RMSprop(lr=0.01)\n",
    "# regressor.compile(loss='binary_crossentropy',\n",
    "#                   optimizer=RMSprop,\n",
    "#                   metrics=['accuracy'])\n",
    "\n",
    "regressor.compile(loss='binary_crossentropy',\n",
    "                  optimizer='rmsprop',\n",
    "                  metrics=['accuracy'])\n",
    "regressor.summary()"
   ]
  },
  {
   "cell_type": "code",
   "execution_count": 77,
   "metadata": {
    "ExecuteTime": {
     "end_time": "2019-03-09T17:43:31.069175Z",
     "start_time": "2019-03-09T17:41:32.564490Z"
    },
    "scrolled": true
   },
   "outputs": [
    {
     "name": "stdout",
     "output_type": "stream",
     "text": [
      "Train on 12648 samples, validate on 3162 samples\n",
      "Epoch 1/1000\n",
      "12648/12648 [==============================] - 4s 343us/step - loss: 0.6981 - acc: 0.5020 - val_loss: 0.6944 - val_acc: 0.5149\n",
      "Epoch 2/1000\n",
      "12648/12648 [==============================] - 3s 257us/step - loss: 0.6936 - acc: 0.5138 - val_loss: 0.6942 - val_acc: 0.5117\n",
      "Epoch 3/1000\n",
      "12648/12648 [==============================] - 3s 258us/step - loss: 0.6933 - acc: 0.5154 - val_loss: 0.6939 - val_acc: 0.5082\n",
      "Epoch 4/1000\n",
      "12648/12648 [==============================] - 3s 261us/step - loss: 0.6933 - acc: 0.5145 - val_loss: 0.6935 - val_acc: 0.5136\n",
      "Epoch 5/1000\n",
      "12648/12648 [==============================] - 3s 262us/step - loss: 0.6922 - acc: 0.5194 - val_loss: 0.6938 - val_acc: 0.5089\n",
      "Epoch 6/1000\n",
      "12648/12648 [==============================] - 3s 260us/step - loss: 0.6924 - acc: 0.5139 - val_loss: 0.6930 - val_acc: 0.5092\n",
      "Epoch 7/1000\n",
      "12648/12648 [==============================] - 3s 270us/step - loss: 0.6922 - acc: 0.5185 - val_loss: 0.6933 - val_acc: 0.5123\n",
      "Epoch 8/1000\n",
      "12648/12648 [==============================] - 3s 274us/step - loss: 0.6928 - acc: 0.5121 - val_loss: 0.6927 - val_acc: 0.5155\n",
      "Epoch 9/1000\n",
      "12648/12648 [==============================] - 3s 277us/step - loss: 0.6919 - acc: 0.5179 - val_loss: 0.6927 - val_acc: 0.5104\n",
      "Epoch 10/1000\n",
      "12648/12648 [==============================] - 3s 274us/step - loss: 0.6917 - acc: 0.5177 - val_loss: 0.6928 - val_acc: 0.5101\n",
      "Epoch 11/1000\n",
      "12648/12648 [==============================] - 4s 282us/step - loss: 0.6919 - acc: 0.5198 - val_loss: 0.6928 - val_acc: 0.5136\n",
      "Epoch 12/1000\n",
      "12648/12648 [==============================] - 4s 285us/step - loss: 0.6918 - acc: 0.5221 - val_loss: 0.6925 - val_acc: 0.5177\n",
      "Epoch 13/1000\n",
      "12648/12648 [==============================] - 4s 301us/step - loss: 0.6912 - acc: 0.5228 - val_loss: 0.6924 - val_acc: 0.5127\n",
      "Epoch 14/1000\n",
      "12648/12648 [==============================] - 4s 300us/step - loss: 0.6917 - acc: 0.5259 - val_loss: 0.6921 - val_acc: 0.5193\n",
      "Epoch 15/1000\n",
      "12648/12648 [==============================] - 4s 281us/step - loss: 0.6916 - acc: 0.5225 - val_loss: 0.6920 - val_acc: 0.5234\n",
      "Epoch 16/1000\n",
      "12648/12648 [==============================] - 4s 284us/step - loss: 0.6907 - acc: 0.5208 - val_loss: 0.6925 - val_acc: 0.5177\n",
      "Epoch 17/1000\n",
      "12648/12648 [==============================] - 4s 295us/step - loss: 0.6914 - acc: 0.5270 - val_loss: 0.6923 - val_acc: 0.5209\n",
      "Epoch 18/1000\n",
      "12648/12648 [==============================] - 4s 281us/step - loss: 0.6908 - acc: 0.5261 - val_loss: 0.6925 - val_acc: 0.5130\n",
      "Epoch 19/1000\n",
      "12648/12648 [==============================] - 4s 282us/step - loss: 0.6909 - acc: 0.5240 - val_loss: 0.6919 - val_acc: 0.5202\n",
      "Epoch 20/1000\n",
      "12648/12648 [==============================] - 4s 298us/step - loss: 0.6904 - acc: 0.5285 - val_loss: 0.6924 - val_acc: 0.5158\n",
      "Epoch 21/1000\n",
      "12648/12648 [==============================] - 4s 289us/step - loss: 0.6911 - acc: 0.5217 - val_loss: 0.6919 - val_acc: 0.5218\n",
      "Epoch 22/1000\n",
      "12648/12648 [==============================] - 4s 286us/step - loss: 0.6906 - acc: 0.5261 - val_loss: 0.6920 - val_acc: 0.5168\n",
      "Epoch 23/1000\n",
      "12648/12648 [==============================] - 4s 279us/step - loss: 0.6902 - acc: 0.5258 - val_loss: 0.6917 - val_acc: 0.5250\n",
      "Epoch 24/1000\n",
      "12648/12648 [==============================] - 3s 275us/step - loss: 0.6909 - acc: 0.5285 - val_loss: 0.6923 - val_acc: 0.5149\n",
      "Epoch 25/1000\n",
      "12648/12648 [==============================] - 4s 280us/step - loss: 0.6899 - acc: 0.5342 - val_loss: 0.6923 - val_acc: 0.5158\n",
      "Epoch 26/1000\n",
      "12648/12648 [==============================] - 4s 279us/step - loss: 0.6902 - acc: 0.5249 - val_loss: 0.6924 - val_acc: 0.5164\n",
      "Epoch 27/1000\n",
      "12648/12648 [==============================] - 4s 303us/step - loss: 0.6902 - acc: 0.5274 - val_loss: 0.6923 - val_acc: 0.5187\n",
      "Epoch 28/1000\n",
      "12648/12648 [==============================] - 4s 304us/step - loss: 0.6909 - acc: 0.5262 - val_loss: 0.6923 - val_acc: 0.5196\n",
      "Epoch 29/1000\n",
      "12648/12648 [==============================] - 3s 276us/step - loss: 0.6900 - acc: 0.5285 - val_loss: 0.6925 - val_acc: 0.5183\n",
      "Epoch 30/1000\n",
      "12648/12648 [==============================] - 3s 273us/step - loss: 0.6899 - acc: 0.5310 - val_loss: 0.6922 - val_acc: 0.5196\n",
      "Epoch 31/1000\n",
      "12648/12648 [==============================] - 3s 272us/step - loss: 0.6901 - acc: 0.5287 - val_loss: 0.6924 - val_acc: 0.5180\n",
      "Epoch 32/1000\n",
      "12648/12648 [==============================] - 3s 274us/step - loss: 0.6905 - acc: 0.5302 - val_loss: 0.6929 - val_acc: 0.5187\n",
      "Epoch 33/1000\n",
      "12648/12648 [==============================] - 3s 272us/step - loss: 0.6895 - acc: 0.5318 - val_loss: 0.6925 - val_acc: 0.5228\n"
     ]
    }
   ],
   "source": [
    "\n",
    "result = regressor.fit(x, y, epochs=1000,batch_size=527, validation_split=0.2, shuffle=False, callbacks = [EarlyStopping(monitor='val_loss', mode='min', patience=10),\n",
    "             ModelCheckpoint(filepath='../model/LSTM/best_model.h5', monitor='val_acc', save_best_only=True)])\n",
    "\n",
    "# regressor.fit(x, y, epochs=1000,batch_size=500, validation_split=0.2, callbacks = [EarlyStopping(monitor='val_loss', mode='min', patience=20),\n",
    "#              ModelCheckpoint(filepath='../model/LSTM/best_model.h5', monitor='val_acc', save_best_only=True)])\n",
    "\n",
    "# regressor.fit_generator(train_gen, steps_per_epoch=len(train_gen),\n",
    "#                         epochs=100, validation_data=test_gen,\n",
    "#                         callbacks=[\n",
    "#                             EarlyStopping(monitor='val_loss',\n",
    "#                                           mode='min', patience=100),\n",
    "#                             ModelCheckpoint(filepath=\"../model/mymodel.h5\",\n",
    "#                                             monitor='val_acc',\n",
    "#                                             save_best_only=True)])"
   ]
  },
  {
   "cell_type": "code",
   "execution_count": 78,
   "metadata": {
    "ExecuteTime": {
     "end_time": "2019-03-09T17:43:31.072559Z",
     "start_time": "2019-03-09T17:43:31.070732Z"
    }
   },
   "outputs": [],
   "source": [
    "# result.history"
   ]
  },
  {
   "cell_type": "code",
   "execution_count": 79,
   "metadata": {
    "ExecuteTime": {
     "end_time": "2019-03-09T17:43:31.285267Z",
     "start_time": "2019-03-09T17:43:31.075068Z"
    }
   },
   "outputs": [
    {
     "data": {
      "text/plain": [
       "[<matplotlib.lines.Line2D at 0x7fe22c3868d0>]"
      ]
     },
     "execution_count": 79,
     "metadata": {},
     "output_type": "execute_result"
    },
    {
     "data": {
      "image/png": "[encoded data removed]",
      "text/plain": [
       "<Figure size 432x288 with 1 Axes>"
      ]
     },
     "metadata": {
      "needs_background": "light"
     },
     "output_type": "display_data"
    }
   ],
   "source": [
    "plt.plot(result.history[\"val_acc\"])\n",
    "plt.plot(result.history[\"acc\"])"
   ]
  },
  {
   "cell_type": "code",
   "execution_count": 80,
   "metadata": {
    "ExecuteTime": {
     "end_time": "2019-03-09T17:43:31.396547Z",
     "start_time": "2019-03-09T17:43:31.287282Z"
    }
   },
   "outputs": [
    {
     "data": {
      "text/plain": [
       "[<matplotlib.lines.Line2D at 0x7fe185da1208>]"
      ]
     },
     "execution_count": 80,
     "metadata": {},
     "output_type": "execute_result"
    },
    {
     "data": {
      "image/png": "[encoded data removed]",
      "text/plain": [
       "<Figure size 432x288 with 1 Axes>"
      ]
     },
     "metadata": {
      "needs_background": "light"
     },
     "output_type": "display_data"
    }
   ],
   "source": [
    "plt.plot(result.history[\"val_loss\"])\n",
    "plt.plot(result.history[\"loss\"])"
   ]
  }
 ],
 "metadata": {
  "kernelspec": {
   "display_name": "projet_S5",
   "language": "python",
   "name": "projet_s5"
  },
  "language_info": {
   "codemirror_mode": {
    "name": "ipython",
    "version": 3
   },
   "file_extension": ".py",
   "mimetype": "text/x-python",
   "name": "python",
   "nbconvert_exporter": "python",
   "pygments_lexer": "ipython3",
   "version": "3.6.8"
  },
  "toc": {
   "base_numbering": 1,
   "nav_menu": {},
   "number_sections": true,
   "sideBar": true,
   "skip_h1_title": false,
   "title_cell": "Table of Contents",
   "title_sidebar": "Contents",
   "toc_cell": false,
   "toc_position": {},
   "toc_section_display": true,
   "toc_window_display": false
  }
 },
 "nbformat": 4,
 "nbformat_minor": 2
}
