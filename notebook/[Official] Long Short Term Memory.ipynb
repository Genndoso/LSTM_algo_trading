{
 "cells": [
  {
   "cell_type": "code",
   "execution_count": 1,
   "metadata": {
    "ExecuteTime": {
     "end_time": "2019-03-09T18:52:19.679537Z",
     "start_time": "2019-03-09T18:52:18.718632Z"
    },
    "scrolled": true
   },
   "outputs": [],
   "source": [
    "# List all device\n",
    "from tensorflow.python.client import device_lib\n",
    "# print(device_lib.list_local_devices())"
   ]
  },
  {
   "cell_type": "code",
   "execution_count": 2,
   "metadata": {
    "ExecuteTime": {
     "end_time": "2019-03-09T18:52:19.725856Z",
     "start_time": "2019-03-09T18:52:19.681671Z"
    },
    "scrolled": true
   },
   "outputs": [
    {
     "name": "stderr",
     "output_type": "stream",
     "text": [
      "Using TensorFlow backend.\n"
     ]
    },
    {
     "data": {
      "text/plain": [
       "[]"
      ]
     },
     "execution_count": 2,
     "metadata": {},
     "output_type": "execute_result"
    }
   ],
   "source": [
    "# Check available GPU\n",
    "from keras import backend as K\n",
    "K.tensorflow_backend._get_available_gpus()"
   ]
  },
  {
   "cell_type": "code",
   "execution_count": 3,
   "metadata": {
    "ExecuteTime": {
     "end_time": "2019-03-09T18:52:19.844749Z",
     "start_time": "2019-03-09T18:52:19.727325Z"
    }
   },
   "outputs": [],
   "source": [
    "import os\n",
    "os.environ[\"CUDA_DEVICE_ORDER\"]=\"PCI_BUS_ID\";\n",
    "# The GPU id to use, usually either \"0\" or \"1\";\n",
    "os.environ[\"CUDA_VISIBLE_DEVICES\"]=\"0\";  "
   ]
  },
  {
   "cell_type": "code",
   "execution_count": 4,
   "metadata": {
    "ExecuteTime": {
     "end_time": "2019-03-09T18:52:20.296053Z",
     "start_time": "2019-03-09T18:52:19.852880Z"
    }
   },
   "outputs": [],
   "source": [
    "# Importing the libraries\n",
    "import numpy as np\n",
    "import pandas as pd\n",
    "from keras.models import Sequential\n",
    "from keras.layers import Dense, LSTM, Dropout, Reshape, Lambda, GRU, BatchNormalization, Bidirectional\n",
    "from keras.preprocessing.sequence import TimeseriesGenerator\n",
    "from keras.callbacks import EarlyStopping, ModelCheckpoint\n",
    "from keras.activations import softmax\n",
    "from keras.optimizers import SGD, RMSprop\n",
    "import math\n",
    "import pickle\n",
    "import matplotlib.pyplot as plt\n",
    "from keras.utils import to_categorical\n",
    "from sklearn.preprocessing import StandardScaler"
   ]
  },
  {
   "cell_type": "code",
   "execution_count": 5,
   "metadata": {
    "ExecuteTime": {
     "end_time": "2019-03-09T18:52:20.319738Z",
     "start_time": "2019-03-09T18:52:20.302728Z"
    }
   },
   "outputs": [],
   "source": [
    "with open(\"../data/dowjones_calculated/periods750_250_240.txt\", \"rb\") as fp:   # Unpickling\n",
    "    dataset = pickle.load(fp)"
   ]
  },
  {
   "cell_type": "code",
   "execution_count": 6,
   "metadata": {
    "ExecuteTime": {
     "end_time": "2019-03-09T18:52:20.410785Z",
     "start_time": "2019-03-09T18:52:20.321461Z"
    }
   },
   "outputs": [],
   "source": [
    "def normalize_data(df):\n",
    "    \"\"\"normalize a dataframe.\"\"\"\n",
    "    mean = df.mean(axis=1)\n",
    "    std = df.std(axis=1)\n",
    "    df = df.sub(mean, axis=0)\n",
    "    df = df.div(std, axis=0)\n",
    "    df = df.values\n",
    "    return df\n",
    "def get_one_hot(targets, nb_classes):\n",
    "    res = np.eye(nb_classes)[np.array(targets).reshape(-1)]\n",
    "    return res.reshape(list(targets.shape)+[nb_classes])"
   ]
  },
  {
   "cell_type": "code",
   "execution_count": 7,
   "metadata": {
    "ExecuteTime": {
     "end_time": "2019-03-09T18:52:20.501623Z",
     "start_time": "2019-03-09T18:52:20.413426Z"
    }
   },
   "outputs": [],
   "source": [
    "i = 7\n",
    "timestep = 240"
   ]
  },
  {
   "cell_type": "code",
   "execution_count": 8,
   "metadata": {
    "ExecuteTime": {
     "end_time": "2019-03-09T18:52:20.627073Z",
     "start_time": "2019-03-09T18:52:20.503531Z"
    }
   },
   "outputs": [],
   "source": [
    "# x_train = dataset[0][i][0]['AMZN'].values * 1000\n",
    "# y_train = dataset[0][i][1]['AMZN'].values * 1.0\n",
    "# x_test = dataset[1][i][0]['AMZN'].values * 1000\n",
    "# y_test = dataset[1][i][1]['AMZN'].values * 1.0\n",
    "\n",
    "# x_train = dataset[0][i][0].values\n",
    "# x_train = (x_train - x_train.mean())/x_train.std()\n",
    "# y_train = dataset[0][i][1].values * 1.0\n",
    "# x_test = dataset[1][i][0].values\n",
    "# x_test = (x_test - x_test.mean())/x_test.std()\n",
    "# y_test = dataset[1][i][1].values * 1.0\n",
    "\n",
    "# x_train = dataset[0][i][0].values * 1000\n",
    "# x_test = dataset[1][i][0].values * 1000\n",
    "\n",
    "x_train = dataset[0][i][0].values\n",
    "x_test = dataset[1][i][0].values\n",
    "\n",
    "scaler = StandardScaler().fit(x_train)\n",
    "\n",
    "x_train = scaler.transform(x_train)\n",
    "x_test = scaler.transform(x_test)\n",
    "\n",
    "# x_train = normalize_data(dataset[0][i][0])\n",
    "# x_test = normalize_data(dataset[1][i][0])\n",
    "\n",
    "# y_train = get_one_hot(dataset[0][i][1].values, 2) * 1.0\n",
    "# y_test = get_one_hot(dataset[1][i][1].values, 2) * 1.0\n",
    "y_train = to_categorical(dataset[0][i][1].values, 2)\n",
    "y_test = to_categorical(dataset[1][i][1].values, 2)"
   ]
  },
  {
   "cell_type": "code",
   "execution_count": 9,
   "metadata": {
    "ExecuteTime": {
     "end_time": "2019-03-09T18:52:20.724985Z",
     "start_time": "2019-03-09T18:52:20.629325Z"
    }
   },
   "outputs": [
    {
     "name": "stdout",
     "output_type": "stream",
     "text": [
      "x train shape: (750, 31)\n",
      "y train shape: (750, 31, 2)\n",
      "x test shape: (490, 31)\n",
      "y test shape: (490, 31, 2)\n"
     ]
    }
   ],
   "source": [
    "print(f\"x train shape: {x_train.shape}\")\n",
    "print(f\"y train shape: {y_train.shape}\")\n",
    "print(f\"x test shape: {x_test.shape}\")\n",
    "print(f\"y test shape: {y_test.shape}\")"
   ]
  },
  {
   "cell_type": "code",
   "execution_count": 10,
   "metadata": {
    "ExecuteTime": {
     "end_time": "2019-03-09T18:52:20.871500Z",
     "start_time": "2019-03-09T18:52:20.727103Z"
    }
   },
   "outputs": [
    {
     "name": "stdout",
     "output_type": "stream",
     "text": [
      "x shape: (15810, 240)\n",
      "y shape: (15810, 2)\n"
     ]
    }
   ],
   "source": [
    "# The second range will be looped first\n",
    "# x_series = [x_train[i:i+240] for i in range(750 - 240)]\n",
    "# y_series = [y_train[i+240] for i in range(750 - 240)]\n",
    "x_series = [x_train[i:i+timestep, j] for i in range(x_train.shape[0] - timestep) for j in range(x_train.shape[1])]\n",
    "y_series = [y_train[i+timestep, j] for i in range(y_train.shape[0] - timestep) for j in range(y_train.shape[1])]\n",
    "x = np.array(x_series)\n",
    "y = np.array(y_series)\n",
    "print(f\"x shape: {x.shape}\")\n",
    "print(f\"y shape: {y.shape}\")"
   ]
  },
  {
   "cell_type": "code",
   "execution_count": 11,
   "metadata": {
    "ExecuteTime": {
     "end_time": "2019-03-09T18:52:20.923057Z",
     "start_time": "2019-03-09T18:52:20.873282Z"
    }
   },
   "outputs": [
    {
     "name": "stdout",
     "output_type": "stream",
     "text": [
      "x shape: (15810, 240, 1)\n"
     ]
    }
   ],
   "source": [
    "x = np.reshape(x, (x.shape[0], x.shape[1], 1))\n",
    "print(f\"x shape: {x.shape}\")\n"
   ]
  },
  {
   "cell_type": "code",
   "execution_count": 12,
   "metadata": {
    "ExecuteTime": {
     "end_time": "2019-03-09T18:52:21.481941Z",
     "start_time": "2019-03-09T18:52:20.924427Z"
    }
   },
   "outputs": [
    {
     "name": "stdout",
     "output_type": "stream",
     "text": [
      "_________________________________________________________________\n",
      "Layer (type)                 Output Shape              Param #   \n",
      "=================================================================\n",
      "lstm_1 (LSTM)                (527, 240, 25)            2700      \n",
      "_________________________________________________________________\n",
      "lstm_2 (LSTM)                (527, 25)                 5100      \n",
      "_________________________________________________________________\n",
      "dense_1 (Dense)              (527, 100)                2600      \n",
      "_________________________________________________________________\n",
      "dense_2 (Dense)              (527, 2)                  202       \n",
      "=================================================================\n",
      "Total params: 10,602\n",
      "Trainable params: 10,602\n",
      "Non-trainable params: 0\n",
      "_________________________________________________________________\n"
     ]
    }
   ],
   "source": [
    "dropout_rate = 0.1\n",
    "# expected input data shape: (batch_size, timesteps, data_dim)\n",
    "regressor = Sequential()\n",
    "\n",
    "# regressor.add(Bidirectional(LSTM(units=25, input_shape=(timestep, 1), dropout=dropout_rate)))\n",
    "# regressor.add(LSTM(units=25, input_shape=(timestep, 1), dropout=dropout_rate))\n",
    "\n",
    "regressor.add(LSTM(units=25, return_sequences = True, batch_input_shape=(527, timestep, 1), dropout=dropout_rate, stateful=False))\n",
    "# regressor.add(LSTM(units=25, return_sequences = True,dropout=dropout_rate, stateful=False))\n",
    "# regressor.add(LSTM(units=25, return_sequences = True,dropout=dropout_rate, stateful=False))\n",
    "regressor.add(LSTM(units=25, dropout=dropout_rate, stateful=False))\n",
    "# regressor.add(LSTM(units=25, input_shape=(timestep, 1), dropout=dropout_rate))\n",
    "# regressor.add(GRU(units=25, input_shape=(timestep, 1), dropout=dropout_rate))\n",
    "# regressor.add(Dense(100, input_shape=(timestep, ), activation='relu'))\n",
    "regressor.add(Dense(100, activation='relu'))\n",
    "regressor.add(Dense(2, activation='softmax'))\n",
    "regressor.compile(loss='binary_crossentropy',\n",
    "                  optimizer='rmsprop',\n",
    "                  metrics=['accuracy'])\n",
    "regressor.summary()"
   ]
  },
  {
   "cell_type": "code",
   "execution_count": 13,
   "metadata": {
    "ExecuteTime": {
     "end_time": "2019-03-09T19:24:25.251327Z",
     "start_time": "2019-03-09T18:52:21.483483Z"
    },
    "scrolled": true
   },
   "outputs": [
    {
     "name": "stdout",
     "output_type": "stream",
     "text": [
      "Train on 12648 samples, validate on 3162 samples\n",
      "Epoch 1/1000\n",
      "12648/12648 [==============================] - 8s 647us/step - loss: 0.6926 - acc: 0.5153 - val_loss: 0.6926 - val_acc: 0.5262\n",
      "Epoch 2/1000\n",
      "12648/12648 [==============================] - 7s 581us/step - loss: 0.6925 - acc: 0.5168 - val_loss: 0.6924 - val_acc: 0.5266\n",
      "Epoch 3/1000\n",
      "12648/12648 [==============================] - 7s 563us/step - loss: 0.6925 - acc: 0.5146 - val_loss: 0.6925 - val_acc: 0.5240\n",
      "Epoch 4/1000\n",
      "12648/12648 [==============================] - 7s 553us/step - loss: 0.6925 - acc: 0.5155 - val_loss: 0.6925 - val_acc: 0.5225\n",
      "Epoch 5/1000\n",
      "12648/12648 [==============================] - 7s 583us/step - loss: 0.6925 - acc: 0.5156 - val_loss: 0.6927 - val_acc: 0.5240\n",
      "Epoch 6/1000\n",
      "12648/12648 [==============================] - 8s 594us/step - loss: 0.6923 - acc: 0.5162 - val_loss: 0.6928 - val_acc: 0.5244\n",
      "Epoch 7/1000\n",
      "12648/12648 [==============================] - 8s 646us/step - loss: 0.6925 - acc: 0.5145 - val_loss: 0.6926 - val_acc: 0.5228\n",
      "Epoch 8/1000\n",
      "12648/12648 [==============================] - 8s 634us/step - loss: 0.6924 - acc: 0.5195 - val_loss: 0.6924 - val_acc: 0.5237\n",
      "Epoch 9/1000\n",
      "12648/12648 [==============================] - 8s 637us/step - loss: 0.6924 - acc: 0.5165 - val_loss: 0.6926 - val_acc: 0.5196\n",
      "Epoch 10/1000\n",
      "12648/12648 [==============================] - 8s 604us/step - loss: 0.6924 - acc: 0.5183 - val_loss: 0.6929 - val_acc: 0.5259\n",
      "Epoch 11/1000\n",
      "12648/12648 [==============================] - 8s 622us/step - loss: 0.6924 - acc: 0.5163 - val_loss: 0.6926 - val_acc: 0.5225\n",
      "Epoch 12/1000\n",
      "12648/12648 [==============================] - 8s 608us/step - loss: 0.6925 - acc: 0.5166 - val_loss: 0.6924 - val_acc: 0.5234\n",
      "Epoch 13/1000\n",
      "12648/12648 [==============================] - 8s 601us/step - loss: 0.6923 - acc: 0.5176 - val_loss: 0.6931 - val_acc: 0.5253\n",
      "Epoch 14/1000\n",
      "12648/12648 [==============================] - 8s 635us/step - loss: 0.6925 - acc: 0.5160 - val_loss: 0.6926 - val_acc: 0.5256\n",
      "Epoch 15/1000\n",
      "12648/12648 [==============================] - 8s 642us/step - loss: 0.6924 - acc: 0.5144 - val_loss: 0.6926 - val_acc: 0.5234\n",
      "Epoch 16/1000\n",
      "12648/12648 [==============================] - 8s 595us/step - loss: 0.6923 - acc: 0.5170 - val_loss: 0.6929 - val_acc: 0.5231\n",
      "Epoch 17/1000\n",
      "12648/12648 [==============================] - 8s 613us/step - loss: 0.6924 - acc: 0.5182 - val_loss: 0.6928 - val_acc: 0.5180\n",
      "Epoch 18/1000\n",
      "12648/12648 [==============================] - 8s 607us/step - loss: 0.6924 - acc: 0.5183 - val_loss: 0.6925 - val_acc: 0.5221\n",
      "Epoch 19/1000\n",
      "12648/12648 [==============================] - 8s 611us/step - loss: 0.6924 - acc: 0.5168 - val_loss: 0.6925 - val_acc: 0.5215\n",
      "Epoch 20/1000\n",
      "12648/12648 [==============================] - 8s 644us/step - loss: 0.6923 - acc: 0.5185 - val_loss: 0.6927 - val_acc: 0.5218\n",
      "Epoch 21/1000\n",
      "12648/12648 [==============================] - 9s 700us/step - loss: 0.6924 - acc: 0.5179 - val_loss: 0.6926 - val_acc: 0.5244\n",
      "Epoch 22/1000\n",
      "12648/12648 [==============================] - 8s 639us/step - loss: 0.6922 - acc: 0.5157 - val_loss: 0.6930 - val_acc: 0.5174\n",
      "Epoch 23/1000\n",
      "12648/12648 [==============================] - 8s 634us/step - loss: 0.6924 - acc: 0.5158 - val_loss: 0.6926 - val_acc: 0.5256\n",
      "Epoch 24/1000\n",
      "12648/12648 [==============================] - 8s 608us/step - loss: 0.6925 - acc: 0.5160 - val_loss: 0.6924 - val_acc: 0.5187\n",
      "Epoch 25/1000\n",
      "12648/12648 [==============================] - 8s 611us/step - loss: 0.6921 - acc: 0.5186 - val_loss: 0.6933 - val_acc: 0.5187\n",
      "Epoch 26/1000\n",
      "12648/12648 [==============================] - 8s 595us/step - loss: 0.6924 - acc: 0.5151 - val_loss: 0.6928 - val_acc: 0.5212\n",
      "Epoch 27/1000\n",
      "12648/12648 [==============================] - 7s 588us/step - loss: 0.6922 - acc: 0.5190 - val_loss: 0.6934 - val_acc: 0.5218\n",
      "Epoch 28/1000\n",
      "12648/12648 [==============================] - 8s 625us/step - loss: 0.6921 - acc: 0.5207 - val_loss: 0.6931 - val_acc: 0.5209\n",
      "Epoch 29/1000\n",
      "12648/12648 [==============================] - 8s 647us/step - loss: 0.6923 - acc: 0.5169 - val_loss: 0.6927 - val_acc: 0.5234\n",
      "Epoch 30/1000\n",
      "12648/12648 [==============================] - 8s 657us/step - loss: 0.6921 - acc: 0.5192 - val_loss: 0.6927 - val_acc: 0.5206\n",
      "Epoch 31/1000\n",
      "12648/12648 [==============================] - 8s 602us/step - loss: 0.6922 - acc: 0.5183 - val_loss: 0.6927 - val_acc: 0.5187\n",
      "Epoch 32/1000\n",
      "12648/12648 [==============================] - 9s 684us/step - loss: 0.6922 - acc: 0.5173 - val_loss: 0.6927 - val_acc: 0.5221\n",
      "Epoch 33/1000\n",
      "12648/12648 [==============================] - 8s 650us/step - loss: 0.6923 - acc: 0.5180 - val_loss: 0.6925 - val_acc: 0.5278\n",
      "Epoch 34/1000\n",
      "12648/12648 [==============================] - 8s 626us/step - loss: 0.6922 - acc: 0.5182 - val_loss: 0.6926 - val_acc: 0.5291\n",
      "Epoch 35/1000\n",
      "12648/12648 [==============================] - 8s 639us/step - loss: 0.6922 - acc: 0.5172 - val_loss: 0.6923 - val_acc: 0.5253\n",
      "Epoch 36/1000\n",
      "12648/12648 [==============================] - 8s 660us/step - loss: 0.6920 - acc: 0.5198 - val_loss: 0.6929 - val_acc: 0.5253\n",
      "Epoch 37/1000\n",
      "12648/12648 [==============================] - 8s 662us/step - loss: 0.6919 - acc: 0.5199 - val_loss: 0.6936 - val_acc: 0.5244\n",
      "Epoch 38/1000\n",
      "12648/12648 [==============================] - 8s 606us/step - loss: 0.6921 - acc: 0.5187 - val_loss: 0.6925 - val_acc: 0.5259\n",
      "Epoch 39/1000\n",
      "12648/12648 [==============================] - 8s 611us/step - loss: 0.6919 - acc: 0.5198 - val_loss: 0.6926 - val_acc: 0.5253\n",
      "Epoch 40/1000\n",
      "12648/12648 [==============================] - 8s 602us/step - loss: 0.6922 - acc: 0.5183 - val_loss: 0.6928 - val_acc: 0.5256\n",
      "Epoch 41/1000\n",
      "12648/12648 [==============================] - 8s 639us/step - loss: 0.6921 - acc: 0.5183 - val_loss: 0.6926 - val_acc: 0.5278\n",
      "Epoch 42/1000\n",
      "12648/12648 [==============================] - 8s 601us/step - loss: 0.6923 - acc: 0.5183 - val_loss: 0.6920 - val_acc: 0.5256\n",
      "Epoch 43/1000\n",
      "12648/12648 [==============================] - 7s 585us/step - loss: 0.6920 - acc: 0.5187 - val_loss: 0.6925 - val_acc: 0.5291\n",
      "Epoch 44/1000\n",
      "12648/12648 [==============================] - 8s 611us/step - loss: 0.6919 - acc: 0.5205 - val_loss: 0.6926 - val_acc: 0.5269\n",
      "Epoch 45/1000\n",
      "12648/12648 [==============================] - 8s 614us/step - loss: 0.6920 - acc: 0.5185 - val_loss: 0.6924 - val_acc: 0.5250\n",
      "Epoch 46/1000\n",
      "12648/12648 [==============================] - 8s 614us/step - loss: 0.6919 - acc: 0.5221 - val_loss: 0.6921 - val_acc: 0.5240\n",
      "Epoch 47/1000\n",
      "12648/12648 [==============================] - 8s 618us/step - loss: 0.6919 - acc: 0.5189 - val_loss: 0.6923 - val_acc: 0.5278\n",
      "Epoch 48/1000\n",
      "12648/12648 [==============================] - 8s 618us/step - loss: 0.6919 - acc: 0.5189 - val_loss: 0.6921 - val_acc: 0.5228\n",
      "Epoch 49/1000\n",
      "12648/12648 [==============================] - 8s 614us/step - loss: 0.6919 - acc: 0.5209 - val_loss: 0.6921 - val_acc: 0.5225\n",
      "Epoch 50/1000\n",
      "12648/12648 [==============================] - 8s 616us/step - loss: 0.6920 - acc: 0.5185 - val_loss: 0.6919 - val_acc: 0.5240\n",
      "Epoch 51/1000\n",
      "12648/12648 [==============================] - 8s 612us/step - loss: 0.6916 - acc: 0.5223 - val_loss: 0.6924 - val_acc: 0.5209\n",
      "Epoch 52/1000\n",
      "12648/12648 [==============================] - 8s 618us/step - loss: 0.6916 - acc: 0.5182 - val_loss: 0.6931 - val_acc: 0.5272\n",
      "Epoch 53/1000\n",
      "12648/12648 [==============================] - 8s 613us/step - loss: 0.6919 - acc: 0.5179 - val_loss: 0.6930 - val_acc: 0.5291\n",
      "Epoch 54/1000\n",
      "12648/12648 [==============================] - 8s 613us/step - loss: 0.6918 - acc: 0.5198 - val_loss: 0.6924 - val_acc: 0.5304\n",
      "Epoch 55/1000\n",
      "12648/12648 [==============================] - 8s 614us/step - loss: 0.6917 - acc: 0.5196 - val_loss: 0.6929 - val_acc: 0.5218\n",
      "Epoch 56/1000\n",
      "12648/12648 [==============================] - 8s 613us/step - loss: 0.6918 - acc: 0.5212 - val_loss: 0.6922 - val_acc: 0.5234\n",
      "Epoch 57/1000\n",
      "12648/12648 [==============================] - 8s 612us/step - loss: 0.6917 - acc: 0.5210 - val_loss: 0.6925 - val_acc: 0.5218\n",
      "Epoch 58/1000\n",
      "12648/12648 [==============================] - 8s 612us/step - loss: 0.6919 - acc: 0.5200 - val_loss: 0.6923 - val_acc: 0.5199\n"
     ]
    },
    {
     "name": "stdout",
     "output_type": "stream",
     "text": [
      "Epoch 59/1000\n",
      "12648/12648 [==============================] - 8s 613us/step - loss: 0.6916 - acc: 0.5204 - val_loss: 0.6926 - val_acc: 0.5218\n",
      "Epoch 60/1000\n",
      "12648/12648 [==============================] - 8s 619us/step - loss: 0.6915 - acc: 0.5201 - val_loss: 0.6928 - val_acc: 0.5237\n",
      "Epoch 61/1000\n",
      "12648/12648 [==============================] - 8s 616us/step - loss: 0.6916 - acc: 0.5200 - val_loss: 0.6932 - val_acc: 0.5244\n",
      "Epoch 62/1000\n",
      "12648/12648 [==============================] - 8s 619us/step - loss: 0.6916 - acc: 0.5225 - val_loss: 0.6931 - val_acc: 0.5218\n",
      "Epoch 63/1000\n",
      "12648/12648 [==============================] - 8s 614us/step - loss: 0.6912 - acc: 0.5237 - val_loss: 0.6938 - val_acc: 0.5187\n",
      "Epoch 64/1000\n",
      "12648/12648 [==============================] - 8s 613us/step - loss: 0.6915 - acc: 0.5193 - val_loss: 0.6934 - val_acc: 0.5171\n",
      "Epoch 65/1000\n",
      "12648/12648 [==============================] - 8s 611us/step - loss: 0.6913 - acc: 0.5219 - val_loss: 0.6940 - val_acc: 0.5155\n",
      "Epoch 66/1000\n",
      "12648/12648 [==============================] - 8s 613us/step - loss: 0.6916 - acc: 0.5240 - val_loss: 0.6930 - val_acc: 0.5108\n",
      "Epoch 67/1000\n",
      "12648/12648 [==============================] - 8s 612us/step - loss: 0.6917 - acc: 0.5203 - val_loss: 0.6933 - val_acc: 0.5155\n",
      "Epoch 68/1000\n",
      "12648/12648 [==============================] - 8s 613us/step - loss: 0.6912 - acc: 0.5221 - val_loss: 0.6938 - val_acc: 0.5183\n",
      "Epoch 69/1000\n",
      "12648/12648 [==============================] - 8s 609us/step - loss: 0.6914 - acc: 0.5217 - val_loss: 0.6941 - val_acc: 0.5098\n",
      "Epoch 70/1000\n",
      "12648/12648 [==============================] - 8s 612us/step - loss: 0.6912 - acc: 0.5235 - val_loss: 0.6938 - val_acc: 0.5130\n",
      "Epoch 71/1000\n",
      "12648/12648 [==============================] - 8s 611us/step - loss: 0.6915 - acc: 0.5218 - val_loss: 0.6934 - val_acc: 0.5152\n",
      "Epoch 72/1000\n",
      "12648/12648 [==============================] - 8s 610us/step - loss: 0.6911 - acc: 0.5244 - val_loss: 0.6944 - val_acc: 0.5149\n",
      "Epoch 73/1000\n",
      "12648/12648 [==============================] - 8s 641us/step - loss: 0.6915 - acc: 0.5191 - val_loss: 0.6937 - val_acc: 0.5104\n",
      "Epoch 74/1000\n",
      "12648/12648 [==============================] - 8s 612us/step - loss: 0.6915 - acc: 0.5178 - val_loss: 0.6938 - val_acc: 0.5187\n",
      "Epoch 75/1000\n",
      "12648/12648 [==============================] - 8s 623us/step - loss: 0.6913 - acc: 0.5225 - val_loss: 0.6940 - val_acc: 0.5089\n",
      "Epoch 76/1000\n",
      "12648/12648 [==============================] - 8s 630us/step - loss: 0.6910 - acc: 0.5235 - val_loss: 0.6957 - val_acc: 0.5079\n",
      "Epoch 77/1000\n",
      "12648/12648 [==============================] - 8s 619us/step - loss: 0.6915 - acc: 0.5202 - val_loss: 0.6948 - val_acc: 0.5066\n",
      "Epoch 78/1000\n",
      "12648/12648 [==============================] - 8s 623us/step - loss: 0.6910 - acc: 0.5244 - val_loss: 0.6959 - val_acc: 0.5079\n",
      "Epoch 79/1000\n",
      "12648/12648 [==============================] - 8s 622us/step - loss: 0.6913 - acc: 0.5214 - val_loss: 0.6951 - val_acc: 0.5095\n",
      "Epoch 80/1000\n",
      "12648/12648 [==============================] - 8s 620us/step - loss: 0.6909 - acc: 0.5232 - val_loss: 0.6964 - val_acc: 0.4962\n",
      "Epoch 81/1000\n",
      "12648/12648 [==============================] - 8s 619us/step - loss: 0.6909 - acc: 0.5242 - val_loss: 0.6952 - val_acc: 0.5095\n",
      "Epoch 82/1000\n",
      "12648/12648 [==============================] - 8s 620us/step - loss: 0.6907 - acc: 0.5273 - val_loss: 0.6972 - val_acc: 0.5063\n",
      "Epoch 83/1000\n",
      "12648/12648 [==============================] - 8s 620us/step - loss: 0.6911 - acc: 0.5219 - val_loss: 0.6978 - val_acc: 0.5028\n",
      "Epoch 84/1000\n",
      "12648/12648 [==============================] - 8s 622us/step - loss: 0.6908 - acc: 0.5249 - val_loss: 0.6970 - val_acc: 0.4981\n",
      "Epoch 85/1000\n",
      "12648/12648 [==============================] - 8s 619us/step - loss: 0.6910 - acc: 0.5232 - val_loss: 0.6989 - val_acc: 0.5051\n",
      "Epoch 86/1000\n",
      "12648/12648 [==============================] - 8s 615us/step - loss: 0.6909 - acc: 0.5278 - val_loss: 0.6999 - val_acc: 0.5089\n",
      "Epoch 87/1000\n",
      "12648/12648 [==============================] - 7s 593us/step - loss: 0.6908 - acc: 0.5230 - val_loss: 0.6999 - val_acc: 0.5009\n",
      "Epoch 88/1000\n",
      "12648/12648 [==============================] - 8s 634us/step - loss: 0.6906 - acc: 0.5281 - val_loss: 0.6999 - val_acc: 0.5098\n",
      "Epoch 89/1000\n",
      "12648/12648 [==============================] - 8s 617us/step - loss: 0.6907 - acc: 0.5266 - val_loss: 0.7011 - val_acc: 0.5079\n",
      "Epoch 90/1000\n",
      "12648/12648 [==============================] - 8s 621us/step - loss: 0.6905 - acc: 0.5241 - val_loss: 0.7038 - val_acc: 0.5051\n",
      "Epoch 91/1000\n",
      "12648/12648 [==============================] - 8s 618us/step - loss: 0.6907 - acc: 0.5266 - val_loss: 0.7035 - val_acc: 0.5060\n",
      "Epoch 92/1000\n",
      "12648/12648 [==============================] - 8s 620us/step - loss: 0.6905 - acc: 0.5244 - val_loss: 0.7022 - val_acc: 0.5009\n",
      "Epoch 93/1000\n",
      "12648/12648 [==============================] - 8s 627us/step - loss: 0.6901 - acc: 0.5293 - val_loss: 0.7018 - val_acc: 0.5098\n",
      "Epoch 94/1000\n",
      "12648/12648 [==============================] - 8s 619us/step - loss: 0.6905 - acc: 0.5262 - val_loss: 0.7018 - val_acc: 0.5041\n",
      "Epoch 95/1000\n",
      "12648/12648 [==============================] - 8s 620us/step - loss: 0.6902 - acc: 0.5278 - val_loss: 0.7042 - val_acc: 0.5005\n",
      "Epoch 96/1000\n",
      "12648/12648 [==============================] - 8s 627us/step - loss: 0.6903 - acc: 0.5285 - val_loss: 0.7042 - val_acc: 0.5070\n",
      "Epoch 97/1000\n",
      "12648/12648 [==============================] - 8s 619us/step - loss: 0.6903 - acc: 0.5290 - val_loss: 0.7048 - val_acc: 0.5006\n",
      "Epoch 98/1000\n",
      "12648/12648 [==============================] - 8s 621us/step - loss: 0.6899 - acc: 0.5275 - val_loss: 0.7045 - val_acc: 0.4972\n",
      "Epoch 99/1000\n",
      "12648/12648 [==============================] - 8s 620us/step - loss: 0.6899 - acc: 0.5291 - val_loss: 0.7073 - val_acc: 0.5095\n",
      "Epoch 100/1000\n",
      "12648/12648 [==============================] - 8s 619us/step - loss: 0.6897 - acc: 0.5266 - val_loss: 0.7079 - val_acc: 0.5051\n",
      "Epoch 101/1000\n",
      "12648/12648 [==============================] - 8s 620us/step - loss: 0.6898 - acc: 0.5304 - val_loss: 0.7097 - val_acc: 0.5035\n",
      "Epoch 102/1000\n",
      "12648/12648 [==============================] - 7s 590us/step - loss: 0.6898 - acc: 0.5251 - val_loss: 0.7096 - val_acc: 0.5076\n",
      "Epoch 103/1000\n",
      "12648/12648 [==============================] - 8s 617us/step - loss: 0.6897 - acc: 0.5291 - val_loss: 0.7081 - val_acc: 0.5079\n",
      "Epoch 104/1000\n",
      "12648/12648 [==============================] - 8s 621us/step - loss: 0.6895 - acc: 0.5276 - val_loss: 0.7089 - val_acc: 0.5051\n",
      "Epoch 105/1000\n",
      "12648/12648 [==============================] - 8s 622us/step - loss: 0.6897 - acc: 0.5308 - val_loss: 0.7075 - val_acc: 0.5032\n",
      "Epoch 106/1000\n",
      "12648/12648 [==============================] - 8s 620us/step - loss: 0.6893 - acc: 0.5327 - val_loss: 0.7141 - val_acc: 0.5089\n",
      "Epoch 107/1000\n",
      "12648/12648 [==============================] - 8s 620us/step - loss: 0.6896 - acc: 0.5259 - val_loss: 0.7105 - val_acc: 0.5057\n",
      "Epoch 108/1000\n",
      "12648/12648 [==============================] - 8s 612us/step - loss: 0.6896 - acc: 0.5301 - val_loss: 0.7118 - val_acc: 0.5117\n",
      "Epoch 109/1000\n",
      "12648/12648 [==============================] - 7s 588us/step - loss: 0.6892 - acc: 0.5304 - val_loss: 0.7149 - val_acc: 0.5070\n",
      "Epoch 110/1000\n",
      "12648/12648 [==============================] - 8s 622us/step - loss: 0.6890 - acc: 0.5345 - val_loss: 0.7169 - val_acc: 0.5070\n",
      "Epoch 111/1000\n",
      "12648/12648 [==============================] - 8s 644us/step - loss: 0.6888 - acc: 0.5314 - val_loss: 0.7089 - val_acc: 0.5047\n",
      "Epoch 112/1000\n",
      "12648/12648 [==============================] - 8s 614us/step - loss: 0.6892 - acc: 0.5272 - val_loss: 0.7188 - val_acc: 0.5082\n",
      "Epoch 113/1000\n",
      "12648/12648 [==============================] - 8s 622us/step - loss: 0.6889 - acc: 0.5308 - val_loss: 0.7201 - val_acc: 0.5057\n",
      "Epoch 114/1000\n",
      "12648/12648 [==============================] - 8s 622us/step - loss: 0.6888 - acc: 0.5353 - val_loss: 0.7167 - val_acc: 0.5022\n",
      "Epoch 115/1000\n",
      "12648/12648 [==============================] - 8s 623us/step - loss: 0.6885 - acc: 0.5284 - val_loss: 0.7292 - val_acc: 0.5108\n",
      "Epoch 116/1000\n",
      "12648/12648 [==============================] - 8s 622us/step - loss: 0.6885 - acc: 0.5312 - val_loss: 0.7249 - val_acc: 0.5117\n"
     ]
    },
    {
     "name": "stdout",
     "output_type": "stream",
     "text": [
      "Epoch 117/1000\n",
      "12648/12648 [==============================] - 8s 601us/step - loss: 0.6888 - acc: 0.5270 - val_loss: 0.7255 - val_acc: 0.5082\n",
      "Epoch 118/1000\n",
      "12648/12648 [==============================] - 8s 603us/step - loss: 0.6886 - acc: 0.5283 - val_loss: 0.7232 - val_acc: 0.5073\n",
      "Epoch 119/1000\n",
      "12648/12648 [==============================] - 8s 622us/step - loss: 0.6892 - acc: 0.5289 - val_loss: 0.7187 - val_acc: 0.5114\n",
      "Epoch 120/1000\n",
      "12648/12648 [==============================] - 8s 619us/step - loss: 0.6885 - acc: 0.5297 - val_loss: 0.7224 - val_acc: 0.5114\n",
      "Epoch 121/1000\n",
      "12648/12648 [==============================] - 8s 619us/step - loss: 0.6881 - acc: 0.5331 - val_loss: 0.7218 - val_acc: 0.5089\n",
      "Epoch 122/1000\n",
      "12648/12648 [==============================] - 8s 620us/step - loss: 0.6884 - acc: 0.5301 - val_loss: 0.7184 - val_acc: 0.5079\n",
      "Epoch 123/1000\n",
      "12648/12648 [==============================] - 8s 617us/step - loss: 0.6880 - acc: 0.5361 - val_loss: 0.7232 - val_acc: 0.5117\n",
      "Epoch 124/1000\n",
      "12648/12648 [==============================] - 8s 619us/step - loss: 0.6884 - acc: 0.5274 - val_loss: 0.7236 - val_acc: 0.5073\n",
      "Epoch 125/1000\n",
      "12648/12648 [==============================] - 8s 617us/step - loss: 0.6883 - acc: 0.5317 - val_loss: 0.7310 - val_acc: 0.5070\n",
      "Epoch 126/1000\n",
      "12648/12648 [==============================] - 8s 617us/step - loss: 0.6886 - acc: 0.5315 - val_loss: 0.7221 - val_acc: 0.5139\n",
      "Epoch 127/1000\n",
      "12648/12648 [==============================] - 8s 619us/step - loss: 0.6882 - acc: 0.5298 - val_loss: 0.7241 - val_acc: 0.5079\n",
      "Epoch 128/1000\n",
      "12648/12648 [==============================] - 8s 616us/step - loss: 0.6875 - acc: 0.5335 - val_loss: 0.7297 - val_acc: 0.5038\n",
      "Epoch 129/1000\n",
      "12648/12648 [==============================] - 8s 618us/step - loss: 0.6871 - acc: 0.5358 - val_loss: 0.7335 - val_acc: 0.5009\n",
      "Epoch 130/1000\n",
      "12648/12648 [==============================] - 8s 615us/step - loss: 0.6882 - acc: 0.5325 - val_loss: 0.7272 - val_acc: 0.5117\n",
      "Epoch 131/1000\n",
      "12648/12648 [==============================] - 8s 618us/step - loss: 0.6874 - acc: 0.5322 - val_loss: 0.7302 - val_acc: 0.5114\n",
      "Epoch 132/1000\n",
      "12648/12648 [==============================] - 8s 614us/step - loss: 0.6872 - acc: 0.5370 - val_loss: 0.7241 - val_acc: 0.5120\n",
      "Epoch 133/1000\n",
      "12648/12648 [==============================] - 7s 591us/step - loss: 0.6872 - acc: 0.5357 - val_loss: 0.7326 - val_acc: 0.5063\n",
      "Epoch 134/1000\n",
      "12648/12648 [==============================] - 8s 620us/step - loss: 0.6875 - acc: 0.5352 - val_loss: 0.7283 - val_acc: 0.5136\n",
      "Epoch 135/1000\n",
      "12648/12648 [==============================] - 8s 620us/step - loss: 0.6866 - acc: 0.5407 - val_loss: 0.7300 - val_acc: 0.5130\n",
      "Epoch 136/1000\n",
      "12648/12648 [==============================] - 8s 620us/step - loss: 0.6864 - acc: 0.5385 - val_loss: 0.7292 - val_acc: 0.5095\n",
      "Epoch 137/1000\n",
      "12648/12648 [==============================] - 8s 638us/step - loss: 0.6865 - acc: 0.5362 - val_loss: 0.7300 - val_acc: 0.5041\n",
      "Epoch 138/1000\n",
      "12648/12648 [==============================] - 8s 611us/step - loss: 0.6864 - acc: 0.5373 - val_loss: 0.7353 - val_acc: 0.5114\n",
      "Epoch 139/1000\n",
      "12648/12648 [==============================] - 8s 618us/step - loss: 0.6864 - acc: 0.5377 - val_loss: 0.7355 - val_acc: 0.5130\n",
      "Epoch 140/1000\n",
      "12648/12648 [==============================] - 8s 620us/step - loss: 0.6861 - acc: 0.5403 - val_loss: 0.7467 - val_acc: 0.5051\n",
      "Epoch 141/1000\n",
      "12648/12648 [==============================] - 8s 619us/step - loss: 0.6864 - acc: 0.5429 - val_loss: 0.7379 - val_acc: 0.5073\n",
      "Epoch 142/1000\n",
      "12648/12648 [==============================] - 8s 617us/step - loss: 0.6856 - acc: 0.5434 - val_loss: 0.7384 - val_acc: 0.5120\n",
      "Epoch 143/1000\n",
      "12648/12648 [==============================] - 8s 623us/step - loss: 0.6864 - acc: 0.5443 - val_loss: 0.7289 - val_acc: 0.5025\n",
      "Epoch 144/1000\n",
      "12648/12648 [==============================] - 8s 621us/step - loss: 0.6858 - acc: 0.5406 - val_loss: 0.7303 - val_acc: 0.5082\n",
      "Epoch 145/1000\n",
      "12648/12648 [==============================] - 8s 619us/step - loss: 0.6859 - acc: 0.5440 - val_loss: 0.7343 - val_acc: 0.5101\n",
      "Epoch 146/1000\n",
      "12648/12648 [==============================] - 8s 618us/step - loss: 0.6855 - acc: 0.5461 - val_loss: 0.7411 - val_acc: 0.5054\n",
      "Epoch 147/1000\n",
      "12648/12648 [==============================] - 8s 618us/step - loss: 0.6852 - acc: 0.5436 - val_loss: 0.7461 - val_acc: 0.5044\n",
      "Epoch 148/1000\n",
      "12648/12648 [==============================] - 8s 621us/step - loss: 0.6849 - acc: 0.5421 - val_loss: 0.7382 - val_acc: 0.5070\n",
      "Epoch 149/1000\n",
      "12648/12648 [==============================] - 8s 621us/step - loss: 0.6857 - acc: 0.5402 - val_loss: 0.7330 - val_acc: 0.5136\n",
      "Epoch 150/1000\n",
      "12648/12648 [==============================] - 8s 619us/step - loss: 0.6847 - acc: 0.5459 - val_loss: 0.7406 - val_acc: 0.5130\n",
      "Epoch 151/1000\n",
      "12648/12648 [==============================] - 8s 620us/step - loss: 0.6842 - acc: 0.5459 - val_loss: 0.7391 - val_acc: 0.5111\n",
      "Epoch 152/1000\n",
      "12648/12648 [==============================] - 8s 620us/step - loss: 0.6846 - acc: 0.5464 - val_loss: 0.7426 - val_acc: 0.5127\n",
      "Epoch 153/1000\n",
      "12648/12648 [==============================] - 8s 618us/step - loss: 0.6843 - acc: 0.5499 - val_loss: 0.7433 - val_acc: 0.5145\n",
      "Epoch 154/1000\n",
      "12648/12648 [==============================] - 8s 624us/step - loss: 0.6849 - acc: 0.5441 - val_loss: 0.7493 - val_acc: 0.5076\n",
      "Epoch 155/1000\n",
      "12648/12648 [==============================] - 8s 646us/step - loss: 0.6844 - acc: 0.5460 - val_loss: 0.7428 - val_acc: 0.5120\n",
      "Epoch 156/1000\n",
      "12648/12648 [==============================] - 8s 607us/step - loss: 0.6841 - acc: 0.5451 - val_loss: 0.7395 - val_acc: 0.5054\n",
      "Epoch 157/1000\n",
      "12648/12648 [==============================] - 7s 574us/step - loss: 0.6845 - acc: 0.5444 - val_loss: 0.7369 - val_acc: 0.5079\n",
      "Epoch 158/1000\n",
      "12648/12648 [==============================] - 7s 578us/step - loss: 0.6843 - acc: 0.5446 - val_loss: 0.7416 - val_acc: 0.5082\n",
      "Epoch 159/1000\n",
      "12648/12648 [==============================] - 7s 580us/step - loss: 0.6836 - acc: 0.5518 - val_loss: 0.7392 - val_acc: 0.5089\n",
      "Epoch 160/1000\n",
      "12648/12648 [==============================] - 7s 584us/step - loss: 0.6834 - acc: 0.5516 - val_loss: 0.7400 - val_acc: 0.5111\n",
      "Epoch 161/1000\n",
      "12648/12648 [==============================] - 8s 640us/step - loss: 0.6835 - acc: 0.5495 - val_loss: 0.7440 - val_acc: 0.5133\n",
      "Epoch 162/1000\n",
      "12648/12648 [==============================] - 7s 575us/step - loss: 0.6835 - acc: 0.5515 - val_loss: 0.7435 - val_acc: 0.5076\n",
      "Epoch 163/1000\n",
      "12648/12648 [==============================] - 7s 581us/step - loss: 0.6844 - acc: 0.5440 - val_loss: 0.7302 - val_acc: 0.5168\n",
      "Epoch 164/1000\n",
      "12648/12648 [==============================] - 7s 586us/step - loss: 0.6822 - acc: 0.5512 - val_loss: 0.7408 - val_acc: 0.5171\n",
      "Epoch 165/1000\n",
      "12648/12648 [==============================] - 7s 574us/step - loss: 0.6818 - acc: 0.5538 - val_loss: 0.7372 - val_acc: 0.5019\n",
      "Epoch 166/1000\n",
      "12648/12648 [==============================] - 7s 584us/step - loss: 0.6823 - acc: 0.5500 - val_loss: 0.7419 - val_acc: 0.5089\n",
      "Epoch 167/1000\n",
      "12648/12648 [==============================] - 7s 578us/step - loss: 0.6828 - acc: 0.5473 - val_loss: 0.7383 - val_acc: 0.4991\n",
      "Epoch 168/1000\n",
      "12648/12648 [==============================] - 7s 586us/step - loss: 0.6816 - acc: 0.5523 - val_loss: 0.7489 - val_acc: 0.5047\n",
      "Epoch 169/1000\n",
      "12648/12648 [==============================] - 7s 575us/step - loss: 0.6828 - acc: 0.5534 - val_loss: 0.7505 - val_acc: 0.5108\n",
      "Epoch 170/1000\n",
      "12648/12648 [==============================] - 7s 579us/step - loss: 0.6824 - acc: 0.5463 - val_loss: 0.7422 - val_acc: 0.5028\n",
      "Epoch 171/1000\n",
      "12648/12648 [==============================] - 7s 580us/step - loss: 0.6811 - acc: 0.5538 - val_loss: 0.7426 - val_acc: 0.5206\n",
      "Epoch 172/1000\n",
      "12648/12648 [==============================] - 7s 588us/step - loss: 0.6812 - acc: 0.5560 - val_loss: 0.7454 - val_acc: 0.5130\n",
      "Epoch 173/1000\n",
      "12648/12648 [==============================] - 8s 642us/step - loss: 0.6807 - acc: 0.5527 - val_loss: 0.7377 - val_acc: 0.5066\n",
      "Epoch 174/1000\n",
      "12648/12648 [==============================] - 7s 580us/step - loss: 0.6809 - acc: 0.5523 - val_loss: 0.7473 - val_acc: 0.5117\n"
     ]
    },
    {
     "name": "stdout",
     "output_type": "stream",
     "text": [
      "Epoch 175/1000\n",
      "12648/12648 [==============================] - 7s 578us/step - loss: 0.6799 - acc: 0.5598 - val_loss: 0.7560 - val_acc: 0.5139\n",
      "Epoch 176/1000\n",
      "12648/12648 [==============================] - 7s 574us/step - loss: 0.6806 - acc: 0.5520 - val_loss: 0.7487 - val_acc: 0.5209\n",
      "Epoch 177/1000\n",
      "12648/12648 [==============================] - 8s 626us/step - loss: 0.6801 - acc: 0.5531 - val_loss: 0.7453 - val_acc: 0.5098\n",
      "Epoch 178/1000\n",
      "12648/12648 [==============================] - 8s 632us/step - loss: 0.6803 - acc: 0.5552 - val_loss: 0.7495 - val_acc: 0.5142\n",
      "Epoch 179/1000\n",
      "12648/12648 [==============================] - 8s 595us/step - loss: 0.6802 - acc: 0.5537 - val_loss: 0.7428 - val_acc: 0.5079\n",
      "Epoch 180/1000\n",
      "12648/12648 [==============================] - 7s 578us/step - loss: 0.6811 - acc: 0.5512 - val_loss: 0.7436 - val_acc: 0.5142\n",
      "Epoch 181/1000\n",
      "12648/12648 [==============================] - 7s 575us/step - loss: 0.6788 - acc: 0.5593 - val_loss: 0.7447 - val_acc: 0.5145\n",
      "Epoch 182/1000\n",
      "12648/12648 [==============================] - 7s 585us/step - loss: 0.6798 - acc: 0.5599 - val_loss: 0.7474 - val_acc: 0.5127\n",
      "Epoch 183/1000\n",
      "12648/12648 [==============================] - 7s 581us/step - loss: 0.6796 - acc: 0.5599 - val_loss: 0.7531 - val_acc: 0.5168\n",
      "Epoch 184/1000\n",
      "12648/12648 [==============================] - 7s 581us/step - loss: 0.6801 - acc: 0.5521 - val_loss: 0.7449 - val_acc: 0.5133\n",
      "Epoch 185/1000\n",
      "12648/12648 [==============================] - 7s 574us/step - loss: 0.6788 - acc: 0.5569 - val_loss: 0.7477 - val_acc: 0.5136\n",
      "Epoch 186/1000\n",
      "12648/12648 [==============================] - 7s 586us/step - loss: 0.6789 - acc: 0.5602 - val_loss: 0.7431 - val_acc: 0.5136\n",
      "Epoch 187/1000\n",
      "12648/12648 [==============================] - 7s 581us/step - loss: 0.6792 - acc: 0.5553 - val_loss: 0.7506 - val_acc: 0.5152\n",
      "Epoch 188/1000\n",
      "12648/12648 [==============================] - 7s 581us/step - loss: 0.6787 - acc: 0.5568 - val_loss: 0.7445 - val_acc: 0.5136\n",
      "Epoch 189/1000\n",
      "12648/12648 [==============================] - 7s 573us/step - loss: 0.6790 - acc: 0.5577 - val_loss: 0.7471 - val_acc: 0.5051\n",
      "Epoch 190/1000\n",
      "12648/12648 [==============================] - 7s 586us/step - loss: 0.6784 - acc: 0.5602 - val_loss: 0.7519 - val_acc: 0.5127\n",
      "Epoch 191/1000\n",
      "12648/12648 [==============================] - 7s 581us/step - loss: 0.6789 - acc: 0.5528 - val_loss: 0.7493 - val_acc: 0.5092\n",
      "Epoch 192/1000\n",
      "12648/12648 [==============================] - 7s 582us/step - loss: 0.6784 - acc: 0.5595 - val_loss: 0.7493 - val_acc: 0.5104\n",
      "Epoch 193/1000\n",
      "12648/12648 [==============================] - 7s 574us/step - loss: 0.6776 - acc: 0.5580 - val_loss: 0.7473 - val_acc: 0.5108\n",
      "Epoch 194/1000\n",
      "12648/12648 [==============================] - 7s 586us/step - loss: 0.6777 - acc: 0.5578 - val_loss: 0.7469 - val_acc: 0.5142\n",
      "Epoch 195/1000\n",
      "12648/12648 [==============================] - 7s 580us/step - loss: 0.6762 - acc: 0.5674 - val_loss: 0.7499 - val_acc: 0.5111\n",
      "Epoch 196/1000\n",
      "12648/12648 [==============================] - 8s 619us/step - loss: 0.6768 - acc: 0.5647 - val_loss: 0.7580 - val_acc: 0.5022\n",
      "Epoch 197/1000\n",
      "12648/12648 [==============================] - 7s 577us/step - loss: 0.6771 - acc: 0.5599 - val_loss: 0.7519 - val_acc: 0.5051\n",
      "Epoch 198/1000\n",
      "12648/12648 [==============================] - 7s 574us/step - loss: 0.6758 - acc: 0.5656 - val_loss: 0.7495 - val_acc: 0.5136\n",
      "Epoch 199/1000\n",
      "12648/12648 [==============================] - 7s 587us/step - loss: 0.6766 - acc: 0.5636 - val_loss: 0.7539 - val_acc: 0.5101\n",
      "Epoch 200/1000\n",
      "12648/12648 [==============================] - 7s 579us/step - loss: 0.6764 - acc: 0.5605 - val_loss: 0.7644 - val_acc: 0.5063\n",
      "Epoch 201/1000\n",
      "12648/12648 [==============================] - 7s 581us/step - loss: 0.6775 - acc: 0.5618 - val_loss: 0.7580 - val_acc: 0.5202\n",
      "Epoch 202/1000\n",
      "12648/12648 [==============================] - 7s 589us/step - loss: 0.6759 - acc: 0.5601 - val_loss: 0.7542 - val_acc: 0.5098\n",
      "Epoch 203/1000\n",
      "12648/12648 [==============================] - 7s 577us/step - loss: 0.6754 - acc: 0.5704 - val_loss: 0.7598 - val_acc: 0.5085\n",
      "Epoch 204/1000\n",
      "12648/12648 [==============================] - 7s 577us/step - loss: 0.6760 - acc: 0.5680 - val_loss: 0.7581 - val_acc: 0.5095\n",
      "Epoch 205/1000\n",
      "12648/12648 [==============================] - 7s 582us/step - loss: 0.6754 - acc: 0.5623 - val_loss: 0.7576 - val_acc: 0.5076\n",
      "Epoch 206/1000\n",
      "12648/12648 [==============================] - 8s 593us/step - loss: 0.6748 - acc: 0.5646 - val_loss: 0.7623 - val_acc: 0.5044\n",
      "Epoch 207/1000\n",
      "12648/12648 [==============================] - 8s 595us/step - loss: 0.6746 - acc: 0.5671 - val_loss: 0.7682 - val_acc: 0.5145\n",
      "Epoch 208/1000\n",
      "12648/12648 [==============================] - 7s 578us/step - loss: 0.6742 - acc: 0.5685 - val_loss: 0.7644 - val_acc: 0.5092\n",
      "Epoch 209/1000\n",
      "12648/12648 [==============================] - 7s 574us/step - loss: 0.6754 - acc: 0.5661 - val_loss: 0.7697 - val_acc: 0.5136\n",
      "Epoch 210/1000\n",
      "12648/12648 [==============================] - 7s 580us/step - loss: 0.6754 - acc: 0.5641 - val_loss: 0.7666 - val_acc: 0.5082\n",
      "Epoch 211/1000\n",
      "12648/12648 [==============================] - 7s 586us/step - loss: 0.6746 - acc: 0.5666 - val_loss: 0.7658 - val_acc: 0.5104\n",
      "Epoch 212/1000\n",
      "12648/12648 [==============================] - 7s 577us/step - loss: 0.6752 - acc: 0.5674 - val_loss: 0.7600 - val_acc: 0.5101\n",
      "Epoch 213/1000\n",
      "12648/12648 [==============================] - 8s 611us/step - loss: 0.6747 - acc: 0.5615 - val_loss: 0.7661 - val_acc: 0.5095\n",
      "Epoch 214/1000\n",
      "12648/12648 [==============================] - 8s 608us/step - loss: 0.6732 - acc: 0.5677 - val_loss: 0.7683 - val_acc: 0.5060\n",
      "Epoch 215/1000\n",
      "12648/12648 [==============================] - 7s 582us/step - loss: 0.6740 - acc: 0.5692 - val_loss: 0.7615 - val_acc: 0.5051\n",
      "Epoch 216/1000\n",
      "12648/12648 [==============================] - 8s 612us/step - loss: 0.6727 - acc: 0.5701 - val_loss: 0.7654 - val_acc: 0.5120\n",
      "Epoch 217/1000\n",
      "12648/12648 [==============================] - 7s 585us/step - loss: 0.6742 - acc: 0.5631 - val_loss: 0.7772 - val_acc: 0.5117\n",
      "Epoch 218/1000\n",
      "12648/12648 [==============================] - 7s 577us/step - loss: 0.6727 - acc: 0.5713 - val_loss: 0.7680 - val_acc: 0.4992\n",
      "Epoch 219/1000\n",
      "12648/12648 [==============================] - 7s 586us/step - loss: 0.6723 - acc: 0.5721 - val_loss: 0.7715 - val_acc: 0.5057\n",
      "Epoch 220/1000\n",
      "12648/12648 [==============================] - 7s 572us/step - loss: 0.6741 - acc: 0.5682 - val_loss: 0.7694 - val_acc: 0.5032\n",
      "Epoch 221/1000\n",
      "12648/12648 [==============================] - 7s 585us/step - loss: 0.6718 - acc: 0.5706 - val_loss: 0.7717 - val_acc: 0.5035\n",
      "Epoch 222/1000\n",
      "12648/12648 [==============================] - 8s 615us/step - loss: 0.6730 - acc: 0.5678 - val_loss: 0.7750 - val_acc: 0.5082\n",
      "Epoch 223/1000\n",
      "12648/12648 [==============================] - 8s 612us/step - loss: 0.6717 - acc: 0.5675 - val_loss: 0.7658 - val_acc: 0.5092\n",
      "Epoch 224/1000\n",
      "12648/12648 [==============================] - 8s 597us/step - loss: 0.6728 - acc: 0.5704 - val_loss: 0.7754 - val_acc: 0.5057\n",
      "Epoch 225/1000\n",
      "12648/12648 [==============================] - 8s 606us/step - loss: 0.6706 - acc: 0.5715 - val_loss: 0.7805 - val_acc: 0.5079\n",
      "Epoch 226/1000\n",
      "12648/12648 [==============================] - 8s 622us/step - loss: 0.6721 - acc: 0.5734 - val_loss: 0.7722 - val_acc: 0.5098\n",
      "Epoch 227/1000\n",
      "12648/12648 [==============================] - 8s 596us/step - loss: 0.6702 - acc: 0.5738 - val_loss: 0.7830 - val_acc: 0.5054\n",
      "Epoch 228/1000\n",
      "12648/12648 [==============================] - 7s 574us/step - loss: 0.6702 - acc: 0.5751 - val_loss: 0.7766 - val_acc: 0.5047\n",
      "Epoch 229/1000\n",
      "12648/12648 [==============================] - 7s 578us/step - loss: 0.6718 - acc: 0.5719 - val_loss: 0.7833 - val_acc: 0.5013\n",
      "Epoch 230/1000\n",
      "12648/12648 [==============================] - 8s 630us/step - loss: 0.6704 - acc: 0.5757 - val_loss: 0.7848 - val_acc: 0.5092\n",
      "Epoch 231/1000\n",
      "12648/12648 [==============================] - 7s 576us/step - loss: 0.6707 - acc: 0.5710 - val_loss: 0.7828 - val_acc: 0.5117\n",
      "Epoch 232/1000\n",
      "12648/12648 [==============================] - 7s 577us/step - loss: 0.6698 - acc: 0.5737 - val_loss: 0.7870 - val_acc: 0.5006\n"
     ]
    },
    {
     "name": "stdout",
     "output_type": "stream",
     "text": [
      "Epoch 233/1000\n",
      "12648/12648 [==============================] - 7s 575us/step - loss: 0.6698 - acc: 0.5741 - val_loss: 0.7788 - val_acc: 0.5025\n",
      "Epoch 234/1000\n",
      "12648/12648 [==============================] - 7s 577us/step - loss: 0.6708 - acc: 0.5730 - val_loss: 0.7819 - val_acc: 0.5047\n",
      "Epoch 235/1000\n",
      "12648/12648 [==============================] - 7s 571us/step - loss: 0.6694 - acc: 0.5733 - val_loss: 0.7838 - val_acc: 0.5066\n",
      "Epoch 236/1000\n",
      "12648/12648 [==============================] - 8s 609us/step - loss: 0.6698 - acc: 0.5784 - val_loss: 0.7792 - val_acc: 0.5076\n",
      "Epoch 237/1000\n",
      "12648/12648 [==============================] - 8s 605us/step - loss: 0.6695 - acc: 0.5790 - val_loss: 0.7866 - val_acc: 0.5066\n",
      "Epoch 238/1000\n",
      "12648/12648 [==============================] - 8s 621us/step - loss: 0.6687 - acc: 0.5733 - val_loss: 0.7847 - val_acc: 0.5047\n",
      "Epoch 239/1000\n",
      "12648/12648 [==============================] - 8s 604us/step - loss: 0.6698 - acc: 0.5727 - val_loss: 0.7852 - val_acc: 0.5051\n",
      "Epoch 240/1000\n",
      "12648/12648 [==============================] - 7s 575us/step - loss: 0.6687 - acc: 0.5776 - val_loss: 0.7830 - val_acc: 0.5082\n",
      "Epoch 241/1000\n",
      "12648/12648 [==============================] - 7s 577us/step - loss: 0.6691 - acc: 0.5714 - val_loss: 0.7834 - val_acc: 0.5120\n",
      "Epoch 242/1000\n",
      "12648/12648 [==============================] - 7s 588us/step - loss: 0.6669 - acc: 0.5754 - val_loss: 0.7993 - val_acc: 0.4984\n",
      "Epoch 243/1000\n",
      "12648/12648 [==============================] - 7s 582us/step - loss: 0.6679 - acc: 0.5791 - val_loss: 0.7834 - val_acc: 0.5051\n",
      "Epoch 244/1000\n",
      "12648/12648 [==============================] - 8s 600us/step - loss: 0.6688 - acc: 0.5791 - val_loss: 0.7821 - val_acc: 0.5098\n",
      "Epoch 245/1000\n",
      "12648/12648 [==============================] - 8s 604us/step - loss: 0.6681 - acc: 0.5757 - val_loss: 0.7846 - val_acc: 0.5057\n",
      "Epoch 246/1000\n",
      "12648/12648 [==============================] - 8s 603us/step - loss: 0.6687 - acc: 0.5753 - val_loss: 0.7926 - val_acc: 0.5085\n",
      "Epoch 247/1000\n",
      "12648/12648 [==============================] - 8s 619us/step - loss: 0.6677 - acc: 0.5802 - val_loss: 0.7946 - val_acc: 0.5041\n",
      "Epoch 248/1000\n",
      "12648/12648 [==============================] - 10s 757us/step - loss: 0.6666 - acc: 0.5831 - val_loss: 0.7952 - val_acc: 0.4994\n",
      "Epoch 249/1000\n",
      "12648/12648 [==============================] - 7s 585us/step - loss: 0.6659 - acc: 0.5850 - val_loss: 0.7940 - val_acc: 0.5000\n",
      "Epoch 250/1000\n",
      "12648/12648 [==============================] - 8s 598us/step - loss: 0.6687 - acc: 0.5769 - val_loss: 0.7914 - val_acc: 0.5054\n"
     ]
    }
   ],
   "source": [
    "result = regressor.fit(x, y, epochs=1000,batch_size=527, validation_split=0.2, shuffle=False, callbacks = [EarlyStopping(monitor='val_loss', mode='min', patience=200),\n",
    "             ModelCheckpoint(filepath='../model/LSTM/best_model.h5', monitor='val_acc', save_best_only=True)])\n",
    "\n",
    "# regressor.fit(x, y, epochs=1000,batch_size=500, validation_split=0.2, callbacks = [EarlyStopping(monitor='val_loss', mode='min', patience=20),\n",
    "#              ModelCheckpoint(filepath='../model/LSTM/best_model.h5', monitor='val_acc', save_best_only=True)])\n"
   ]
  },
  {
   "cell_type": "code",
   "execution_count": 14,
   "metadata": {
    "ExecuteTime": {
     "end_time": "2019-03-09T19:24:25.394516Z",
     "start_time": "2019-03-09T19:24:25.253585Z"
    }
   },
   "outputs": [
    {
     "data": {
      "text/plain": [
       "[<matplotlib.lines.Line2D at 0x7f4028986940>]"
      ]
     },
     "execution_count": 14,
     "metadata": {},
     "output_type": "execute_result"
    },
    {
     "data": {
      "image/png": "[encoded data removed]",
      "text/plain": [
       "<Figure size 432x288 with 1 Axes>"
      ]
     },
     "metadata": {
      "needs_background": "light"
     },
     "output_type": "display_data"
    }
   ],
   "source": [
    "plt.plot(result.history[\"val_acc\"])\n",
    "plt.plot(result.history[\"acc\"])"
   ]
  },
  {
   "cell_type": "code",
   "execution_count": 15,
   "metadata": {
    "ExecuteTime": {
     "end_time": "2019-03-09T19:24:25.507332Z",
     "start_time": "2019-03-09T19:24:25.395883Z"
    }
   },
   "outputs": [
    {
     "data": {
      "text/plain": [
       "[<matplotlib.lines.Line2D at 0x7f4008882a20>]"
      ]
     },
     "execution_count": 15,
     "metadata": {},
     "output_type": "execute_result"
    },
    {
     "data": {
      "image/png": "[encoded data removed]",
      "text/plain": [
       "<Figure size 432x288 with 1 Axes>"
      ]
     },
     "metadata": {
      "needs_background": "light"
     },
     "output_type": "display_data"
    }
   ],
   "source": [
    "plt.plot(result.history[\"val_loss\"])\n",
    "plt.plot(result.history[\"loss\"])"
   ]
  }
 ],
 "metadata": {
  "kernelspec": {
   "display_name": "projet_S5",
   "language": "python",
   "name": "projet_s5"
  },
  "language_info": {
   "codemirror_mode": {
    "name": "ipython",
    "version": 3
   },
   "file_extension": ".py",
   "mimetype": "text/x-python",
   "name": "python",
   "nbconvert_exporter": "python",
   "pygments_lexer": "ipython3",
   "version": "3.6.8"
  },
  "toc": {
   "base_numbering": 1,
   "nav_menu": {},
   "number_sections": true,
   "sideBar": true,
   "skip_h1_title": false,
   "title_cell": "Table of Contents",
   "title_sidebar": "Contents",
   "toc_cell": false,
   "toc_position": {},
   "toc_section_display": true,
   "toc_window_display": false
  }
 },
 "nbformat": 4,
 "nbformat_minor": 2
}
